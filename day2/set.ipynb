{
 "cells": [
  {
   "cell_type": "markdown",
   "metadata": {},
   "source": [
    "## Set 함수\n",
    "- 데이터 안에서 중복된 값을 필터링 하는데 쓰는 함수\n",
    "- 중복제거 하고자 하는 데이터 앞에 set을 넣어서 사용"
   ]
  },
  {
   "cell_type": "markdown",
   "metadata": {},
   "source": [
    "[참고] set의 생성방식"
   ]
  },
  {
   "cell_type": "code",
   "execution_count": 24,
   "metadata": {},
   "outputs": [
    {
     "name": "stdout",
     "output_type": "stream",
     "text": [
      "<class 'set'>\n",
      "<class 'set'>\n"
     ]
    }
   ],
   "source": [
    "data = [1,2,3,4,5]\n",
    "\n",
    "#방법 1: set(data)\n",
    "data_set = set(data)\n",
    "print(type(data_set))\n",
    "\n",
    "#방법 2: {}\n",
    "data_set_2 = {1,2,3,4,5}\n",
    "print(type(data_set))"
   ]
  },
  {
   "cell_type": "code",
   "execution_count": 10,
   "metadata": {},
   "outputs": [
    {
     "name": "stdout",
     "output_type": "stream",
     "text": [
      "set전: [1, 2, 3, 4, 5, 5, 5]\n",
      "set후: {1, 2, 3, 4, 5}\n"
     ]
    }
   ],
   "source": [
    "temp_list = [1,2,3,4,5,5,5]\n",
    "print(\"set전:\",temp_list)\n",
    "temp_set = set(temp_list)\n",
    "print(\"set후:\",temp_set)"
   ]
  },
  {
   "cell_type": "code",
   "execution_count": 11,
   "metadata": {},
   "outputs": [
    {
     "name": "stdout",
     "output_type": "stream",
     "text": [
      "set전: ['a', 'b', 'c', 'd', 'e', 'f', 'c']\n",
      "set후: {'e', 'b', 'c', 'a', 'd', 'f'}\n"
     ]
    }
   ],
   "source": [
    "temp_list = ['a','b','c','d','e','f','c']\n",
    "print(\"set전:\",temp_list)\n",
    "temp_set = set(temp_list)\n",
    "print(\"set후:\",temp_set)"
   ]
  },
  {
   "cell_type": "markdown",
   "metadata": {},
   "source": [
    "### 중복된 값만 추출하고 싶은 경우"
   ]
  },
  {
   "cell_type": "code",
   "execution_count": 12,
   "metadata": {},
   "outputs": [
    {
     "name": "stdout",
     "output_type": "stream",
     "text": [
      "{'a', 'c'}\n"
     ]
    }
   ],
   "source": [
    "temp_list = ['a','c','d','e','a','f','c']\n",
    "duplicated = set([x for x in temp_list if temp_list.count(x) > 1])\n",
    "print(duplicated)"
   ]
  },
  {
   "cell_type": "markdown",
   "metadata": {},
   "source": [
    "### 교집합, 합집합, 차집합"
   ]
  },
  {
   "cell_type": "code",
   "execution_count": 20,
   "metadata": {
    "scrolled": true
   },
   "outputs": [
    {
     "name": "stdout",
     "output_type": "stream",
     "text": [
      "{'red'}\n"
     ]
    },
    {
     "data": {
      "text/plain": [
       "{'black', 'blue', 'brown', 'green', 'red', 'yellow'}"
      ]
     },
     "execution_count": 20,
     "metadata": {},
     "output_type": "execute_result"
    }
   ],
   "source": [
    "# 교집합\n",
    "\n",
    "set_1 = set(['yellow', 'red', 'blue', 'green', 'black']) #기준\n",
    "set_2 = set(['red', 'brown'])\n",
    "print(set_1.intersection(set_2))"
   ]
  },
  {
   "cell_type": "code",
   "execution_count": 21,
   "metadata": {},
   "outputs": [
    {
     "name": "stdout",
     "output_type": "stream",
     "text": [
      "{'green', 'brown', 'yellow', 'blue', 'black', 'red'}\n"
     ]
    }
   ],
   "source": [
    "# 합집합\n",
    "\n",
    "set_1 = set(['yellow', 'red', 'blue', 'green', 'black']) #기준\n",
    "set_2 = set(['red', 'brown'])\n",
    "print(set_1.union(set_2))"
   ]
  },
  {
   "cell_type": "code",
   "execution_count": 19,
   "metadata": {},
   "outputs": [
    {
     "name": "stdout",
     "output_type": "stream",
     "text": [
      "set_1이 기준: {'green', 'black', 'blue', 'yellow'}\n",
      "set_2가 기준: {'brown'}\n"
     ]
    }
   ],
   "source": [
    "# 차집합\n",
    "\n",
    "set_1 = set(['yellow', 'red', 'blue', 'green', 'black']) \n",
    "set_2 = set(['red', 'brown'])\n",
    "print(\"set_1이 기준:\", set_1.difference(set_2)) #set_1가 기준\n",
    "print(\"set_2가 기준:\", set_2.difference(set_1)) #set_2가 기준"
   ]
  },
  {
   "cell_type": "markdown",
   "metadata": {},
   "source": [
    "### set의 특징\n",
    "- list(indexing, slicing모두 가능), dictionary(indexing만 가능)와는 달리, indexing과 slicing 모두 안됨"
   ]
  },
  {
   "cell_type": "code",
   "execution_count": 25,
   "metadata": {},
   "outputs": [],
   "source": [
    "temp_list = [1,2,3,4,5]\n",
    "temp_dict = {'a':1, 'b':2, 'c':3, 'd':4, 'e':5}\n",
    "temp_set = {1,2,3,4,5}"
   ]
  },
  {
   "cell_type": "code",
   "execution_count": 29,
   "metadata": {},
   "outputs": [
    {
     "name": "stdout",
     "output_type": "stream",
     "text": [
      "2\n",
      "[1, 2, 3]\n"
     ]
    }
   ],
   "source": [
    "print(temp_list[1])\n",
    "print(temp_list[:3])"
   ]
  },
  {
   "cell_type": "code",
   "execution_count": 33,
   "metadata": {},
   "outputs": [
    {
     "name": "stdout",
     "output_type": "stream",
     "text": [
      "1\n"
     ]
    }
   ],
   "source": [
    "print(temp_dict['a'])\n",
    "# print(temp_dict['a':'c'])"
   ]
  },
  {
   "cell_type": "code",
   "execution_count": 34,
   "metadata": {
    "scrolled": true
   },
   "outputs": [
    {
     "ename": "TypeError",
     "evalue": "'set' object does not support indexing",
     "output_type": "error",
     "traceback": [
      "\u001b[1;31m---------------------------------------------------------------------------\u001b[0m",
      "\u001b[1;31mTypeError\u001b[0m                                 Traceback (most recent call last)",
      "\u001b[1;32m<ipython-input-34-b560d2186670>\u001b[0m in \u001b[0;36m<module>\u001b[1;34m()\u001b[0m\n\u001b[1;32m----> 1\u001b[1;33m \u001b[0mprint\u001b[0m\u001b[1;33m(\u001b[0m\u001b[0mtemp_set\u001b[0m\u001b[1;33m[\u001b[0m\u001b[1;36m0\u001b[0m\u001b[1;33m]\u001b[0m\u001b[1;33m)\u001b[0m\u001b[1;33m\u001b[0m\u001b[0m\n\u001b[0m\u001b[0;32m      2\u001b[0m \u001b[0mprint\u001b[0m\u001b[1;33m(\u001b[0m\u001b[0mtemp_set\u001b[0m\u001b[1;33m[\u001b[0m\u001b[1;33m:\u001b[0m\u001b[1;36m3\u001b[0m\u001b[1;33m]\u001b[0m\u001b[1;33m)\u001b[0m\u001b[1;33m\u001b[0m\u001b[0m\n",
      "\u001b[1;31mTypeError\u001b[0m: 'set' object does not support indexing"
     ]
    }
   ],
   "source": [
    "print(temp_set[0])\n",
    "print(temp_set[:3])"
   ]
  },
  {
   "cell_type": "markdown",
   "metadata": {},
   "source": [
    "### 속도비교\n",
    "- list, set, dict"
   ]
  },
  {
   "cell_type": "code",
   "execution_count": 100,
   "metadata": {},
   "outputs": [
    {
     "name": "stdout",
     "output_type": "stream",
     "text": [
      "9.479959119029445\n",
      "13.34767472684507\n",
      "0.0002879998864955269\n",
      "0.00027693816264218185\n"
     ]
    }
   ],
   "source": [
    "figure_iteration_list = [num for num in range(1000001)]\n",
    "keys = [key for key in range(100,1000101)]\n",
    "values = [value for value in range(1000001)]\n",
    "\n",
    "from timeit import timeit\n",
    "\n",
    "def test_iter(data):\n",
    "    for i in data:\n",
    "        pass\n",
    "\n",
    "def test_iter_dict(data):\n",
    "    for key, value in data.items():\n",
    "        pass\n",
    "    \n",
    "iter_numbers=1000\n",
    "\n",
    "#list\n",
    "print(timeit('test_iter(data)', number=iter_numbers, \n",
    "             setup=\"from __main__ import test_iter; \\\n",
    "             data=list(num for num in range(1000001))\"))\n",
    "#set\n",
    "print(timeit('test_iter(data)', number=iter_numbers, \n",
    "             setup=\"from __main__ import test_iter; \\\n",
    "             data=set(num for num in range(1000001))\"))\n",
    "#dict (key)\n",
    "print(timeit('test_iter(data)', number=iter_numbers, \n",
    "             setup=\"from __main__ import test_iter; \\\n",
    "             data=dict(key=[key for key in range(100,1010001)], value=[value for value in range(1000001)])\"))\n",
    "#dict (key, value)\n",
    "print(timeit('test_iter_dict(data)', number=iter_numbers, \n",
    "             setup=\"from __main__ import test_iter_dict; \\\n",
    "             data=dict(key=[key for key in range(100,1010001)], value=[value for value in range(1000001)])\"))"
   ]
  },
  {
   "cell_type": "code",
   "execution_count": 121,
   "metadata": {},
   "outputs": [
    {
     "name": "stdout",
     "output_type": "stream",
     "text": [
      "6.71 ms ± 121 µs per loop (mean ± std. dev. of 7 runs, 100 loops each)\n",
      "13.9 ms ± 179 µs per loop (mean ± std. dev. of 7 runs, 100 loops each)\n"
     ]
    }
   ],
   "source": [
    "figure_iteration_list = [num for num in range(100001)]\n",
    "keys = [key for key in range(100,100101)]\n",
    "values = [value for value in range(100001)]\n",
    "figure_iteration_dict = dict(zip(keys, values))\n",
    "\n",
    "def test_list(data):\n",
    "    list_blank = []\n",
    "    for i in data:\n",
    "        list_blank.append(i)\n",
    "    return list_blank\n",
    "\n",
    "def test_dict(data):\n",
    "    dict_blank = {}\n",
    "    for key_n, value_n in data.items():\n",
    "        dict_blank[key_n] = value_n\n",
    "    return dict_blank\n",
    "\n",
    "# list_blank = test_list(figure_iteration_list)\n",
    "# dict_blank = test_dict(figure_iteration_dict)\n",
    "\n",
    "%timeit test_list(figure_iteration_list)\n",
    "%timeit test_dict(figure_iteration_dict)"
   ]
  },
  {
   "cell_type": "markdown",
   "metadata": {},
   "source": [
    "### Python list 성능구조 분석"
   ]
  },
  {
   "cell_type": "code",
   "execution_count": 1,
   "metadata": {},
   "outputs": [
    {
     "name": "stdout",
     "output_type": "stream",
     "text": [
      "걸린시간 : 2.99e-03\n"
     ]
    }
   ],
   "source": [
    "def makeListUsingAppend(N):\n",
    "    result = []\n",
    "    for i in range(N):\n",
    "        result.append(i)\n",
    "    return result\n",
    "\n",
    "from time import time\n",
    "t0 = time()\n",
    "makeListUsingAppend(10000)\n",
    "print (\"걸린시간 : %.2e\" % (time()-t0))"
   ]
  },
  {
   "cell_type": "code",
   "execution_count": 5,
   "metadata": {
    "scrolled": false
   },
   "outputs": [
    {
     "name": "stdout",
     "output_type": "stream",
     "text": [
      "걸린시간 : 9.97e-04\n"
     ]
    }
   ],
   "source": [
    "def makeListUsingBulkAlloc(N):\n",
    "    result = [0]*N #한번에 N개의 공간을 0으로 채우는 방법입니다.\n",
    "    for i in range(N):\n",
    "        result[i] = i\n",
    "    return result\n",
    "\n",
    "t0 = time()\n",
    "makeListUsingBulkAlloc(10000)\n",
    "print (\"걸린시간 : %.2e\" % (time()-t0))"
   ]
  }
 ],
 "metadata": {
  "kernelspec": {
   "display_name": "Python 3",
   "language": "python",
   "name": "python3"
  },
  "language_info": {
   "codemirror_mode": {
    "name": "ipython",
    "version": 3
   },
   "file_extension": ".py",
   "mimetype": "text/x-python",
   "name": "python",
   "nbconvert_exporter": "python",
   "pygments_lexer": "ipython3",
   "version": "3.6.5"
  }
 },
 "nbformat": 4,
 "nbformat_minor": 2
}
