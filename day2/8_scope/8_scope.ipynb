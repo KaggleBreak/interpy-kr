{
 "cells": [
  {
   "cell_type": "markdown",
   "metadata": {},
   "source": [
    "# 범위(Scope)"
   ]
  },
  {
   "cell_type": "markdown",
   "metadata": {},
   "source": [
    "* 참고: 러닝 파이썬(상)(5판), 마크 루츠, O'REILY\n",
    "* 3.X버전 기준"
   ]
  },
  {
   "cell_type": "code",
   "execution_count": 1,
   "metadata": {},
   "outputs": [],
   "source": [
    "from IPython.display import Image\n",
    "import sys\n",
    "import os"
   ]
  },
  {
   "cell_type": "markdown",
   "metadata": {},
   "source": [
    "### 범위의 모든 것"
   ]
  },
  {
   "cell_type": "markdown",
   "metadata": {},
   "source": [
    "![title](img/scope_diagram.jpg)"
   ]
  },
  {
   "cell_type": "markdown",
   "metadata": {},
   "source": [
    "### 기본개념\n",
    "* 개념\n",
    "    - **범위(Scope)**란 변수가 정의되고 **검색**될 수 있는 장소를 의미한다.\n",
    "    - 범위는 모듈 파일처럼 프로그램 코드 내에서 이름 충돌을 방지하도록 돕는다.\n",
    "    - 프로그램에서 이름을 사용할 때, 파이썬은 이름이 거주하는 장소인 **네임스페이스**에 이름을 생성, 변경, 검색한다.\n",
    "    - 이름의 값을 찾고자 할 때: **범위=네임스페이스**\n",
    "    - 특정 장소에서 이름을 할당 → 이름이 소속될 네임스페이스 결정 → 이름의 적용 범위 결정      \n",
    "    ⇒ 이름을 할당한 **장소**가 이름의 적용 범위 결정\n",
    "    - 할당된 이름이 소속된 네임스페이스가 서로 다르다면, 이름이 같아도 충돌하지 않음   \n",
    "    ⇒ 함수에서의 원칙    \n",
    "\n",
    "\n",
    "* 함수에서의 원칙\n",
    "    - def 내에 할당된 이름들은 오직 그 def 내의 코드에 의해서만 보인다. 그 함수 외부에서는 그런 이름이 있는지 확인조차 할 수 없다.\n",
    "    - def 내에 할당된 이름들은 비록 동일한 이름이 다른 곳에서 사용되고 있더라도 def 바깥의 변수들과 충돌하지 않는다. 주어진 def문 밖에서 할당된(즉, 다른 def문 또는 모듈 파일의 최상위 레벨에서 할당된) 이름 X는 그 def문 안에 할당된 이름 X와는 전혀 다르다.\n",
    "    \n",
    "    \n",
    "* 변수가 사용될 수 있는 범위\n",
    "    - 변수가 def문 안에 할당되면 해당 함수에 대하여 **지역(local)** 범위를 갖는다.\n",
    "    - 변수가 바깥쪽 def 안에서 할당되면 이는 중첩된 함수에 대한 **비지역(nonlocal)** 변수다.\n",
    "    - 변수가 모든 def의 바깥에서 할당되면 이는 전체 파일에 대한 **전역(global)** 변수다.\n",
    "    "
   ]
  },
  {
   "cell_type": "markdown",
   "metadata": {},
   "source": [
    "### 범위의 세부 사항\n",
    "* 모듈은 전역 범위(global scope)다.\n",
    "    - 모듈 파일의 최상위 레벨에서 생성되는 변수가 거주하는 네임스페이스=전역 범위\n",
    "    - 전역 변수는 모듈 파일 자체 내에서는 단순 변수로 사용될 수 있지만, 그 모듈이 임포트된 경우 외부 세계에 대하여 모듈 객체의 속성(attribute)이 된다.     \n",
    "    \n",
    "    \n",
    "* 전역 범위는 단일 파일에만 해당된다.\n",
    "    - 파이썬에는 단일의, 모든 것을 총망라하는 전역 파일 기반의 범위에 대한 개념은 없다.\n",
    "    - 이름은 모듈에 따라 나뉘며, 만약 그 파일에서 정의한 이름을 사용하기를 원한다면 해당 모듈을 항상 명시적으로 임포트해야만 한다.\n",
    "    - 따라서 파이썬에서 '전역'='모듈'     \n",
    "    \n",
    "    \n",
    "* **함수 정의문 내**에 할당된 이름은 전역이나 비지역으로 선언하지 않는 이상 지역이다.\n",
    "    - 함수를 둘러싼 모듈의 최상위 레벨에 존재하는 이름을 할당하고 싶다면?  \n",
    "        → global문\n",
    "\n",
    "    - 바깥쪽 함수에 존재하는 이름을 할당하고 싶다면?  \n",
    "        → nonlocal문    \n",
    "        \n",
    "        \n",
    "* 지역 외 다른 이름은 바깥쪽 함수의 지역, 전역, 내장된 이름이다.\n",
    "    - 지역\n",
    "    - 바깥쪽(enclosing) 함수의 지역\n",
    "    - 전역\n",
    "    - **내장된 이름**: 파이썬에서 제공하는 미리 정의된 내장 모듈(builtin)   \n",
    "    \n",
    "    \n",
    "* 각각의 함수 **호출**은 새로운 지역 범위를 만든다.\n",
    "    - 함수가 호출될 때마다 해당 함수 내에서 생성된 이름이 일반적으로 거주하는 네임스페이스, 즉 지역 범위가 새로 생성된다.\n",
    "    - 각 호출은 해당 함수의 지역 변수에 대한 자신만의 사본을 받는다.   \n",
    "        ⇒ 재귀함수"
   ]
  },
  {
   "cell_type": "markdown",
   "metadata": {},
   "source": [
    "### 이름 확인(Resolution): LEGB 규칙\n",
    "* 앞 절까지의 혼란을 잠재우는 세 가지 원칙\n",
    "    - def문 내에서 이름 **할당**은 기본적으로 지역 이름을 생성하거나 변경한다.\n",
    "    - def문 내에서 이름 **참조**는 지역 범위, 바깥쪽 함수 범위(만약 있다면), 전역 범위, 그리고 내장된 범위의 최대 네 가지의 범위를 탐색한다.\n",
    "    - def문 내에서 global 또는 nonlocal문에서 선언된 이름은 각각 바깥쪽 모듈과 바깥쪽 함수의 범위에서 할당된 이름에 연결된다.   \n",
    "    \n",
    "    \n",
    "* LEGB 규칙\n",
    "    - 함수 내에서 검증되지 않은 이름을 사용할 경우 탐색 순서:   \n",
    "    지역 범위(**L**ocal) → 바깥쪽(**E**nclosing) 함수의 지역 범위 → 전역 범위(**G**lobal) → 내장된 범위(**B**uilt-in)   \n",
    "\n",
    "\n",
    "    - 탐색 중 이름이 처음 발견된 위치에서 이름 찾기를 중단한다.\n",
    "    - 이름이 발견되지 않는다면 오류를 보고한다."
   ]
  },
  {
   "cell_type": "markdown",
   "metadata": {},
   "source": [
    "### 그 외 파이썬 범위\n",
    "\n",
    "- 1. 일부 컴프리헨션에서 임시 루프 변수\n",
    "    - e.g. **[X for X in I]** 의 현재 반복 항목을 참조하기 위해 사용하는 변수 X\n",
    "    - 제너레이터 내부의 상태를 반영하기 때문에 모든 컴프리헨션 형식에서 표현식 자체의 지역 범위가 됨   \n",
    "    \n",
    "    \n",
    "- 2. 일부 try 핸들러에서의 예외 참조 변수\n",
    "    - **except E as X** 와 같은 try문의 핸들러 절에서 예외를 참조하기 위한 변수 X\n",
    "    - 가비지 컬렉션의 메모리 소거를 지연시키기 때문에 except 블록에 대해 지역 범위를 가짐  \n",
    "    \n",
    "    \n",
    "- 3. **class문의 지역 범위**\n",
    "    - class문은 자신의 블록 최상위에서 할당되는 이름을 위하여 새로운 **지역** 범위를 만든다.\n",
    "    - def의 경우처럼, class 안에 할당된 이름은 다른 곳의 이름과 충돌하지 않으며, 클래스 블록을 'L' 범위로 하는 LEGB 검색 규칙을 따른다.\n",
    "    - 모듈과 임포트처럼 이 이름들은 class문이 종료된 후 클래스 객체의 속성으로 변형된다.\n",
    "    - 함수와는 달리, **클래스 이름**은 호출 때마다 생성되지 않는다.\n",
    "        - 클래스 객체 호출은 인스턴스(instance)를 생성  \n",
    "            → 클래스에서 할당된 이름을 상속받고 객체별 상태를 **속성**으로 기록  \n",
    "            → 자세한 내용은 클래스를 다룰 때"
   ]
  },
  {
   "cell_type": "markdown",
   "metadata": {},
   "source": [
    "### 내장 범위\n",
    "\n",
    "- builtins 모듈에 목록이 있으며, 확인하기 위해서는 임포트해야함.\n",
    "- LEGB 검색 규칙 마지막 단계에서 이 모듈을 검색\n",
    "- 목록: 내장된 예외, 내장된 함수, None, True, False 등\n",
    "- 내장된 이름 재정의"
   ]
  },
  {
   "cell_type": "code",
   "execution_count": 2,
   "metadata": {},
   "outputs": [
    {
     "ename": "TypeError",
     "evalue": "'str' object is not callable",
     "output_type": "error",
     "traceback": [
      "\u001b[1;31m---------------------------------------------------------------------------\u001b[0m",
      "\u001b[1;31mTypeError\u001b[0m                                 Traceback (most recent call last)",
      "\u001b[1;32m<ipython-input-2-a1fba6166b7b>\u001b[0m in \u001b[0;36m<module>\u001b[1;34m()\u001b[0m\n\u001b[0;32m      2\u001b[0m     \u001b[0mopen\u001b[0m \u001b[1;33m=\u001b[0m \u001b[1;34m'spam'\u001b[0m         \u001b[1;31m# 이름 재정의\u001b[0m\u001b[1;33m\u001b[0m\u001b[0m\n\u001b[0;32m      3\u001b[0m     \u001b[0mopen\u001b[0m\u001b[1;33m(\u001b[0m\u001b[1;34m'./data.txt'\u001b[0m\u001b[1;33m)\u001b[0m    \u001b[1;31m# 에러\u001b[0m\u001b[1;33m\u001b[0m\u001b[0m\n\u001b[1;32m----> 4\u001b[1;33m \u001b[0mhider\u001b[0m\u001b[1;33m(\u001b[0m\u001b[1;33m)\u001b[0m\u001b[1;33m\u001b[0m\u001b[0m\n\u001b[0m",
      "\u001b[1;32m<ipython-input-2-a1fba6166b7b>\u001b[0m in \u001b[0;36mhider\u001b[1;34m()\u001b[0m\n\u001b[0;32m      1\u001b[0m \u001b[1;32mdef\u001b[0m \u001b[0mhider\u001b[0m\u001b[1;33m(\u001b[0m\u001b[1;33m)\u001b[0m\u001b[1;33m:\u001b[0m\u001b[1;33m\u001b[0m\u001b[0m\n\u001b[0;32m      2\u001b[0m     \u001b[0mopen\u001b[0m \u001b[1;33m=\u001b[0m \u001b[1;34m'spam'\u001b[0m         \u001b[1;31m# 이름 재정의\u001b[0m\u001b[1;33m\u001b[0m\u001b[0m\n\u001b[1;32m----> 3\u001b[1;33m     \u001b[0mopen\u001b[0m\u001b[1;33m(\u001b[0m\u001b[1;34m'./data.txt'\u001b[0m\u001b[1;33m)\u001b[0m    \u001b[1;31m# 에러\u001b[0m\u001b[1;33m\u001b[0m\u001b[0m\n\u001b[0m\u001b[0;32m      4\u001b[0m \u001b[0mhider\u001b[0m\u001b[1;33m(\u001b[0m\u001b[1;33m)\u001b[0m\u001b[1;33m\u001b[0m\u001b[0m\n",
      "\u001b[1;31mTypeError\u001b[0m: 'str' object is not callable"
     ]
    }
   ],
   "source": [
    "def hider():\n",
    "    open = 'spam'         # 이름 재정의\n",
    "    open('./data.txt')    # 에러\n",
    "hider()"
   ]
  },
  {
   "cell_type": "code",
   "execution_count": 3,
   "metadata": {},
   "outputs": [],
   "source": [
    "f = open('./data.txt')    # 내장 범위의 open 함수를 불러옴\n",
    "f.close()"
   ]
  },
  {
   "cell_type": "code",
   "execution_count": 4,
   "metadata": {},
   "outputs": [],
   "source": [
    "def hider():\n",
    "    global open\n",
    "    open = 'spam'\n",
    "    del open              # 재정의된 이름을 삭제하면 내장 범위의 이름을 검색할 수 있다.\n",
    "    open('./data.txt')    # 내장 범위의 open 함수를 불러옴\n",
    "hider()"
   ]
  },
  {
   "cell_type": "markdown",
   "metadata": {},
   "source": [
    "### global\n",
    "* 정의 및 성질\n",
    "    - 전역 이름은 모듈 파일의 최상위 레벨에 할당된 변수다.\n",
    "    - 전역 이름은 함수 내에서 할당될 때에만 선언되어야 한다.\n",
    "    - 전역 이름은 선언되지 않더라도 함수 내에서 참조될 수 있다."
   ]
  },
  {
   "cell_type": "markdown",
   "metadata": {},
   "source": [
    "* 예"
   ]
  },
  {
   "cell_type": "code",
   "execution_count": 5,
   "metadata": {},
   "outputs": [
    {
     "name": "stdout",
     "output_type": "stream",
     "text": [
      "99\n"
     ]
    }
   ],
   "source": [
    "X = 88\n",
    "\n",
    "def func():\n",
    "    global X\n",
    "    X = 99\n",
    "\n",
    "func()\n",
    "print(X)    # 99를 출력"
   ]
  },
  {
   "cell_type": "code",
   "execution_count": 6,
   "metadata": {},
   "outputs": [
    {
     "name": "stdout",
     "output_type": "stream",
     "text": [
      "3\n"
     ]
    }
   ],
   "source": [
    "y, z = 1, 2\n",
    "def all_global():\n",
    "    global x\n",
    "    x = y + z    # 1) 존재하지 않았던 전역 변수 선언이 가능하다.\n",
    "    print(x)     # 2) y,z를 선언하지 않았지만 함수 내에서 참조가 가능하다.\n",
    "all_global()"
   ]
  },
  {
   "cell_type": "markdown",
   "metadata": {},
   "source": [
    "* 전역 변수에 접근하는 다른 방법들"
   ]
  },
  {
   "cell_type": "code",
   "execution_count": 7,
   "metadata": {},
   "outputs": [],
   "source": [
    "# thismod.py\n",
    "\n",
    "var = 99\n",
    "\n",
    "def local():\n",
    "    var = 0\n",
    "\n",
    "def glob1():\n",
    "    global var\n",
    "    var += 1\n",
    "\n",
    "def glob2():\n",
    "    var = 0\n",
    "    import thismod        # 자기자신을 임포트\n",
    "    thismod.var += 1      # 전역변수는 그 모듈의 속성이다.\n",
    "\n",
    "def glob3():\n",
    "    var = 0\n",
    "    import sys\n",
    "    glob = sys.modules['thismod']\n",
    "    glob.var += 1\n",
    "\n",
    "def test():\n",
    "    print(var)\n",
    "    local()    # 전역변수에 영향 없음\n",
    "    glob1()    # +1\n",
    "    glob2()    # +1\n",
    "    glob3()    # +1\n",
    "    print(var)"
   ]
  },
  {
   "cell_type": "code",
   "execution_count": 8,
   "metadata": {},
   "outputs": [],
   "source": [
    "import thismod"
   ]
  },
  {
   "cell_type": "code",
   "execution_count": 9,
   "metadata": {},
   "outputs": [
    {
     "name": "stdout",
     "output_type": "stream",
     "text": [
      "99\n",
      "102\n"
     ]
    }
   ],
   "source": [
    "thismod.test()"
   ]
  },
  {
   "cell_type": "markdown",
   "metadata": {},
   "source": [
    "- 프로그램을 설계할 때 [전역변수, 파일 간 변경]은 최소화하는 것이 바람직하다.\n",
    "    - 파일 간 변경을 꼭 해야 한다면: **접근자 함수** 작성 → 가독성, 유지보수성"
   ]
  },
  {
   "cell_type": "code",
   "execution_count": 10,
   "metadata": {},
   "outputs": [],
   "source": [
    "# first.py\n",
    "# 이 코드는 second.py를 모름\n",
    "X = 99\n",
    "\n",
    "def set_X(new):    # 접근자는 인터페이스 지점으로 기능하여 외부 접근을 명시적으로 만들며,\n",
    "    global X         # 한 곳에서 접근을 관리할 수 있음.\n",
    "    X = new"
   ]
  },
  {
   "cell_type": "code",
   "execution_count": 11,
   "metadata": {},
   "outputs": [],
   "source": [
    "# second.py\n",
    "import first\n",
    "\n",
    "first.X = 88       # 암묵적이고 미묘함 -> 예외가 발생할 수 있다.\n",
    "\n",
    "first.set_X(88)    # 접근자 함수를 사용. 이렇게 쓰자."
   ]
  },
  {
   "cell_type": "markdown",
   "metadata": {},
   "source": [
    "### 범위와 중첩함수\n",
    "- 클로저(팩토리 함수)\n",
    "    - 함수 객체가 바깥쪽 범위의 값을 기억함 (해당 범위가 메모리에 없어도)\n",
    "    - 상태 유지 메모리 - 중첩 함수의 각 사본에 대하여 고유의 지역 범위를 가짐"
   ]
  },
  {
   "cell_type": "code",
   "execution_count": 12,
   "metadata": {},
   "outputs": [],
   "source": [
    "def maker(N):\n",
    "    def action(X):\n",
    "        return X ** N    # action은 바깥쪽 범위의 N을 유지함\n",
    "    return action\n",
    "\n",
    "f = maker(2)    # N의 인수로 2를 넘겨줌\n",
    "g = maker(3)    # N의 인수로 3을 넘겨줌"
   ]
  },
  {
   "cell_type": "code",
   "execution_count": 13,
   "metadata": {},
   "outputs": [
    {
     "data": {
      "text/plain": [
       "16"
      ]
     },
     "execution_count": 13,
     "metadata": {},
     "output_type": "execute_result"
    }
   ],
   "source": [
    "f(4)    # 4 ** 2"
   ]
  },
  {
   "cell_type": "code",
   "execution_count": 14,
   "metadata": {},
   "outputs": [
    {
     "data": {
      "text/plain": [
       "64"
      ]
     },
     "execution_count": 14,
     "metadata": {},
     "output_type": "execute_result"
    }
   ],
   "source": [
    "g(4)    # 4 ** 3"
   ]
  },
  {
   "cell_type": "code",
   "execution_count": 15,
   "metadata": {},
   "outputs": [],
   "source": [
    "def maker(N):\n",
    "    return lambda X: X ** N     # lambda와 같은 함수 생성 표현식도 같은 기능을 함\n",
    "h = maker(3)"
   ]
  },
  {
   "cell_type": "code",
   "execution_count": 16,
   "metadata": {},
   "outputs": [
    {
     "data": {
      "text/plain": [
       "64"
      ]
     },
     "execution_count": 16,
     "metadata": {},
     "output_type": "execute_result"
    }
   ],
   "source": [
    "h(4)    # 4 ** 3"
   ]
  },
  {
   "cell_type": "markdown",
   "metadata": {},
   "source": [
    "- 기본 인수로 외부 범위 상태 정보 유지하기\n",
    "    - 바깥쪽 범위 변수: 함수가 **호출될 때 참조함**\n",
    "    - 기본 인수: 함수가 **생성될 때 평가함**\n",
    "    - 기본 인수가 필요한 경우: 루프 변수"
   ]
  },
  {
   "cell_type": "markdown",
   "metadata": {},
   "source": [
    "- 루프 변수: 바깥쪽 범위 변수를 그냥 사용하는 경우"
   ]
  },
  {
   "cell_type": "code",
   "execution_count": 17,
   "metadata": {},
   "outputs": [],
   "source": [
    "def make_actions():\n",
    "    acts = []\n",
    "    for i in range(5):\n",
    "        acts.append(lambda x: i ** x)   # 바깥 범위 변수를 받아오도록 함\n",
    "    return acts\n",
    "acts = make_actions()"
   ]
  },
  {
   "cell_type": "code",
   "execution_count": 18,
   "metadata": {},
   "outputs": [
    {
     "data": {
      "text/plain": [
       "<function __main__.make_actions.<locals>.<lambda>(x)>"
      ]
     },
     "execution_count": 18,
     "metadata": {},
     "output_type": "execute_result"
    }
   ],
   "source": [
    "acts[0]                             # lambda 함수가 저장되어 있음"
   ]
  },
  {
   "cell_type": "code",
   "execution_count": 19,
   "metadata": {},
   "outputs": [
    {
     "data": {
      "text/plain": [
       "16"
      ]
     },
     "execution_count": 19,
     "metadata": {},
     "output_type": "execute_result"
    }
   ],
   "source": [
    "acts[0](2)                          # 4**2: 루프문의 마지막 i 값인 4가 저장되어 있음"
   ]
  },
  {
   "cell_type": "markdown",
   "metadata": {},
   "source": [
    "- 루프 변수: 기본 인수를 사용하는 경우"
   ]
  },
  {
   "cell_type": "code",
   "execution_count": 20,
   "metadata": {},
   "outputs": [],
   "source": [
    "def make_actions():\n",
    "    acts = []\n",
    "    for i in range(5):                   # 기본 인수를 사용하여\n",
    "        acts.append(lambda x, i=i: i ** x) # 현재 i값을 lambda에 직접 전달\n",
    "    return acts\n",
    "acts = make_actions()"
   ]
  },
  {
   "cell_type": "code",
   "execution_count": 21,
   "metadata": {},
   "outputs": [
    {
     "name": "stdout",
     "output_type": "stream",
     "text": [
      "0\n",
      "1\n",
      "4\n",
      "9\n",
      "16\n"
     ]
    }
   ],
   "source": [
    "for i in range(len(acts)):\n",
    "    print(acts[i](2))                    # 의도한 대로 함수가 동작하는 것을 확인"
   ]
  },
  {
   "cell_type": "markdown",
   "metadata": {},
   "source": [
    "- 임의 범위 중첩\n",
    "    - 여러 개의 범위 중첩 가능\n",
    "    - 변수 참조시 해당 함수 지역범위 검색 후 넓은 쪽으로 순서대로 검색"
   ]
  },
  {
   "cell_type": "code",
   "execution_count": 22,
   "metadata": {},
   "outputs": [
    {
     "name": "stdout",
     "output_type": "stream",
     "text": [
      "99\n"
     ]
    }
   ],
   "source": [
    "def f1():\n",
    "    x = 99\n",
    "    def f2():\n",
    "        def f3():\n",
    "            print(x)\n",
    "        f3()\n",
    "    f2()\n",
    "f1()                # 99"
   ]
  },
  {
   "cell_type": "markdown",
   "metadata": {},
   "source": [
    "- 그러나 중첩은 최소화하는 것이 바람직하다."
   ]
  },
  {
   "cell_type": "markdown",
   "metadata": {},
   "source": [
    "### nonlocal\n",
    "- global과의 차이\n",
    "    - 적용되는 범위는 바깥쪽 함수의 범위\n",
    "    - 중첩된 함수 안에서 nonlocal로 첫 할당을 할 수 없음(이미 존재하는 이름만 선언 가능)"
   ]
  },
  {
   "cell_type": "markdown",
   "metadata": {},
   "source": [
    "- 예"
   ]
  },
  {
   "cell_type": "code",
   "execution_count": 23,
   "metadata": {},
   "outputs": [],
   "source": [
    "def tester(start):\n",
    "    state = start\n",
    "    def nested(label):\n",
    "        nonlocal state              # 바깥쪽 범위의 상태를 기억\n",
    "        print(label, state)\n",
    "        state += 1                  # nonlocal 변수 변경\n",
    "    return nested\n",
    "\n",
    "F = tester(0)"
   ]
  },
  {
   "cell_type": "code",
   "execution_count": 24,
   "metadata": {},
   "outputs": [
    {
     "name": "stdout",
     "output_type": "stream",
     "text": [
      "spam 0\n",
      "ham 1\n",
      "eggs 2\n"
     ]
    }
   ],
   "source": [
    "F('spam')    # nested가 실행된 결과 변경된 state의 값이 tester 범위에 저장됨\n",
    "F('ham')\n",
    "F('eggs')"
   ]
  },
  {
   "cell_type": "markdown",
   "metadata": {},
   "source": [
    "- 어디에 쓰나?\n",
    "    - **함수 내 변경 가능한 상태 정보**에 대하여 여러 사본을 가질 수 있도록 해 줌  \n",
    "        → 클래스나 전역 변수가 적용될 수 없는, 또는 필요하지 않은 곳에서 상태를 유지할 수 있다.  \n",
    "        → 프로그램의 다른 부분과 충돌하는 것을 방지해 준다."
   ]
  },
  {
   "cell_type": "markdown",
   "metadata": {},
   "source": [
    "### global과 nonlocal의 검색 규칙 제한\n",
    "- global\n",
    "    - 범위 검색을 모듈 범위부터 시작하도록 하고, 전역 범위에 있는 이름을 할당한다.\n",
    "    - 만약 모듈 범위에 해당 이름이 존재하지 않는다면 내장 범위까지 계속 검색한다.\n",
    "    - 전역 이름에 대한 할당은 항상 모듈 범위에 해당 이름을 생성하고 변경한다.\n",
    "- nonlocal\n",
    "    - 범위 검색을 (가장) 바깥쪽 def 내로 제한한다.\n",
    "    - 이름이 이미 바깥쪽 def에 존재하고 있어야 한다: 존재한다면, 그것이 할당된다.\n",
    "    - 범위 검색은 전역 범위나 내장 범위로 확장 진행되지 않는다."
   ]
  },
  {
   "cell_type": "markdown",
   "metadata": {},
   "source": [
    "### 변경 가능한 상태를 유지하는 방법\n",
    "#### global\n",
    "    - 공유된 데이터에 대하여 단 하나의 사본만을 제공"
   ]
  },
  {
   "cell_type": "code",
   "execution_count": 25,
   "metadata": {},
   "outputs": [],
   "source": [
    "def tester(start):\n",
    "    global state               # 전역 state 선언\n",
    "    state = start\n",
    "    def nested(label):\n",
    "        global state\n",
    "        print(label, state)\n",
    "        state += 1\n",
    "    return nested\n",
    "\n",
    "F = tester(0)"
   ]
  },
  {
   "cell_type": "code",
   "execution_count": 26,
   "metadata": {},
   "outputs": [
    {
     "name": "stdout",
     "output_type": "stream",
     "text": [
      "spam 0\n",
      "eggs 1\n"
     ]
    }
   ],
   "source": [
    "F('spam')\n",
    "F('eggs')"
   ]
  },
  {
   "cell_type": "markdown",
   "metadata": {},
   "source": [
    "#### 여러 개의 사본을 생성할 수 있는 방법들\n",
    "1. 비지역 클로저\n",
    "    - 3.X 버전에서만 사용 가능\n",
    "    - 영역 검색을 통한 참조"
   ]
  },
  {
   "cell_type": "code",
   "execution_count": 27,
   "metadata": {},
   "outputs": [],
   "source": [
    "def tester(start):\n",
    "    state = start\n",
    "    def nested(label):\n",
    "        nonlocal state         # 바깥쪽 범위의 상태를 기억\n",
    "        print(label, state)\n",
    "        state += 1             # 비지역인 경우 변경 가능\n",
    "    return nested"
   ]
  },
  {
   "cell_type": "code",
   "execution_count": 28,
   "metadata": {},
   "outputs": [
    {
     "name": "stdout",
     "output_type": "stream",
     "text": [
      "spam 0\n"
     ]
    }
   ],
   "source": [
    "F = tester(0)\n",
    "F('spam')                  # spam 0, 상태는 클로저 안에서만 보임"
   ]
  },
  {
   "cell_type": "markdown",
   "metadata": {},
   "source": [
    "2. 함수 속성\n",
    "    - 상태 정보를 유지하는 호출 가능한 객체의 외부로부터 상태에 직접 접근 가능(명시적 접근) → 좋은 이식성"
   ]
  },
  {
   "cell_type": "code",
   "execution_count": 29,
   "metadata": {},
   "outputs": [],
   "source": [
    "def tester(start):\n",
    "    def nested(label):\n",
    "        print(label, nested.state)\n",
    "        nested.state += 1               # nested가 아닌 속성을 변경\n",
    "    nested.state = start              # 함수가 정의된 이후, state를 초기화\n",
    "    return nested                     # (함수의 이름을 통해 접근하기 때문)"
   ]
  },
  {
   "cell_type": "code",
   "execution_count": 30,
   "metadata": {},
   "outputs": [
    {
     "name": "stdout",
     "output_type": "stream",
     "text": [
      "spam 0\n",
      "ham 1\n"
     ]
    },
    {
     "data": {
      "text/plain": [
       "2"
      ]
     },
     "execution_count": 30,
     "metadata": {},
     "output_type": "execute_result"
    }
   ],
   "source": [
    "F = tester(0)\n",
    "F('spam')                           # F는 state가 첨부된 nested 함수\n",
    "F('ham')\n",
    "F.state                             # 함수 외부에서 state에 접근 가능"
   ]
  },
  {
   "cell_type": "code",
   "execution_count": 31,
   "metadata": {},
   "outputs": [
    {
     "name": "stdout",
     "output_type": "stream",
     "text": [
      "eggs 42\n",
      "ham 2\n"
     ]
    }
   ],
   "source": [
    "G = tester(42)\n",
    "G('eggs')                           # eggs 42\n",
    "F('ham')                            # ham 2"
   ]
  },
  {
   "cell_type": "code",
   "execution_count": 32,
   "metadata": {},
   "outputs": [
    {
     "data": {
      "text/plain": [
       "False"
      ]
     },
     "execution_count": 32,
     "metadata": {},
     "output_type": "execute_result"
    }
   ],
   "source": [
    "F.state                             # 3\n",
    "G.state                             # 43\n",
    "F is G                              # False"
   ]
  },
  {
   "cell_type": "markdown",
   "metadata": {},
   "source": [
    "3. 클래스\n",
    "    - 명시적 접근\n",
    "    - 클래스가 가지는 다양한 특징들 활용 가능\n",
    "    - 객체 지향 프로그래밍에 대한 기본 지식 필요"
   ]
  },
  {
   "cell_type": "code",
   "execution_count": 33,
   "metadata": {},
   "outputs": [],
   "source": [
    "class tester:\n",
    "    def __init__(self, start):\n",
    "        self.state = start           # 객체 생성 시 새 객체에 명시적 속성 할당\n",
    "\n",
    "    def nested(self, label):\n",
    "        print(label, self.state)     # 상태를 명시적으로 참조함\n",
    "        self.state += 1"
   ]
  },
  {
   "cell_type": "code",
   "execution_count": 34,
   "metadata": {},
   "outputs": [
    {
     "name": "stdout",
     "output_type": "stream",
     "text": [
      "spam 0\n",
      "ham 1\n"
     ]
    }
   ],
   "source": [
    "F = tester(0)                    # 인스턴스를 생성, __init__ 실행\n",
    "F.nested('spam')                 # F는 self에 전달됨\n",
    "F.nested('ham')"
   ]
  },
  {
   "cell_type": "code",
   "execution_count": 35,
   "metadata": {},
   "outputs": [],
   "source": [
    "G = tester(42)                   # 각 인스턴스는 상태에 대한 새 사본을 가짐"
   ]
  },
  {
   "cell_type": "code",
   "execution_count": 36,
   "metadata": {},
   "outputs": [
    {
     "name": "stdout",
     "output_type": "stream",
     "text": [
      "eggs 2\n"
     ]
    }
   ],
   "source": [
    "F.nested('eggs')                 # F의 상태는 그대로 유지됨"
   ]
  },
  {
   "cell_type": "code",
   "execution_count": 37,
   "metadata": {},
   "outputs": [
    {
     "data": {
      "text/plain": [
       "3"
      ]
     },
     "execution_count": 37,
     "metadata": {},
     "output_type": "execute_result"
    }
   ],
   "source": [
    "F.state                          # 상태는 클래스 외부에서도 접근 가능함"
   ]
  },
  {
   "cell_type": "code",
   "execution_count": 38,
   "metadata": {},
   "outputs": [],
   "source": [
    "# 연산자 오버로딩을 이용해 클래스 객체를 호출가능한 함수처럼 사용하기\n",
    "class tester:\n",
    "    def __init__(self, start):\n",
    "        self.state = start\n",
    "\n",
    "    def __call__(self, label):     # 직접 인스턴스 호출하는 것을 가로챔\n",
    "        print(label, self.state)\n",
    "        self.state += 1"
   ]
  },
  {
   "cell_type": "code",
   "execution_count": 39,
   "metadata": {},
   "outputs": [
    {
     "name": "stdout",
     "output_type": "stream",
     "text": [
      "juice 99\n",
      "pancakes 100\n"
     ]
    }
   ],
   "source": [
    "H = tester(99)                   # __call__을 호출함\n",
    "H('juice')\n",
    "H('pancakes')"
   ]
  },
  {
   "cell_type": "markdown",
   "metadata": {},
   "source": [
    "- 목적에 따라 적합한 방법을 선택하자."
   ]
  }
 ],
 "metadata": {
  "kernelspec": {
   "display_name": "Python 3",
   "language": "python",
   "name": "python3"
  },
  "language_info": {
   "codemirror_mode": {
    "name": "ipython",
    "version": 3
   },
   "file_extension": ".py",
   "mimetype": "text/x-python",
   "name": "python",
   "nbconvert_exporter": "python",
   "pygments_lexer": "ipython3",
   "version": "3.6.5"
  }
 },
 "nbformat": 4,
 "nbformat_minor": 2
}
