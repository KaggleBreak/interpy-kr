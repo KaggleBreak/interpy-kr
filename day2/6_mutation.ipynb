{
 "cells": [
  {
   "cell_type": "markdown",
   "metadata": {},
   "source": [
    "# 9. 변형 (Mutation)\n",
    "참고자료\n",
    " - https://medium.com/@meghamohan/mutable-and-immutable-side-of-python-c2145cf72747\n",
    " - https://medium.com/@birnbera/objects-memory-and-mutation-in-python-810bf090b63c"
   ]
  },
  {
   "cell_type": "markdown",
   "metadata": {},
   "source": [
    "## Python 기본 자료형의 변형 가능 여부"
   ]
  },
  {
   "cell_type": "markdown",
   "metadata": {},
   "source": [
    "| Class | Mutable  |\n",
    "|:---:|:---:|\n",
    "| bool | X |\n",
    "| int | X |\n",
    "| float | X |\n",
    "| list | O |\n",
    "| tuple | X |\n",
    "| str | X |\n",
    "| set | O |\n",
    "| frozenset | X |\n",
    "| dict | O |"
   ]
  },
  {
   "cell_type": "markdown",
   "metadata": {},
   "source": [
    "## 예시\n",
    "### List"
   ]
  },
  {
   "cell_type": "code",
   "execution_count": 1,
   "metadata": {},
   "outputs": [
    {
     "name": "stdout",
     "output_type": "stream",
     "text": [
      "['hi']\n"
     ]
    }
   ],
   "source": [
    "foo = ['hi']\n",
    "print(foo)   # ['hi']"
   ]
  },
  {
   "cell_type": "markdown",
   "metadata": {},
   "source": [
    "bar에 'bye'를 추가했지만 bar와 foo가 동일한 주소를 참조하고 있어 foo의 참조 값도 같이 변경"
   ]
  },
  {
   "cell_type": "code",
   "execution_count": 2,
   "metadata": {},
   "outputs": [
    {
     "name": "stdout",
     "output_type": "stream",
     "text": [
      "['hi', 'bye']\n"
     ]
    }
   ],
   "source": [
    "bar = foo\n",
    "bar += ['bye']\n",
    "print(foo)   # ['hi', 'bye']"
   ]
  },
  {
   "cell_type": "code",
   "execution_count": 3,
   "metadata": {},
   "outputs": [
    {
     "name": "stdout",
     "output_type": "stream",
     "text": [
      "0x24a5d352fc8 <class 'list'>\n",
      "0x24a5d352fc8 <class 'list'>\n",
      "True\n"
     ]
    }
   ],
   "source": [
    "print(hex(id(foo)), type(foo))   # 0x24a5d352fc8 <class 'list'>\n",
    "print(hex(id(bar)), type(bar))   # 0x24a5d352fc8 <class 'list'>\n",
    "print(foo == bar)   # True"
   ]
  },
  {
   "cell_type": "markdown",
   "metadata": {},
   "source": [
    "### Integer\n",
    "int도 유사하지만 약간의 차이가 있다\n",
    "\n",
    "예시) 10이라는 정수 자체가 이미 메모리에 할당돼 있어 x는 해당 주소를 참조하는 형태"
   ]
  },
  {
   "cell_type": "code",
   "execution_count": 4,
   "metadata": {},
   "outputs": [
    {
     "name": "stdout",
     "output_type": "stream",
     "text": [
      "True\n",
      "True\n",
      "True\n",
      "0x7459b200\n"
     ]
    }
   ],
   "source": [
    "x = 10\n",
    "y = x\n",
    "\n",
    "print(id(x) == id(y))   # True\n",
    "print(id(x) == id(10))   # True\n",
    "print(id(y) == id(10))   # True\n",
    "print(hex(id(10)))   # 0x7459b200"
   ]
  },
  {
   "cell_type": "markdown",
   "metadata": {},
   "source": [
    "따라서 x += 1을 해줄 경우 x의 주소가 변하는 것처럼 결과가 나오는데 이는 사실 x가 11을 참조하기 때문"
   ]
  },
  {
   "cell_type": "code",
   "execution_count": 5,
   "metadata": {},
   "outputs": [
    {
     "name": "stdout",
     "output_type": "stream",
     "text": [
      "False\n",
      "True\n",
      "True\n",
      "0x7459b200\n",
      "0x7459b220\n"
     ]
    }
   ],
   "source": [
    "x += 1\n",
    "\n",
    "print(id(x) == id(y))   # False\n",
    "print(id(x) == id(11))   # True\n",
    "print(id(y) == id(10))   # True\n",
    "print(hex(id(10)))   # 0x7459b200\n",
    "print(hex(id(11)))   # 0x7459b220"
   ]
  },
  {
   "cell_type": "code",
   "execution_count": 6,
   "metadata": {},
   "outputs": [
    {
     "name": "stdout",
     "output_type": "stream",
     "text": [
      "True\n",
      "True\n",
      "0x7459b220\n"
     ]
    }
   ],
   "source": [
    "y += 1\n",
    "\n",
    "print(id(x) == id(y))   # True\n",
    "print(id(x) == id(11))   # True\n",
    "print(hex(id(11)))   # 0x7459b220"
   ]
  },
  {
   "cell_type": "markdown",
   "metadata": {},
   "source": [
    "### Tuple은 과연 불변할까?\n",
    "Tuple은 파이썬의 대표적인 불변 자료형인데 Tuple의 요소는 충분히 변형 가능하다"
   ]
  },
  {
   "cell_type": "code",
   "execution_count": 7,
   "metadata": {},
   "outputs": [
    {
     "name": "stdout",
     "output_type": "stream",
     "text": [
      "('holberton', [1, 2, 3])\n",
      "False\n"
     ]
    }
   ],
   "source": [
    "s = ('holberton', [1, 2, 3])\n",
    "t = s\n",
    "s += (5,)\n",
    "print(t)   # ('holberton', [1, 2, 3])\n",
    "print(id(s) == id(t))   # False"
   ]
  },
  {
   "cell_type": "code",
   "execution_count": 8,
   "metadata": {},
   "outputs": [
    {
     "ename": "TypeError",
     "evalue": "'tuple' object does not support item assignment",
     "output_type": "error",
     "traceback": [
      "\u001b[1;31m---------------------------------------------------------------------------\u001b[0m",
      "\u001b[1;31mTypeError\u001b[0m                                 Traceback (most recent call last)",
      "\u001b[1;32m<ipython-input-8-8582805e4cb7>\u001b[0m in \u001b[0;36m<module>\u001b[1;34m\u001b[0m\n\u001b[1;32m----> 1\u001b[1;33m \u001b[0ms\u001b[0m\u001b[1;33m[\u001b[0m\u001b[1;36m1\u001b[0m\u001b[1;33m]\u001b[0m \u001b[1;33m+=\u001b[0m \u001b[1;33m[\u001b[0m\u001b[1;36m5\u001b[0m\u001b[1;33m,\u001b[0m\u001b[1;33m]\u001b[0m   \u001b[1;31m# Error\u001b[0m\u001b[1;33m\u001b[0m\u001b[1;33m\u001b[0m\u001b[0m\n\u001b[0m",
      "\u001b[1;31mTypeError\u001b[0m: 'tuple' object does not support item assignment"
     ]
    }
   ],
   "source": [
    "s[1] += [5,]   # Error"
   ]
  },
  {
   "cell_type": "markdown",
   "metadata": {},
   "source": [
    "하지만 실제 s\\[1\\]이 참조하고 있는 list에는 새 요소가 추가됐으며 t도 동일한 주소를 참조하고 있기 때문에 t에도 반영"
   ]
  },
  {
   "cell_type": "code",
   "execution_count": 9,
   "metadata": {},
   "outputs": [
    {
     "name": "stdout",
     "output_type": "stream",
     "text": [
      "('holberton', [1, 2, 3, 5], 5)\n",
      "('holberton', [1, 2, 3, 5])\n",
      "0x24a5cf51e48\n",
      "False\n"
     ]
    }
   ],
   "source": [
    "print(s)   # ('holberton', [1, 2, 3, 5], 5)\n",
    "print(t)   # ('holberton', [1, 2, 3, 5])\n",
    "print(hex(id(s[1])))   # 0x24a5cf51e48\n",
    "print(id(s) == id(t))   # False"
   ]
  },
  {
   "cell_type": "markdown",
   "metadata": {},
   "source": [
    "### 참조에 의한 호출\n",
    "참조(변형 가능한) 객체를 함수의 인자로 넘기기 때문에 실제로 함수 내에서 이뤄진 연산이 해당 객체에 반영"
   ]
  },
  {
   "cell_type": "code",
   "execution_count": 10,
   "metadata": {},
   "outputs": [
    {
     "name": "stdout",
     "output_type": "stream",
     "text": [
      "0x24a5d4094c8\n",
      "[5, 6, 10]\n",
      "0x24a5d4094c8\n"
     ]
    }
   ],
   "source": [
    "def updateList(list1):\n",
    "    list1 += [10]\n",
    "\n",
    "n = [5, 6]\n",
    "print(hex(id(n)))   # 0x24a5d4094c8\n",
    "updateList(n)\n",
    "print(n)   # [5, 6, 10]\n",
    "print(hex(id(n)))   # 0x24a5d4094c8"
   ]
  },
  {
   "cell_type": "markdown",
   "metadata": {},
   "source": [
    "### 값에 의한 호출\n",
    "하지만 아래와 같은 경우 객체가 참조하고 있는 값만을 넘겨주기 때문에 해당 함수를 호출하는 동안에만 참조 객체가 변경"
   ]
  },
  {
   "cell_type": "code",
   "execution_count": 11,
   "metadata": {},
   "outputs": [
    {
     "name": "stdout",
     "output_type": "stream",
     "text": [
      "0x7459b160\n",
      "0x7459b160 15 0x7459b2a0\n",
      "5\n"
     ]
    }
   ],
   "source": [
    "def updateNumber(n):\n",
    "    tmp = hex(id(n))\n",
    "    n += 10\n",
    "    print(tmp, n, hex(id(n)))\n",
    "\n",
    "b = 5\n",
    "updateNumber(b)   # 0x7459b160 15 0x7459b2a0\n",
    "print(b)   # 5"
   ]
  },
  {
   "cell_type": "markdown",
   "metadata": {},
   "source": [
    "### 기타"
   ]
  },
  {
   "cell_type": "markdown",
   "metadata": {},
   "source": [
    "257 이상의 숫자는 동적으로 메모리에 할당"
   ]
  },
  {
   "cell_type": "code",
   "execution_count": 23,
   "metadata": {},
   "outputs": [
    {
     "name": "stdout",
     "output_type": "stream",
     "text": [
      "0x24a5d3fcfb0\n",
      "False\n",
      "False\n"
     ]
    }
   ],
   "source": [
    "a = 257\n",
    "print(hex(id(a)))   # 0x24a5d3fcfb0\n",
    "b = 257\n",
    "print(id(b) == id(a))   # False\n",
    "print(id(b) == id(257))   # False"
   ]
  },
  {
   "cell_type": "markdown",
   "metadata": {},
   "source": [
    "정수는 32 byte C struct array에 저장"
   ]
  },
  {
   "cell_type": "code",
   "execution_count": 24,
   "metadata": {},
   "outputs": [
    {
     "data": {
      "text/plain": [
       "True"
      ]
     },
     "execution_count": 24,
     "metadata": {},
     "output_type": "execute_result"
    }
   ],
   "source": [
    "id(10) - id(9) == id(9) - id(8) == id(8) - id(7) == 32   # True"
   ]
  },
  {
   "cell_type": "code",
   "execution_count": 25,
   "metadata": {},
   "outputs": [
    {
     "data": {
      "text/plain": [
       "True"
      ]
     },
     "execution_count": 25,
     "metadata": {},
     "output_type": "execute_result"
    }
   ],
   "source": [
    "b = a\n",
    "id(b) == id(a)   # True"
   ]
  },
  {
   "cell_type": "markdown",
   "metadata": {},
   "source": [
    "하지만 257 이상의 숫자도 정수형이기 때문에 연산을 할 경우 새 객체를 생성"
   ]
  },
  {
   "cell_type": "code",
   "execution_count": 26,
   "metadata": {},
   "outputs": [
    {
     "name": "stdout",
     "output_type": "stream",
     "text": [
      "0x24a5d3fcfb0\n",
      "258 0x24a5d1ef470\n"
     ]
    }
   ],
   "source": [
    "print(hex(id(b)))   # 0x24a5d3fcfb0\n",
    "b += 1\n",
    "print(b, hex(id(b)))   # 258 0x24a5d326ad0"
   ]
  },
  {
   "cell_type": "markdown",
   "metadata": {},
   "source": [
    "동일하게 두 list의 요소를 추가하는 코드라도 inline 함수와 풀어서 쓰는 경우 차이가 있다"
   ]
  },
  {
   "cell_type": "code",
   "execution_count": 27,
   "metadata": {},
   "outputs": [
    {
     "name": "stdout",
     "output_type": "stream",
     "text": [
      "0x24a5d46bbc8\n",
      "[1, 2, 1, 2] 0x24a5d46bd48\n",
      "[1, 2, 1, 2, 1, 2, 1, 2] 0x24a5d46bd48\n",
      "[1, 2, 1, 2, 1, 2, 1, 2, 1, 2, 1, 2, 1, 2, 1, 2] 0x24a5d46bd48\n"
     ]
    }
   ],
   "source": [
    "a = [1, 2]\n",
    "print(hex(id(a)))   # 0x24a5d46bbc8\n",
    "\n",
    "a = a + a\n",
    "print(a, hex(id(a)))   # [1, 2, 1, 2] 0x24a5d46bd48\n",
    "\n",
    "a *= 2\n",
    "print(a, hex(id(a)))   # [1, 2, 1, 2, 1, 2, 1, 2] 0x24a5d46bd48\n",
    "\n",
    "a += a\n",
    "print(a, hex(id(a)))   # [1, 2, 1, 2, 1, 2, 1, 2, 1, 2, 1, 2, 1, 2, 1, 2] 0x24a5d46bd48"
   ]
  },
  {
   "cell_type": "markdown",
   "metadata": {},
   "source": [
    "문자열의 경우도 특정 길이 이하의 문자열에 대해서는 정수와 동일한 방식으로 저장 및 참조"
   ]
  },
  {
   "cell_type": "code",
   "execution_count": 16,
   "metadata": {},
   "outputs": [
    {
     "data": {
      "text/plain": [
       "False"
      ]
     },
     "execution_count": 16,
     "metadata": {},
     "output_type": "execute_result"
    }
   ],
   "source": [
    "s1 = \"A random word\"\n",
    "s2 = \"A random word\"\n",
    "s1 == s2   # False"
   ]
  },
  {
   "cell_type": "code",
   "execution_count": 17,
   "metadata": {},
   "outputs": [
    {
     "data": {
      "text/plain": [
       "True"
      ]
     },
     "execution_count": 17,
     "metadata": {},
     "output_type": "execute_result"
    }
   ],
   "source": [
    "s1 = \"Arandomword\"\n",
    "s2 = \"Arandomword\"\n",
    "s1 == s2   # True"
   ]
  },
  {
   "cell_type": "code",
   "execution_count": null,
   "metadata": {},
   "outputs": [],
   "source": []
  },
  {
   "cell_type": "code",
   "execution_count": null,
   "metadata": {},
   "outputs": [],
   "source": []
  }
 ],
 "metadata": {
  "kernelspec": {
   "display_name": "Python 3",
   "language": "python",
   "name": "python3"
  },
  "language_info": {
   "codemirror_mode": {
    "name": "ipython",
    "version": 3
   },
   "file_extension": ".py",
   "mimetype": "text/x-python",
   "name": "python",
   "nbconvert_exporter": "python",
   "pygments_lexer": "ipython3",
   "version": "3.6.8"
  }
 },
 "nbformat": 4,
 "nbformat_minor": 2
}
