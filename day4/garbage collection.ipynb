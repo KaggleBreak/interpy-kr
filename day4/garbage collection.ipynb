{
 "cells": [
  {
   "cell_type": "markdown",
   "metadata": {},
   "source": [
    "# 가비지 컬렉션\n",
    "\n",
    "참고자료:\n",
    "- https://winterj.me/python-gc/\n",
    "- https://rushter.com/blog/python-garbage-collector/\n",
    "- https://pymotw.com/3/gc/"
   ]
  },
  {
   "cell_type": "markdown",
   "metadata": {},
   "source": [
    "## CPython의 GC 구성\n",
    "\n",
    "- reference counting + cyclic(generational) garbage collector\n",
    "- reference counting: 해당 객체의 참조 횟수 (0이 되면 메모리에서 할당 해제)\n",
    "  - sys.getrefcount(*arg)\n",
    "- cyclic garbage: 참조 횟수가 0을 도달할 수 없는 경우"
   ]
  },
  {
   "cell_type": "code",
   "execution_count": 1,
   "metadata": {},
   "outputs": [],
   "source": [
    "import gc, sys, ctypes"
   ]
  },
  {
   "cell_type": "markdown",
   "metadata": {},
   "source": [
    "### Reference Counting"
   ]
  },
  {
   "cell_type": "code",
   "execution_count": 2,
   "metadata": {},
   "outputs": [
    {
     "name": "stdout",
     "output_type": "stream",
     "text": [
      "2\n"
     ]
    }
   ],
   "source": [
    "foo = []\n",
    "print(sys.getrefcount(foo)) # 2회: foo 변수, getrefcount() 인자"
   ]
  },
  {
   "cell_type": "code",
   "execution_count": 3,
   "metadata": {},
   "outputs": [
    {
     "name": "stdout",
     "output_type": "stream",
     "text": [
      "4\n"
     ]
    }
   ],
   "source": [
    "def bar(a):\n",
    "    print(sys.getrefcount(a))\n",
    "\n",
    "bar(foo) # 4회: foo 변수, getrefcount, 함수 인자, 함수 호출 스택"
   ]
  },
  {
   "cell_type": "markdown",
   "metadata": {},
   "source": [
    "객체|값|\n",
    "---|---\n",
    "bar|\n",
    "getrefcount|\n",
    "a|foo\n",
    "\n",
    "객체|\\*args|\n",
    "---|---\n",
    "bar|foo\n",
    "\n",
    "객체|\\*args|\n",
    "---|---\n",
    "getrefcount|foo"
   ]
  },
  {
   "cell_type": "code",
   "execution_count": 4,
   "metadata": {},
   "outputs": [
    {
     "name": "stdout",
     "output_type": "stream",
     "text": [
      "2\n"
     ]
    }
   ],
   "source": [
    "print(sys.getrefcount(foo)) # 2회. 함수 scope를 벗어났기 때문에 함수 관련 인자 X"
   ]
  },
  {
   "cell_type": "markdown",
   "metadata": {},
   "source": [
    "### Cyclic Reference"
   ]
  },
  {
   "cell_type": "code",
   "execution_count": 5,
   "metadata": {},
   "outputs": [
    {
     "name": "stdout",
     "output_type": "stream",
     "text": [
      "2\n",
      "3\n"
     ]
    }
   ],
   "source": [
    "l = []\n",
    "print(sys.getrefcount(l)) # 2회: 변수 정의, print()\n",
    "\n",
    "l.append(l)\n",
    "print(sys.getrefcount(l)) # 변수 호출, append의 값, print()\n",
    "\n",
    "del l"
   ]
  },
  {
   "cell_type": "code",
   "execution_count": 6,
   "metadata": {},
   "outputs": [
    {
     "name": "stdout",
     "output_type": "stream",
     "text": [
      "인스턴스 생성 직후, a = 2 and b = 2\n",
      "순환 참조, a = 3 and b = 3\n",
      "a 삭제 후, b = 3\n",
      "b는 여전히 a.x 를 참조: [{'x': <__main__.Foo object at 0x00000203B0C0C2B0>}, <class '__main__.Foo'>]\n"
     ]
    }
   ],
   "source": [
    "class Foo:\n",
    "    def __init__(self):\n",
    "        self.x = 0\n",
    "\n",
    "a = Foo()\n",
    "b = Foo()\n",
    "print('인스턴스 생성 직후, a = %d and b = %d' % (sys.getrefcount(a), sys.getrefcount(b)))\n",
    "\n",
    "a.x = b\n",
    "b.x = a\n",
    "print('순환 참조, a = %d and b = %d' % (sys.getrefcount(a), sys.getrefcount(b)))\n",
    "\n",
    "del a\n",
    "print('a 삭제 후, b = %d' % sys.getrefcount(b)) # a의 경우 1\n",
    "print('b는 여전히 a.x 를 참조: %s' % gc.get_referents(b))\n",
    "\n",
    "del b"
   ]
  },
  {
   "cell_type": "code",
   "execution_count": 7,
   "metadata": {},
   "outputs": [
    {
     "name": "stdout",
     "output_type": "stream",
     "text": [
      "0\n",
      "0\n"
     ]
    }
   ],
   "source": [
    "# 주소 탐색을 위해 ctypes 모듈 사용\n",
    "class PyObject(ctypes.Structure):\n",
    "    _fields_ = [(\"refcnt\", ctypes.c_long)]\n",
    "\n",
    "gc.disable()  # Disable generational gc\n",
    "\n",
    "lst1 = []\n",
    "lst1.append(lst1)\n",
    "\n",
    "# lst의 주소 저장\n",
    "lst1_address = id(lst1)\n",
    "\n",
    "# lst 해제\n",
    "del lst1\n",
    "\n",
    "object_1 = {}\n",
    "object_2 = {}\n",
    "object_1['obj2'] = object_2\n",
    "object_2['obj1'] = object_1\n",
    "\n",
    "obj_address = id(object_1)\n",
    "\n",
    "# 참조 해제\n",
    "del object_1, object_2\n",
    "\n",
    "gc.collect()\n",
    "\n",
    "# reference count. 메모리에 잔류하는 것을 확인\n",
    "print(PyObject.from_address(obj_address).refcnt)\n",
    "print(PyObject.from_address(lst1_address).refcnt)"
   ]
  },
  {
   "cell_type": "markdown",
   "metadata": {},
   "source": [
    "### 파이썬 GC 모듈\n",
    "- Reference Counting 모듈을 보완\n",
    "  - 자동 GC를 해제하려면 gc.set_threshold(0) > gc.disable()\n",
    "    - Third-party에서 enable()하는 경우 종종 발생\n",
    "    - 코드 내 순환 참조 유무에 대해 체크 필수\n",
    "  - 굳이 disable()할 이유가 없다\n",
    "- 내부적으로 generation 및 threshold로 GC 주기 및 객체를 관리\n",
    "  - 0세대: young (관리가 더 자주 일어남)\n",
    "  - 각 객체는 한 세대에만 속함\n",
    "  - 각 세대별 관리 주기는 gc.get_threshold() 함수를 통해 확인 가능\n",
    "    - 0 -> 2세대 순\n",
    "    - \\# allocation - \\# deallocation >= threshold\\[i] -> GC\n",
    "    - \\# allocation - \\# deallocation >= threshold\\[i] * threshold\\[i+1] -> 차세대 GC\n",
    "    - 예) 0세대는 700번마다, 1세대는 7천번 이후, 2세대는 7만번 이후\n",
    "- 각 세대별 할당 횟수 확인 후 위 기준 초과 시 gc.collect(generations=2) 수행\n",
    "  - 2 -> 0세대 순\n",
    "  - reference count가 0이 될 수 없는 객체 탐색\n",
    "    - O: 상위 세대로 통합 / X: 메모리에서 해제"
   ]
  },
  {
   "cell_type": "code",
   "execution_count": 8,
   "metadata": {},
   "outputs": [
    {
     "data": {
      "text/plain": [
       "(700, 10, 10)"
      ]
     },
     "execution_count": 8,
     "metadata": {},
     "output_type": "execute_result"
    }
   ],
   "source": [
    "gc.get_threshold()"
   ]
  },
  {
   "cell_type": "markdown",
   "metadata": {},
   "source": [
    "### 순환 참조 탐지\n",
    "- 순환 참조는 Container 객체(tuple, list 등)에 의해서만 발생\n",
    "\n",
    "#### 방법\n",
    "1. 모든 컨테이너 객체 추적 (double-linked list로 관리)\n",
    "2. 해당 객체의 gc_refs 필드를 레퍼런스 카운트와 동일하게 설정\n",
    "3. 각 객체에서 참조하는 다른 컨테이너 객체를 찾아 해당 컨테이너의 gc_refs를 감소\n",
    "  - gc_refs=0: 해당 객체들은 컨테이너 집합 내부에서 자기들끼리 참조\n",
    "5. gc_refs=0인 객체를 unreachable로 마킹 후 메모리에서 해제\n",
    "\n",
    "#### 알고리즘에 대한 상세 내용은 아래 링크 확인\n",
    "  - https://github.com/python/cpython/blob/7d6ddb96b34b94c1cbdf95baa94492c48426404e/Modules/gcmodule.c#L902 (파이썬 GC모듈의 C코드)\n",
    "  - http://arctrix.com/nas/python/gc/ (finalizer에 대한 이슈는 3.4에서 해결)\n",
    "  - https://winterj.me/python-gc/#2-가비지-컬렉션의-작동-방식\n",
    "  - 기반 언어에 따른 차이 有"
   ]
  },
  {
   "cell_type": "code",
   "execution_count": 9,
   "metadata": {},
   "outputs": [
    {
     "name": "stdout",
     "output_type": "stream",
     "text": [
      "(498, 0, 0)\n",
      "[[...]] True\n",
      "# in GC: 1\n"
     ]
    }
   ],
   "source": [
    "gc.set_debug(gc.DEBUG_SAVEALL)\n",
    "\n",
    "print(gc.get_count())\n",
    "\n",
    "lst2 = []\n",
    "lst2.append(lst2)\n",
    "lst2_address = id(lst2)\n",
    "\n",
    "del lst2\n",
    "\n",
    "collected = gc.collect()\n",
    "\n",
    "for item in gc.garbage:\n",
    "    print(item, lst2_address == id(item))\n",
    "\n",
    "print('# in GC: %d' % collected)"
   ]
  },
  {
   "cell_type": "code",
   "execution_count": null,
   "metadata": {},
   "outputs": [],
   "source": []
  },
  {
   "cell_type": "code",
   "execution_count": null,
   "metadata": {},
   "outputs": [],
   "source": []
  }
 ],
 "metadata": {
  "kernelspec": {
   "display_name": "Python 3",
   "language": "python",
   "name": "python3"
  },
  "language_info": {
   "codemirror_mode": {
    "name": "ipython",
    "version": 3
   },
   "file_extension": ".py",
   "mimetype": "text/x-python",
   "name": "python",
   "nbconvert_exporter": "python",
   "pygments_lexer": "ipython3",
   "version": "3.6.8"
  }
 },
 "nbformat": 4,
 "nbformat_minor": 2
}
