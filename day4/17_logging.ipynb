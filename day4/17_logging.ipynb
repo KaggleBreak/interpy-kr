{
 "cells": [
  {
   "cell_type": "markdown",
   "metadata": {},
   "source": [
    "logging\n",
    "--------------------------------------\n",
    "## 문서 목적\n",
    "\n",
    "- intermediate python study에서 logging 발표(약 20분)를 위해 작성되었습니다.\n",
    "- 이 문서는 python logging의 기본적인 내용을 안내합니다.\n",
    "- 추가로 logger 클래스 재사용, jupyter notebook에서의 logger 사용법에 대해서도 안내가 됩니다.\n",
    "- python version : 3.6\n",
    "\n",
    "## 참고 자료\n",
    "\n",
    "- 이 문서는 [python 공식 문서 logging](https://docs.python.org/ko/3/library/logging.html#logrecord-attributes)을 참고하여 작성 되었습니다.\n",
    "- 위 공식 문서에서는 자습서를 제공됩니다.\n",
    "  - [기초 자습서](https://docs.python.org/ko/3/howto/logging.html#logging-basic-tutorial)\n",
    "  - [고급 자습서](https://docs.python.org/ko/3/howto/logging.html#logging-advanced-tutorial)\n",
    "  - [로깅 요리책](https://docs.python.org/ko/3/howto/logging-cookbook.html#logging-cookbook)\n",
    "- [파이썬 로깅의 모든것](https://hamait.tistory.com/880)\n",
    "- [logging-basics, advanced](https://github.com/CoreyMSchafer/code_snippets)\n",
    "- [Python Tutorial: Logging Advanced - Loggers, Handlers, and Formatters - youtube](https://www.youtube.com/watch?v=jxmzY9soFXg)\n",
    "- [파이썬, 로깅](https://medium.com/@onlytojay/%ED%8C%8C%EC%9D%B4%EC%8D%AC-%EB%A1%9C%EA%B9%85-85a49af84aba)\n",
    "- 더 많은 내용을 학습하려면 위 링크를 참고해주시기 바랍니다."
   ]
  },
  {
   "cell_type": "markdown",
   "metadata": {},
   "source": [
    "----------------------------------"
   ]
  },
  {
   "cell_type": "markdown",
   "metadata": {},
   "source": [
    "## logging\n",
    "\n",
    "### logging이란?\n",
    "\n",
    "logging은 <span style=\"color:red\">어떤 소프트웨어가 실행될 때 발생하는 이벤트를 추적하는 수단</span>\n",
    "- 개발자는 코드에 로깅 호출을 추가하여 특정 이벤트가 발생했음을 나타냅니다.\n",
    "- 이벤트는 선택적으로 가변 데이터 (즉, 이벤트 발생마다 잠재적으로 다른 데이터)를 포함할 수 있는 설명 메시지로 기술합니다.\n",
    "- 이벤트는 개발자가 이벤트에 부여한 중요도를 가지고 있습니다.\n",
    "> 중요도는 수준(level) 또는 심각도(severity)라고 칭합니다. 중요도는 다시 언급됩니다.\n",
    "- logging은 python에서 제공하므로 별도로 설치하실 필요는 없습니다.\n",
    "\n",
    "```python\n",
    "import logging\n",
    "```\n",
    "\n",
    "### logging은 언제 그리고 왜 쓰나요?\n",
    "\n",
    "위에서 언급한대로 logging은 이벤트를 추적하기 위해 사용되며 함수를 제공합니다.\n",
    "\n",
    "```\n",
    "debug(), info(), warning(), error(), critical()\n",
    "```\n",
    "\n",
    "logging을 사용할 때를 결정하려면 [기초 자습서](https://docs.python.org/ko/3/howto/logging.html#logging-basic-tutorial)나 아래의 logging level을 참고해주시기 바랍니다. 아래는 몇 가지에 대한 예시입니다.\n",
    "\n",
    "- 프로그램의 정상 작동 중에 발생하는 이벤트 보고 (가령 상태 모니터링이나 결함 조사)\n",
    "> logging.info() (또는 진단 목적의 아주 자세한 출력의 경우 logging.debug())\n",
    "  \n",
    "  \n",
    "- 특정 실행시간 이벤트와 관련하여 경고를 발행\n",
    "> logging.warning()\n",
    "  \n",
    "  \n",
    "- 예외를 발생시키지 않고 에러의 억제를 보고 (가령 장기 실행 서버 프로세스의 에러 처리기)\n",
    "> logging.error(), logging.critical() 사용\n",
    "\n",
    "\n",
    "- 사실 logging의 기능은 아니지만 가장 간단한 경우는 우리가 일상에서 코드를 작성하면서 이미 사용하고 있습니다. 바로 print 기능입니다.\n",
    "\n",
    "```python\n",
    "# print something\n",
    "\n",
    "print(\"logging is difficult\")\n",
    "```\n",
    "\n",
    "하지만 대량의 정보 등을 기록해야 할 때는 print로 일일이 할 수 없습니다. \n",
    "\n",
    "그래서 파일로 저장 하는 등 좀 더 다양한 기능을 사용하고 싶을 때 우리는 로깅 시스템을 따로 만들거나, 기존에 구축되어진 라이브러리를 가져와서 사용합니다.\n",
    "\n",
    "\n",
    "### logging level\n",
    "\n",
    "logging 함수는 추적되는 이벤트의 수준 또는 심각도를 따라 명명 합니다.\n",
    "\n",
    "<span style=\"color:red\">기본 수준은 WARNING</span> 입니다. 이는 logging 패키지가 달리 구성되지 않는 한, 이 수준 이상의 이벤트만 추적된다는 것을 의미\n",
    "\n",
    "level : DEBUG < INFO < WARNING < ERROR < CRITICAL\n",
    "\n",
    "| Level   |      사용할 때      | 숫자 값 |\n",
    "|----------|:-------------:|----------|\n",
    "| DEBUG |  상세한 정보. 보통 문제를 진단할 때만 필요합니다. | 10|\n",
    "| INFO |    예상대로 작동하는지에 대한 확인 할 때   | 20 |\n",
    "| WARNING | 예상치 못한 일이 발생했거나 가까운 미래에 발생할 문제(예를 들어 '디스크 공간 부족')에 대한 표시. 소프트웨어는 여전히 예상대로 작동합니다. | 30 |\n",
    "| ERROR | 더욱 심각한 문제로 인해, 소프트웨어가 일부 기능을 수행하지 못 할 때 | 40 |\n",
    "| CRITICAL | 심각한 에러. 프로그램 자체가 계속 실행되지 않을 수 있음을 나타낼 때 | 50 |\n",
    "\n",
    "---------------------------------------------"
   ]
  },
  {
   "cell_type": "markdown",
   "metadata": {},
   "source": [
    "### A simple example"
   ]
  },
  {
   "cell_type": "code",
   "execution_count": 1,
   "metadata": {},
   "outputs": [
    {
     "name": "stderr",
     "output_type": "stream",
     "text": [
      "WARNING:root:Watch out!\n"
     ]
    }
   ],
   "source": [
    "import logging\n",
    "\n",
    "logging.warning('Watch out!')  # will print a message to the console\n",
    "logging.info('I told you so')  # will not print anything"
   ]
  },
  {
   "cell_type": "markdown",
   "metadata": {},
   "source": [
    "- WARNING:root:Watch out! 이 출력 됩니다. 기본 수준이 WARNING 이므로, INFO 메시지는 나타나지 않습니다.\n",
    "  - 출력된 메시지에는 level 표시, logging 호출에 제공된 이벤트 설명(즉, 'Watch out!')이 포함되어 있습니다.\n",
    "  - 'root'는 다시 다룹니다."
   ]
  },
  {
   "cell_type": "markdown",
   "metadata": {},
   "source": [
    "### Logging to a file\n",
    "\n",
    "- notice : 번거롭겠지만 jupyter에서 학습을 하실 때는 logging 마다 jupyter를 restart 해주시기 바랍니다.\n",
    "- 이유 : simple exmple을 실행하고 아래 코드를 실행 할 경우 logging이 꼬여버립니다.\n",
    "\n",
    "> jupyter를 restart 했을 경우\n",
    "```\n",
    "DEBUG:root:This message should go to the log file\n",
    "INFO:root:So should this\n",
    "WARNING:root:And this, too\n",
    "```\n",
    "\n",
    "> jupyter를 restart 안 했을 경우\n",
    "```\n",
    "WARNING:root:And this, too\n",
    "```\n",
    "\n",
    "### logging.basicConfig\n",
    "\n",
    "- 기본 Formatter로 [StreamHandler](https://docs.python.org/ko/3/library/logging.handlers.html#logging.StreamHandler)(로그를 출력하는 기능입니다.)를 생성하고 root logger에 추가하여 로깅 시스템의 기본 구성을 수행합니다. \n",
    "  - StreamHandler 대신 파일 저장을 위해 filename이라는 명령어를 통해 [FileHandler](https://docs.python.org/ko/3/library/logging.handlers.html#logging.FileHandler)를 사용할 수도 있습니다.\n",
    "- 함수 debug(), info(), warning(), error() 그리고 critical()은 루트 로거에 handler가 정의되어 있지 않으면 자동으로 basicConfig()를 호출합니다.\n",
    "- 이 함수는 루트 로거에 이미 handler에 구성되어있는 경우 아무 작업도 수행하지 않습니다.\n",
    "- [logging.basicConfig](https://docs.python.org/ko/3/library/logging.html#logging.basicConfig)"
   ]
  },
  {
   "cell_type": "code",
   "execution_count": 4,
   "metadata": {},
   "outputs": [
    {
     "name": "stderr",
     "output_type": "stream",
     "text": [
      "DEBUG:root:This message should go to the log file\n",
      "INFO:root:So should this\n",
      "WARNING:root:And this, too\n"
     ]
    }
   ],
   "source": [
    "# logging to a file\n",
    "import logging\n",
    "\n",
    "logging.basicConfig(level=logging.DEBUG)\n",
    "logging.debug('This message should go to the log file')\n",
    "logging.info('So should this')\n",
    "logging.warning('And this, too')\n",
    "\n",
    "# example.log file이 생성됨과 동시에 아래와 같이 저장됨\n",
    "# logging level을 `DEBUG` 로 설정하였기 때문에 모든 메시지를 볼 수 있습니다.\n",
    "\n",
    "# `DEBUG:root:This message should go to the log file`\n",
    "# `INFO:root:So should this`\n",
    "# `WARNING:root:And this, too`"
   ]
  },
  {
   "cell_type": "code",
   "execution_count": 1,
   "metadata": {},
   "outputs": [],
   "source": [
    "# logging to a file\n",
    "import logging\n",
    "\n",
    "logging.basicConfig(filename='example.log', level=logging.DEBUG)\n",
    "logging.debug('This message should go to the log file')\n",
    "logging.info('So should this')\n",
    "logging.warning('And this, too')\n",
    "\n",
    "# example.log file이 생성됨과 동시에 아래와 같이 저장됨\n",
    "# logging level을 `DEBUG` 로 설정하였기 때문에 모든 메시지를 볼 수 있습니다.\n",
    "\n",
    "# `DEBUG:root:This message should go to the log file`\n",
    "# `INFO:root:So should this`\n",
    "# `WARNING:root:And this, too`"
   ]
  },
  {
   "cell_type": "markdown",
   "metadata": {},
   "source": [
    "### 여러 모듈에서의 로깅\n",
    "- 프로그램이 여러 모듈로 구성되어 있을 때 로깅 구성 방법"
   ]
  },
  {
   "cell_type": "markdown",
   "metadata": {},
   "source": [
    "mylib.py은 아래와 같이 구성되어 있습니다.\n",
    "\n",
    "```python\n",
    "import logging\n",
    "\n",
    "def do_something():\n",
    "    logging.info('Doing something')\n",
    "```"
   ]
  },
  {
   "cell_type": "code",
   "execution_count": 1,
   "metadata": {},
   "outputs": [],
   "source": [
    "# %run mylib.py\n",
    "\n",
    "import logging\n",
    "import mylib\n",
    "\n",
    "def main():\n",
    "    logging.basicConfig(filename='myapp.log', level=logging.INFO)\n",
    "    logging.info('Started')\n",
    "    mylib.do_something()\n",
    "    logging.info('Finished')\n",
    "    \n",
    "if __name__ == '__main__':\n",
    "    main()"
   ]
  },
  {
   "cell_type": "markdown",
   "metadata": {},
   "source": [
    "- myapp.log라는 파일이 생성되고 아래의 메시지가 기록됩니다.\n",
    "\n",
    "`INFO:root:Started`\n",
    "\n",
    "`INFO:root:Doing something`\n",
    "\n",
    "`INFO:root:Finished`"
   ]
  },
  {
   "cell_type": "markdown",
   "metadata": {},
   "source": [
    "### 변수 데이터 로깅\n",
    "\n",
    "- 변수 데이터를 기록하려면, 이벤트 설명 메시지에 포맷 문자열을 사용하고 변수 데이터를 인자로 추가하면 됩니다.!"
   ]
  },
  {
   "cell_type": "code",
   "execution_count": 1,
   "metadata": {},
   "outputs": [
    {
     "name": "stderr",
     "output_type": "stream",
     "text": [
      "WARNING:root:Look before you leap!\n"
     ]
    }
   ],
   "source": [
    "# formating\n",
    "\n",
    "import logging\n",
    "logging.warning('%s before you %s', 'Look', 'leap!')"
   ]
  },
  {
   "cell_type": "code",
   "execution_count": 2,
   "metadata": {},
   "outputs": [
    {
     "name": "stderr",
     "output_type": "stream",
     "text": [
      "WARNING:root:Look before you leap!\n"
     ]
    }
   ],
   "source": [
    "# f-strings, python 3.6부터 지원합니다.\n",
    "\n",
    "logging.warning(f'Look before you leap!')"
   ]
  },
  {
   "cell_type": "code",
   "execution_count": 3,
   "metadata": {},
   "outputs": [
    {
     "name": "stderr",
     "output_type": "stream",
     "text": [
      "WARNING:root:Python is too difficult, AWS...\n"
     ]
    }
   ],
   "source": [
    "languege = 'Python'\n",
    "server = 'AWS'\n",
    "\n",
    "logging.warning(f'{languege} is too difficult, {server}...')"
   ]
  },
  {
   "cell_type": "markdown",
   "metadata": {},
   "source": [
    "### 표시된 메시지의 포맷 변경\n",
    "- 메시지를 표시하는 데 사용되는 포맷을 변경하려면 사용할 format을 지정해야 합니다:"
   ]
  },
  {
   "cell_type": "code",
   "execution_count": 1,
   "metadata": {},
   "outputs": [
    {
     "name": "stderr",
     "output_type": "stream",
     "text": [
      "DEBUG:This message should appear on the console\n",
      "INFO:So should this\n",
      "WARNING:And this, too\n"
     ]
    }
   ],
   "source": [
    "# change format\n",
    "\n",
    "import logging\n",
    "\n",
    "logging.basicConfig(format='%(levelname)s : %(message)s', level=logging.DEBUG)\n",
    "logging.debug('This message should appear on the console')\n",
    "logging.info('So should this')\n",
    "logging.warning('And this, too')"
   ]
  },
  {
   "cell_type": "markdown",
   "metadata": {},
   "source": [
    "포맷 문자열에 나타날 수 있는 모든 것은 [LogRecord 어트리뷰트 문서](https://docs.python.org/ko/3/library/logging.html#logrecord-attributes)를 참고해주시기 바랍니다.\n",
    "\n",
    "활용도를 높이기 위해서는 levelname (심각도), message (이벤트 설명, 변수 데이터 포함), 발생 시각도 필요합니다."
   ]
  },
  {
   "cell_type": "markdown",
   "metadata": {},
   "source": [
    "### 메시지에 날짜/시간 표시\n",
    "\n",
    "- 이벤트의 날짜와 시간을 표시하려면, 포맷 문자열에 '%(asctime)s' 을 넣으시면 됩니다!"
   ]
  },
  {
   "cell_type": "code",
   "execution_count": 8,
   "metadata": {},
   "outputs": [
    {
     "name": "stderr",
     "output_type": "stream",
     "text": [
      "2019-05-24 22:40:02,590 is when this event was logged.\n"
     ]
    }
   ],
   "source": [
    "import logging\n",
    "\n",
    "logging.basicConfig(format='%(asctime)s %(message)s')\n",
    "logging.warning('is when this event was logged.')"
   ]
  },
  {
   "cell_type": "markdown",
   "metadata": {},
   "source": [
    "날짜/시간의 포맷을 좀 더 제어해야 하는 경우, 이 예제에서와같이 basicConfig 에 datefmt 인자를 적용하면 됩니다."
   ]
  },
  {
   "cell_type": "code",
   "execution_count": 1,
   "metadata": {},
   "outputs": [
    {
     "name": "stderr",
     "output_type": "stream",
     "text": [
      "05/24/2019 10:41:22 PM is when this event was logged.\n"
     ]
    }
   ],
   "source": [
    "import logging\n",
    "\n",
    "logging.basicConfig(format='%(asctime)s %(message)s', datefmt='%m/%d/%Y %I:%M:%S %p')\n",
    "logging.warning('is when this event was logged.')"
   ]
  },
  {
   "cell_type": "markdown",
   "metadata": {},
   "source": [
    "datefmt 인자의 형식은 [time.strftime()](https://docs.python.org/3/library/time.html) 에 의해 지원되는 것과 같습니다."
   ]
  },
  {
   "cell_type": "code",
   "execution_count": 1,
   "metadata": {},
   "outputs": [
    {
     "name": "stderr",
     "output_type": "stream",
     "text": [
      "WARNING : 05/25/2019 09:14:53 AM is when this event was logged.\n"
     ]
    }
   ],
   "source": [
    "# format='%(levelname)s:%(asctime)s %(message)s'\n",
    "\n",
    "import logging\n",
    "\n",
    "logging.basicConfig(format='%(levelname)s : %(asctime)s %(message)s', datefmt='%m/%d/%Y %I:%M:%S %p')\n",
    "logging.warning('is when this event was logged.')"
   ]
  },
  {
   "cell_type": "markdown",
   "metadata": {},
   "source": [
    "### 기본 정리\n",
    "- [참고 코드](https://github.com/CoreyMSchafer/code_snippets/tree/master/Logging-Basics)"
   ]
  },
  {
   "cell_type": "code",
   "execution_count": 1,
   "metadata": {},
   "outputs": [],
   "source": [
    "import logging\n",
    "\n",
    "# create basicConfig\n",
    "logging.basicConfig(\n",
    "    filename='test.log', \n",
    "    level=logging.DEBUG,                \n",
    "    format='%(asctime)s:%(levelname)s:%(message)s'\n",
    ")\n",
    "\n",
    "\n",
    "def add(x, y):\n",
    "    \"\"\"Add Function\"\"\"\n",
    "    return x + y\n",
    "\n",
    "\n",
    "def subtract(x, y):\n",
    "    \"\"\"Subtract Function\"\"\"\n",
    "    return x - y\n",
    "\n",
    "\n",
    "def multiply(x, y):\n",
    "    \"\"\"Multiply Function\"\"\"\n",
    "    return x * y\n",
    "\n",
    "\n",
    "def divide(x, y):\n",
    "    \"\"\"Divide Function\"\"\"\n",
    "    return x / y\n",
    "\n",
    "\n",
    "num_1 = 20\n",
    "num_2 = 10\n",
    "\n",
    "add_result = add(num_1, num_2)\n",
    "logging.debug('Add: {} + {} = {}'.format(num_1, num_2, add_result)) # logging.debug(something)\n",
    "\n",
    "sub_result = subtract(num_1, num_2)\n",
    "logging.debug('Sub: {} - {} = {}'.format(num_1, num_2, sub_result))\n",
    "\n",
    "mul_result = multiply(num_1, num_2)\n",
    "logging.debug('Mul: {} * {} = {}'.format(num_1, num_2, mul_result))\n",
    "\n",
    "div_result = divide(num_1, num_2)\n",
    "logging.debug('Div: {} / {} = {}'.format(num_1, num_2, div_result))\n",
    "\n",
    "\n",
    "\n",
    "# 2019-05-25 00:05:42,727:DEBUG:Add: 20 + 10 = 30\n",
    "# 2019-05-25 00:05:42,727:DEBUG:Sub: 20 - 10 = 10\n",
    "# 2019-05-25 00:05:42,727:DEBUG:Mul: 20 * 10 = 200\n",
    "# 2019-05-25 00:05:42,728:DEBUG:Div: 20 / 10 = 2.0"
   ]
  },
  {
   "cell_type": "code",
   "execution_count": 1,
   "metadata": {},
   "outputs": [],
   "source": [
    "import logging\n",
    "\n",
    "logging.basicConfig(\n",
    "    filename='employee.log', \n",
    "    level=logging.INFO,\n",
    "    format='%(levelname)s:%(message)s'\n",
    ")\n",
    "\n",
    "\n",
    "class Employee:\n",
    "    \"\"\"A sample Employee class\"\"\"\n",
    "\n",
    "    def __init__(self, first, last):\n",
    "        self.first = first\n",
    "        self.last = last\n",
    "        \n",
    "#         print('Created Employee: {} - {}'.format(self.fullname, self.email))\n",
    "        logging.info('Created Employee: {} - {}'.format(self.fullname, self.email))\n",
    "\n",
    "    @property\n",
    "    def email(self):\n",
    "        return '{}.{}@email.com'.format(self.first, self.last)\n",
    "\n",
    "    @property\n",
    "    def fullname(self):\n",
    "        return '{} {}'.format(self.first, self.last)\n",
    "\n",
    "\n",
    "emp_1 = Employee('John', 'Smith')\n",
    "emp_2 = Employee('Corey', 'Schafer')\n",
    "emp_3 = Employee('Jane', 'Doe')\n",
    "\n",
    "\n",
    "# INFO:Created Employee: John Smith - John.Smith@email.com\n",
    "# INFO:Created Employee: Corey Schafer - Corey.Schafer@email.com\n",
    "# INFO:Created Employee: Jane Doe - Jane.Doe@email.com"
   ]
  },
  {
   "cell_type": "markdown",
   "metadata": {},
   "source": [
    "----------------------"
   ]
  },
  {
   "cell_type": "markdown",
   "metadata": {},
   "source": [
    "### logging에 대해 조금 더 알아보겠습니다.\n",
    "\n",
    "logging 라이브러리는 모듈 방식으로 구성되며, loggers(로거), handlers(처리기), filters(필터), formatters(포매터)로 이루어져 있습니다.\n",
    "\n",
    "- loggers(로거)는 응용 프로그램 코드가 직접 사용하는 인터페이스를 노출합니다.\n",
    "- handlers(처리기)는 (로거에 의해 만들어진) 로그 레코드를 적절한 목적지로 보냅니다.\n",
    "- filters(필터)는 출력할 로그 레코드를 결정하기 위해 보다 정밀한 기능을 제공합니다.\n",
    "- formatters(포매터)는 최종 출력에서 로그 레코드의 배치를 지정합니다.\n",
    "\n",
    "\n",
    "### logger class\n",
    "\n",
    "logging은 Logger 클래스(이하 로거 (loggers) 라고 합니다) 인스턴스의 메서드를 호출하여 수행됩니다.\n",
    "\n",
    "```python\n",
    "import logging\n",
    "\n",
    "logger = logging.getLogger(__name__)\n",
    "```\n",
    "\n",
    "- 로거 이름으로부터 이벤트가 기록되는 위치를 직관적으로 명확히 알 수 있습니다.\n",
    "- \n",
    "```\n",
    "__name__으로 지정하면 __main__으로 기록 됩니다. if __name__ == \"__main__\"':\n",
    "```\n",
    "\n",
    "\n",
    "### root logger\n",
    "\n",
    "- 로거 계층의 뿌리를 루트 로거\n",
    "- debug(), info(), warning(), error(), critical() 함수에 의해 사용되는 로거인데, 루트 로거의 같은 이름의 메서드들 호출"
   ]
  },
  {
   "cell_type": "markdown",
   "metadata": {},
   "source": [
    "### 로깅 흐름\n",
    "\n",
    "- [이미지 출처](https://docs.python.org/ko/3/_images/logging_flow.png)\n",
    "\n",
    "![alt text](https://docs.python.org/ko/3/_images/logging_flow.png)\n",
    "\n",
    "-----------------------"
   ]
  },
  {
   "cell_type": "markdown",
   "metadata": {},
   "source": [
    "### Logger\n",
    "\n",
    "- 로거는 결코 직접 인스턴스를 만드는 일 없습니다. 항상 logging.getLogger(name)로 생성됩니다.\n",
    "- 같은 이름(name)으로 getLogger() 를 여러 번 호출해도 항상 같은 로거 객체에 대한 참조를 돌려줍니다.\n",
    "- getLogger()는 이름이 제공되는 경우 지정된 이름을 가진 로거 인스턴스에 대한 참조를 반환하고, 그렇지 않으면 root 를 반환합니다.\n",
    "\n",
    "다음은 logger의 일반적인 구성이며 생성한 모든 logger에서 호출할 필요는 없습니다.\n",
    "\n",
    "- Logger.setLevel()은 로거가 처리할 가장 낮은 심각도의 로그 메시지를 지정합니다.\n",
    "- Logger.addHandler() 와 Logger.removeHandler() 는 로거 객체에서 처리기 객체를 추가하고 제거합니다.\n",
    "- Logger.addFilter() 와 Logger.removeFilter() 는 로거 객체에서 필터 객체를 추가하고 제거합니다.\n",
    "\n",
    "\n",
    "```python\n",
    "\n",
    "# example code\n",
    "mylogger = logging.getLogger(\"my\")\n",
    "mylogger.setLevel(logging.INFO)\n",
    "```"
   ]
  },
  {
   "cell_type": "markdown",
   "metadata": {},
   "source": [
    "### handler\n",
    "\n",
    "- handler란 내가 로깅한 정보가 출력되는 위치를 설정하는 것\n",
    "- Handler 객체는 (로그 메시지의 심각도를 기반으로) 적절한 로그 메시지를 처리기의 지정된 대상으로 전달하는 역할\n",
    "- Logger 객체는 addHandler() 메서드를 사용하여 0개 이상의 handler 객체를 자신에게 추가\n",
    "- [useful-handlers](https://docs.python.org/ko/3/howto/logging.html#useful-handlers)\n",
    "\n",
    "```python\n",
    "# example code\n",
    "\n",
    "stream_hander = logging.StreamHandler()\n",
    "stream_hander.setFormatter(formatter)\n",
    "mylogger.addHandler(stream_hander)\n",
    "\n",
    "file_handler = logging.FileHandler('my.log')\n",
    "mylogger.addHandler(file_handler)\n",
    "```\n",
    "\n",
    "handler 구성\n",
    "\n",
    "- setFormatter() 는 처리기가 사용할 포매터 객체를 선택합니다.\n",
    "- addFilter() 와 removeFilter() 는 각각 처리기에서 필터 객체를 구성하고 해제합니다.\n",
    "\n",
    "- handler에서도 setLevel()을 사용 할 수 있습니다. logger 객체에서와 마찬가지로 적절한 목적지로 보내는 가장 낮은 레벨을 지정합니다. \n",
    "- 왜 두 개의 setLevel() method가 사용되나?\n",
    "> Logger에 설정된 수준은 handler에 전달할 메시지의 심각도를 판별합니다. 각각의 hander에 설정된 수준은 handler가 전송할 메시지를 결정합니다."
   ]
  },
  {
   "cell_type": "markdown",
   "metadata": {},
   "source": [
    "### Filter\n",
    "\n",
    "Filter 는 수준을 통해 제공되는 것보다 더 정교한 필터링을 위해 Handler 와 Logger 에 의해 사용됩니다.\n",
    "- 베이스 필터 클래스는 로거 계층 구조의 특정 지점 아래에 있는 이벤트만 허용합니다. \n",
    "> 예를 들어 'A.B'로 초기화된 필터는, 로거 'A.B', 'A.B.C', 'A.B.C.D', 'A.B.D' 등이 로그 한 이벤트를 허용하지만, 'A.BB', 'B.A.B' 등은 허용하지 않습니다. 빈 문자열을 사용하면 모든 이벤트를 통과시킵니다.\n",
    "\n",
    "- Filter는 다음 [예제 링크](https://www.programcreek.com/python/example/3364/logging.Filter)로 대체합니다"
   ]
  },
  {
   "cell_type": "markdown",
   "metadata": {},
   "source": [
    "### formatters\n",
    "\n",
    "- 포매터 객체는 로그 메시지의 최종 순서, 구조 및 내용을 구성\n",
    "\n",
    "```python\n",
    "# example formatters\n",
    "'%(asctime)s - %(levelname)s - %(message)s'\n",
    "\n",
    "formatter = logging.Formatter('%(asctime)s - %(name)s - %(levelname)s - %(message)s')\n",
    "```\n"
   ]
  },
  {
   "cell_type": "markdown",
   "metadata": {},
   "source": [
    "### Logger를 이용한 logging 구성\n",
    "\n",
    "각 구성 요소를 바탕으로 logge를 이용한 logging을 구성해보겠습니다. 방법은 3가지가 있으며 이 문서에서는 대부분 첫 번째 방법으로 작성되었습니다.\n",
    "\n",
    "<span style=\"color:blue\">첫 번째</span>, 나열된 구성 메서드를 호출하는 파이썬 코드를 사용하여 로거, 처리기 및 포매터를 명시적으로 만드는 방법\n",
    "- logger 생성(이름을 지정하면 이름으로, 지정하지 않을 경우 root, 특정 logger를 지정해서 생성하는 것이 일반적)\n",
    "- logger 레벨 설정\n",
    "- handler 설정(StreamHandler - 로그 출력용, FileHandler - 로그 저장용 등)\n",
    "- formatter 설정(asctime 시간, levelname 로깅레벨, message 메세지)\n",
    "\n",
    "<span style=\"color:blue\">두 번째</span>, 로깅 구성 파일을 만들고, fileConfig() 함수를 사용하여 그것을 읽는 방법으로 사용은 선택 사항입니다.\n",
    "- 안내 : 고급 자습서에 있는 코드를 실행하였으나 되지 않아서 향후 되는 방법을 찾아 업데이트 하겠습니다.\n",
    "\n",
    "<span style=\"color:blue\">세 번째</span>, 구성 정보의 딕셔너리를 만들고, dictConfig() 함수에 전달 하는 방법으로 사용은 선택 사항입니다.\n",
    "\n",
    "- [두, 세 번째에 대한 가이드](https://docs.python.org/ko/3/library/logging.config.html#logging-config-api)"
   ]
  },
  {
   "cell_type": "markdown",
   "metadata": {},
   "source": [
    "### example 1"
   ]
  },
  {
   "cell_type": "code",
   "execution_count": 1,
   "metadata": {},
   "outputs": [
    {
     "name": "stderr",
     "output_type": "stream",
     "text": [
      "2019-05-25 10:18:40,204 - my - INFO - server start!!!\n"
     ]
    }
   ],
   "source": [
    "import logging\n",
    "\n",
    "if __name__ == '__main__':\n",
    "    mylogger = logging.getLogger(\"my\")\n",
    "    mylogger.setLevel(logging.INFO)\n",
    "\n",
    "    formatter = logging.Formatter('%(asctime)s - %(name)s - %(levelname)s - %(message)s')\n",
    "\n",
    "    stream_hander = logging.StreamHandler()\n",
    "    stream_hander.setFormatter(formatter)\n",
    "    mylogger.addHandler(stream_hander)\n",
    "\n",
    "    file_handler = logging.FileHandler('my_server_start_info.log')\n",
    "    mylogger.addHandler(file_handler)\n",
    "\n",
    "    mylogger.info(\"server start!!!\")"
   ]
  },
  {
   "cell_type": "markdown",
   "metadata": {},
   "source": [
    "### example 2"
   ]
  },
  {
   "cell_type": "code",
   "execution_count": 1,
   "metadata": {},
   "outputs": [
    {
     "name": "stderr",
     "output_type": "stream",
     "text": [
      "2019-05-25 10:19:07,631 - simple_example - DEBUG - debug message\n",
      "2019-05-25 10:19:07,633 - simple_example - INFO - info message\n",
      "2019-05-25 10:19:07,634 - simple_example - WARNING - warn message\n",
      "2019-05-25 10:19:07,634 - simple_example - ERROR - error message\n",
      "2019-05-25 10:19:07,635 - simple_example - CRITICAL - critical message\n"
     ]
    }
   ],
   "source": [
    "import logging\n",
    "\n",
    "# create logger\n",
    "logger = logging.getLogger('simple_example')\n",
    "logger.setLevel(logging.DEBUG)\n",
    "\n",
    "# create console handler and set level to debug\n",
    "ch = logging.StreamHandler()\n",
    "ch.setLevel(logging.DEBUG)\n",
    "\n",
    "# create formatter\n",
    "formatter = logging.Formatter('%(asctime)s - %(name)s - %(levelname)s - %(message)s')\n",
    "\n",
    "# add formatter to ch\n",
    "ch.setFormatter(formatter)\n",
    "\n",
    "# add ch to logger\n",
    "logger.addHandler(ch)\n",
    "\n",
    "# 'application' code\n",
    "logger.debug('debug message')\n",
    "logger.info('info message')\n",
    "logger.warning('warn message')\n",
    "logger.error('error message')\n",
    "logger.critical('critical message')\n",
    "\n",
    "\n",
    "# 2019-05-25 10:19:07,631 - simple_example - DEBUG - debug message\n",
    "# 2019-05-25 10:19:07,633 - simple_example - INFO - info message\n",
    "# 2019-05-25 10:19:07,634 - simple_example - WARNING - warn message\n",
    "# 2019-05-25 10:19:07,634 - simple_example - ERROR - error message\n",
    "# 2019-05-25 10:19:07,635 - simple_example - CRITICAL - critical message"
   ]
  },
  {
   "cell_type": "markdown",
   "metadata": {},
   "source": [
    "### example 3\n",
    "- employeelogger.py를 생성해두고 다른 코드에서 호출하는 방식을 진행"
   ]
  },
  {
   "cell_type": "code",
   "execution_count": 2,
   "metadata": {},
   "outputs": [
    {
     "name": "stderr",
     "output_type": "stream",
     "text": [
      "2019-05-25 10:22:27,341:__main__:Created Employee: John Smith - John.Smith@email.com\n",
      "2019-05-25 10:22:27,342:__main__:Created Employee: Corey Schafer - Corey.Schafer@email.com\n",
      "2019-05-25 10:22:27,343:__main__:Created Employee: Jane Doe - Jane.Doe@email.com\n"
     ]
    }
   ],
   "source": [
    "# employeelogger.py\n",
    "\n",
    "import logging\n",
    "\n",
    "# create logger\n",
    "logger = logging.getLogger(__name__)\n",
    "logger.setLevel(logging.INFO)\n",
    "\n",
    "# create formatter\n",
    "formatter = logging.Formatter('%(levelname)s:%(name)s:%(message)s')\n",
    "\n",
    "# create filehandler\n",
    "file_handler = logging.FileHandler('employee.log')\n",
    "file_handler.setFormatter(formatter)\n",
    "\n",
    "# add file_handler to logger\n",
    "logger.addHandler(file_handler)\n",
    "\n",
    "\n",
    "class Employee:\n",
    "    \"\"\"A sample Employee class\"\"\"\n",
    "\n",
    "    def __init__(self, first, last):\n",
    "        self.first = first\n",
    "        self.last = last\n",
    "\n",
    "        logger.info('Created Employee: {} - {}'.format(self.fullname, self.email))\n",
    "\n",
    "    @property\n",
    "    def email(self):\n",
    "        return '{}.{}@email.com'.format(self.first, self.last)\n",
    "\n",
    "    @property\n",
    "    def fullname(self):\n",
    "        return '{} {}'.format(self.first, self.last)\n",
    "\n",
    "\n",
    "emp_1 = Employee('John', 'Smith')\n",
    "emp_2 = Employee('Corey', 'Schafer')\n",
    "emp_3 = Employee('Jane', 'Doe')\n",
    "\n",
    "# INFO:__main__:Created Employee: John Smith - John.Smith@email.com\n",
    "# INFO:__main__:Created Employee: Corey Schafer - Corey.Schafer@email.com\n",
    "# INFO:__main__:Created Employee: Jane Doe - Jane.Doe@email.com"
   ]
  },
  {
   "cell_type": "code",
   "execution_count": 1,
   "metadata": {},
   "outputs": [
    {
     "name": "stderr",
     "output_type": "stream",
     "text": [
      "2019-05-25 10:22:06,362:__main__:Add: 10 + 0 = 10\n",
      "2019-05-25 10:22:06,365:__main__:Sub: 10 - 0 = 10\n",
      "2019-05-25 10:22:06,367:__main__:Mul: 10 * 0 = 0\n",
      "2019-05-25 10:22:06,368:__main__:Tried to divide by zero\n",
      "Traceback (most recent call last):\n",
      "  File \"<ipython-input-1-46e6c03dcf6c>\", line 42, in divide\n",
      "    result = x / y\n",
      "ZeroDivisionError: division by zero\n",
      "2019-05-25 10:22:06,369:__main__:Div: 10 / 0 = None\n"
     ]
    }
   ],
   "source": [
    "# restart, employeelogger.py(보조 모듈입니다) 파일 확인\n",
    "\n",
    "import logging\n",
    "import employeelogger\n",
    "\n",
    "# create logger\n",
    "logger = logging.getLogger(__name__)\n",
    "# logger = logging.getLogger()\n",
    "logger.setLevel(logging.DEBUG)\n",
    "\n",
    "formatter = logging.Formatter('%(asctime)s:%(name)s:%(message)s')\n",
    "\n",
    "file_handler = logging.FileHandler('sample.log')\n",
    "file_handler.setLevel(logging.ERROR) # set level을 error로 설정하였습니다.\n",
    "file_handler.setFormatter(formatter)\n",
    "\n",
    "stream_handler = logging.StreamHandler()\n",
    "stream_handler.setFormatter(formatter)\n",
    "\n",
    "logger.addHandler(file_handler)\n",
    "logger.addHandler(stream_handler)\n",
    "\n",
    "\n",
    "def add(x, y):\n",
    "    \"\"\"Add Function\"\"\"\n",
    "    return x + y\n",
    "\n",
    "\n",
    "def subtract(x, y):\n",
    "    \"\"\"Subtract Function\"\"\"\n",
    "    return x - y\n",
    "\n",
    "\n",
    "def multiply(x, y):\n",
    "    \"\"\"Multiply Function\"\"\"\n",
    "    return x * y\n",
    "\n",
    "\n",
    "def divide(x, y):\n",
    "    \"\"\"Divide Function\"\"\"\n",
    "    try:\n",
    "        result = x / y\n",
    "    except ZeroDivisionError:\n",
    "        logger.exception('Tried to divide by zero') # 'sample.log'에 기록되는 정보\n",
    "    else:\n",
    "        return result\n",
    "\n",
    "\n",
    "num_1 = 10\n",
    "num_2 = 0\n",
    "\n",
    "add_result = add(num_1, num_2)\n",
    "logger.debug('Add: {} + {} = {}'.format(num_1, num_2, add_result))\n",
    "\n",
    "sub_result = subtract(num_1, num_2)\n",
    "logger.debug('Sub: {} - {} = {}'.format(num_1, num_2, sub_result))\n",
    "\n",
    "mul_result = multiply(num_1, num_2)\n",
    "logger.debug('Mul: {} * {} = {}'.format(num_1, num_2, mul_result))\n",
    "\n",
    "div_result = divide(num_1, num_2)\n",
    "logger.debug('Div: {} / {} = {}'.format(num_1, num_2, div_result))"
   ]
  },
  {
   "cell_type": "markdown",
   "metadata": {},
   "source": [
    "### example 4"
   ]
  },
  {
   "cell_type": "code",
   "execution_count": 1,
   "metadata": {},
   "outputs": [
    {
     "name": "stderr",
     "output_type": "stream",
     "text": [
      "2019-05-25 10:23:44,155 - root - INFO - Test info\n",
      "2019-05-25 10:23:44,156 - root - DEBUG - Test debug\n",
      "2019-05-25 10:23:44,157 - root - ERROR - Test error\n"
     ]
    }
   ],
   "source": [
    "import logging\n",
    "\n",
    "logger = logging.getLogger() # no name -> root\n",
    "\n",
    "formatter = logging.Formatter('%(asctime)s - %(name)s - %(levelname)s - %(message)s')\n",
    "\n",
    "# Setup file handler\n",
    "fhandler  = logging.FileHandler('my_root_log.log')\n",
    "fhandler.setLevel(logging.DEBUG)\n",
    "fhandler.setFormatter(formatter)\n",
    "\n",
    "# Configure stream handler for the cells\n",
    "chandler = logging.StreamHandler()\n",
    "chandler.setLevel(logging.DEBUG)\n",
    "chandler.setFormatter(formatter)\n",
    "\n",
    "# Add both handlers\n",
    "logger.addHandler(fhandler)\n",
    "logger.addHandler(chandler)\n",
    "logger.setLevel(logging.DEBUG)\n",
    "\n",
    "# Show the handlers\n",
    "logger.handlers\n",
    "\n",
    "# Log Something\n",
    "logger.info(\"Test info\")\n",
    "logger.debug(\"Test debug\")\n",
    "logger.error(\"Test error\")"
   ]
  },
  {
   "cell_type": "markdown",
   "metadata": {},
   "source": [
    "### example 5\n",
    "- 다음 코드는 [로깅 요리책](https://docs.python.org/ko/3/howto/logging-cookbook.html)에 나와 있습니다. 참고하시길 바랍니다.\n",
    "- logging.getLogger('someLogger') 를 여러 번 호출하면 같은 로거 객체에 대한 참조가 반환됩니다. \n",
    "- 같은 모듈 내에서뿐만 아니라, 같은 파이썬 인터프리터 프로세스에 있는 한, 여러 모듈에서도 마찬가지입니다. \n",
    "  - 참조가 같은 객체를 가리킨다는 것에 더해, 응용 프로그램 코드는 하나의 모듈에서 부모 로거를 정의 및 구성하고 별도의 모듈에서 자식 로거를 생성 (구성하지 않음) 할 수 있으며, 자식에 대한 모든 로거 호출은 부모로 전달됩니다."
   ]
  },
  {
   "cell_type": "code",
   "execution_count": 1,
   "metadata": {},
   "outputs": [],
   "source": [
    "# main module(메인 모듈))\n",
    "\n",
    "import logging\n",
    "import auxiliary_module # auxiliary_module.py를 확인해주세요.\n",
    "\n",
    "# create logger with 'spam_application'\n",
    "logger = logging.getLogger('spam_application')\n",
    "logger.setLevel(logging.DEBUG)\n",
    "\n",
    "# create file handler which logs even debug messages\n",
    "fh = logging.FileHandler('spam.log')\n",
    "fh.setLevel(logging.DEBUG)\n",
    "\n",
    "# create console handler with a higher log level\n",
    "ch = logging.StreamHandler()\n",
    "ch.setLevel(logging.ERROR)\n",
    "\n",
    "# create formatter and add it to the handlers\n",
    "formatter = logging.Formatter('%(asctime)s - %(name)s - %(levelname)s - %(message)s')\n",
    "fh.setFormatter(formatter)\n",
    "ch.setFormatter(formatter)\n",
    "\n",
    "# add the handlers to the logger\n",
    "logger.addHandler(fh)\n",
    "logger.addHandler(ch)\n",
    "\n",
    "logger.info('creating an instance of auxiliary_module.Auxiliary')\n",
    "\n",
    "a = auxiliary_module.Auxiliary()\n",
    "logger.info('created an instance of auxiliary_module.Auxiliary')\n",
    "logger.info('calling auxiliary_module.Auxiliary.do_something')\n",
    "\n",
    "a.do_something()\n",
    "logger.info('finished auxiliary_module.Auxiliary.do_something')\n",
    "logger.info('calling auxiliary_module.some_function()')\n",
    "\n",
    "auxiliary_module.some_function()\n",
    "logger.info('done with auxiliary_module.some_function()')\n",
    "\n",
    "\n",
    "# 2019-05-25 10:24:43,797 - spam_application - INFO - creating an instance of auxiliary_module.Auxiliary\n",
    "\n",
    "# 2019-05-25 10:24:43,798 - spam_application.auxiliary.Auxiliary - INFO - creating an instance of Auxiliary\n",
    "# 2019-05-25 10:24:43,798 - spam_application - INFO - created an instance of auxiliary_module.Auxiliary\n",
    "# 2019-05-25 10:24:43,798 - spam_application - INFO - calling auxiliary_module.Auxiliary.do_something\n",
    "\n",
    "# 2019-05-25 10:24:43,798 - spam_application.auxiliary.Auxiliary - INFO - doing something\n",
    "# 2019-05-25 10:24:43,798 - spam_application.auxiliary.Auxiliary - INFO - done doing something\n",
    "# 2019-05-25 10:24:43,799 - spam_application - INFO - finished auxiliary_module.Auxiliary.do_something\n",
    "# 2019-05-25 10:24:43,799 - spam_application - INFO - calling auxiliary_module.some_function()\n",
    "\n",
    "# 2019-05-25 10:24:43,799 - spam_application.auxiliary - INFO - received a call to \"some_function\"\n",
    "# 2019-05-25 10:24:43,799 - spam_application - INFO - done with auxiliary_module.some_function()"
   ]
  },
  {
   "cell_type": "code",
   "execution_count": 2,
   "metadata": {},
   "outputs": [],
   "source": [
    "# auxiliary module(보조 모듈)\n",
    "\n",
    "import logging\n",
    "\n",
    "# create logger\n",
    "module_logger = logging.getLogger('spam_application.auxiliary')\n",
    "\n",
    "class Auxiliary:\n",
    "    def __init__(self):\n",
    "        self.logger = logging.getLogger('spam_application.auxiliary.Auxiliary')\n",
    "        self.logger.info('creating an instance of Auxiliary')\n",
    "\n",
    "    def do_something(self):\n",
    "        self.logger.info('doing something')\n",
    "        a = 1 + 1\n",
    "        self.logger.info('done doing something')\n",
    "\n",
    "def some_function():\n",
    "    module_logger.info('received a call to \"some_function\"')"
   ]
  }
 ],
 "metadata": {
  "kernelspec": {
   "display_name": "Python 3",
   "language": "python",
   "name": "python3"
  },
  "language_info": {
   "codemirror_mode": {
    "name": "ipython",
    "version": 3
   },
   "file_extension": ".py",
   "mimetype": "text/x-python",
   "name": "python",
   "nbconvert_exporter": "python",
   "pygments_lexer": "ipython3",
   "version": "3.6.8"
  }
 },
 "nbformat": 4,
 "nbformat_minor": 2
}
