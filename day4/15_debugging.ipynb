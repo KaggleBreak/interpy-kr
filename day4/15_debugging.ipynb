{
 "cells": [
  {
   "cell_type": "markdown",
   "metadata": {
    "slideshow": {
     "slide_type": "slide"
    }
   },
   "source": [
    "# Debugging\n",
    "### Closure"
   ]
  },
  {
   "cell_type": "code",
   "execution_count": 42,
   "metadata": {},
   "outputs": [],
   "source": [
    "def calc(i):\n",
    "\n",
    "    def mul():\n",
    "        return i * 2\n",
    "\n",
    "    return mul"
   ]
  },
  {
   "cell_type": "code",
   "execution_count": 43,
   "metadata": {},
   "outputs": [],
   "source": [
    "f = calc(5)"
   ]
  },
  {
   "cell_type": "code",
   "execution_count": 44,
   "metadata": {},
   "outputs": [
    {
     "data": {
      "text/plain": [
       "<function __main__.calc.<locals>.mul()>"
      ]
     },
     "execution_count": 44,
     "metadata": {},
     "output_type": "execute_result"
    }
   ],
   "source": [
    "f"
   ]
  },
  {
   "cell_type": "code",
   "execution_count": 45,
   "metadata": {
    "slideshow": {
     "slide_type": "subslide"
    }
   },
   "outputs": [
    {
     "data": {
      "text/plain": [
       "10"
      ]
     },
     "execution_count": 45,
     "metadata": {},
     "output_type": "execute_result"
    }
   ],
   "source": [
    "f()"
   ]
  },
  {
   "cell_type": "markdown",
   "metadata": {
    "slideshow": {
     "slide_type": "slide"
    }
   },
   "source": [
    "### Late binding closures"
   ]
  },
  {
   "cell_type": "code",
   "execution_count": 1,
   "metadata": {},
   "outputs": [],
   "source": [
    "def calc():\n",
    "    flist = []\n",
    "    \n",
    "    for i in range(5):\n",
    "        \n",
    "        def mul(x):\n",
    "            return i * x\n",
    "        \n",
    "        flist.append(mul)\n",
    "\n",
    "    return flist"
   ]
  },
  {
   "cell_type": "code",
   "execution_count": 2,
   "metadata": {},
   "outputs": [
    {
     "data": {
      "text/plain": [
       "[<function __main__.calc.<locals>.mul(x)>,\n",
       " <function __main__.calc.<locals>.mul(x)>,\n",
       " <function __main__.calc.<locals>.mul(x)>,\n",
       " <function __main__.calc.<locals>.mul(x)>,\n",
       " <function __main__.calc.<locals>.mul(x)>]"
      ]
     },
     "execution_count": 2,
     "metadata": {},
     "output_type": "execute_result"
    }
   ],
   "source": [
    "flist = calc()\n",
    "flist"
   ]
  },
  {
   "cell_type": "markdown",
   "metadata": {
    "slideshow": {
     "slide_type": "subslide"
    }
   },
   "source": [
    "###### 각각의 mul 함수 호출시 예상한 결과\n",
    "```\n",
    "flist = [mul(x),           # 0 * x\n",
    "         mul(x),           # 1 * x\n",
    "         mul(x),           # 2 * x\n",
    "         mul(x),           # 3 * x\n",
    "         mul(x)]           # 4 * x\n",
    "```\n",
    "```\n",
    "[flist[0](5),      # 0 * 5 = 0\n",
    " flist[1](5),      # 1 * 5 = 1\n",
    " flist[2](5),      # 2 * 5 = 10\n",
    " flist[3](5),      # 3 * 5 = 15\n",
    " flist[4](5)]      # 4 * 5 = 20\n",
    "```\n",
    "\n",
    "```\n",
    "[0, 1, 10, 15, 20]\n",
    "```"
   ]
  },
  {
   "cell_type": "code",
   "execution_count": 22,
   "metadata": {
    "slideshow": {
     "slide_type": "subslide"
    }
   },
   "outputs": [
    {
     "data": {
      "text/plain": [
       "[20, 20, 20, 20, 20]"
      ]
     },
     "execution_count": 22,
     "metadata": {},
     "output_type": "execute_result"
    }
   ],
   "source": [
    "[flist[0](5),\n",
    " flist[1](5),\n",
    " flist[2](5),\n",
    " flist[3](5),\n",
    " flist[4](5)]"
   ]
  },
  {
   "cell_type": "markdown",
   "metadata": {
    "slideshow": {
     "slide_type": "slide"
    }
   },
   "source": [
    "### pdb\n",
    "- 파이썬은 디버깅을 위해 pdb 라는 파이썬 디버거 모듈을 제공함.\n",
    "- 이 디버거는 중단점(breakpoint) 설정, 콜스택 검사, 소스 보기, 변수 치환 등 다양한 기능을 제공함.\n",
    "\n",
    "\n",
    "- 파이썬 실생시 -m pdb 옵션을 사용하면 디버거 하에서 파이선 파일을 실행이 가능함.\n",
    "> python3 -m pdb myscript.py\n",
    "- 흔히 사용되는 방법은 pdb 모듈을 import 한 후, pdb.set_trace()를 중단하고 싶은 곳에 넣는 것. 프로그램이 실행되면 pdb.set_trace() 문장이 있는 곳에서 프로그램이 멈추고 디버거 세션을 시작한다.\n",
    "> import pdb; pdb.set_trace()"
   ]
  },
  {
   "cell_type": "code",
   "execution_count": 23,
   "metadata": {},
   "outputs": [],
   "source": [
    "def calc():\n",
    "    flist = []\n",
    "    \n",
    "    for i in range(5):\n",
    "        \n",
    "        import pdb; pdb.set_trace()\n",
    "        \n",
    "        def mul(x):\n",
    "            return i * x\n",
    "        \n",
    "        flist.append(mul)\n",
    "\n",
    "    return flist"
   ]
  },
  {
   "cell_type": "markdown",
   "metadata": {},
   "source": [
    "| Command   |      Description      |\n",
    "|:----------|:---------------|\n",
    "| ? |  도움말을 보여준다 |\n",
    "| l | 소스 코드 보기 |\n",
    "| p | 출력하기 |\n",
    "| n | 다음 줄 진행 |\n",
    "| c | 다음 중단점을 만날 때까지 진행 |\n",
    "| r | 현재 함수의 return 지점까지 진행 |\n",
    "| q | 디버거를 종료한다 |"
   ]
  },
  {
   "cell_type": "code",
   "execution_count": 72,
   "metadata": {
    "scrolled": false
   },
   "outputs": [
    {
     "name": "stdout",
     "output_type": "stream",
     "text": [
      "> <ipython-input-70-2b2cfff47140>(8)calc()\n",
      "-> def mul(x):\n",
      "(Pdb) ?\n",
      "\n",
      "Documented commands (type help <topic>):\n",
      "========================================\n",
      "EOF    c          d        h         list      q        rv       undisplay\n",
      "a      cl         debug    help      ll        quit     s        unt      \n",
      "alias  clear      disable  ignore    longlist  r        source   until    \n",
      "args   commands   display  interact  n         restart  step     up       \n",
      "b      condition  down     j         next      return   tbreak   w        \n",
      "break  cont       enable   jump      p         retval   u        whatis   \n",
      "bt     continue   exit     l         pp        run      unalias  where    \n",
      "\n",
      "Miscellaneous help topics:\n",
      "==========================\n",
      "exec  pdb\n",
      "\n",
      "(Pdb) ? p\n",
      "p expression\n",
      "        Print the value of the expression.\n",
      "(Pdb) l\n",
      "  3  \t\n",
      "  4  \t    for i in range(5):\n",
      "  5  \t\n",
      "  6  \t        import pdb; pdb.set_trace()\n",
      "  7  \t\n",
      "  8  ->\t        def mul(x):\n",
      "  9  \t            return i * x\n",
      " 10  \t\n",
      " 11  \t        flist.append(mul)\n",
      " 12  \t\n",
      " 13  \t    return flist\n",
      "(Pdb) p i\n",
      "0\n",
      "(Pdb) print(i)\n",
      "0\n",
      "(Pdb) locals()\n",
      "{'flist': [], 'pdb': <module 'pdb' from 'c:\\\\python37\\\\lib\\\\pdb.py'>, 'i': 0}\n",
      "(Pdb) n\n",
      "> <ipython-input-70-2b2cfff47140>(11)calc()\n",
      "-> flist.append(mul)\n",
      "(Pdb) l\n",
      "  6  \t        import pdb; pdb.set_trace()\n",
      "  7  \t\n",
      "  8  \t        def mul(x):\n",
      "  9  \t            return i * x\n",
      " 10  \t\n",
      " 11  ->\t        flist.append(mul)\n",
      " 12  \t\n",
      " 13  \t    return flist\n",
      "[EOF]\n",
      "(Pdb) n\n",
      "> <ipython-input-70-2b2cfff47140>(4)calc()\n",
      "-> for i in range(5):\n",
      "(Pdb) l\n",
      "  1  \tdef calc():\n",
      "  2  \t    flist = []\n",
      "  3  \t\n",
      "  4  ->\t    for i in range(5):\n",
      "  5  \t\n",
      "  6  \t        import pdb; pdb.set_trace()\n",
      "  7  \t\n",
      "  8  \t        def mul(x):\n",
      "  9  \t            return i * x\n",
      " 10  \t\n",
      " 11  \t        flist.append(mul)\n",
      "(Pdb) n\n",
      "> <ipython-input-70-2b2cfff47140>(6)calc()\n",
      "-> import pdb; pdb.set_trace()\n",
      "(Pdb) l\n",
      "  1  \tdef calc():\n",
      "  2  \t    flist = []\n",
      "  3  \t\n",
      "  4  \t    for i in range(5):\n",
      "  5  \t\n",
      "  6  ->\t        import pdb; pdb.set_trace()\n",
      "  7  \t\n",
      "  8  \t        def mul(x):\n",
      "  9  \t            return i * x\n",
      " 10  \t\n",
      " 11  \t        flist.append(mul)\n",
      "(Pdb) p i\n",
      "1\n",
      "(Pdb) c\n",
      "> <ipython-input-70-2b2cfff47140>(8)calc()\n",
      "-> def mul(x):\n",
      "(Pdb) p i\n",
      "1\n",
      "(Pdb) c\n",
      "> <ipython-input-70-2b2cfff47140>(6)calc()\n",
      "-> import pdb; pdb.set_trace()\n",
      "(Pdb) p i\n",
      "2\n",
      "(Pdb) c\n",
      "> <ipython-input-70-2b2cfff47140>(8)calc()\n",
      "-> def mul(x):\n",
      "(Pdb) p i\n",
      "3\n",
      "(Pdb) r\n",
      "> <ipython-input-70-2b2cfff47140>(8)calc()\n",
      "-> def mul(x):\n",
      "(Pdb) q\n"
     ]
    },
    {
     "ename": "BdbQuit",
     "evalue": "",
     "output_type": "error",
     "traceback": [
      "\u001b[1;31m---------------------------------------------------------------------------\u001b[0m",
      "\u001b[1;31mBdbQuit\u001b[0m                                   Traceback (most recent call last)",
      "\u001b[1;32m<ipython-input-72-70bc461decd5>\u001b[0m in \u001b[0;36m<module>\u001b[1;34m\u001b[0m\n\u001b[1;32m----> 1\u001b[1;33m \u001b[0mflist\u001b[0m \u001b[1;33m=\u001b[0m \u001b[0mcalc\u001b[0m\u001b[1;33m(\u001b[0m\u001b[1;33m)\u001b[0m\u001b[1;33m\u001b[0m\u001b[1;33m\u001b[0m\u001b[0m\n\u001b[0m",
      "\u001b[1;32m<ipython-input-70-2b2cfff47140>\u001b[0m in \u001b[0;36mcalc\u001b[1;34m()\u001b[0m\n\u001b[0;32m      6\u001b[0m         \u001b[1;32mimport\u001b[0m \u001b[0mpdb\u001b[0m\u001b[1;33m;\u001b[0m \u001b[0mpdb\u001b[0m\u001b[1;33m.\u001b[0m\u001b[0mset_trace\u001b[0m\u001b[1;33m(\u001b[0m\u001b[1;33m)\u001b[0m\u001b[1;33m\u001b[0m\u001b[1;33m\u001b[0m\u001b[0m\n\u001b[0;32m      7\u001b[0m \u001b[1;33m\u001b[0m\u001b[0m\n\u001b[1;32m----> 8\u001b[1;33m         \u001b[1;32mdef\u001b[0m \u001b[0mmul\u001b[0m\u001b[1;33m(\u001b[0m\u001b[0mx\u001b[0m\u001b[1;33m)\u001b[0m\u001b[1;33m:\u001b[0m\u001b[1;33m\u001b[0m\u001b[1;33m\u001b[0m\u001b[0m\n\u001b[0m\u001b[0;32m      9\u001b[0m             \u001b[1;32mreturn\u001b[0m \u001b[0mi\u001b[0m \u001b[1;33m*\u001b[0m \u001b[0mx\u001b[0m\u001b[1;33m\u001b[0m\u001b[1;33m\u001b[0m\u001b[0m\n\u001b[0;32m     10\u001b[0m \u001b[1;33m\u001b[0m\u001b[0m\n",
      "\u001b[1;32m<ipython-input-70-2b2cfff47140>\u001b[0m in \u001b[0;36mcalc\u001b[1;34m()\u001b[0m\n\u001b[0;32m      6\u001b[0m         \u001b[1;32mimport\u001b[0m \u001b[0mpdb\u001b[0m\u001b[1;33m;\u001b[0m \u001b[0mpdb\u001b[0m\u001b[1;33m.\u001b[0m\u001b[0mset_trace\u001b[0m\u001b[1;33m(\u001b[0m\u001b[1;33m)\u001b[0m\u001b[1;33m\u001b[0m\u001b[1;33m\u001b[0m\u001b[0m\n\u001b[0;32m      7\u001b[0m \u001b[1;33m\u001b[0m\u001b[0m\n\u001b[1;32m----> 8\u001b[1;33m         \u001b[1;32mdef\u001b[0m \u001b[0mmul\u001b[0m\u001b[1;33m(\u001b[0m\u001b[0mx\u001b[0m\u001b[1;33m)\u001b[0m\u001b[1;33m:\u001b[0m\u001b[1;33m\u001b[0m\u001b[1;33m\u001b[0m\u001b[0m\n\u001b[0m\u001b[0;32m      9\u001b[0m             \u001b[1;32mreturn\u001b[0m \u001b[0mi\u001b[0m \u001b[1;33m*\u001b[0m \u001b[0mx\u001b[0m\u001b[1;33m\u001b[0m\u001b[1;33m\u001b[0m\u001b[0m\n\u001b[0;32m     10\u001b[0m \u001b[1;33m\u001b[0m\u001b[0m\n",
      "\u001b[1;32mc:\\python37\\lib\\bdb.py\u001b[0m in \u001b[0;36mtrace_dispatch\u001b[1;34m(self, frame, event, arg)\u001b[0m\n\u001b[0;32m     86\u001b[0m             \u001b[1;32mreturn\u001b[0m \u001b[1;31m# None\u001b[0m\u001b[1;33m\u001b[0m\u001b[1;33m\u001b[0m\u001b[0m\n\u001b[0;32m     87\u001b[0m         \u001b[1;32mif\u001b[0m \u001b[0mevent\u001b[0m \u001b[1;33m==\u001b[0m \u001b[1;34m'line'\u001b[0m\u001b[1;33m:\u001b[0m\u001b[1;33m\u001b[0m\u001b[1;33m\u001b[0m\u001b[0m\n\u001b[1;32m---> 88\u001b[1;33m             \u001b[1;32mreturn\u001b[0m \u001b[0mself\u001b[0m\u001b[1;33m.\u001b[0m\u001b[0mdispatch_line\u001b[0m\u001b[1;33m(\u001b[0m\u001b[0mframe\u001b[0m\u001b[1;33m)\u001b[0m\u001b[1;33m\u001b[0m\u001b[1;33m\u001b[0m\u001b[0m\n\u001b[0m\u001b[0;32m     89\u001b[0m         \u001b[1;32mif\u001b[0m \u001b[0mevent\u001b[0m \u001b[1;33m==\u001b[0m \u001b[1;34m'call'\u001b[0m\u001b[1;33m:\u001b[0m\u001b[1;33m\u001b[0m\u001b[1;33m\u001b[0m\u001b[0m\n\u001b[0;32m     90\u001b[0m             \u001b[1;32mreturn\u001b[0m \u001b[0mself\u001b[0m\u001b[1;33m.\u001b[0m\u001b[0mdispatch_call\u001b[0m\u001b[1;33m(\u001b[0m\u001b[0mframe\u001b[0m\u001b[1;33m,\u001b[0m \u001b[0marg\u001b[0m\u001b[1;33m)\u001b[0m\u001b[1;33m\u001b[0m\u001b[1;33m\u001b[0m\u001b[0m\n",
      "\u001b[1;32mc:\\python37\\lib\\bdb.py\u001b[0m in \u001b[0;36mdispatch_line\u001b[1;34m(self, frame)\u001b[0m\n\u001b[0;32m    111\u001b[0m         \u001b[1;32mif\u001b[0m \u001b[0mself\u001b[0m\u001b[1;33m.\u001b[0m\u001b[0mstop_here\u001b[0m\u001b[1;33m(\u001b[0m\u001b[0mframe\u001b[0m\u001b[1;33m)\u001b[0m \u001b[1;32mor\u001b[0m \u001b[0mself\u001b[0m\u001b[1;33m.\u001b[0m\u001b[0mbreak_here\u001b[0m\u001b[1;33m(\u001b[0m\u001b[0mframe\u001b[0m\u001b[1;33m)\u001b[0m\u001b[1;33m:\u001b[0m\u001b[1;33m\u001b[0m\u001b[1;33m\u001b[0m\u001b[0m\n\u001b[0;32m    112\u001b[0m             \u001b[0mself\u001b[0m\u001b[1;33m.\u001b[0m\u001b[0muser_line\u001b[0m\u001b[1;33m(\u001b[0m\u001b[0mframe\u001b[0m\u001b[1;33m)\u001b[0m\u001b[1;33m\u001b[0m\u001b[1;33m\u001b[0m\u001b[0m\n\u001b[1;32m--> 113\u001b[1;33m             \u001b[1;32mif\u001b[0m \u001b[0mself\u001b[0m\u001b[1;33m.\u001b[0m\u001b[0mquitting\u001b[0m\u001b[1;33m:\u001b[0m \u001b[1;32mraise\u001b[0m \u001b[0mBdbQuit\u001b[0m\u001b[1;33m\u001b[0m\u001b[1;33m\u001b[0m\u001b[0m\n\u001b[0m\u001b[0;32m    114\u001b[0m         \u001b[1;32mreturn\u001b[0m \u001b[0mself\u001b[0m\u001b[1;33m.\u001b[0m\u001b[0mtrace_dispatch\u001b[0m\u001b[1;33m\u001b[0m\u001b[1;33m\u001b[0m\u001b[0m\n\u001b[0;32m    115\u001b[0m \u001b[1;33m\u001b[0m\u001b[0m\n",
      "\u001b[1;31mBdbQuit\u001b[0m: "
     ]
    }
   ],
   "source": [
    "flist = calc()"
   ]
  },
  {
   "cell_type": "code",
   "execution_count": 73,
   "metadata": {},
   "outputs": [],
   "source": [
    "def calc():\n",
    "    flist = []\n",
    "    \n",
    "    for i in range(5):\n",
    "        \n",
    "        def mul(x):\n",
    "            import pdb; pdb.set_trace()\n",
    "            return i * x\n",
    "        \n",
    "        flist.append(mul)\n",
    "\n",
    "    return flist"
   ]
  },
  {
   "cell_type": "code",
   "execution_count": 74,
   "metadata": {},
   "outputs": [
    {
     "data": {
      "text/plain": [
       "[<function __main__.calc.<locals>.mul(x)>,\n",
       " <function __main__.calc.<locals>.mul(x)>,\n",
       " <function __main__.calc.<locals>.mul(x)>,\n",
       " <function __main__.calc.<locals>.mul(x)>,\n",
       " <function __main__.calc.<locals>.mul(x)>]"
      ]
     },
     "execution_count": 74,
     "metadata": {},
     "output_type": "execute_result"
    }
   ],
   "source": [
    "flist = calc()\n",
    "flist"
   ]
  },
  {
   "cell_type": "code",
   "execution_count": 75,
   "metadata": {},
   "outputs": [
    {
     "name": "stdout",
     "output_type": "stream",
     "text": [
      "> <ipython-input-73-636f4a6c8963>(8)mul()\n",
      "-> return i * x\n",
      "(Pdb) locals()\n",
      "{'x': 5, 'pdb': <module 'pdb' from 'c:\\\\python37\\\\lib\\\\pdb.py'>, 'i': 4}\n",
      "(Pdb) c\n"
     ]
    },
    {
     "data": {
      "text/plain": [
       "20"
      ]
     },
     "execution_count": 75,
     "metadata": {},
     "output_type": "execute_result"
    }
   ],
   "source": [
    "flist[0](5)"
   ]
  },
  {
   "cell_type": "code",
   "execution_count": 76,
   "metadata": {},
   "outputs": [
    {
     "name": "stdout",
     "output_type": "stream",
     "text": [
      "> <ipython-input-73-636f4a6c8963>(8)mul()\n",
      "-> return i * x\n",
      "(Pdb) locals()\n",
      "{'x': 5, 'pdb': <module 'pdb' from 'c:\\\\python37\\\\lib\\\\pdb.py'>, 'i': 4}\n",
      "(Pdb) c\n"
     ]
    },
    {
     "data": {
      "text/plain": [
       "20"
      ]
     },
     "execution_count": 76,
     "metadata": {},
     "output_type": "execute_result"
    }
   ],
   "source": [
    "flist[1](5)"
   ]
  },
  {
   "cell_type": "code",
   "execution_count": 77,
   "metadata": {},
   "outputs": [
    {
     "name": "stdout",
     "output_type": "stream",
     "text": [
      "> <ipython-input-73-636f4a6c8963>(8)mul()\n",
      "-> return i * x\n",
      "(Pdb) locals()\n",
      "{'x': 5, 'pdb': <module 'pdb' from 'c:\\\\python37\\\\lib\\\\pdb.py'>, 'i': 4}\n",
      "(Pdb) c\n"
     ]
    },
    {
     "data": {
      "text/plain": [
       "20"
      ]
     },
     "execution_count": 77,
     "metadata": {},
     "output_type": "execute_result"
    }
   ],
   "source": [
    "flist[3](5)"
   ]
  },
  {
   "cell_type": "markdown",
   "metadata": {},
   "source": [
    "### Solution"
   ]
  },
  {
   "cell_type": "code",
   "execution_count": 79,
   "metadata": {},
   "outputs": [],
   "source": [
    "def calc():\n",
    "    flist = []\n",
    "    \n",
    "    for i in range(5):\n",
    "        \n",
    "        def mul(x, i=i):\n",
    "            import pdb; pdb.set_trace()\n",
    "            return i * x\n",
    "        \n",
    "        flist.append(mul)\n",
    "\n",
    "    return flist"
   ]
  },
  {
   "cell_type": "code",
   "execution_count": 80,
   "metadata": {},
   "outputs": [
    {
     "name": "stdout",
     "output_type": "stream",
     "text": [
      "> <ipython-input-79-f7d736dbb34c>(8)mul()\n",
      "-> return i * x\n",
      "(Pdb) p i\n",
      "1\n",
      "(Pdb) c\n"
     ]
    },
    {
     "data": {
      "text/plain": [
       "5"
      ]
     },
     "execution_count": 80,
     "metadata": {},
     "output_type": "execute_result"
    }
   ],
   "source": [
    "calc()[1](5)"
   ]
  },
  {
   "cell_type": "code",
   "execution_count": 81,
   "metadata": {},
   "outputs": [
    {
     "name": "stdout",
     "output_type": "stream",
     "text": [
      "> <ipython-input-79-f7d736dbb34c>(8)mul()\n",
      "-> return i * x\n",
      "(Pdb) p i\n",
      "2\n",
      "(Pdb) c\n"
     ]
    },
    {
     "data": {
      "text/plain": [
       "10"
      ]
     },
     "execution_count": 81,
     "metadata": {},
     "output_type": "execute_result"
    }
   ],
   "source": [
    "calc()[2](5)"
   ]
  },
  {
   "cell_type": "markdown",
   "metadata": {},
   "source": [
    "| Command   |      Description      |\n",
    "|:----------|:---------------|\n",
    "| s |  현재 줄을 실행하되 함수 등이 있다면 함수 내부 코드로 진입 |\n",
    "| w | 스택 프레임을 출력 |\n",
    "| u | 스택 프레임을 하나 위로 올라간다 |\n",
    "| d | 스택 프레임을 하나 내려간다 |"
   ]
  },
  {
   "cell_type": "code",
   "execution_count": 85,
   "metadata": {},
   "outputs": [],
   "source": [
    "def calc():\n",
    "    flist = []\n",
    "    \n",
    "    for i in range(5):\n",
    "        \n",
    "        import pdb; pdb.set_trace()\n",
    "        \n",
    "        def mul(x):\n",
    "            return i * x\n",
    "        \n",
    "        flist.append(mul)\n",
    "\n",
    "    return flist"
   ]
  },
  {
   "cell_type": "code",
   "execution_count": 86,
   "metadata": {
    "scrolled": false
   },
   "outputs": [
    {
     "name": "stdout",
     "output_type": "stream",
     "text": [
      "> <ipython-input-85-2b2cfff47140>(8)calc()\n",
      "-> def mul(x):\n",
      "(Pdb) n\n",
      "> <ipython-input-85-2b2cfff47140>(11)calc()\n",
      "-> flist.append(mul)\n",
      "(Pdb) n\n",
      "> <ipython-input-85-2b2cfff47140>(4)calc()\n",
      "-> for i in range(5):\n",
      "(Pdb) \n",
      "> <ipython-input-85-2b2cfff47140>(6)calc()\n",
      "-> import pdb; pdb.set_trace()\n",
      "(Pdb) \n",
      "> <ipython-input-85-2b2cfff47140>(8)calc()\n",
      "-> def mul(x):\n",
      "(Pdb) s\n",
      "> <ipython-input-85-2b2cfff47140>(11)calc()\n",
      "-> flist.append(mul)\n",
      "(Pdb) s\n",
      "> <ipython-input-85-2b2cfff47140>(4)calc()\n",
      "-> for i in range(5):\n",
      "(Pdb) s\n",
      "> <ipython-input-85-2b2cfff47140>(6)calc()\n",
      "-> import pdb; pdb.set_trace()\n",
      "(Pdb) s\n",
      "--Call--\n",
      "> c:\\python37\\lib\\pdb.py(1602)set_trace()\n",
      "-> def set_trace(*, header=None):\n",
      "(Pdb) s\n",
      "> c:\\python37\\lib\\pdb.py(1603)set_trace()\n",
      "-> pdb = Pdb()\n",
      "(Pdb) w\n",
      "  c:\\python37\\lib\\runpy.py(193)_run_module_as_main()\n",
      "-> \"__main__\", mod_spec)\n",
      "  c:\\python37\\lib\\runpy.py(85)_run_code()\n",
      "-> exec(code, run_globals)\n",
      "  c:\\python37\\lib\\site-packages\\ipykernel_launcher.py(16)<module>()\n",
      "-> app.launch_new_instance()\n",
      "  c:\\python37\\lib\\site-packages\\traitlets\\config\\application.py(658)launch_instance()\n",
      "-> app.start()\n",
      "  c:\\python37\\lib\\site-packages\\ipykernel\\kernelapp.py(505)start()\n",
      "-> self.io_loop.start()\n",
      "  c:\\python37\\lib\\site-packages\\tornado\\platform\\asyncio.py(132)start()\n",
      "-> self.asyncio_loop.run_forever()\n",
      "  c:\\python37\\lib\\asyncio\\base_events.py(539)run_forever()\n",
      "-> self._run_once()\n",
      "  c:\\python37\\lib\\asyncio\\base_events.py(1775)_run_once()\n",
      "-> handle._run()\n",
      "  c:\\python37\\lib\\asyncio\\events.py(88)_run()\n",
      "-> self._context.run(self._callback, *self._args)\n",
      "  c:\\python37\\lib\\site-packages\\tornado\\ioloop.py(758)_run_callback()\n",
      "-> ret = callback()\n",
      "  c:\\python37\\lib\\site-packages\\tornado\\stack_context.py(300)null_wrapper()\n",
      "-> return fn(*args, **kwargs)\n",
      "  c:\\python37\\lib\\site-packages\\tornado\\gen.py(1233)inner()\n",
      "-> self.run()\n",
      "  c:\\python37\\lib\\site-packages\\tornado\\gen.py(1147)run()\n",
      "-> yielded = self.gen.send(value)\n",
      "  c:\\python37\\lib\\site-packages\\ipykernel\\kernelbase.py(357)process_one()\n",
      "-> yield gen.maybe_future(dispatch(*args))\n",
      "  c:\\python37\\lib\\site-packages\\tornado\\gen.py(326)wrapper()\n",
      "-> yielded = next(result)\n",
      "  c:\\python37\\lib\\site-packages\\ipykernel\\kernelbase.py(267)dispatch_shell()\n",
      "-> yield gen.maybe_future(handler(stream, idents, msg))\n",
      "  c:\\python37\\lib\\site-packages\\tornado\\gen.py(326)wrapper()\n",
      "-> yielded = next(result)\n",
      "  c:\\python37\\lib\\site-packages\\ipykernel\\kernelbase.py(534)execute_request()\n",
      "-> user_expressions, allow_stdin,\n",
      "  c:\\python37\\lib\\site-packages\\tornado\\gen.py(326)wrapper()\n",
      "-> yielded = next(result)\n",
      "  c:\\python37\\lib\\site-packages\\ipykernel\\ipkernel.py(294)do_execute()\n",
      "-> res = shell.run_cell(code, store_history=store_history, silent=silent)\n",
      "  c:\\python37\\lib\\site-packages\\ipykernel\\zmqshell.py(536)run_cell()\n",
      "-> return super(ZMQInteractiveShell, self).run_cell(*args, **kwargs)\n",
      "  c:\\python37\\lib\\site-packages\\ipython\\core\\interactiveshell.py(2819)run_cell()\n",
      "-> raw_cell, store_history, silent, shell_futures)\n",
      "  c:\\python37\\lib\\site-packages\\ipython\\core\\interactiveshell.py(2845)_run_cell()\n",
      "-> return runner(coro)\n",
      "  c:\\python37\\lib\\site-packages\\ipython\\core\\async_helpers.py(67)_pseudo_sync_runner()\n",
      "-> coro.send(None)\n",
      "  c:\\python37\\lib\\site-packages\\ipython\\core\\interactiveshell.py(3020)run_cell_async()\n",
      "-> interactivity=interactivity, compiler=compiler, result=result)\n",
      "  c:\\python37\\lib\\site-packages\\ipython\\core\\interactiveshell.py(3191)run_ast_nodes()\n",
      "-> if (yield from self.run_code(code, result)):\n",
      "  c:\\python37\\lib\\site-packages\\ipython\\core\\interactiveshell.py(3267)run_code()\n",
      "-> exec(code_obj, self.user_global_ns, self.user_ns)\n",
      "  <ipython-input-86-e58fe814548b>(1)<module>()\n",
      "-> calc()\n",
      "  <ipython-input-85-2b2cfff47140>(6)calc()\n",
      "-> import pdb; pdb.set_trace()\n",
      "> c:\\python37\\lib\\pdb.py(1603)set_trace()\n",
      "-> pdb = Pdb()\n",
      "(Pdb) u\n",
      "> <ipython-input-85-2b2cfff47140>(6)calc()\n",
      "-> import pdb; pdb.set_trace()\n",
      "(Pdb) l\n",
      "  1  \tdef calc():\n",
      "  2  \t    flist = []\n",
      "  3  \t\n",
      "  4  \t    for i in range(5):\n",
      "  5  \t\n",
      "  6  ->\t        import pdb; pdb.set_trace()\n",
      "  7  \t\n",
      "  8  \t        def mul(x):\n",
      "  9  \t            return i * x\n",
      " 10  \t\n",
      " 11  \t        flist.append(mul)\n",
      "(Pdb) q\n"
     ]
    },
    {
     "ename": "BdbQuit",
     "evalue": "",
     "output_type": "error",
     "traceback": [
      "\u001b[1;31m---------------------------------------------------------------------------\u001b[0m",
      "\u001b[1;31mBdbQuit\u001b[0m                                   Traceback (most recent call last)",
      "\u001b[1;32m<ipython-input-86-e58fe814548b>\u001b[0m in \u001b[0;36m<module>\u001b[1;34m\u001b[0m\n\u001b[1;32m----> 1\u001b[1;33m \u001b[0mcalc\u001b[0m\u001b[1;33m(\u001b[0m\u001b[1;33m)\u001b[0m\u001b[1;33m\u001b[0m\u001b[1;33m\u001b[0m\u001b[0m\n\u001b[0m",
      "\u001b[1;32m<ipython-input-85-2b2cfff47140>\u001b[0m in \u001b[0;36mcalc\u001b[1;34m()\u001b[0m\n\u001b[0;32m      4\u001b[0m     \u001b[1;32mfor\u001b[0m \u001b[0mi\u001b[0m \u001b[1;32min\u001b[0m \u001b[0mrange\u001b[0m\u001b[1;33m(\u001b[0m\u001b[1;36m5\u001b[0m\u001b[1;33m)\u001b[0m\u001b[1;33m:\u001b[0m\u001b[1;33m\u001b[0m\u001b[1;33m\u001b[0m\u001b[0m\n\u001b[0;32m      5\u001b[0m \u001b[1;33m\u001b[0m\u001b[0m\n\u001b[1;32m----> 6\u001b[1;33m         \u001b[1;32mimport\u001b[0m \u001b[0mpdb\u001b[0m\u001b[1;33m;\u001b[0m \u001b[0mpdb\u001b[0m\u001b[1;33m.\u001b[0m\u001b[0mset_trace\u001b[0m\u001b[1;33m(\u001b[0m\u001b[1;33m)\u001b[0m\u001b[1;33m\u001b[0m\u001b[1;33m\u001b[0m\u001b[0m\n\u001b[0m\u001b[0;32m      7\u001b[0m \u001b[1;33m\u001b[0m\u001b[0m\n\u001b[0;32m      8\u001b[0m         \u001b[1;32mdef\u001b[0m \u001b[0mmul\u001b[0m\u001b[1;33m(\u001b[0m\u001b[0mx\u001b[0m\u001b[1;33m)\u001b[0m\u001b[1;33m:\u001b[0m\u001b[1;33m\u001b[0m\u001b[1;33m\u001b[0m\u001b[0m\n",
      "\u001b[1;32mc:\\python37\\lib\\pdb.py\u001b[0m in \u001b[0;36mset_trace\u001b[1;34m(header)\u001b[0m\n\u001b[0;32m   1601\u001b[0m \u001b[1;33m\u001b[0m\u001b[0m\n\u001b[0;32m   1602\u001b[0m \u001b[1;32mdef\u001b[0m \u001b[0mset_trace\u001b[0m\u001b[1;33m(\u001b[0m\u001b[1;33m*\u001b[0m\u001b[1;33m,\u001b[0m \u001b[0mheader\u001b[0m\u001b[1;33m=\u001b[0m\u001b[1;32mNone\u001b[0m\u001b[1;33m)\u001b[0m\u001b[1;33m:\u001b[0m\u001b[1;33m\u001b[0m\u001b[1;33m\u001b[0m\u001b[0m\n\u001b[1;32m-> 1603\u001b[1;33m     \u001b[0mpdb\u001b[0m \u001b[1;33m=\u001b[0m \u001b[0mPdb\u001b[0m\u001b[1;33m(\u001b[0m\u001b[1;33m)\u001b[0m\u001b[1;33m\u001b[0m\u001b[1;33m\u001b[0m\u001b[0m\n\u001b[0m\u001b[0;32m   1604\u001b[0m     \u001b[1;32mif\u001b[0m \u001b[0mheader\u001b[0m \u001b[1;32mis\u001b[0m \u001b[1;32mnot\u001b[0m \u001b[1;32mNone\u001b[0m\u001b[1;33m:\u001b[0m\u001b[1;33m\u001b[0m\u001b[1;33m\u001b[0m\u001b[0m\n\u001b[0;32m   1605\u001b[0m         \u001b[0mpdb\u001b[0m\u001b[1;33m.\u001b[0m\u001b[0mmessage\u001b[0m\u001b[1;33m(\u001b[0m\u001b[0mheader\u001b[0m\u001b[1;33m)\u001b[0m\u001b[1;33m\u001b[0m\u001b[1;33m\u001b[0m\u001b[0m\n",
      "\u001b[1;32mc:\\python37\\lib\\pdb.py\u001b[0m in \u001b[0;36mset_trace\u001b[1;34m(header)\u001b[0m\n\u001b[0;32m   1601\u001b[0m \u001b[1;33m\u001b[0m\u001b[0m\n\u001b[0;32m   1602\u001b[0m \u001b[1;32mdef\u001b[0m \u001b[0mset_trace\u001b[0m\u001b[1;33m(\u001b[0m\u001b[1;33m*\u001b[0m\u001b[1;33m,\u001b[0m \u001b[0mheader\u001b[0m\u001b[1;33m=\u001b[0m\u001b[1;32mNone\u001b[0m\u001b[1;33m)\u001b[0m\u001b[1;33m:\u001b[0m\u001b[1;33m\u001b[0m\u001b[1;33m\u001b[0m\u001b[0m\n\u001b[1;32m-> 1603\u001b[1;33m     \u001b[0mpdb\u001b[0m \u001b[1;33m=\u001b[0m \u001b[0mPdb\u001b[0m\u001b[1;33m(\u001b[0m\u001b[1;33m)\u001b[0m\u001b[1;33m\u001b[0m\u001b[1;33m\u001b[0m\u001b[0m\n\u001b[0m\u001b[0;32m   1604\u001b[0m     \u001b[1;32mif\u001b[0m \u001b[0mheader\u001b[0m \u001b[1;32mis\u001b[0m \u001b[1;32mnot\u001b[0m \u001b[1;32mNone\u001b[0m\u001b[1;33m:\u001b[0m\u001b[1;33m\u001b[0m\u001b[1;33m\u001b[0m\u001b[0m\n\u001b[0;32m   1605\u001b[0m         \u001b[0mpdb\u001b[0m\u001b[1;33m.\u001b[0m\u001b[0mmessage\u001b[0m\u001b[1;33m(\u001b[0m\u001b[0mheader\u001b[0m\u001b[1;33m)\u001b[0m\u001b[1;33m\u001b[0m\u001b[1;33m\u001b[0m\u001b[0m\n",
      "\u001b[1;32mc:\\python37\\lib\\bdb.py\u001b[0m in \u001b[0;36mtrace_dispatch\u001b[1;34m(self, frame, event, arg)\u001b[0m\n\u001b[0;32m     86\u001b[0m             \u001b[1;32mreturn\u001b[0m \u001b[1;31m# None\u001b[0m\u001b[1;33m\u001b[0m\u001b[1;33m\u001b[0m\u001b[0m\n\u001b[0;32m     87\u001b[0m         \u001b[1;32mif\u001b[0m \u001b[0mevent\u001b[0m \u001b[1;33m==\u001b[0m \u001b[1;34m'line'\u001b[0m\u001b[1;33m:\u001b[0m\u001b[1;33m\u001b[0m\u001b[1;33m\u001b[0m\u001b[0m\n\u001b[1;32m---> 88\u001b[1;33m             \u001b[1;32mreturn\u001b[0m \u001b[0mself\u001b[0m\u001b[1;33m.\u001b[0m\u001b[0mdispatch_line\u001b[0m\u001b[1;33m(\u001b[0m\u001b[0mframe\u001b[0m\u001b[1;33m)\u001b[0m\u001b[1;33m\u001b[0m\u001b[1;33m\u001b[0m\u001b[0m\n\u001b[0m\u001b[0;32m     89\u001b[0m         \u001b[1;32mif\u001b[0m \u001b[0mevent\u001b[0m \u001b[1;33m==\u001b[0m \u001b[1;34m'call'\u001b[0m\u001b[1;33m:\u001b[0m\u001b[1;33m\u001b[0m\u001b[1;33m\u001b[0m\u001b[0m\n\u001b[0;32m     90\u001b[0m             \u001b[1;32mreturn\u001b[0m \u001b[0mself\u001b[0m\u001b[1;33m.\u001b[0m\u001b[0mdispatch_call\u001b[0m\u001b[1;33m(\u001b[0m\u001b[0mframe\u001b[0m\u001b[1;33m,\u001b[0m \u001b[0marg\u001b[0m\u001b[1;33m)\u001b[0m\u001b[1;33m\u001b[0m\u001b[1;33m\u001b[0m\u001b[0m\n",
      "\u001b[1;32mc:\\python37\\lib\\bdb.py\u001b[0m in \u001b[0;36mdispatch_line\u001b[1;34m(self, frame)\u001b[0m\n\u001b[0;32m    111\u001b[0m         \u001b[1;32mif\u001b[0m \u001b[0mself\u001b[0m\u001b[1;33m.\u001b[0m\u001b[0mstop_here\u001b[0m\u001b[1;33m(\u001b[0m\u001b[0mframe\u001b[0m\u001b[1;33m)\u001b[0m \u001b[1;32mor\u001b[0m \u001b[0mself\u001b[0m\u001b[1;33m.\u001b[0m\u001b[0mbreak_here\u001b[0m\u001b[1;33m(\u001b[0m\u001b[0mframe\u001b[0m\u001b[1;33m)\u001b[0m\u001b[1;33m:\u001b[0m\u001b[1;33m\u001b[0m\u001b[1;33m\u001b[0m\u001b[0m\n\u001b[0;32m    112\u001b[0m             \u001b[0mself\u001b[0m\u001b[1;33m.\u001b[0m\u001b[0muser_line\u001b[0m\u001b[1;33m(\u001b[0m\u001b[0mframe\u001b[0m\u001b[1;33m)\u001b[0m\u001b[1;33m\u001b[0m\u001b[1;33m\u001b[0m\u001b[0m\n\u001b[1;32m--> 113\u001b[1;33m             \u001b[1;32mif\u001b[0m \u001b[0mself\u001b[0m\u001b[1;33m.\u001b[0m\u001b[0mquitting\u001b[0m\u001b[1;33m:\u001b[0m \u001b[1;32mraise\u001b[0m \u001b[0mBdbQuit\u001b[0m\u001b[1;33m\u001b[0m\u001b[1;33m\u001b[0m\u001b[0m\n\u001b[0m\u001b[0;32m    114\u001b[0m         \u001b[1;32mreturn\u001b[0m \u001b[0mself\u001b[0m\u001b[1;33m.\u001b[0m\u001b[0mtrace_dispatch\u001b[0m\u001b[1;33m\u001b[0m\u001b[1;33m\u001b[0m\u001b[0m\n\u001b[0;32m    115\u001b[0m \u001b[1;33m\u001b[0m\u001b[0m\n",
      "\u001b[1;31mBdbQuit\u001b[0m: "
     ]
    }
   ],
   "source": [
    "calc()"
   ]
  },
  {
   "cell_type": "markdown",
   "metadata": {},
   "source": [
    "### Post-mortem\n",
    "- 인터렉티브 모드에서는 중단점을 설정하지 않은 상태에서 예외가 발생했더라도 바로 디버깅 모드로 전환이 가능하다."
   ]
  },
  {
   "cell_type": "code",
   "execution_count": 39,
   "metadata": {},
   "outputs": [],
   "source": [
    "def division(a, b):\n",
    "    return a / b"
   ]
  },
  {
   "cell_type": "code",
   "execution_count": 40,
   "metadata": {},
   "outputs": [
    {
     "ename": "ZeroDivisionError",
     "evalue": "division by zero",
     "output_type": "error",
     "traceback": [
      "\u001b[1;31m---------------------------------------------------------------------------\u001b[0m",
      "\u001b[1;31mZeroDivisionError\u001b[0m                         Traceback (most recent call last)",
      "\u001b[1;32m<ipython-input-40-5d159b329e26>\u001b[0m in \u001b[0;36m<module>\u001b[1;34m\u001b[0m\n\u001b[1;32m----> 1\u001b[1;33m \u001b[0mdivision\u001b[0m\u001b[1;33m(\u001b[0m\u001b[1;36m5\u001b[0m\u001b[1;33m,\u001b[0m \u001b[1;36m0\u001b[0m\u001b[1;33m)\u001b[0m\u001b[1;33m\u001b[0m\u001b[1;33m\u001b[0m\u001b[0m\n\u001b[0m",
      "\u001b[1;32m<ipython-input-39-d012b66df33b>\u001b[0m in \u001b[0;36mdivision\u001b[1;34m(a, b)\u001b[0m\n\u001b[0;32m      1\u001b[0m \u001b[1;32mdef\u001b[0m \u001b[0mdivision\u001b[0m\u001b[1;33m(\u001b[0m\u001b[0ma\u001b[0m\u001b[1;33m,\u001b[0m \u001b[0mb\u001b[0m\u001b[1;33m)\u001b[0m\u001b[1;33m:\u001b[0m\u001b[1;33m\u001b[0m\u001b[1;33m\u001b[0m\u001b[0m\n\u001b[1;32m----> 2\u001b[1;33m     \u001b[1;32mreturn\u001b[0m \u001b[0ma\u001b[0m \u001b[1;33m/\u001b[0m \u001b[0mb\u001b[0m\u001b[1;33m\u001b[0m\u001b[1;33m\u001b[0m\u001b[0m\n\u001b[0m",
      "\u001b[1;31mZeroDivisionError\u001b[0m: division by zero"
     ]
    }
   ],
   "source": [
    "division(5, 0)"
   ]
  },
  {
   "cell_type": "code",
   "execution_count": 41,
   "metadata": {},
   "outputs": [
    {
     "name": "stdout",
     "output_type": "stream",
     "text": [
      "> <ipython-input-39-d012b66df33b>(2)division()\n",
      "-> return a / b\n",
      "(Pdb) a, b\n",
      "a = 5\n",
      "b = 0\n",
      "(Pdb) n\n"
     ]
    }
   ],
   "source": [
    "import pdb\n",
    "pdb.pm()"
   ]
  },
  {
   "cell_type": "markdown",
   "metadata": {},
   "source": [
    "### Variable Inspector"
   ]
  },
  {
   "cell_type": "code",
   "execution_count": 36,
   "metadata": {},
   "outputs": [],
   "source": [
    "i = 0"
   ]
  },
  {
   "cell_type": "code",
   "execution_count": 37,
   "metadata": {},
   "outputs": [],
   "source": [
    "for x in range(10):\n",
    "    i += x"
   ]
  }
 ],
 "metadata": {
  "kernelspec": {
   "display_name": "Python 3",
   "language": "python",
   "name": "python3"
  },
  "language_info": {
   "codemirror_mode": {
    "name": "ipython",
    "version": 3
   },
   "file_extension": ".py",
   "mimetype": "text/x-python",
   "name": "python",
   "nbconvert_exporter": "python",
   "pygments_lexer": "ipython3",
   "version": "3.6.7"
  },
  "varInspector": {
   "cols": {
    "lenName": 16,
    "lenType": 16,
    "lenVar": "50"
   },
   "kernels_config": {
    "python": {
     "delete_cmd_postfix": "",
     "delete_cmd_prefix": "del ",
     "library": "var_list.py",
     "varRefreshCmd": "print(var_dic_list())"
    },
    "r": {
     "delete_cmd_postfix": ") ",
     "delete_cmd_prefix": "rm(",
     "library": "var_list.r",
     "varRefreshCmd": "cat(var_dic_list()) "
    }
   },
   "position": {
    "height": "193.054px",
    "left": "1407.28px",
    "right": "20px",
    "top": "132.98px",
    "width": "301.179px"
   },
   "types_to_exclude": [
    "module",
    "function",
    "builtin_function_or_method",
    "instance",
    "_Feature"
   ],
   "window_display": false
  }
 },
 "nbformat": 4,
 "nbformat_minor": 2
}
