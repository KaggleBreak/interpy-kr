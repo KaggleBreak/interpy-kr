{
 "cells": [
  {
   "cell_type": "markdown",
   "metadata": {},
   "source": [
    "# python profiling\n",
    "\n",
    "- 파이썬은 동적 특성 때문에 느릴 거라고 생각한 함수가 굉장히 빠를 수도 있고 당연히 빠를 거라고 생각한 동작들이 속도가 느릴 수 있음\n",
    "- 가장 좋은 방법은 최적화하기 전에 직관을 무시하고 직접 프로그램의 성능을 측정해보는 것\n",
    "- 파이썬은 프로그램의 어느 부분이 실행 시간을 소비하는지 파악할 수 있도록 내장 프로파일러(profiler)를 제공\n",
    "- 프로파일러를 이용하면 문제의 가장 큰 원인에 최적화 노력을 최대한 집중할 수 있고, 속도에 영향을 주지 않는 부분은 무시할 수 있음\n",
    "\n",
    "## profiler 종류\n",
    "- profile: 순수 파이썬 내장 프로파일러(잘 사용x)\n",
    "- cProfile: C 확장 모듈 프로파일러\n",
    "- timeit: 시간 체크만 간단하게 하고 싶을 때 사용\n",
    "- line_profiler: line by line으로 성능 체크 가능"
   ]
  },
  {
   "cell_type": "markdown",
   "metadata": {},
   "source": [
    "- 예를 들어 프로그램의 알고리즘이 느린 이유를 알고 싶다고 가정. 다음은 삽입 정렬로 데이터 리스트를 정렬하는 함수"
   ]
  },
  {
   "cell_type": "code",
   "execution_count": 29,
   "metadata": {},
   "outputs": [],
   "source": [
    "def insertion_sort(data):\n",
    "    result = []\n",
    "    for value in data: \n",
    "        insert_value(result, value) \n",
    "    return result\n",
    "\n",
    "# 삽입 정렬의 핵심메커니즘은 각 데이터의 삽입 지점을 찾는 함수\n",
    "# 아래는 극히 비효율적인 insert_value 함수로 입력 배열을 순차적으로 스캔 \n",
    "\n",
    "def insert_value(array, value): \n",
    "    for i, existing in enumerate(array): \n",
    "        if existing > value: \n",
    "            array.insert(i, value) \n",
    "            return \n",
    "    array.append(value) \n",
    "\n",
    "# insertion_sort와 insert_value를 프로파일하려고 난수로 구성된 데이터 집합을 생성하고, 프로파일러에 넘길 test 함수를 정의 \n",
    "\n",
    "from random import randint \n",
    "\n",
    "max_size = 10 ** 4 \n",
    "data = [randint(0, max_size) for _ in range(max_size)] \n",
    "test = lambda: insertion_sort(data)"
   ]
  },
  {
   "cell_type": "markdown",
   "metadata": {},
   "source": [
    "# profile & cProfile\n",
    "- 보통 cProfile 사용. 순수 내장 프로파일러는 성능 체크 결과를 왜곡시킬 만큼 부하가 많다고 함\n",
    "- 테스트 함수의 실행이 끝나면 내장 모듈 pstats와 Stats 클래스로 함수의 성능 통계를 뽑을 수 있음.\n",
    "- Stats 객체의 다양한 메서드를 이용하면 프로파일 정보를 선택하고 정렬하는 방법을 조절해서 관심 있는 정보만 볼 수 있음"
   ]
  },
  {
   "cell_type": "code",
   "execution_count": 18,
   "metadata": {},
   "outputs": [
    {
     "name": "stdout",
     "output_type": "stream",
     "text": [
      "         4 function calls in 0.000 seconds\n",
      "\n",
      "   Ordered by: standard name\n",
      "\n",
      "   ncalls  tottime  percall  cumtime  percall filename:lineno(function)\n",
      "        1    0.000    0.000    0.000    0.000 <ipython-input-18-228deb4ab093>:2(f)\n",
      "        1    0.000    0.000    0.000    0.000 <string>:1(<module>)\n",
      "        1    0.000    0.000    0.000    0.000 {built-in method builtins.exec}\n",
      "        1    0.000    0.000    0.000    0.000 {method 'disable' of '_lsprof.Profiler' objects}\n",
      "\n",
      "\n"
     ]
    }
   ],
   "source": [
    "import cProfile\n",
    "def f(x):\n",
    "    for _ in range(1000):\n",
    "        x += 1\n",
    "    return x\n",
    "cProfile.run('f(12)')\n",
    "\n",
    "# ????????? 가장 간단한 활용 사례라고 하는데 시간이 항상 0으로 나옴"
   ]
  },
  {
   "cell_type": "code",
   "execution_count": 32,
   "metadata": {},
   "outputs": [
    {
     "name": "stdout",
     "output_type": "stream",
     "text": [
      "         20003 function calls in 1.653 seconds\n",
      "\n",
      "   Ordered by: cumulative time\n",
      "\n",
      "   ncalls  tottime  percall  cumtime  percall filename:lineno(function)\n",
      "        1    0.000    0.000    1.653    1.653 <ipython-input-31-2a588cbf71de>:23(<lambda>)\n",
      "        1    0.006    0.006    1.653    1.653 <ipython-input-31-2a588cbf71de>:1(insertion_sort)\n",
      "    10000    1.630    0.000    1.648    0.000 <ipython-input-31-2a588cbf71de>:10(insert_value)\n",
      "     9991    0.018    0.000    0.018    0.000 {method 'insert' of 'list' objects}\n",
      "        9    0.000    0.000    0.000    0.000 {method 'append' of 'list' objects}\n",
      "        1    0.000    0.000    0.000    0.000 {method 'disable' of '_lsprof.Profiler' objects}\n",
      "\n",
      "\n"
     ]
    },
    {
     "data": {
      "text/plain": [
       "<pstats.Stats at 0x7f5fac430a90>"
      ]
     },
     "execution_count": 32,
     "metadata": {},
     "output_type": "execute_result"
    }
   ],
   "source": [
    "from cProfile import Profile\n",
    "from pstats import Stats \n",
    "\n",
    "profiler = Profile()\n",
    "profiler.runcall(test)\n",
    "\n",
    "stats = Stats(profiler)\n",
    "stats.strip_dirs()\n",
    "stats.sort_stats('cumulative')\n",
    "stats.print_stats()"
   ]
  },
  {
   "cell_type": "markdown",
   "metadata": {},
   "source": [
    "- 결과는 함수로 구성된 정보의 테이블. 데이터 샘플은 runcall 메서드가 실행되는 동안 프로파일러가 활성화되어 있을 때만 얻어옴\n",
    "- 프로파일러 통계 컬럼의 의미\n",
    "    - ncalls: 프로파일링 주기 동안 함수 호출 횟수\n",
    "    - tottime: 함수가 실행되는 동안 소비한 초 단위의 시간으로, 다른 함수 호출을 실행하는 데 걸린 시간은 배제\n",
    "    - percall : sub function을 제외한 1회 실행시간\n",
    "    - tottime percall: 함수를 호출하는 데 걸린 평균 시간이며 초 단위. 다른 함수의 호출 시간은 배제. tottime을 ncalls로 나눈 값\n",
    "    - cumtime: 함수를 실행하는 데 걸린 초 단위 누적 시간이며, 다른 함수를 호출하는 데 걸린 시간도 포함\n",
    "    - cutime percall: 함수를 호출할 때마다 걸린 시간에 대한 초 단위 편균 시간이며, 다른 함수를 호출하는 데 걸린 시간도 포함. cumtime을 ncalls로 나눈 값\n",
    "- 더 자세한 설명: [공식 홈페이지](https://docs.python.org/2/library/profile.html])"
   ]
  },
  {
   "cell_type": "markdown",
   "metadata": {},
   "source": [
    "- 앞의 프로파일러 통계 테이블을 보면 테스트에서 CPU를 가장 많이 사용하는 부분은 insert_value 함수에서 소비한 누적 시간\n",
    "- 이번에는 내장 모듈 bisect를 사용하도록 insert_value 함수를 재정의합"
   ]
  },
  {
   "cell_type": "code",
   "execution_count": 4,
   "metadata": {},
   "outputs": [
    {
     "name": "stdout",
     "output_type": "stream",
     "text": [
      "         30003 function calls in 0.048 seconds\n",
      "\n",
      "   Ordered by: cumulative time\n",
      "\n",
      "   ncalls  tottime  percall  cumtime  percall filename:lineno(function)\n",
      "        1    0.000    0.000    0.048    0.048 <ipython-input-1-5af51e4b3ebc>:23(<lambda>)\n",
      "        1    0.009    0.009    0.048    0.048 <ipython-input-1-5af51e4b3ebc>:1(insertion_sort)\n",
      "    10000    0.015    0.000    0.039    0.000 <ipython-input-4-2a62c4d454b7>:3(insert_value)\n",
      "    10000    0.015    0.000    0.015    0.000 {method 'insert' of 'list' objects}\n",
      "    10000    0.008    0.000    0.008    0.000 {built-in method _bisect.bisect_left}\n",
      "        1    0.000    0.000    0.000    0.000 {method 'disable' of '_lsprof.Profiler' objects}\n",
      "\n",
      "\n"
     ]
    },
    {
     "data": {
      "text/plain": [
       "<pstats.Stats at 0x7f5fac543dd8>"
      ]
     },
     "execution_count": 4,
     "metadata": {},
     "output_type": "execute_result"
    }
   ],
   "source": [
    "from bisect import bisect_left\n",
    "\n",
    "def insert_value(array, value): \n",
    "    i = bisect_left(array, value) # 수정\n",
    "    array.insert(i, value)\n",
    "    \n",
    "    \n",
    "profiler = Profile()\n",
    "profiler.runcall(test)\n",
    "\n",
    "stats = Stats(profiler)\n",
    "stats.strip_dirs()\n",
    "stats.sort_stats('cumulative')\n",
    "stats.print_stats()"
   ]
  },
  {
   "cell_type": "markdown",
   "metadata": {},
   "source": [
    "- 프로파일러를 실행하여 새 프로파일러 통계를 생성한 결과, 새로운 함수는 더 빨라졌고 누적 시간은 이전의 insert_value 함수에 비해 거의 100배 이상 단축\n",
    "- 때로는 전체 프로그램을 프로파일할 때 공통 유틸리티 함수에서 대부분의 실행 시간을 소비할 수도 있음\n",
    "- 프로파일러의 기본 출력은 유틸리티 함수가 프로그램의 다른 부분에서 얼마나 많이 호출되는지 보여주지 않기 때문에 이해하기 어려움\n",
    "- 예를 들어 다음 my_utility 함수는 프로그램에 있는 다른 두 함수에서 반복적으로 호출"
   ]
  },
  {
   "cell_type": "code",
   "execution_count": 5,
   "metadata": {},
   "outputs": [
    {
     "name": "stdout",
     "output_type": "stream",
     "text": [
      "         20243 function calls in 0.018 seconds\n",
      "\n",
      "   Ordered by: cumulative time\n",
      "\n",
      "   ncalls  tottime  percall  cumtime  percall filename:lineno(function)\n",
      "        1    0.000    0.000    0.018    0.018 <ipython-input-5-ff5707c47a90>:20(<lambda>)\n",
      "        1    0.000    0.000    0.018    0.018 <ipython-input-5-ff5707c47a90>:15(my_program)\n",
      "       20    0.010    0.000    0.017    0.001 <ipython-input-5-ff5707c47a90>:7(first_func)\n",
      "    20200    0.008    0.000    0.008    0.000 <ipython-input-5-ff5707c47a90>:4(my_utility)\n",
      "       20    0.000    0.000    0.000    0.000 <ipython-input-5-ff5707c47a90>:11(second_func)\n",
      "        1    0.000    0.000    0.000    0.000 {method 'disable' of '_lsprof.Profiler' objects}\n",
      "\n",
      "\n"
     ]
    },
    {
     "data": {
      "text/plain": [
       "<pstats.Stats at 0x7f5fac525fd0>"
      ]
     },
     "execution_count": 5,
     "metadata": {},
     "output_type": "execute_result"
    }
   ],
   "source": [
    "from cProfile import Profile \n",
    "from pstats import Stats \n",
    "\n",
    "def my_utility(a, b): \n",
    "    pass \n",
    "\n",
    "def first_func(): \n",
    "    for _ in range(1000): \n",
    "        my_utility(4, 5) \n",
    "\n",
    "def second_func(): \n",
    "    for _ in range(10): \n",
    "        my_utility(1, 3) \n",
    "\n",
    "def my_program(): \n",
    "    for _ in range(20): \n",
    "        first_func() \n",
    "        second_func() \n",
    "\n",
    "test = lambda: my_program() \n",
    "\n",
    "profiler = Profile() \n",
    "profiler.runcall(test) \n",
    "\n",
    "stats = Stats(profiler) \n",
    "stats.strip_dirs() \n",
    "stats.sort_stats('cumulative') \n",
    "stats.print_stats()"
   ]
  },
  {
   "cell_type": "markdown",
   "metadata": {},
   "source": [
    "- my_utility 함수가 대부분의 실행 시간을 소비하는 원인이라는 게 명확하지만 이 함수가 이렇게 많이 호출되는 이유는 명확하게 알기 어려움\n",
    "- 프로그램 코드에서 찾는다면 my_utility가 여러 번 호출되고 있다는 사실을 알겠지만 여전히 이해하기 쉽지 않음\n",
    "- 파이썬 프로파일러는 이 문제를 처리하려고 각 함수의 프로파일링 정보에 기여하는 호출자를 찾는 방법을 제공"
   ]
  },
  {
   "cell_type": "code",
   "execution_count": 6,
   "metadata": {},
   "outputs": [
    {
     "name": "stdout",
     "output_type": "stream",
     "text": [
      "   Ordered by: cumulative time\n",
      "\n",
      "Function                                          was called by...\n",
      "                                                      ncalls  tottime  cumtime\n",
      "<ipython-input-5-ff5707c47a90>:20(<lambda>)       <- \n",
      "<ipython-input-5-ff5707c47a90>:15(my_program)     <-       1    0.000    0.018  <ipython-input-5-ff5707c47a90>:20(<lambda>)\n",
      "<ipython-input-5-ff5707c47a90>:7(first_func)      <-      20    0.010    0.017  <ipython-input-5-ff5707c47a90>:15(my_program)\n",
      "<ipython-input-5-ff5707c47a90>:4(my_utility)      <-   20000    0.008    0.008  <ipython-input-5-ff5707c47a90>:7(first_func)\n",
      "                                                         200    0.000    0.000  <ipython-input-5-ff5707c47a90>:11(second_func)\n",
      "<ipython-input-5-ff5707c47a90>:11(second_func)    <-      20    0.000    0.000  <ipython-input-5-ff5707c47a90>:15(my_program)\n",
      "{method 'disable' of '_lsprof.Profiler' objects}  <- \n",
      "\n",
      "\n"
     ]
    },
    {
     "data": {
      "text/plain": [
       "<pstats.Stats at 0x7f5fac525fd0>"
      ]
     },
     "execution_count": 6,
     "metadata": {},
     "output_type": "execute_result"
    }
   ],
   "source": [
    "stats.print_callers()"
   ]
  },
  {
   "cell_type": "markdown",
   "metadata": {},
   "source": [
    "- 위 프로파일러 통계 테이블은 호출된 함수를 왼쪽에 보여주며, 누가 이런 호출을 하는지를 오른쪽에 보여줌\n",
    "- 결과적으로  my_utility가 first_func에서 가장 많이 사용되었음을 명확하게 확인 가능"
   ]
  },
  {
   "cell_type": "markdown",
   "metadata": {},
   "source": [
    "- cProfile이 더 정확한 프로파일링 정보를 제공하므로 profile 모듈 대신에 cProfile을 사용\n",
    "- Profile 객체의 runcall 메서드는 함수 호출 트리를 프로파일하는 데 필요한 모든 기능을 제공\n",
    "- Stats 객체는 프로그램 성능을 이해하는 데 필요한 프로파일링 정보를 선택하고 출력하는 기능을 제공"
   ]
  },
  {
   "cell_type": "markdown",
   "metadata": {},
   "source": [
    "# line_profiler\n",
    "- 각 라인별로 프로파일링 하고 싶은 경우는 line_profiler와 flame graph가 많이 사용됨\n",
    "- 가장 쉬운 방법은 `kernprof` 스크립트를 사용하는 것\n",
    "- 프로파일링 할 함수를 수동으로 지정하고 실행 시 패키지를 호출하는 방식\n",
    "\n",
    "```bash\n",
    "pip3 install line_profiler\n",
    "kernprof -l script_to_profile.py\n",
    "```\n",
    "- `kernprof`는 `LineProfiler`의 인스턴스를 생성하고 이름 프로필을 사용하여 `__builtins__` 네임 스페이스에 삽입\n",
    "- 데코레이터로 사용하도록 작성되었으므로 스크립트에서 `@profile`로 프로파일링하려는 함수를 꾸며 줌"
   ]
  },
  {
   "cell_type": "code",
   "execution_count": null,
   "metadata": {},
   "outputs": [],
   "source": [
    "# 라이브러리 import 해줄 필요 없이 프로파일링 하고 싶은 function에 데코레이터만 붙여 주면 됨\n",
    "# 그냥 바로 실행은 되지 않고 bash에서 \"kernprof -l script_to_profile.py\" 형태로 실행\n",
    "\n",
    "@profile\n",
    "def do_stuff(numbers):\n",
    "    print(numbers)\n",
    "\n",
    "numbers = 2\n",
    "do_stuff(numbers)"
   ]
  },
  {
   "cell_type": "markdown",
   "metadata": {},
   "source": [
    "- 아래는 실행 결과\n",
    "- 결과물로 `profiler_test.py.lprof`라는 파일이 생성되는데, 바이너리 파일이므로 그냥 읽을 수는 없음\n",
    "```bash\n",
    "(data) lynn@ip-172-31-6-44:~/workspace/interpy-kr/day4$ kernprof -l profiler_test.py \n",
    "2\n",
    "Wrote profile results to profiler_test.py.lprof\n",
    "```"
   ]
  },
  {
   "cell_type": "markdown",
   "metadata": {},
   "source": [
    "- 아래 명령어로 `README` 형태로 취급하여 읽어 냄\n",
    "\n",
    "```bash\n",
    "(data) lynn@ip-172-31-6-44:~/workspace/interpy-kr/day4$ python -m line_profiler profiler_test.py.lprof \n",
    "Timer unit: 1e-06 s\n",
    "\n",
    "Total time: 0.000165 s\n",
    "File: profiler_test.py\n",
    "Function: do_stuff at line 1\n",
    "\n",
    "Line #      Hits         Time  Per Hit   % Time  Line Contents\n",
    "==============================================================\n",
    "     1                                           @profile\n",
    "     2                                           def do_stuff(numbers):\n",
    "     3         1        165.0    165.0    100.0      print(numbers)\n",
    "```"
   ]
  },
  {
   "cell_type": "markdown",
   "metadata": {},
   "source": [
    "- `-v` 옵션을 붙이면 실행 즉시 결과를 볼 수 있음\n",
    "\n",
    "```bash\n",
    "(data) lynn@ip-172-31-6-44:~/workspace/interpy-kr/day4$ kernprof -v -l profiler_test2.py \n",
    "2\n",
    "Wrote profile results to profiler_test2.py.lprof\n",
    "Timer unit: 1e-06 s\n",
    "\n",
    "Total time: 0.000151 s\n",
    "File: profiler_test2.py\n",
    "Function: do_stuff at line 1\n",
    "\n",
    "Line #      Hits         Time  Per Hit   % Time  Line Contents\n",
    "==============================================================\n",
    "     1                                           @profile\n",
    "     2                                           def do_stuff(numbers):\n",
    "     3         1        151.0    151.0    100.0      print(numbers)\n",
    "\n",
    "```"
   ]
  },
  {
   "cell_type": "markdown",
   "metadata": {},
   "source": [
    "## (참고) pprofile\n",
    "- 항상 line_profiler는 글로벌하게 깔린 python을 바라보도록 되어 있어 특정 가상환경 내의 인터프리터를 바라보도록 할 수 없음\n",
    "- `pprofile`은 virtualenv에서 line_profile을 쓰기 힘들어 만들어 놓은 라이브러리\n",
    "- 공식 사이트: [주소 참고](https://pypi.python.org/pypi/pprofile/1.6.2)"
   ]
  },
  {
   "cell_type": "markdown",
   "metadata": {},
   "source": [
    "- 설치\n",
    "    - `virtualenv -p pypy경로 venv` (pypy 설치를 위해서 -p 옵션)\n",
    "    - `cd venv`\n",
    "    - `source bin/activate`\n",
    "    - `pip install pprofile`\n",
    "- 사용법\n",
    "    - `pprofile 파일명`"
   ]
  },
  {
   "cell_type": "markdown",
   "metadata": {},
   "source": [
    "# timeit\n",
    "- 명령 행과 파이썬 쉘에서 하나의 라이너 또는 작은 표현식을 테스트하는 간단한 방법을 제공\n",
    "- 벤치마킹용으로 간단하게 사용 시에는 가장 유용"
   ]
  },
  {
   "cell_type": "code",
   "execution_count": 28,
   "metadata": {},
   "outputs": [
    {
     "data": {
      "text/plain": [
       "0.2576766051352024"
      ]
     },
     "execution_count": 28,
     "metadata": {},
     "output_type": "execute_result"
    }
   ],
   "source": [
    "# 스크립트에서 바로 실행 시\n",
    "import timeit\n",
    "timeit.timeit('\"-\".join(str(n) for n in range(100))', number=10000)"
   ]
  },
  {
   "cell_type": "code",
   "execution_count": 33,
   "metadata": {},
   "outputs": [
    {
     "name": "stdout",
     "output_type": "stream",
     "text": [
      "mkList1 :  0.08979501202702522 s\n",
      "mkList2 :  0.0355030819773674 s\n"
     ]
    }
   ],
   "source": [
    "from timeit import timeit\n",
    "\n",
    "def mkList1():\n",
    "    result = []\n",
    "    for value in range(1000):\n",
    "        result.append(value)\n",
    "    return result\n",
    "\n",
    "\n",
    "def mkList2():\n",
    "    result = [value for value in range(1000)]\n",
    "    return result\n",
    "\n",
    "\n",
    "print(\"mkList1 : \", timeit(mkList1, number=1000), \"s\")\n",
    "print(\"mkList2 : \", timeit(mkList2, number=1000), \"s\")"
   ]
  },
  {
   "cell_type": "markdown",
   "metadata": {},
   "source": [
    "command 창에서 실행 시\n",
    "```bash\n",
    "(data) lynn@ip-172-31-6-44:~/workspace/interpy-kr/day4$ python -m timeit '\"-\".join(str(n) for n in range(100))'\n",
    "10000 loops, best of 3: 24 usec per loop\n",
    "```"
   ]
  },
  {
   "cell_type": "markdown",
   "metadata": {},
   "source": [
    "# Wrap-up\n",
    "- 성능 저하를 일으키는 원인이 때로는 불분명하므로 파이썬 프로그램을 최적화하기 전에 프로파일을 해야 함\n",
    "- 스크립트의 병목 현상을 발견 할 수 있어야 함\n",
    "- 그러나 최적화가 데이터 구조의 부실한 선택이나 알고리즘 설계의 결함을 보완 할 수는 없다는 점에 유의\n",
    "- 두 번째로 가독성 / 디자인 / 품질을 희생하면서 코딩 프로세스를 너무 일찍 최적화하려고하지 말 것\n",
    "- pycharm 같은 IDE에서도 프로파일링 기능 제공함: [참고](https://www.jetbrains.com/help/pycharm/profiler.html)"
   ]
  },
  {
   "cell_type": "markdown",
   "metadata": {},
   "source": [
    "# Reference\n",
    "\n",
    "- https://brownbears.tistory.com/248 [불곰]\n",
    "- https://riptutorial.com/ko/python/example/20706/%EC%BD%94%EB%93%9C-%ED%94%84%EB%A1%9C%ED%8C%8C%EC%9D%BC-%EB%A7%81\n",
    "- https://hashcode.co.kr/questions/2311/%ED%8C%8C%EC%9D%B4%EC%8D%AC-%EC%BD%94%EB%93%9C%EB%A5%BC-%ED%94%84%EB%A1%9C%ED%8C%8C%EC%9D%BC%EB%A7%81%ED%95%98%EA%B8%B0\n",
    "- https://umbum.tistory.com/789\n",
    "- http://free-lunch.github.io/python-profiler/"
   ]
  }
 ],
 "metadata": {
  "kernelspec": {
   "display_name": "data",
   "language": "python",
   "name": "data"
  },
  "language_info": {
   "codemirror_mode": {
    "name": "ipython",
    "version": 3
   },
   "file_extension": ".py",
   "mimetype": "text/x-python",
   "name": "python",
   "nbconvert_exporter": "python",
   "pygments_lexer": "ipython3",
   "version": "3.5.2"
  }
 },
 "nbformat": 4,
 "nbformat_minor": 2
}
