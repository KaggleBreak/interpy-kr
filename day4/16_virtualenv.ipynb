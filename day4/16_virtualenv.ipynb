{
 "cells": [
  {
   "cell_type": "markdown",
   "metadata": {
    "slideshow": {
     "slide_type": "slide"
    }
   },
   "source": [
    "# Virtual Environment"
   ]
  },
  {
   "cell_type": "markdown",
   "metadata": {
    "slideshow": {
     "slide_type": "slide"
    }
   },
   "source": [
    "##### pip install\n",
    "- pip를 통해 third-party 라이브러리를 설치하면 글로벌하게 설치된다.\n",
    "- 설치된 라이브러리는 파이썬 설치폴더 하위에 위치한 site-packages(혹은 dist-packages) 폴더 안에 위치한다."
   ]
  },
  {
   "cell_type": "markdown",
   "metadata": {
    "slideshow": {
     "slide_type": "subslide"
    }
   },
   "source": [
    "##### 라이브러리가 위치한 폴더 예제\n",
    "- /usr/local/lib/python2.7/site-packages\n",
    "- /usr/local/lib/python3.6/dist-packages\n",
    "- C:\\Python37\\Lib\\site-packages"
   ]
  },
  {
   "cell_type": "markdown",
   "metadata": {
    "slideshow": {
     "slide_type": "subslide"
    }
   },
   "source": [
    "##### 여러 버전의 라이브러리 설치할 수 있는가?\n",
    "- 동일한 라이브러리의 여러 버전을 동시에 설치할 수 없다. \n",
    "- 가령 requests 2.22, requests 2.18.4 을 동시에 설치할 수 없다."
   ]
  },
  {
   "cell_type": "markdown",
   "metadata": {
    "slideshow": {
     "slide_type": "slide"
    }
   },
   "source": [
    "----------------------------\n",
    "## 가상환경이 필요한 경우는?\n",
    "\n",
    "##### 1. 한대의 개발 PC에서 두개 이상의 프로젝트를 수행하는데, 서로 다른 버전의 라이브러리를 사용해야 할 때\n",
    "\n",
    "\n",
    "- A프로젝트 : requests 2.22\n",
    "- B프로젝트 : requests 2.18.4\n",
    "\n",
    "\n",
    "- 하지만 가상환경을 사용하면, 각각의 독립된 가상환경 위에 라이브러리를 설치할 수 있다.\n",
    "- 따라서 서로 다른 가상환경에서 서로 다른 버전의 라이브러리를 설치할 수 있다."
   ]
  },
  {
   "cell_type": "markdown",
   "metadata": {
    "slideshow": {
     "slide_type": "subslide"
    }
   },
   "source": [
    "##### 2. 배포의 일관성\n",
    "\n",
    "\n",
    "- 프로젝트별로 다른 가상환경을 만들면 추후 프로젝트를 배포시 환경 전체를 압축해서 배포하는 것이 가능하다.\n",
    "\n"
   ]
  },
  {
   "cell_type": "markdown",
   "metadata": {
    "slideshow": {
     "slide_type": "slide"
    }
   },
   "source": [
    "----------------------------\n",
    "## 가상환경\n",
    "- 독립된 파이썬 환경을 생성하는 도구이다.\n",
    "- 파이썬과 원하는 모듈만 담아 운용하는 독립된 공간 정도로 생각하면 된다.\n",
    "- 의존성과 버전 문제 차이로 인한 어플리케이션간 충돌 문제를 해결할 수 있다."
   ]
  },
  {
   "cell_type": "markdown",
   "metadata": {
    "slideshow": {
     "slide_type": "slide"
    }
   },
   "source": [
    "----------------------------\n",
    "## 가상환경을 지원하는 라이브러리\n",
    "\n",
    "##### 1. venv\n",
    "파이썬 3에 내장\n",
    "\n",
    "##### 2. pyenv\n",
    "https://github.com/pyenv/pyenv\n",
    "\n",
    "##### 3. virtualenv\n",
    "- 2017년 현재 가장 널리 사용되고 있는 도구\n",
    "- https://pypi.org/project/virtualenv/\n",
    "\n",
    "##### 4. virtualenvwrapper\n",
    "가상환경의 생성, 삭제, 프로젝트 이동, 관리 등을 좀 더 쉽게 할 수 있도록 virtualenv의 확장툴"
   ]
  },
  {
   "cell_type": "markdown",
   "metadata": {
    "slideshow": {
     "slide_type": "slide"
    }
   },
   "source": [
    "----------------------------\n",
    "## venv\n",
    "\n",
    "##### 설치 \n",
    "```\n",
    "> apt install python3-venv\n",
    "```\n",
    "\n",
    "##### 가상환경 만들기 \n",
    "\n",
    "```\n",
    "> python3 -m venv 가상환경이름\n",
    "```\n",
    "\n",
    "##### 가상환경 진입하기\n",
    "\n",
    "```\n",
    "> source ./가상환경이름/bin/activate\n",
    "```\n",
    "\n",
    "\n",
    "##### 가상환경 나오기\n",
    "\n",
    "```\n",
    "> deactivate\n",
    "```"
   ]
  },
  {
   "cell_type": "markdown",
   "metadata": {
    "slideshow": {
     "slide_type": "subslide"
    }
   },
   "source": [
    "##### pip freeze\n",
    "\n",
    "- pip freeze 는 설치된 패키지의 비슷한 목록을 만들지만, pip install 이 기대하는 형식을 사용한다.\n",
    "- 일반적인 규칙은 이 목록을 requirements.txt 파일에 넣어 배포한다.\n",
    "\n",
    "```\n",
    "> pip freeze > requirements.txt\n",
    "```\n",
    "\n",
    "- 사용자는 install -r 로 모든 필요한 패키지를 설치할 수 있다.\n",
    "\n",
    "```\n",
    "> pip install -r requirements.txt\n",
    "```"
   ]
  },
  {
   "cell_type": "markdown",
   "metadata": {
    "slideshow": {
     "slide_type": "slide"
    }
   },
   "source": [
    "----------------------------\n",
    "## virtualenv\n",
    "\n",
    "##### 설치 \n",
    "```\n",
    "> pip3 install virtualenv\n",
    "```\n",
    "\n",
    "##### 가상환경 만들기 \n",
    "\n",
    "```\n",
    "> virtualenv 가상환경이름\n",
    "```\n",
    "\n",
    "##### 가상환경 만들기(파이썬 버전 설정)\n",
    "\n",
    "```\n",
    "> virtualenv --python=python2.7 가상환경이름\n",
    "```\n",
    "\n",
    "##### 가상환경 진입하기\n",
    "\n",
    "```\n",
    "> source ./가상환경이름/bin/activate\n",
    "```\n",
    "\n",
    "##### 가상환경 나오기\n",
    "\n",
    "```\n",
    "> deactivate\n",
    "```"
   ]
  },
  {
   "cell_type": "markdown",
   "metadata": {
    "slideshow": {
     "slide_type": "subslide"
    }
   },
   "source": [
    "----------------------------\n",
    "## venv, virtualenv의 불편함\n",
    "\n",
    "- 가상환경에 진입할 때 프로젝트 경로를 알아야 한다.\n",
    "- 다른 가상환경으로 이동하려면 deactivate 후 이동해야 한다."
   ]
  },
  {
   "cell_type": "markdown",
   "metadata": {
    "slideshow": {
     "slide_type": "slide"
    }
   },
   "source": [
    "----------------------------\n",
    "## virtualenvwrapper \n",
    "\n",
    "##### 설치 \n",
    "```\n",
    "> pip3 install virtualenvwrapper\n",
    "```\n",
    "\n",
    "##### virtualenvwrapper 실행\n",
    "```\n",
    "> source /usr/local/bin/virtualenvwrapper.sh\n",
    "```"
   ]
  },
  {
   "cell_type": "markdown",
   "metadata": {
    "slideshow": {
     "slide_type": "subslide"
    }
   },
   "source": [
    "##### 필요한 설정\n",
    "\n",
    "- 두개의 환경 변수를 설정한다.\n",
    "```\n",
    "> export WORKON_HOME='가상환경이 위치할 폴더' \n",
    "(기본값=$HOME/.virtualenvs)\n",
    "> export VIRTUALENVWRAPPER_PYTHON='파이썬 경로'\n",
    "```\n",
    "\n",
    "- 예를 들어\n",
    "```\n",
    "> export WORKON_HOME=~/envs\n",
    "> export VIRTUALENVWRAPPER_PYTHON='/usr/bin/python3'\n",
    "```\n",
    "\n",
    "- 파이썬 위치를 찾으려면?\n",
    "```\n",
    "> which python3\n",
    "/usr/bin/python3\n",
    "```"
   ]
  },
  {
   "cell_type": "markdown",
   "metadata": {
    "slideshow": {
     "slide_type": "subslide"
    }
   },
   "source": [
    "##### 자동 실행 설정\n",
    "- 터미널을 재 시작하면 두개의 환경변수를 다시 설정해야 하고 virtualenvwrapper.sh를 다시 실행해야 한다.\n",
    "- home 디렉토리에 .bashrc나 .bash_profile의 마지막에 다음 3줄을 추가하면 자동 실행된다.\n",
    "```\n",
    "export WORKON_HOME='가상환경이 위치할 폴더'\n",
    "export VIRTUALENVWRAPPER_PYTHON='파이썬 경로'\n",
    "source /usr/local/bin/virtualenvwrapper.sh\n",
    "```"
   ]
  },
  {
   "cell_type": "markdown",
   "metadata": {
    "slideshow": {
     "slide_type": "subslide"
    }
   },
   "source": [
    "##### 가상환경 만들기\n",
    "\n",
    "```\n",
    "> mkvirtualenv 가상환경이름\n",
    "```\n",
    "\n",
    "##### 가상환경 진입/변경\n",
    "\n",
    "```\n",
    "> workon 가상환경이름\n",
    "```\n",
    "\n",
    "##### 가상환경 나오기\n",
    "\n",
    "```\n",
    "> deactivate\n",
    "```\n",
    "\n",
    "##### postmkvirtualenv \n",
    "\n",
    "- 가상환경 생성 후 실행할 공통 명령\n",
    "\n",
    "```\n",
    "> echo 'pip install sphinx' >> $WORKON_HOME/postmkvirtualenv\n",
    "```"
   ]
  }
 ],
 "metadata": {
  "kernelspec": {
   "display_name": "Python 3",
   "language": "python",
   "name": "python3"
  },
  "language_info": {
   "codemirror_mode": {
    "name": "ipython",
    "version": 3
   },
   "file_extension": ".py",
   "mimetype": "text/x-python",
   "name": "python",
   "nbconvert_exporter": "python",
   "pygments_lexer": "ipython3",
   "version": "3.6.7"
  },
  "varInspector": {
   "cols": {
    "lenName": 16,
    "lenType": 16,
    "lenVar": "50"
   },
   "kernels_config": {
    "python": {
     "delete_cmd_postfix": "",
     "delete_cmd_prefix": "del ",
     "library": "var_list.py",
     "varRefreshCmd": "print(var_dic_list())"
    },
    "r": {
     "delete_cmd_postfix": ") ",
     "delete_cmd_prefix": "rm(",
     "library": "var_list.r",
     "varRefreshCmd": "cat(var_dic_list()) "
    }
   },
   "types_to_exclude": [
    "module",
    "function",
    "builtin_function_or_method",
    "instance",
    "_Feature"
   ],
   "window_display": false
  }
 },
 "nbformat": 4,
 "nbformat_minor": 2
}
