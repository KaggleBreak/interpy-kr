{
 "cells": [
  {
   "cell_type": "markdown",
   "metadata": {},
   "source": [
    "# 2. Firstclass function"
   ]
  },
  {
   "cell_type": "markdown",
   "metadata": {},
   "source": [
    "## 퍼스트클래스 함수 & 클로저\n",
    "- 퍼스트클래스 함수란 프로그래밍 언어가 함수 (function) 를 first-class citizen으로 취급하는 것을 뜻합니다. 쉽게 설명하자면 함수 자체를 인자 (argument) 로써 다른 함수에 전달하거나 다른 함수의 결과값으로 리턴 할수도 있고, 함수를 변수에 할당하거나 데이터 구조안에 저장할 수 있는 함수를 뜻합니다."
   ]
  },
  {
   "cell_type": "code",
   "execution_count": 2,
   "metadata": {},
   "outputs": [
    {
     "name": "stdout",
     "output_type": "stream",
     "text": [
      "25\n",
      "<function square at 0x7f99fc66f840>\n",
      "<function square at 0x7f99fc66f840>\n"
     ]
    }
   ],
   "source": [
    "def square(x):\n",
    "    return x * x\n",
    "\n",
    "print(square(5))\n",
    "\n",
    "f = square\n",
    "\n",
    "print(square)\n",
    "print(f)"
   ]
  },
  {
   "cell_type": "markdown",
   "metadata": {},
   "source": [
    "- 위의 코드를 보면 아주 간단한 함수 \"square\"를 정의하고 호출하였습니다. 그 다음에 square 함수를 \"f\"라는 변수에 할당한 후에 square와 f의 값을 출력해 보았습니다. \n",
    "- 둘다 메모리 주소값인 0x1018dfe60에 저장된 square 함수 오브젝트가 할당되어 있는 것을 볼 수 있습니다. 그럼 f도 진짜 함수처럼 호출을할 수 있는지 볼까요."
   ]
  },
  {
   "cell_type": "code",
   "execution_count": 4,
   "metadata": {},
   "outputs": [
    {
     "name": "stdout",
     "output_type": "stream",
     "text": [
      "25\n"
     ]
    }
   ],
   "source": [
    "def square(x):\n",
    "    return x * x\n",
    "\n",
    "f = square\n",
    "\n",
    "print(f(5))"
   ]
  },
  {
   "cell_type": "markdown",
   "metadata": {},
   "source": [
    "- f(5) 구문으로 square 함수를 호출한 것을 볼 수 있습니다. \n",
    "- 위에서 언급했듯이 프로그래밍 언어가 퍼스트클래스 함수를 지원하면, 금방 해본 것처럼 변수에 함수를 할당할 수 있을뿐만 아니라, 인자로써 다른 함수에 전달하거나, 함수의 리턴값으로도 사용할 수가 있습니다. "
   ]
  },
  {
   "cell_type": "code",
   "execution_count": 5,
   "metadata": {},
   "outputs": [
    {
     "name": "stdout",
     "output_type": "stream",
     "text": [
      "[1, 4, 9, 16, 25]\n"
     ]
    }
   ],
   "source": [
    "def square(x):\n",
    "    return x * x\n",
    "\n",
    "def my_map(func, arg_list):\n",
    "    result = []\n",
    "    for i in arg_list:\n",
    "        result.append(func(i)) # square 함수 호출, func == square\n",
    "    return result\n",
    "\n",
    "num_list = [1, 2, 3, 4, 5]\n",
    "\n",
    "squares = my_map(square, num_list)\n",
    "\n",
    "print(squares)"
   ]
  },
  {
   "cell_type": "markdown",
   "metadata": {},
   "source": [
    "- my_map 함수에 square 함수를 인자로 전달한 후 for 루프안에서 square 함수를 호출한 것을 볼 수 있습니다. 그런데 밑에와 같이 simple_sqaure 함수 하나로 문제를 해결하면 되지 않냐고 생각하시는 분들이 있으실 겁니다. "
   ]
  },
  {
   "cell_type": "code",
   "execution_count": 6,
   "metadata": {},
   "outputs": [
    {
     "name": "stdout",
     "output_type": "stream",
     "text": [
      "[1, 4, 9, 16, 25]\n"
     ]
    }
   ],
   "source": [
    "def square(x):\n",
    "    return x * x\n",
    "\n",
    "num_list = [1, 2, 3, 4, 5]\n",
    "\n",
    "def simple_square(arg_list):\n",
    "    result = []\n",
    "    for i in arg_list:\n",
    "        result.append(i * i)\n",
    "    return result\n",
    "\n",
    "simple_squares = simple_square(num_list)\n",
    "\n",
    "print(simple_squares)"
   ]
  },
  {
   "cell_type": "markdown",
   "metadata": {},
   "source": [
    "- 더 간단한 코드로 같은 결과가 나왔습니다\n",
    "- 간단히 함수 하나만을 실행하고 싶을때는 simple_square와 같은 일반 함수를 사용하여 같은 결과를 낼 수도 있습니다. 하지만, 퍼스트클래스 함수를 사용하면 이미 정의된 여러 함수를 간단히 재활용할 수 있다는 장점이 있습니다. "
   ]
  },
  {
   "cell_type": "code",
   "execution_count": 7,
   "metadata": {},
   "outputs": [
    {
     "name": "stdout",
     "output_type": "stream",
     "text": [
      "[1, 4, 9, 16, 25]\n",
      "[1, 8, 27, 64, 125]\n",
      "[1, 16, 81, 256, 625]\n"
     ]
    }
   ],
   "source": [
    "def square(x):\n",
    "    return x * x\n",
    "\n",
    "def cube(x):\n",
    "    return x * x * x\n",
    "\n",
    "def quad(x):\n",
    "    return x * x * x * x\n",
    "\n",
    "def my_map(func, arg_list):\n",
    "    result = []\n",
    "    for i in arg_list:\n",
    "        result.append(func(i)) # square 함수 호출, func == square\n",
    "    return result\n",
    "\n",
    "num_list = [1, 2, 3, 4, 5]\n",
    "\n",
    "squares = my_map(square, num_list)\n",
    "cubes = my_map(cube, num_list)\n",
    "quads = my_map(quad, num_list)\n",
    "\n",
    "print(squares)\n",
    "print(cubes)\n",
    "print(quads)"
   ]
  },
  {
   "cell_type": "markdown",
   "metadata": {},
   "source": [
    "- 위의 예제와 같이 이미 정의되어 있는 함수 square, cube, quad와 같은 여러개의 함수나 모듈이 있다고 가정했을때 my_map과 같은 wrapper 함수를 하나만 정의하여 기존의 함수나 모듈을 수정할 필요없이 편리하게 쓸 수가 있는겁니다.\n",
    "- 이번에는 함수의 결과값으로 또 다른 함수를 리턴하는 방법을 살펴보겠습니다. 아주 간단한 로깅 함수를 만들어 보겠습니다."
   ]
  },
  {
   "cell_type": "code",
   "execution_count": 9,
   "metadata": {},
   "outputs": [
    {
     "name": "stdout",
     "output_type": "stream",
     "text": [
      "<function logger.<locals>.log_message at 0x7f99fc616510>\n",
      "Log: Hi\n"
     ]
    }
   ],
   "source": [
    "def logger(msg):\n",
    "    def log_message(): #1\n",
    "        print('Log: ' + msg)\n",
    "    return log_message\n",
    "\n",
    "log_hi = logger('Hi')\n",
    "print(log_hi) # log_message 오브젝트가 출력됩니다.\n",
    "log_hi() # \"Log: Hi\"가 출력됩니다."
   ]
  },
  {
   "cell_type": "markdown",
   "metadata": {},
   "source": [
    "- 위의 #1에서 정의된 log_message라는 함수를 logger 함수의 리턴값으로 리턴하여 log_hi라는 변수에 할당한 후 호출한 것을 볼 수 있습니다.\n",
    "- 그런데 여기서 특이한 점을 볼 수 있습니다. msg와 같은 함수의 지역변수값은 함수가 호출된 이후에 메모리상에서 사라지므로 다시 참조할 수가 없는데, msg 변수에 할당됐던 'Hi'값이 logger 함수가 종료된 이후에도 참조 됐다는 것입니다. \n",
    "- 이런 log_message와 같은 함수를 \"클로저 (closure)\"라고 부르며 클로저는 다른 함수의 지역변수를 그 함수가 종료된 이후에도 기억을 할 수가 있습니다. \n",
    "- log_message가 정말 기억을 하고 있는지 msg 변수를 지역변수로 가지고 있는 logger 함수를 글로벌 네임스페이스에서 완전히 지운 후, log_message를 호출하여 보겠습니다."
   ]
  },
  {
   "cell_type": "code",
   "execution_count": 10,
   "metadata": {},
   "outputs": [
    {
     "name": "stdout",
     "output_type": "stream",
     "text": [
      "<function logger.<locals>.log_message at 0x7f99fc616158>\n",
      "Log: Hi\n",
      "NameError: logger는 존재하지 않습니다.\n",
      "Log: Hi\n"
     ]
    }
   ],
   "source": [
    "def logger(msg):\n",
    "    \n",
    "    def log_message(): #1\n",
    "        print('Log: ' + msg)\n",
    "    \n",
    "    return log_message\n",
    "\n",
    "log_hi = logger('Hi')\n",
    "print(log_hi) # log_message 오브젝트가 출력됩니다.\n",
    "log_hi() # \"Log: Hi\"가 출력됩니다.\n",
    "\n",
    "del logger # 글로벌 네임스페이스에서 logger 오브젝트를 지웁니다.\n",
    "\n",
    "# logger 오브젝트가 지워진 것을 확인합니다.\n",
    "try:\n",
    "    print(logger)\n",
    "except NameError:\n",
    "    print('NameError: logger는 존재하지 않습니다.')\n",
    "\n",
    "log_hi() # logger가 지워진 뒤에도 Log: Hi\"가 출력됩니다."
   ]
  },
  {
   "cell_type": "markdown",
   "metadata": {},
   "source": [
    "- logger가 지워진 뒤에도 log_hi()를 실행하여 log_message가 호출된 것을 볼 수 있습니다.\n",
    "- logger 함수를 완전히 삭제한 이후에도 log_message 함수는 'Hi'를 기억하고 있는 것을 확인했습니다. 이런식으로 closure는 여러가지로 편리하게 쓰여질 때가 많습니다"
   ]
  },
  {
   "cell_type": "markdown",
   "metadata": {},
   "source": [
    "- 참고문헌\n",
    "  - http://schoolofweb.net/blog/posts/%ED%8C%8C%EC%9D%B4%EC%8D%AC-%ED%8D%BC%EC%8A%A4%ED%8A%B8%ED%81%B4%EB%9E%98%EC%8A%A4-%ED%95%A8%EC%88%98-first-class-function/\n",
    "  - https://medium.com/@lazysoul/functional-programming-%EC%97%90%EC%84%9C-1%EA%B8%89-%EA%B0%9D%EC%B2%B4%EB%9E%80-ba1aeb048059\n",
    "  - https://nachwon.github.io/closure/"
   ]
  }
 ],
 "metadata": {
  "kernelspec": {
   "display_name": "data",
   "language": "python",
   "name": "data"
  },
  "language_info": {
   "codemirror_mode": {
    "name": "ipython",
    "version": 3
   },
   "file_extension": ".py",
   "mimetype": "text/x-python",
   "name": "python",
   "nbconvert_exporter": "python",
   "pygments_lexer": "ipython3",
   "version": "3.5.2"
  }
 },
 "nbformat": 4,
 "nbformat_minor": 2
}
