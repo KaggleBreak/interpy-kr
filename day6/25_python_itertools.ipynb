{
 "cells": [
  {
   "cell_type": "markdown",
   "metadata": {},
   "source": [
    "## itertools\n",
    "\n",
    "- intermediate python study에서 itertools 발표(약 20분)를 위해 작성되었습니다.\n",
    "- 이 문서는 python itertools에 대한 기본적인 내용을 안내합니다.\n",
    "- 공식 문서와 참고자료의 링크들을 이용해서 작성하였습니다.\n",
    "- python version : 3.6\n",
    "- 발표 날짜 : 2019/06/22"
   ]
  },
  {
   "cell_type": "markdown",
   "metadata": {},
   "source": [
    "### itertools 사용 목적\n",
    "- 효율적인 반복을 위해 사용합니다.\n",
    "- 코드의 간결성, 가독성 확보\n",
    "\n",
    "### itertools 사용 방법\n",
    "- 사용 방법은 각각의 예시를 참고해 주세요.\n",
    "\n",
    "### 참고 자료\n",
    "- [Python-itertools official](https://docs.python.org/3/library/itertools.html)\n",
    "- [데이터 분석에 피가 되는 itertools 익히기](https://hamait.tistory.com/803)\n",
    "- [python에서 리스트에 있는 값들의 모든 조합을 구하기](https://ourcstory.tistory.com/414)\n",
    "- [python에서 이중 리스트를 flatten하게 만들기](https://winterj.me/list_of_lists_to_flatten/)\n",
    "- [Itertools in Python 3, By Example](https://realpython.com/python-itertools/)\n",
    "- [itertools의 groupby함수](http://pyengine.blogspot.com/2018/01/groupby.html)\n",
    "- [내장함수 zip() 과 itertools.zip_longest() 함수](https://excelsior-cjh.tistory.com/100#recentComments)\n",
    "\n",
    "### 목차\n",
    "1. Infinite iterators\n",
    "2. Combinatoric iterators\n",
    "3. Iterators terminating on the shortest input sequence\n",
    "------------------------------------"
   ]
  },
  {
   "cell_type": "markdown",
   "metadata": {},
   "source": [
    "### 1. Infinite iterators\n",
    "\n",
    "| iterator | Arguments | Results | Example |\n",
    "|:--------:|:--------:|:--------:|:--------:|\n",
    "| count() | start, [step] | start, start+step, start+2*step, … | count(10) --> 10 11 12 13 14 ...|\n",
    "| cycle() | p | p0, p1, … plast, p0, p1, … | cycle('ABCD') --> A B C D A B C D ... |\n",
    "| repeat() | elem [,n] | elem, elem, elem, … endlessly or up to n times | repeat(10, 3) --> 10 10 10 |"
   ]
  },
  {
   "cell_type": "markdown",
   "metadata": {},
   "source": [
    "#### 1-1. count\n",
    "- start값을 기준으로 시작해서 일정 간격 값을 반환하는 iterator를 만듭니다.\n",
    "- 간격 기본 값은 1 입니다.\n",
    "- infinite 특성을 지닙니다.\n",
    "- 반복하고자 하는 최대수를 미리 알지 않아도 구현 할 수 있는 장점이 있습니다.\n",
    "\n",
    "```\n",
    "def count(start=0, step=1):\n",
    "    # count(10) --> 10 11 12 13 14 ...\n",
    "    # count(2.5, 0.5) -> 2.5 3.0 3.5 ...\n",
    "    n = start\n",
    "    while True:\n",
    "        yield n\n",
    "        n += step\n",
    "```"
   ]
  },
  {
   "cell_type": "code",
   "execution_count": 11,
   "metadata": {},
   "outputs": [
    {
     "data": {
      "text/plain": [
       "count(10, 5)"
      ]
     },
     "execution_count": 11,
     "metadata": {},
     "output_type": "execute_result"
    }
   ],
   "source": [
    "from itertools import count\n",
    "\n",
    "count(10, 5)"
   ]
  },
  {
   "cell_type": "code",
   "execution_count": 32,
   "metadata": {},
   "outputs": [
    {
     "name": "stdout",
     "output_type": "stream",
     "text": [
      "value i is 10\n",
      "value i is 15\n",
      "value i is 20\n",
      "value i is 25\n",
      "value i is 30\n",
      "value i is 35\n",
      "value i is 40\n",
      "value i is 45\n",
      "value i is 50\n"
     ]
    }
   ],
   "source": [
    "# 일정 간격으로 숫자를 출력해보겠습니다.\n",
    "\n",
    "for i in count(10, 5):\n",
    "    print(f'value i is {i}')\n",
    "    if i == 50:\n",
    "        break"
   ]
  },
  {
   "cell_type": "code",
   "execution_count": 33,
   "metadata": {},
   "outputs": [
    {
     "name": "stdout",
     "output_type": "stream",
     "text": [
      "value i is 0\n",
      "value i is 0.5\n",
      "value i is 1.0\n",
      "value i is 1.5\n",
      "value i is 2.0\n",
      "value i is 2.5\n",
      "value i is 3.0\n",
      "value i is 3.5\n",
      "value i is 4.0\n",
      "value i is 4.5\n",
      "value i is 5.0\n"
     ]
    }
   ],
   "source": [
    "# 소수도 가능합니다!\n",
    "\n",
    "for i in count(0, 0.5):\n",
    "    print(f'value i is {i}')\n",
    "    if i == 5:\n",
    "        break"
   ]
  },
  {
   "cell_type": "markdown",
   "metadata": {},
   "source": [
    "------------------------------\n",
    "#### 1-2. cycle\n",
    "- 주어진 값을 반복하고 반복 가능한 값이 없을 경우 다시 처음부터 반복합니다.\n",
    "- infinite 특성을 지닙니다.\n",
    "\n",
    "```python3\n",
    "def cycle(iterable):\n",
    "    # cycle('ABCD') --> A B C D A B C D A B C D ...\n",
    "    saved = []\n",
    "    for element in iterable:\n",
    "        yield element\n",
    "        saved.append(element)\n",
    "    while saved:\n",
    "        for element in saved:\n",
    "              yield element\n",
    "```"
   ]
  },
  {
   "cell_type": "code",
   "execution_count": 15,
   "metadata": {},
   "outputs": [
    {
     "data": {
      "text/plain": [
       "<itertools.cycle at 0x111d33480>"
      ]
     },
     "execution_count": 15,
     "metadata": {},
     "output_type": "execute_result"
    }
   ],
   "source": [
    "from itertools import cycle\n",
    "\n",
    "cycle('ABCD')"
   ]
  },
  {
   "cell_type": "code",
   "execution_count": 18,
   "metadata": {},
   "outputs": [
    {
     "name": "stdout",
     "output_type": "stream",
     "text": [
      "A B C D A B C D A B C D A B C D A B C D A \n"
     ]
    }
   ],
   "source": [
    "# 지정된 문자열 ABCD를 반복 출력합니다.\n",
    "\n",
    "for i, str_value in enumerate(cycle('ABCD')):\n",
    "    print(str_value, end = \" \")\n",
    "    if i == 20:\n",
    "        print()\n",
    "        break"
   ]
  },
  {
   "cell_type": "code",
   "execution_count": 39,
   "metadata": {},
   "outputs": [
    {
     "name": "stdout",
     "output_type": "stream",
     "text": [
      "0 : a\n",
      "1 : b\n",
      "0 : c\n",
      "1 : d\n",
      "0 : e\n"
     ]
    }
   ],
   "source": [
    "# 0과 1을 반복하면서 문자를 지정\n",
    "\n",
    "for number, letter in zip(cycle(range(2)), ['a', 'b', 'c', 'd', 'e']):\n",
    "    print(f'{number} : {letter}')"
   ]
  },
  {
   "cell_type": "markdown",
   "metadata": {},
   "source": [
    "---------------------------------\n",
    "#### 1-3.repeat\n",
    "- object를 반복해서 반환하는 iterator를 만듭니다.\n",
    "- 몇 번 반복할지 정해지지 않으면 무한 반복합니다.\n",
    "\n",
    "```python3\n",
    "def repeat(object, times=None):\n",
    "    # repeat(10, 3) --> 10 10 10\n",
    "    if times is None:\n",
    "        while True:\n",
    "            yield object\n",
    "    else:\n",
    "        for i in range(times):\n",
    "            yield object\n",
    "```"
   ]
  },
  {
   "cell_type": "code",
   "execution_count": 20,
   "metadata": {},
   "outputs": [
    {
     "data": {
      "text/plain": [
       "repeat(10, 3)"
      ]
     },
     "execution_count": 20,
     "metadata": {},
     "output_type": "execute_result"
    }
   ],
   "source": [
    "from itertools import repeat\n",
    "\n",
    "repeat(10, 3)"
   ]
  },
  {
   "cell_type": "code",
   "execution_count": 25,
   "metadata": {},
   "outputs": [
    {
     "name": "stdout",
     "output_type": "stream",
     "text": [
      "10 10 10 10 10 10 10 10 10 10 "
     ]
    }
   ],
   "source": [
    "for i in repeat(10, 10):\n",
    "    print(i, end=\" \")"
   ]
  },
  {
   "cell_type": "code",
   "execution_count": 26,
   "metadata": {},
   "outputs": [
    {
     "name": "stdout",
     "output_type": "stream",
     "text": [
      "A A A A A A A A A A "
     ]
    }
   ],
   "source": [
    "for i in repeat('A', 10):\n",
    "    print(i, end=\" \")"
   ]
  },
  {
   "cell_type": "code",
   "execution_count": 31,
   "metadata": {},
   "outputs": [
    {
     "data": {
      "text/plain": [
       "[0, 1, 4, 9, 16, 25, 36, 49, 64, 81]"
      ]
     },
     "execution_count": 31,
     "metadata": {},
     "output_type": "execute_result"
    }
   ],
   "source": [
    "# map function도 함께 응용 할 수 있습니다.\n",
    "\n",
    "list(map(pow, range(10), repeat(2)))"
   ]
  },
  {
   "cell_type": "markdown",
   "metadata": {},
   "source": [
    "----------------------------------\n",
    "\n",
    "### 2. Combinatoric iterators\n",
    "| iterator | Arguments | Results | Example | Example result |\n",
    "|:--------:|:--------:|:--------:|:--------:|:--------:|\n",
    "| product() | p, q, … [repeat=1] |cartesian product, equivalent to a nested for-loop | product('ABCD', repeat=2)|AA AB AC AD BA BB BC BD CA CB CC CD DA DB DC DD |\n",
    "| permutations() | p[, r] | r-length tuples, all possible orderings, no repeated elements | permutations('ABCD', 2) | AB AC AD BA BC BD CA CB CD DA DB DC |\n",
    "| combinations() | p, r | r-length tuples, in sorted order, no repeated elements | combinations('ABCD', 2) | AB AC AD BC BD CD|\n",
    "| combinations_with_replacement() | p, r | r-length tuples, in sorted order, with repeated elements | combinations_with_replacement('ABCD', 2) |AA AB AC AD BB BC BD CC CD DD |"
   ]
  },
  {
   "cell_type": "markdown",
   "metadata": {},
   "source": [
    "### 2.1 product\n",
    "\n",
    "- 주어진 값의 곱집합을 구합니다.\n",
    "- 수학적 관점의 접근이 어렵다면, 두 개 이상의 리스트에서 만들어 낼 수 있는 모든 경우의 수를 계산한다고 생각하시면 좋습니다."
   ]
  },
  {
   "cell_type": "code",
   "execution_count": 88,
   "metadata": {},
   "outputs": [],
   "source": [
    "from itertools import product\n",
    "\n",
    "items = [['a', 'b', 'c'], ['1', '2', '3', '4'], ['@', '#', '&']]\n",
    "print(len(list(product(*items))))\n",
    "list(product(*items))"
   ]
  },
  {
   "cell_type": "code",
   "execution_count": 85,
   "metadata": {},
   "outputs": [
    {
     "data": {
      "text/plain": [
       "<itertools.product at 0x1107346c0>"
      ]
     },
     "execution_count": 85,
     "metadata": {},
     "output_type": "execute_result"
    }
   ],
   "source": [
    "product(*items)"
   ]
  },
  {
   "cell_type": "code",
   "execution_count": 89,
   "metadata": {},
   "outputs": [],
   "source": [
    "for product_value in product(*items):\n",
    "    print(product_value)"
   ]
  },
  {
   "cell_type": "code",
   "execution_count": 90,
   "metadata": {},
   "outputs": [],
   "source": [
    "for value in product('ABCD', repeat=2):\n",
    "    print(value)"
   ]
  },
  {
   "cell_type": "markdown",
   "metadata": {},
   "source": [
    "### 2.2 permutations\n",
    "- 순열을 생성합니다.\n",
    "- nPr"
   ]
  },
  {
   "cell_type": "code",
   "execution_count": 62,
   "metadata": {},
   "outputs": [],
   "source": [
    "from itertools import permutations\n",
    "\n",
    "for value in permutations('ABCD', 2):\n",
    "    print(value)"
   ]
  },
  {
   "cell_type": "code",
   "execution_count": 63,
   "metadata": {},
   "outputs": [],
   "source": [
    "for value in permutations('ABCD', 3):\n",
    "    print(value)"
   ]
  },
  {
   "cell_type": "markdown",
   "metadata": {},
   "source": [
    "### 2.3 combinations\n",
    "- 조합을 생성합니다.\n",
    "- nCr"
   ]
  },
  {
   "cell_type": "code",
   "execution_count": 71,
   "metadata": {},
   "outputs": [],
   "source": [
    "from itertools import combinations\n",
    "\n",
    "for value in combinations('ABCD', 2):\n",
    "    print(value)"
   ]
  },
  {
   "cell_type": "code",
   "execution_count": 70,
   "metadata": {},
   "outputs": [],
   "source": [
    "for value in combinations('ABCD', 3):\n",
    "    print(value)"
   ]
  },
  {
   "cell_type": "markdown",
   "metadata": {},
   "source": [
    "### 2.4 combinations_with_replacement\n",
    "- 조합을 생성합니다.\n",
    "- combinations와 다르게 중복을 허용합니다."
   ]
  },
  {
   "cell_type": "code",
   "execution_count": 97,
   "metadata": {},
   "outputs": [],
   "source": [
    "from itertools import combinations_with_replacement\n",
    "\n",
    "for value in combinations_with_replacement('ABCD', 2):\n",
    "    print(value)"
   ]
  },
  {
   "cell_type": "code",
   "execution_count": 94,
   "metadata": {},
   "outputs": [],
   "source": [
    "for value in combinations_with_replacement('ABCD', 3):\n",
    "    print(value)"
   ]
  },
  {
   "cell_type": "markdown",
   "metadata": {},
   "source": [
    "---------------------------------\n",
    "### 3. Iterators terminating on the shortest input sequence\n",
    "\n",
    "| iterator | Arguments | Results | Example |\n",
    "|:--------:|:--------:|:--------:|:--------:|\n",
    "| accumulate() | p [,func] | p0, p0+p1, p0+p1+p2, … | accumulate([1,2,3,4,5]) --> 1 3 6 10 15|\n",
    "| chain() | p, q, … | p0, p1, … plast, q0, q1, … | chain('ABC', 'DEF') --> A B C D E F |\n",
    "| chain.from_iterable() | iterable | p0, p1, … plast, q0, q1, … | chain.from_iterable(['ABC', 'DEF']) --> A B C D E F |\n",
    "| compress() | data, selectors | (d[0] if s[0]), (d[1] if s[1]), … | compress('ABCDEF', [1,0,1,0,1,1]) --> A C E F |\n",
    "| dropwhile() | pred, seq | seq[n], seq[n+1], starting when pred fails | dropwhile(lambda x: x<5, [1,4,6,4,1]) --> 6 4 1 |\n",
    "| filterfalse() | pred, seq | elements of seq where pred(elem) is false | filterfalse(lambda x: x%2, range(10)) --> 0 2 4 6 8 |\n",
    "| groupby() | iterable[, key] |sub-iterators grouped by value of key(v)|  |\n",
    "| islice() | seq, [start,] stop [, step] | elements from seq[start:stop:step] | islice('ABCDEFG', 2, None) --> C D E F G |\n",
    "| starmap() | func, seq | func(*seq[0]), func(*seq[1]), … | starmap(pow, [(2,5), (3,2), (10,3)]) --> 32 9 1000 |\n",
    "| takewhile() | pred, seq | seq[0], seq[1], until pred fails | takewhile(lambda x: x<5, [1,4,6,4,1]) --> 1 4 |\n",
    "| tee() | it, n | it1, it2, … itn splits one iterator into n |  |\n",
    "| zip_longest() | p, q, … | (p[0], q[0]), (p[1], q[1]), … | zip_longest('ABCD', 'xy', fillvalue='-') --> Ax By C- D- |"
   ]
  },
  {
   "cell_type": "markdown",
   "metadata": {},
   "source": [
    "### 3.1 accumulate\n",
    "- 누적 결과를 구합니다.\n",
    "- function을 명시할 경우 좀 더 폭넓게 사용 할 수 있습니다."
   ]
  },
  {
   "cell_type": "code",
   "execution_count": 72,
   "metadata": {},
   "outputs": [],
   "source": [
    "import operator\n",
    "from itertools import accumulate"
   ]
  },
  {
   "cell_type": "code",
   "execution_count": 75,
   "metadata": {},
   "outputs": [
    {
     "name": "stdout",
     "output_type": "stream",
     "text": [
      "1 3 6 10 15 "
     ]
    }
   ],
   "source": [
    "# 누적 합 구하기\n",
    "\n",
    "value_list = [1, 2, 3, 4, 5]\n",
    "\n",
    "for i in accumulate(value_list):\n",
    "    print(i, end=\" \")"
   ]
  },
  {
   "cell_type": "code",
   "execution_count": 76,
   "metadata": {},
   "outputs": [
    {
     "name": "stdout",
     "output_type": "stream",
     "text": [
      "[3, 12, 72, 144, 144, 1296, 0, 0, 0, 0]\n"
     ]
    }
   ],
   "source": [
    "# running product with operator.mul\n",
    "\n",
    "data = [3, 4, 6, 2, 1, 9, 0, 7, 5, 8]\n",
    "print(list(accumulate(data, operator.mul)))"
   ]
  },
  {
   "cell_type": "code",
   "execution_count": 77,
   "metadata": {},
   "outputs": [
    {
     "name": "stdout",
     "output_type": "stream",
     "text": [
      "[3, 4, 6, 6, 6, 9, 9, 9, 9, 9]\n"
     ]
    }
   ],
   "source": [
    "# running maximum\n",
    "\n",
    "data = [3, 4, 6, 2, 1, 9, 0, 7, 5, 8]\n",
    "print(list(accumulate(data, max)))\n",
    "\n",
    "# 3 vs 4\n",
    "# 4 vs 6\n",
    "# 6 vs 2\n",
    "# 6 vs 1\n",
    "# ...."
   ]
  },
  {
   "cell_type": "code",
   "execution_count": 8,
   "metadata": {},
   "outputs": [
    {
     "name": "stdout",
     "output_type": "stream",
     "text": [
      "[1000, 960.0, 918.0, 873.9000000000001, 827.5950000000001]\n"
     ]
    }
   ],
   "source": [
    "# Amortize a 5% loan of 1000 with 4 annual payments of 90\n",
    "\n",
    "cashflows = [1000, -90, -90, -90, -90]\n",
    "\n",
    "print(list(accumulate(cashflows, lambda bal, pmt: bal*1.05 + pmt)))\n",
    "\n",
    "# 1000 * 1.05 - 90 = 960\n",
    "# 960 * 1.05 - 90 = 918..."
   ]
  },
  {
   "cell_type": "markdown",
   "metadata": {},
   "source": [
    "### 3.2 chain\n",
    "- Used for treating consecutive sequences as a single sequence.\n",
    "- 간단히 이야기 하면 각 type을 연결하는 것 입니다."
   ]
  },
  {
   "cell_type": "code",
   "execution_count": 101,
   "metadata": {},
   "outputs": [
    {
     "name": "stdout",
     "output_type": "stream",
     "text": [
      "['a', 'b', 'c', 'd', 'e', 'f', 1, 0, 1, 0, 0, 1, 0.1, 0.7, 0.4, 0.4, 0.5]\n"
     ]
    }
   ],
   "source": [
    "from itertools import chain\n",
    "\n",
    "letters = ['a', 'b', 'c', 'd', 'e', 'f']\n",
    "booleans = [1, 0, 1, 0, 0, 1]\n",
    "decimals = [0.1, 0.7, 0.4, 0.4, 0.5]\n",
    "\n",
    "print(list(chain(letters, booleans, decimals)))"
   ]
  },
  {
   "cell_type": "code",
   "execution_count": 102,
   "metadata": {},
   "outputs": [
    {
     "name": "stdout",
     "output_type": "stream",
     "text": [
      "['a', 'b', 'c', 'd', 'e', 'f', 1, 0, 1, 0, 0, 1, 0.1, 0.7, 0.4, 0.4, 0.5]\n"
     ]
    }
   ],
   "source": [
    "# list 1 + list 2 + tuple 1 이어도 연속적으로 이어진 것을 볼 수 있습니다.\n",
    "\n",
    "letters = ['a', 'b', 'c', 'd', 'e', 'f']\n",
    "booleans = [1, 0, 1, 0, 0, 1]\n",
    "decimals = (0.1, 0.7, 0.4, 0.4, 0.5)\n",
    "\n",
    "print(list(chain(letters, booleans, decimals)))"
   ]
  },
  {
   "cell_type": "code",
   "execution_count": 110,
   "metadata": {},
   "outputs": [
    {
     "data": {
      "text/plain": [
       "[1, 2, 3, 4]"
      ]
     },
     "execution_count": 110,
     "metadata": {},
     "output_type": "execute_result"
    }
   ],
   "source": [
    "# 2차원 리스트가 주어지면?\n",
    "\n",
    "list_of_lists = [[1, 2], [3, 4]]\n",
    "list(chain(*list_of_lists))"
   ]
  },
  {
   "cell_type": "code",
   "execution_count": 111,
   "metadata": {},
   "outputs": [
    {
     "data": {
      "text/plain": [
       "[[1, 2], [3, 4]]"
      ]
     },
     "execution_count": 111,
     "metadata": {},
     "output_type": "execute_result"
    }
   ],
   "source": [
    "# 이럴 경우는 ? 안 되는군요...\n",
    "\n",
    "list_of_lists = [[1, 2], [3, 4]]\n",
    "list(chain(list_of_lists))"
   ]
  },
  {
   "cell_type": "markdown",
   "metadata": {},
   "source": [
    "#### 참고 : numpy.ravel\n",
    "\n",
    "https://docs.scipy.org/doc/numpy/reference/generated/numpy.ravel.html"
   ]
  },
  {
   "cell_type": "markdown",
   "metadata": {},
   "source": [
    "### 3.3 chain.from_iterable\n",
    "- iterator만 전달해도 iterator의 element들을 조회하면서 lazy하게 chain을 구성해줍니다."
   ]
  },
  {
   "cell_type": "code",
   "execution_count": 108,
   "metadata": {},
   "outputs": [],
   "source": [
    "list_of_lists = [[1, 2], [3, 4]]"
   ]
  },
  {
   "cell_type": "code",
   "execution_count": 105,
   "metadata": {},
   "outputs": [
    {
     "name": "stdout",
     "output_type": "stream",
     "text": [
      "[1, 2, 3, 4]\n"
     ]
    }
   ],
   "source": [
    "print(list(chain.from_iterable(list_of_lists)))"
   ]
  },
  {
   "cell_type": "code",
   "execution_count": 106,
   "metadata": {},
   "outputs": [
    {
     "name": "stdout",
     "output_type": "stream",
     "text": [
      "['A', 'B', 'C', 'D', 'E', 'F']\n"
     ]
    }
   ],
   "source": [
    "print(list(chain.from_iterable(['ABC', 'DEF'])))"
   ]
  },
  {
   "cell_type": "markdown",
   "metadata": {},
   "source": [
    "### 3.4 compress\n",
    "- selector에 해당하는 요소가 있는 경우에만 반환을 하는 기능을 합니다."
   ]
  },
  {
   "cell_type": "code",
   "execution_count": 92,
   "metadata": {},
   "outputs": [
    {
     "name": "stdout",
     "output_type": "stream",
     "text": [
      "['A', 'C', 'E', 'F']\n"
     ]
    }
   ],
   "source": [
    "from itertools import compress\n",
    "\n",
    "print(list(compress('ABCDEF', [1,0,1,0,1,1])))"
   ]
  },
  {
   "cell_type": "markdown",
   "metadata": {},
   "source": [
    "### 3.5 dropwhile\n",
    "\n",
    "- 필터링 기능을 하는 함수입니다.\n",
    "- 조건에 맞게 필터 기능을 하다가 조건에 벗어날 경우 남은 것을 반환합니다.\n",
    "\n",
    "```python3\n",
    "def dropwhile(predicate, iterable):\n",
    "    # dropwhile(lambda x: x<5, [1,4,6,4,1]) --> 6 4 1\n",
    "    iterable = iter(iterable)\n",
    "    for x in iterable:\n",
    "        if not predicate(x):\n",
    "            yield x\n",
    "            break\n",
    "    for x in iterable:\n",
    "        yield x\n",
    "```"
   ]
  },
  {
   "cell_type": "code",
   "execution_count": 93,
   "metadata": {},
   "outputs": [
    {
     "name": "stdout",
     "output_type": "stream",
     "text": [
      "[11, 34, 66, 100, 1]\n"
     ]
    }
   ],
   "source": [
    "from itertools import dropwhile\n",
    "\n",
    "print(list(dropwhile(lambda x: x < 10, [1, 4, 6, 7, 11, 34, 66, 100, 1])))\n",
    "\n",
    "# drop : 1, 4, 6, 7 | return : 11, 34, 66, 100, 1"
   ]
  },
  {
   "cell_type": "markdown",
   "metadata": {},
   "source": [
    "### 3.6 filterfalse\n",
    "- function takes two arguments: a function that returns True or False (called a predicate), and an iterable inputs. \n",
    "- It returns an iterator over the elements in inputs for which the predicate returns False."
   ]
  },
  {
   "cell_type": "code",
   "execution_count": 75,
   "metadata": {},
   "outputs": [
    {
     "data": {
      "text/plain": [
       "[1, 2]"
      ]
     },
     "execution_count": 75,
     "metadata": {},
     "output_type": "execute_result"
    }
   ],
   "source": [
    "from itertools import filterfalse\n",
    "\n",
    "only_positives = filterfalse(lambda x: x <= 0, [0, 1, -1, 2, -2])\n",
    "list(only_positives)"
   ]
  },
  {
   "cell_type": "code",
   "execution_count": 78,
   "metadata": {},
   "outputs": [
    {
     "data": {
      "text/plain": [
       "[-10, -8, -6, -4, -2, 0, 2, 4, 6, 8]"
      ]
     },
     "execution_count": 78,
     "metadata": {},
     "output_type": "execute_result"
    }
   ],
   "source": [
    "# filterfalse\n",
    "\n",
    "values = filterfalse(lambda x: x%2, range(-10, 10))\n",
    "list(values)"
   ]
  },
  {
   "cell_type": "code",
   "execution_count": 83,
   "metadata": {},
   "outputs": [
    {
     "data": {
      "text/plain": [
       "[-9, -7, -5, -3, -1, 1, 3, 5, 7, 9]"
      ]
     },
     "execution_count": 83,
     "metadata": {},
     "output_type": "execute_result"
    }
   ],
   "source": [
    "# filter\n",
    "\n",
    "values = filter(lambda x: x%2, range(-10, 10))\n",
    "list(values)"
   ]
  },
  {
   "cell_type": "markdown",
   "metadata": {},
   "source": [
    "### 3.7 groupby\n",
    "\n",
    "- 반복 특성을 이용하여 주어진 값들을 group하고 반환"
   ]
  },
  {
   "cell_type": "code",
   "execution_count": 21,
   "metadata": {},
   "outputs": [],
   "source": [
    "from itertools import groupby"
   ]
  },
  {
   "cell_type": "code",
   "execution_count": 50,
   "metadata": {},
   "outputs": [
    {
     "data": {
      "text/plain": [
       "['A', 'B', 'C', 'D', 'A', 'B']"
      ]
     },
     "execution_count": 50,
     "metadata": {},
     "output_type": "execute_result"
    }
   ],
   "source": [
    "# case 1, 정렬을 하지 않을 경우\n",
    "\n",
    "sample_string = 'AAAABBBCCDAABBB'\n",
    "[k for k, g in groupby(sample_string)]"
   ]
  },
  {
   "cell_type": "code",
   "execution_count": 53,
   "metadata": {},
   "outputs": [
    {
     "data": {
      "text/plain": [
       "['A', 'B', 'C', 'D']"
      ]
     },
     "execution_count": 53,
     "metadata": {},
     "output_type": "execute_result"
    }
   ],
   "source": [
    "# case 2. 정렬을 했을 경우\n",
    "\n",
    "sample_string = 'AAAABBBCCDAABBB'\n",
    "sample_string = sorted(sample_string)\n",
    "\n",
    "[k for k, g in groupby(sample_string)]"
   ]
  },
  {
   "cell_type": "code",
   "execution_count": 54,
   "metadata": {},
   "outputs": [
    {
     "data": {
      "text/plain": [
       "[['A', 'A', 'A', 'A', 'A', 'A'],\n",
       " ['B', 'B', 'B', 'B', 'B', 'B'],\n",
       " ['C', 'C'],\n",
       " ['D']]"
      ]
     },
     "execution_count": 54,
     "metadata": {},
     "output_type": "execute_result"
    }
   ],
   "source": [
    "# case 2-1. 정렬을 했을 경우\n",
    "\n",
    "sample_string = 'AAAABBBCCDAABBB'\n",
    "sample_string = sorted(sample_string)\n",
    "\n",
    "[list(g) for k, g in groupby(sample_string)]"
   ]
  },
  {
   "cell_type": "code",
   "execution_count": 68,
   "metadata": {},
   "outputs": [],
   "source": [
    "# case 3. 효율적인 응용\n",
    "\n",
    "travel = [('Europe','Manchester'),\n",
    "          ('America','NewYork'),\n",
    "          ('Asia','Seoul'),\n",
    "          ('Asia','Tokyo'),\n",
    "          ('America','Chicago'),\n",
    "          ('America','Seattle'),\n",
    "          ('Europe','London'),\n",
    "          ('Asia','Beijing'),\n",
    "          ('Europe','Paris'),\n",
    "         ]"
   ]
  },
  {
   "cell_type": "code",
   "execution_count": 78,
   "metadata": {},
   "outputs": [
    {
     "name": "stdout",
     "output_type": "stream",
     "text": [
      "key : America\n",
      "value : <itertools._grouper object at 0x107469cf8>\n",
      "value_list : [('America', 'Chicago'), ('America', 'NewYork'), ('America', 'Seattle')]\n",
      "------------------------------\n",
      "key : Asia\n",
      "value : <itertools._grouper object at 0x107464cf8>\n",
      "value_list : [('Asia', 'Beijing'), ('Asia', 'Seoul'), ('Asia', 'Tokyo')]\n",
      "------------------------------\n",
      "key : Europe\n",
      "value : <itertools._grouper object at 0x107469e10>\n",
      "value_list : [('Europe', 'London'), ('Europe', 'Manchester'), ('Europe', 'Paris')]\n",
      "------------------------------\n"
     ]
    }
   ],
   "source": [
    "for key, value in groupby(sorted(travel), lambda x : x[0]):\n",
    "    print(f'key : {key}')\n",
    "    print(f'value : {value}')\n",
    "    print(f'value_list : {list(value)}')\n",
    "    print('------------------------------')"
   ]
  },
  {
   "cell_type": "code",
   "execution_count": 77,
   "metadata": {},
   "outputs": [
    {
     "name": "stdout",
     "output_type": "stream",
     "text": [
      "key : Europe\n",
      "value : <itertools._grouper object at 0x107469828>\n",
      "value_list : [('Europe', 'Manchester')]\n",
      "------------------------------\n",
      "key : America\n",
      "value : <itertools._grouper object at 0x107469cf8>\n",
      "value_list : [('America', 'NewYork')]\n",
      "------------------------------\n",
      "key : Asia\n",
      "value : <itertools._grouper object at 0x107469828>\n",
      "value_list : [('Asia', 'Seoul'), ('Asia', 'Tokyo')]\n",
      "------------------------------\n",
      "key : America\n",
      "value : <itertools._grouper object at 0x107469c88>\n",
      "value_list : [('America', 'Chicago'), ('America', 'Seattle')]\n",
      "------------------------------\n",
      "key : Europe\n",
      "value : <itertools._grouper object at 0x107464cf8>\n",
      "value_list : [('Europe', 'London')]\n",
      "------------------------------\n",
      "key : Asia\n",
      "value : <itertools._grouper object at 0x107464ac8>\n",
      "value_list : [('Asia', 'Beijing')]\n",
      "------------------------------\n",
      "key : Europe\n",
      "value : <itertools._grouper object at 0x107464cf8>\n",
      "value_list : [('Europe', 'Paris')]\n",
      "------------------------------\n"
     ]
    }
   ],
   "source": [
    "# itertools groupby를 사용할 경우 sorting을 해야 원하는 결과를 얻을 수 있습니다.\n",
    "\n",
    "for key, value in groupby(travel, lambda x : x[0]):\n",
    "    print(f'key : {key}')\n",
    "    print(f'value : {value}')\n",
    "    print(f'value_list : {list(value)}')\n",
    "    print('------------------------------')"
   ]
  },
  {
   "cell_type": "code",
   "execution_count": 69,
   "metadata": {},
   "outputs": [
    {
     "name": "stdout",
     "output_type": "stream",
     "text": [
      "{'America': ['Chicago', 'NewYork', 'Seattle'], 'Asia': ['Beijing', 'Seoul', 'Tokyo'], 'Europe': ['London', 'Manchester', 'Paris']}\n"
     ]
    }
   ],
   "source": [
    "city = []\n",
    "country = {}\n",
    "for key, value in groupby(sorted(travel), lambda x : x[0]):\n",
    "    city_list = [value[1] for value in list(value)]\n",
    "    country[key] = city_list\n",
    "\n",
    "print(country)"
   ]
  },
  {
   "cell_type": "code",
   "execution_count": 70,
   "metadata": {},
   "outputs": [
    {
     "name": "stdout",
     "output_type": "stream",
     "text": [
      "{'Europe': ['Paris'], 'America': ['Chicago', 'Seattle'], 'Asia': ['Beijing']}\n"
     ]
    }
   ],
   "source": [
    "# sorting을 안 하면??\n",
    "# 코드를 몇 줄 더 작성하여야 합니다. \n",
    "\n",
    "city = []\n",
    "country = {}\n",
    "for key, value in groupby(travel, lambda x : x[0]):\n",
    "    city_list = [value[1] for value in list(value)]\n",
    "    country[key] = city_list\n",
    "    \n",
    "print(country)"
   ]
  },
  {
   "cell_type": "markdown",
   "metadata": {},
   "source": [
    "### 3.8 islice\n",
    "\n",
    "- 반복 중에 지정한 지점 직전까지의 결과를 반환\n",
    "- start, stop, step 조합에 따라 원하는 부분을 선택 반환 할 수 있다.\n",
    "\n",
    "```\n",
    "itertools.islice(iterable, start, stop[, step])\n",
    "```"
   ]
  },
  {
   "cell_type": "code",
   "execution_count": 90,
   "metadata": {},
   "outputs": [
    {
     "name": "stdout",
     "output_type": "stream",
     "text": [
      "['A', 'B']\n",
      "['C', 'D']\n",
      "['C', 'D', 'E', 'F', 'G']\n",
      "['A', 'C', 'E', 'G']\n"
     ]
    }
   ],
   "source": [
    "from itertools import islice\n",
    "\n",
    "# case 1.\n",
    "print(list(islice('ABCDEFG', 2)))\n",
    "\n",
    "# case 2.\n",
    "print(list(islice('ABCDEFG', 2, 4)))\n",
    "\n",
    "# case 3.\n",
    "print(list(islice('ABCDEFG', 2, None)))\n",
    "\n",
    "# case 4.\n",
    "print(list(islice('ABCDEFG', 0, None, 2)))"
   ]
  },
  {
   "cell_type": "code",
   "execution_count": 91,
   "metadata": {},
   "outputs": [
    {
     "name": "stdout",
     "output_type": "stream",
     "text": [
      "0 1 2 3 4 "
     ]
    }
   ],
   "source": [
    "# case 5.\n",
    "\n",
    "for i in islice(range(10), 5):\n",
    "    print(i, end = \" \")"
   ]
  },
  {
   "cell_type": "code",
   "execution_count": 92,
   "metadata": {},
   "outputs": [
    {
     "name": "stdout",
     "output_type": "stream",
     "text": [
      "0 7 14 21 28 35 42 49 56 63 70 77 84 91 98 "
     ]
    }
   ],
   "source": [
    "# case 6.\n",
    "\n",
    "for i in islice(range(100), 0, 100, 7):\n",
    "    print(i, end = \" \")"
   ]
  },
  {
   "cell_type": "markdown",
   "metadata": {},
   "source": [
    "### 3.9 starmap()\n",
    "\n",
    "- This iterator takes a function and tuple list as argument and returns the value according to the function from each tuple of list.\n",
    "- Used instead of map() when argument parameters are already grouped in tuples from a single iterable (the data has been “pre-zipped”).\n",
    "- The difference between map() and starmap() parallels the distinction between function(a,b) and function(*c)\n",
    "\n",
    "```\n",
    "def starmap(function, iterable):\n",
    "    # starmap(pow, [(2,5), (3,2), (10,3)]) --> 32 9 1000\n",
    "    for args in iterable:\n",
    "        yield function(*args)\n",
    "```\n",
    "\n",
    "- [map() vs starmap()](https://stackoverflow.com/questions/46172018/performance-of-map-vs-starmap)\n",
    "\n",
    "> **map** builds a new tuple that is passed to the \"mapped function\" every time a __next__ call is made. \n",
    "Actually it probably won't create a new tuple from scratch because Python maintains a storage for unused tuples. But in that case map has to find an unused tuple of the right size.\n",
    "\n",
    "> **starmap** checks if the next item in the iterable is of type tuple and if so it just passes it on.\n",
    "\n",
    "- [쉽게 설명한 영상](https://www.youtube.com/watch?v=Sbnpn-RThCw)"
   ]
  },
  {
   "cell_type": "code",
   "execution_count": 30,
   "metadata": {},
   "outputs": [],
   "source": [
    "from itertools import starmap"
   ]
  },
  {
   "cell_type": "code",
   "execution_count": 112,
   "metadata": {},
   "outputs": [
    {
     "name": "stdout",
     "output_type": "stream",
     "text": [
      "32\n",
      "16\n",
      "128\n"
     ]
    }
   ],
   "source": [
    "# map을 이용\n",
    "\n",
    "values = map(pow, (2, 4, 2), (5, 2, 7))\n",
    "for value in values:\n",
    "    print(value)"
   ]
  },
  {
   "cell_type": "code",
   "execution_count": 113,
   "metadata": {},
   "outputs": [
    {
     "ename": "TypeError",
     "evalue": "pow expected at least 2 arguments, got 1",
     "output_type": "error",
     "traceback": [
      "\u001b[0;31m---------------------------------------------------------------------------\u001b[0m",
      "\u001b[0;31mTypeError\u001b[0m                                 Traceback (most recent call last)",
      "\u001b[0;32m<ipython-input-113-53ea3d33e87d>\u001b[0m in \u001b[0;36m<module>\u001b[0;34m\u001b[0m\n\u001b[1;32m      2\u001b[0m \u001b[0;34m\u001b[0m\u001b[0m\n\u001b[1;32m      3\u001b[0m \u001b[0mvalues\u001b[0m \u001b[0;34m=\u001b[0m \u001b[0mmap\u001b[0m\u001b[0;34m(\u001b[0m\u001b[0mpow\u001b[0m\u001b[0;34m,\u001b[0m \u001b[0;34m[\u001b[0m\u001b[0;34m(\u001b[0m\u001b[0;36m2\u001b[0m\u001b[0;34m,\u001b[0m\u001b[0;36m5\u001b[0m\u001b[0;34m)\u001b[0m\u001b[0;34m,\u001b[0m \u001b[0;34m(\u001b[0m\u001b[0;36m4\u001b[0m\u001b[0;34m,\u001b[0m\u001b[0;36m2\u001b[0m\u001b[0;34m)\u001b[0m\u001b[0;34m,\u001b[0m \u001b[0;34m(\u001b[0m\u001b[0;36m2\u001b[0m\u001b[0;34m,\u001b[0m\u001b[0;36m7\u001b[0m\u001b[0;34m)\u001b[0m\u001b[0;34m]\u001b[0m\u001b[0;34m)\u001b[0m\u001b[0;34m\u001b[0m\u001b[0m\n\u001b[0;32m----> 4\u001b[0;31m \u001b[0;32mfor\u001b[0m \u001b[0mvalue\u001b[0m \u001b[0;32min\u001b[0m \u001b[0mvalues\u001b[0m\u001b[0;34m:\u001b[0m\u001b[0;34m\u001b[0m\u001b[0m\n\u001b[0m\u001b[1;32m      5\u001b[0m     \u001b[0mprint\u001b[0m\u001b[0;34m(\u001b[0m\u001b[0mvalue\u001b[0m\u001b[0;34m)\u001b[0m\u001b[0;34m\u001b[0m\u001b[0m\n",
      "\u001b[0;31mTypeError\u001b[0m: pow expected at least 2 arguments, got 1"
     ]
    }
   ],
   "source": [
    "# map을 이렇게도 사용할 수 있나?\n",
    "\n",
    "values = map(pow, [(2,5), (4,2), (2,7)])\n",
    "for value in values:\n",
    "    print(value)"
   ]
  },
  {
   "cell_type": "code",
   "execution_count": 114,
   "metadata": {},
   "outputs": [
    {
     "name": "stdout",
     "output_type": "stream",
     "text": [
      "32\n",
      "16\n",
      "128\n"
     ]
    }
   ],
   "source": [
    "# 위의 경우를 starmap을 이용하면...?\n",
    "\n",
    "values = starmap(pow, [(2,5), (4,2), (2,7)])\n",
    "for value in values:\n",
    "    print(value)"
   ]
  },
  {
   "cell_type": "code",
   "execution_count": null,
   "metadata": {},
   "outputs": [],
   "source": [
    "# initializing tuple list \n",
    "\n",
    "sample_tuple_list = [(1, 10, 5), (8, 4, 1), (5, 4, 9), (11, 10 , 1)] \n",
    "\n",
    "print(\"The values acc. to function are : \",end=\"\") \n",
    "print(list(starmap(min, sample_tuple_list))) "
   ]
  },
  {
   "cell_type": "markdown",
   "metadata": {},
   "source": [
    "### 3.10 takewhile()\n",
    "\n",
    "- 필터링 함수, 특정 값이 나올 때 까지 모든 요소를 리턴합니다.\n",
    "\n",
    "```python3\n",
    "def takewhile(predicate, iterable):\n",
    "    # takewhile(lambda x: x<5, [1,4,6,4,1]) --> 1 4\n",
    "    for x in iterable:\n",
    "        if predicate(x):\n",
    "            yield x\n",
    "        else:\n",
    "            break\n",
    "```"
   ]
  },
  {
   "cell_type": "code",
   "execution_count": 40,
   "metadata": {},
   "outputs": [
    {
     "data": {
      "text/plain": [
       "[1, 4]"
      ]
     },
     "execution_count": 40,
     "metadata": {},
     "output_type": "execute_result"
    }
   ],
   "source": [
    "from itertools import takewhile\n",
    "\n",
    "list(takewhile(lambda x: x<5, [1,4,6,4,1]))"
   ]
  },
  {
   "cell_type": "markdown",
   "metadata": {},
   "source": [
    "### 3.11 tee()\n",
    "\n",
    "- Return n independent iterators from a single iterable.\n",
    "- 반복 가능한 복사본을 만드는 개념\n",
    "- 단, tee를 사용 할 때 원본은 보존을 하고 사용해야 합니다.(the original iterable should not be used anywhere)\n",
    "\n",
    "```\n",
    "def tee(iterable, n=2):\n",
    "    it = iter(iterable)\n",
    "    deques = [collections.deque() for i in range(n)]\n",
    "    def gen(mydeque):\n",
    "        while True:\n",
    "            if not mydeque:             # when the local deque is empty\n",
    "                try:\n",
    "                    newval = next(it)   # fetch a new value and\n",
    "                except StopIteration:\n",
    "                    return\n",
    "                for d in deques:        # load it to all the deques\n",
    "                    d.append(newval)\n",
    "            yield mydeque.popleft()\n",
    "    return tuple(gen(d) for d in deques)\n",
    "```"
   ]
  },
  {
   "cell_type": "code",
   "execution_count": 58,
   "metadata": {},
   "outputs": [],
   "source": [
    "from itertools import tee"
   ]
  },
  {
   "cell_type": "code",
   "execution_count": 59,
   "metadata": {},
   "outputs": [
    {
     "name": "stdout",
     "output_type": "stream",
     "text": [
      "value1 object : <itertools._tee object at 0x110753288>\n",
      "value1 list : [0, 1, 2, 3, 4, 5, 6, 7, 8, 9, 10, 11, 12, 13, 14]\n",
      "value1 is empty : []\n",
      "---------------------\n",
      "value2 object : <itertools._tee object at 0x1106f6808>\n",
      "value2 list : [0, 1, 2, 3, 4, 5, 6, 7, 8, 9, 10, 11, 12, 13, 14]\n",
      "value2 is empty : []\n",
      "---------------------\n",
      "value3 object : <itertools._tee object at 0x1106f6788>\n",
      "value3 list : [0, 1, 2, 3, 4, 5, 6, 7, 8, 9, 10, 11, 12, 13, 14]\n",
      "value3 is empty : []\n"
     ]
    }
   ],
   "source": [
    "# case 1.\n",
    "\n",
    "value1, value2, value3 = tee(range(15), 3)\n",
    "\n",
    "print(f'value1 object : {value1}')\n",
    "print(f'value1 list : {list(value1)}')\n",
    "print(f'value1 is empty : {list(value1)}')\n",
    "print('---------------------')\n",
    "\n",
    "\n",
    "print(f'value2 object : {value2}')\n",
    "print(f'value2 list : {list(value2)}')\n",
    "print(f'value2 is empty : {list(value2)}')\n",
    "print('---------------------')\n",
    "\n",
    "\n",
    "print(f'value3 object : {value3}')\n",
    "print(f'value3 list : {list(value3)}')\n",
    "print(f'value3 is empty : {list(value3)}')"
   ]
  },
  {
   "cell_type": "code",
   "execution_count": 60,
   "metadata": {},
   "outputs": [
    {
     "name": "stdout",
     "output_type": "stream",
     "text": [
      "<generator object <genexpr> at 0x11070f410>\n"
     ]
    }
   ],
   "source": [
    "# case 2. \n",
    "\n",
    "item = (x for x in range(10) if x < 6)\n",
    "print(item)"
   ]
  },
  {
   "cell_type": "code",
   "execution_count": 61,
   "metadata": {},
   "outputs": [
    {
     "name": "stdout",
     "output_type": "stream",
     "text": [
      "[0, 1, 2, 3, 4, 5]\n",
      "value1 list : []\n",
      "value2 list : []\n",
      "value3 list : []\n"
     ]
    }
   ],
   "source": [
    "value1, value2, value3 = tee(item, 3)\n",
    "\n",
    "print(list(item))\n",
    "\n",
    "print(f'value1 list : {list(value1)}')\n",
    "print(f'value2 list : {list(value2)}')\n",
    "print(f'value3 list : {list(value3)}')"
   ]
  },
  {
   "cell_type": "markdown",
   "metadata": {},
   "source": [
    "### 3.12 zip_longest()\n",
    "\n",
    "- Make an iterator that aggregates elements from each of the iterables.\n",
    "- If the iterables are of uneven length, missing values are filled-in with fillvalue.\n",
    "- If one of the iterables is potentially infinite, then the zip_longest() function should be wrapped with something that limits the number of calls (for example islice() or takewhile()).\n",
    "- [zip() vs zip_longest()](https://excelsior-cjh.tistory.com/100)"
   ]
  },
  {
   "cell_type": "code",
   "execution_count": 63,
   "metadata": {},
   "outputs": [],
   "source": [
    "from itertools import zip_longest"
   ]
  },
  {
   "cell_type": "code",
   "execution_count": 67,
   "metadata": {},
   "outputs": [
    {
     "data": {
      "text/plain": [
       "[('A', 'x'), ('B', 'y'), ('C', '-'), ('D', '-')]"
      ]
     },
     "execution_count": 67,
     "metadata": {},
     "output_type": "execute_result"
    }
   ],
   "source": [
    "list(zip_longest('ABCD', 'xy', fillvalue='-'))"
   ]
  },
  {
   "cell_type": "markdown",
   "metadata": {},
   "source": [
    "#### zip()\n",
    "\n",
    "![alt text](https://img1.daumcdn.net/thumb/R1280x0/?scode=mtistory2&fname=http%3A%2F%2Fcfile5.uf.tistory.com%2Fimage%2F9980C43359C3A44C40A01F)"
   ]
  },
  {
   "cell_type": "code",
   "execution_count": 70,
   "metadata": {},
   "outputs": [
    {
     "name": "stdout",
     "output_type": "stream",
     "text": [
      "[(1, 4), (2, 5), (3, 6)]\n"
     ]
    }
   ],
   "source": [
    "# 길이가 같을 경우\n",
    "\n",
    "x = [1, 2, 3]\n",
    "y = [4, 5, 6]\n",
    " \n",
    "zipped = zip(x, y)\n",
    "print(list(zipped))"
   ]
  },
  {
   "cell_type": "code",
   "execution_count": 69,
   "metadata": {},
   "outputs": [
    {
     "name": "stdout",
     "output_type": "stream",
     "text": [
      "[(1, 4), (2, 5), (3, 6)]\n"
     ]
    }
   ],
   "source": [
    "# 길이가 다를 경우\n",
    "\n",
    "x = [1, 2, 3]\n",
    "y = [4, 5, 6, 7]\n",
    " \n",
    "zipped = zip(x, y)\n",
    "print(list(zipped))"
   ]
  },
  {
   "cell_type": "code",
   "execution_count": 71,
   "metadata": {},
   "outputs": [
    {
     "name": "stdout",
     "output_type": "stream",
     "text": [
      "[(1, 4), (2, 5), (3, 6), (None, 7)]\n"
     ]
    }
   ],
   "source": [
    "# zip_longest 사용, 매칭되는 값이 없을 경우 기본적으로 None으로 지정\n",
    "\n",
    "x = [1, 2, 3]\n",
    "y = [4, 5, 6, 7]\n",
    " \n",
    "zipped = zip_longest(x, y)\n",
    "print(list(zipped))"
   ]
  },
  {
   "cell_type": "code",
   "execution_count": 73,
   "metadata": {},
   "outputs": [
    {
     "name": "stdout",
     "output_type": "stream",
     "text": [
      "[(1, 4), (2, 5), (3, 6), (99, 7)]\n"
     ]
    }
   ],
   "source": [
    "# zip_longest 사용\n",
    "\n",
    "x = [1, 2, 3]\n",
    "y = [4, 5, 6, 7]\n",
    " \n",
    "zipped = zip_longest(x, y, fillvalue=99)\n",
    "print(list(zipped))"
   ]
  }
 ],
 "metadata": {
  "kernelspec": {
   "display_name": "Python 3",
   "language": "python",
   "name": "python3"
  },
  "language_info": {
   "codemirror_mode": {
    "name": "ipython",
    "version": 3
   },
   "file_extension": ".py",
   "mimetype": "text/x-python",
   "name": "python",
   "nbconvert_exporter": "python",
   "pygments_lexer": "ipython3",
   "version": "3.6.6"
  }
 },
 "nbformat": 4,
 "nbformat_minor": 2
}
