{
  "nbformat": 4,
  "nbformat_minor": 0,
  "metadata": {
    "colab": {
      "name": "numpy_심화.ipynb",
      "version": "0.3.2",
      "provenance": [],
      "collapsed_sections": [
        "8l1hlQWHH8w5",
        "Qw5WUT8BC2IJ",
        "f185R_wnJEGb",
        "46fXwEUyC4QV",
        "M3ULdAthC4Y1"
      ]
    },
    "kernelspec": {
      "name": "python3",
      "display_name": "Python 3"
    }
  },
  "cells": [
    {
      "cell_type": "markdown",
      "metadata": {
        "id": "qFQNARjC7pN5",
        "colab_type": "text"
      },
      "source": [
        "<img src=\"https://images-na.ssl-images-amazon.com/images/I/51cUNf8zukL._SX379_BO1,204,203,200_.jpg\" width=\"200\" height=\"300\">\n",
        "\n",
        "- Appendix A: Advanced NumPy"
      ]
    },
    {
      "cell_type": "markdown",
      "metadata": {
        "id": "fYMxCrofPtpn",
        "colab_type": "text"
      },
      "source": [
        "###성능팁\n",
        "Numpy를 활용하는 코드에서 좋은 성능을 이끌어내는 방법은 직관적\n",
        "순수 파이썬 반복문은 상대적으로 느리므로 일반적으로 배열연산으로 대체\n",
        "- 파이썬 반복문과 조건문을 배열연산과 불리언 배열연산으로 변환\n",
        "- 가능한 Broadcasting 사용\n",
        "- 배열의 뷰(슬라이스)를 사용해서 데이터 복사를 피함\n",
        "- ufunc 메서드 활용\n",
        "\n",
        "Numpy만으로 원하는 성능을 이끌어내지 못한다면 코드를 C나 포트란으로 작성하거나 아니면 Cython을 사용해서 성능을 높일 수 있다."
      ]
    },
    {
      "cell_type": "code",
      "metadata": {
        "id": "6SiOpuyilwH2",
        "colab_type": "code",
        "colab": {}
      },
      "source": [
        "import numpy as np\n",
        "import pandas as pd\n",
        "np.random.seed(2019111030)\n",
        "import matplotlib.pyplot as plt"
      ],
      "execution_count": 0,
      "outputs": []
    },
    {
      "cell_type": "markdown",
      "metadata": {
        "id": "8l1hlQWHH8w5",
        "colab_type": "text"
      },
      "source": [
        "#NumPy dtype Hierarchy"
      ]
    },
    {
      "cell_type": "markdown",
      "metadata": {
        "id": "oPyRJ3xmLLCK",
        "colab_type": "text"
      },
      "source": [
        "<img src=\"https://learning.oreilly.com/library/view/python-for-data/9781449323592/httpatomoreillycomsourceoreillyimages2172220.png\">"
      ]
    },
    {
      "cell_type": "code",
      "metadata": {
        "id": "vPkzjdASH_EC",
        "colab_type": "code",
        "outputId": "927c52b3-5512-4754-8ac0-510d6ad51273",
        "colab": {
          "base_uri": "https://localhost:8080/",
          "height": 34
        }
      },
      "source": [
        "ints = np.ones(10, dtype=np.uint16)\n",
        "floats = np.ones(10, dtype=np.float32)\n",
        "np.issubdtype(ints.dtype, np.integer)\n",
        "np.issubdtype(floats.dtype, np.floating)"
      ],
      "execution_count": 3,
      "outputs": [
        {
          "output_type": "execute_result",
          "data": {
            "text/plain": [
              "True"
            ]
          },
          "metadata": {
            "tags": []
          },
          "execution_count": 3
        }
      ]
    },
    {
      "cell_type": "markdown",
      "metadata": {
        "id": "ezb0tYoTLREn",
        "colab_type": "text"
      },
      "source": [
        ""
      ]
    },
    {
      "cell_type": "code",
      "metadata": {
        "id": "1XNqdhnWIBIi",
        "colab_type": "code",
        "outputId": "43ba2836-b082-4bc6-b2af-0d13c8b5baeb",
        "colab": {
          "base_uri": "https://localhost:8080/",
          "height": 136
        }
      },
      "source": [
        "np.float64.mro()\n"
      ],
      "execution_count": 4,
      "outputs": [
        {
          "output_type": "execute_result",
          "data": {
            "text/plain": [
              "[numpy.float64,\n",
              " numpy.floating,\n",
              " numpy.inexact,\n",
              " numpy.number,\n",
              " numpy.generic,\n",
              " float,\n",
              " object]"
            ]
          },
          "metadata": {
            "tags": []
          },
          "execution_count": 4
        }
      ]
    },
    {
      "cell_type": "code",
      "metadata": {
        "id": "I5l-zuDsIDi4",
        "colab_type": "code",
        "colab": {
          "base_uri": "https://localhost:8080/",
          "height": 34
        },
        "outputId": "dd8d6146-ccd7-4792-b4e0-13d1b4beb46a"
      },
      "source": [
        "np.issubdtype(ints.dtype, np.number)\n"
      ],
      "execution_count": 5,
      "outputs": [
        {
          "output_type": "execute_result",
          "data": {
            "text/plain": [
              "True"
            ]
          },
          "metadata": {
            "tags": []
          },
          "execution_count": 5
        }
      ]
    },
    {
      "cell_type": "markdown",
      "metadata": {
        "id": "Qw5WUT8BC2IJ",
        "colab_type": "text"
      },
      "source": [
        "#Advanced Array Manipulation"
      ]
    },
    {
      "cell_type": "markdown",
      "metadata": {
        "id": "sAKjvY3CIQWo",
        "colab_type": "text"
      },
      "source": [
        "##Reshaping Arrays"
      ]
    },
    {
      "cell_type": "code",
      "metadata": {
        "id": "oxV_HefnINmR",
        "colab_type": "code",
        "colab": {
          "base_uri": "https://localhost:8080/",
          "height": 85
        },
        "outputId": "539c7209-1ea3-4ce7-e31c-922ef11316db"
      },
      "source": [
        "arr = np.arange(8)\n",
        "arr\n",
        "arr.reshape((4, 2))"
      ],
      "execution_count": 6,
      "outputs": [
        {
          "output_type": "execute_result",
          "data": {
            "text/plain": [
              "array([[0, 1],\n",
              "       [2, 3],\n",
              "       [4, 5],\n",
              "       [6, 7]])"
            ]
          },
          "metadata": {
            "tags": []
          },
          "execution_count": 6
        }
      ]
    },
    {
      "cell_type": "markdown",
      "metadata": {
        "id": "aDSQGC9LIVtP",
        "colab_type": "text"
      },
      "source": [
        ""
      ]
    },
    {
      "cell_type": "code",
      "metadata": {
        "id": "v-6nbdv4IMVf",
        "colab_type": "code",
        "colab": {
          "base_uri": "https://localhost:8080/",
          "height": 51
        },
        "outputId": "36243c4c-92d6-476f-8ee3-fe96d283b730"
      },
      "source": [
        "arr.reshape((4, 2)).reshape((2, 4))"
      ],
      "execution_count": 7,
      "outputs": [
        {
          "output_type": "execute_result",
          "data": {
            "text/plain": [
              "array([[0, 1, 2, 3],\n",
              "       [4, 5, 6, 7]])"
            ]
          },
          "metadata": {
            "tags": []
          },
          "execution_count": 7
        }
      ]
    },
    {
      "cell_type": "code",
      "metadata": {
        "id": "bci90zwpITGG",
        "colab_type": "code",
        "outputId": "baf419ff-c18d-4178-a7a9-0d1fe27e3a1c",
        "colab": {
          "base_uri": "https://localhost:8080/",
          "height": 102
        }
      },
      "source": [
        "arr = np.arange(15)\n",
        "arr.reshape((5, -1))"
      ],
      "execution_count": 8,
      "outputs": [
        {
          "output_type": "execute_result",
          "data": {
            "text/plain": [
              "array([[ 0,  1,  2],\n",
              "       [ 3,  4,  5],\n",
              "       [ 6,  7,  8],\n",
              "       [ 9, 10, 11],\n",
              "       [12, 13, 14]])"
            ]
          },
          "metadata": {
            "tags": []
          },
          "execution_count": 8
        }
      ]
    },
    {
      "cell_type": "code",
      "metadata": {
        "id": "fWSW5FaaIWNx",
        "colab_type": "code",
        "outputId": "daeaba1b-384c-41e8-8286-88c45d2975e3",
        "colab": {
          "base_uri": "https://localhost:8080/",
          "height": 68
        }
      },
      "source": [
        "other_arr = np.ones((3, 5))\n",
        "other_arr.shape\n",
        "arr.reshape(other_arr.shape)"
      ],
      "execution_count": 9,
      "outputs": [
        {
          "output_type": "execute_result",
          "data": {
            "text/plain": [
              "array([[ 0,  1,  2,  3,  4],\n",
              "       [ 5,  6,  7,  8,  9],\n",
              "       [10, 11, 12, 13, 14]])"
            ]
          },
          "metadata": {
            "tags": []
          },
          "execution_count": 9
        }
      ]
    },
    {
      "cell_type": "code",
      "metadata": {
        "id": "WuNbLtrIIXhp",
        "colab_type": "code",
        "outputId": "ad49fd3e-0f72-4be9-a366-030cf3de9ed4",
        "colab": {
          "base_uri": "https://localhost:8080/",
          "height": 34
        }
      },
      "source": [
        "arr = np.arange(15).reshape((5, 3))\n",
        "arr\n",
        "arr.ravel()"
      ],
      "execution_count": 10,
      "outputs": [
        {
          "output_type": "execute_result",
          "data": {
            "text/plain": [
              "array([ 0,  1,  2,  3,  4,  5,  6,  7,  8,  9, 10, 11, 12, 13, 14])"
            ]
          },
          "metadata": {
            "tags": []
          },
          "execution_count": 10
        }
      ]
    },
    {
      "cell_type": "code",
      "metadata": {
        "id": "1Y8vykZ_IZZl",
        "colab_type": "code",
        "outputId": "99524279-ad7d-4b15-ad74-b539b7b380cf",
        "colab": {
          "base_uri": "https://localhost:8080/",
          "height": 34
        }
      },
      "source": [
        "arr.flatten()\n"
      ],
      "execution_count": 11,
      "outputs": [
        {
          "output_type": "execute_result",
          "data": {
            "text/plain": [
              "array([ 0,  1,  2,  3,  4,  5,  6,  7,  8,  9, 10, 11, 12, 13, 14])"
            ]
          },
          "metadata": {
            "tags": []
          },
          "execution_count": 11
        }
      ]
    },
    {
      "cell_type": "markdown",
      "metadata": {
        "id": "OqnHZwO6IbDU",
        "colab_type": "text"
      },
      "source": [
        "##C Versus Fortran Order"
      ]
    },
    {
      "cell_type": "markdown",
      "metadata": {
        "id": "sUCpFgdY_8Dq",
        "colab_type": "text"
      },
      "source": [
        ""
      ]
    },
    {
      "cell_type": "code",
      "metadata": {
        "id": "fwh6mA8PIc3o",
        "colab_type": "code",
        "outputId": "30554c0e-6e29-4c52-c8ea-57318d76cc99",
        "colab": {
          "base_uri": "https://localhost:8080/",
          "height": 34
        }
      },
      "source": [
        "arr = np.arange(12).reshape((3, 4))\n",
        "arr\n",
        "arr.ravel()\n",
        "arr.ravel('F')"
      ],
      "execution_count": 12,
      "outputs": [
        {
          "output_type": "execute_result",
          "data": {
            "text/plain": [
              "array([ 0,  4,  8,  1,  5,  9,  2,  6, 10,  3,  7, 11])"
            ]
          },
          "metadata": {
            "tags": []
          },
          "execution_count": 12
        }
      ]
    },
    {
      "cell_type": "markdown",
      "metadata": {
        "id": "7Rff2v8bIfWC",
        "colab_type": "text"
      },
      "source": [
        "##Concatenating and Splitting Arrays"
      ]
    },
    {
      "cell_type": "code",
      "metadata": {
        "id": "ewePtoCcIh_R",
        "colab_type": "code",
        "colab": {
          "base_uri": "https://localhost:8080/",
          "height": 51
        },
        "outputId": "11f741fc-0372-4730-b85f-0e4ef8e521ae"
      },
      "source": [
        "arr1 = np.array([[1, 2, 3], [4, 5, 6]])\n",
        "arr2 = np.array([[7, 8, 9], [10, 11, 12]])\n",
        "np.concatenate([arr1, arr2], axis=0)\n",
        "np.concatenate([arr1, arr2], axis=1)"
      ],
      "execution_count": 13,
      "outputs": [
        {
          "output_type": "execute_result",
          "data": {
            "text/plain": [
              "array([[ 1,  2,  3,  7,  8,  9],\n",
              "       [ 4,  5,  6, 10, 11, 12]])"
            ]
          },
          "metadata": {
            "tags": []
          },
          "execution_count": 13
        }
      ]
    },
    {
      "cell_type": "code",
      "metadata": {
        "id": "KRqFmCueIiIp",
        "colab_type": "code",
        "colab": {
          "base_uri": "https://localhost:8080/",
          "height": 51
        },
        "outputId": "496a53bd-7159-4d4a-fdf5-3950bc8c0667"
      },
      "source": [
        "np.vstack((arr1, arr2))\n",
        "np.hstack((arr1, arr2))"
      ],
      "execution_count": 14,
      "outputs": [
        {
          "output_type": "execute_result",
          "data": {
            "text/plain": [
              "array([[ 1,  2,  3,  7,  8,  9],\n",
              "       [ 4,  5,  6, 10, 11, 12]])"
            ]
          },
          "metadata": {
            "tags": []
          },
          "execution_count": 14
        }
      ]
    },
    {
      "cell_type": "code",
      "metadata": {
        "id": "6Ouu4_YHImCd",
        "colab_type": "code",
        "colab": {
          "base_uri": "https://localhost:8080/",
          "height": 51
        },
        "outputId": "2258ca13-8522-441a-e015-ce885b0691d0"
      },
      "source": [
        "arr = np.random.randn(5, 2)\n",
        "arr\n",
        "first, second, third = np.split(arr, [1, 3])\n",
        "first\n",
        "second\n",
        "third"
      ],
      "execution_count": 15,
      "outputs": [
        {
          "output_type": "execute_result",
          "data": {
            "text/plain": [
              "array([[-1.46004745, -2.48781637],\n",
              "       [-0.39386275, -0.12151147]])"
            ]
          },
          "metadata": {
            "tags": []
          },
          "execution_count": 15
        }
      ]
    },
    {
      "cell_type": "markdown",
      "metadata": {
        "id": "crJD-T60In2k",
        "colab_type": "text"
      },
      "source": [
        "###Stacking helpers: r and c"
      ]
    },
    {
      "cell_type": "code",
      "metadata": {
        "id": "HQcxsqpBIqOp",
        "colab_type": "code",
        "outputId": "f9a7ce78-e976-447d-b6ee-cf26881a7ed9",
        "colab": {
          "base_uri": "https://localhost:8080/",
          "height": 119
        }
      },
      "source": [
        "arr = np.arange(6)\n",
        "arr1 = arr.reshape((3, 2))\n",
        "arr2 = np.random.randn(3, 2)\n",
        "np.r_[arr1, arr2]\n",
        "np.c_[np.r_[arr1, arr2], arr]"
      ],
      "execution_count": 16,
      "outputs": [
        {
          "output_type": "execute_result",
          "data": {
            "text/plain": [
              "array([[ 0.00000000e+00,  1.00000000e+00,  0.00000000e+00],\n",
              "       [ 2.00000000e+00,  3.00000000e+00,  1.00000000e+00],\n",
              "       [ 4.00000000e+00,  5.00000000e+00,  2.00000000e+00],\n",
              "       [ 1.32890065e+00,  9.90453162e-02,  3.00000000e+00],\n",
              "       [ 7.37815015e-01, -1.15388097e+00,  4.00000000e+00],\n",
              "       [-4.77404320e-03, -1.67277457e+00,  5.00000000e+00]])"
            ]
          },
          "metadata": {
            "tags": []
          },
          "execution_count": 16
        }
      ]
    },
    {
      "cell_type": "code",
      "metadata": {
        "id": "gu_cquIzIrpa",
        "colab_type": "code",
        "outputId": "3c706f34-7b09-4f13-d6b7-0af9fde1757a",
        "colab": {
          "base_uri": "https://localhost:8080/",
          "height": 102
        }
      },
      "source": [
        "np.c_[1:6, -10:-5]"
      ],
      "execution_count": 17,
      "outputs": [
        {
          "output_type": "execute_result",
          "data": {
            "text/plain": [
              "array([[  1, -10],\n",
              "       [  2,  -9],\n",
              "       [  3,  -8],\n",
              "       [  4,  -7],\n",
              "       [  5,  -6]])"
            ]
          },
          "metadata": {
            "tags": []
          },
          "execution_count": 17
        }
      ]
    },
    {
      "cell_type": "markdown",
      "metadata": {
        "id": "G9w0y36VIvK4",
        "colab_type": "text"
      },
      "source": [
        "##Repeating Elements: tile and repeat"
      ]
    },
    {
      "cell_type": "code",
      "metadata": {
        "id": "FaeeH7JWIxMw",
        "colab_type": "code",
        "colab": {
          "base_uri": "https://localhost:8080/",
          "height": 34
        },
        "outputId": "b55edf1f-fdca-4130-ca19-48327d8c3d09"
      },
      "source": [
        "arr = np.arange(3)\n",
        "arr\n",
        "arr.repeat(3)"
      ],
      "execution_count": 18,
      "outputs": [
        {
          "output_type": "execute_result",
          "data": {
            "text/plain": [
              "array([0, 0, 0, 1, 1, 1, 2, 2, 2])"
            ]
          },
          "metadata": {
            "tags": []
          },
          "execution_count": 18
        }
      ]
    },
    {
      "cell_type": "code",
      "metadata": {
        "id": "UwC5gplmIxS5",
        "colab_type": "code",
        "colab": {
          "base_uri": "https://localhost:8080/",
          "height": 34
        },
        "outputId": "04b91526-2a94-4025-ada6-a09c71f662aa"
      },
      "source": [
        "arr.repeat([2, 3, 4])"
      ],
      "execution_count": 19,
      "outputs": [
        {
          "output_type": "execute_result",
          "data": {
            "text/plain": [
              "array([0, 0, 1, 1, 1, 2, 2, 2, 2])"
            ]
          },
          "metadata": {
            "tags": []
          },
          "execution_count": 19
        }
      ]
    },
    {
      "cell_type": "code",
      "metadata": {
        "id": "m1ZzWYTxIxVn",
        "colab_type": "code",
        "colab": {
          "base_uri": "https://localhost:8080/",
          "height": 85
        },
        "outputId": "331765df-21e3-4df6-8502-dae2d6c9d563"
      },
      "source": [
        "arr = np.random.randn(2, 2)\n",
        "arr\n",
        "arr.repeat(2, axis=0)"
      ],
      "execution_count": 20,
      "outputs": [
        {
          "output_type": "execute_result",
          "data": {
            "text/plain": [
              "array([[-1.28057969, -1.2653703 ],\n",
              "       [-1.28057969, -1.2653703 ],\n",
              "       [-1.31508006, -0.80052604],\n",
              "       [-1.31508006, -0.80052604]])"
            ]
          },
          "metadata": {
            "tags": []
          },
          "execution_count": 20
        }
      ]
    },
    {
      "cell_type": "code",
      "metadata": {
        "id": "c-dLazioIxX_",
        "colab_type": "code",
        "colab": {
          "base_uri": "https://localhost:8080/",
          "height": 71
        },
        "outputId": "d377f814-0e68-4506-cbb5-6ab8f12ded71"
      },
      "source": [
        "arr.repeat([2, 3], axis=0)\n",
        "arr.repeat([2, 3], axis=1)"
      ],
      "execution_count": 21,
      "outputs": [
        {
          "output_type": "execute_result",
          "data": {
            "text/plain": [
              "array([[-1.28057969, -1.28057969, -1.2653703 , -1.2653703 , -1.2653703 ],\n",
              "       [-1.31508006, -1.31508006, -0.80052604, -0.80052604, -0.80052604]])"
            ]
          },
          "metadata": {
            "tags": []
          },
          "execution_count": 21
        }
      ]
    },
    {
      "cell_type": "code",
      "metadata": {
        "id": "4mwwlcgvIxam",
        "colab_type": "code",
        "colab": {
          "base_uri": "https://localhost:8080/",
          "height": 51
        },
        "outputId": "b6704619-ba2e-48cb-fb04-981943763079"
      },
      "source": [
        "arr\n",
        "np.tile(arr, 2)"
      ],
      "execution_count": 22,
      "outputs": [
        {
          "output_type": "execute_result",
          "data": {
            "text/plain": [
              "array([[-1.28057969, -1.2653703 , -1.28057969, -1.2653703 ],\n",
              "       [-1.31508006, -0.80052604, -1.31508006, -0.80052604]])"
            ]
          },
          "metadata": {
            "tags": []
          },
          "execution_count": 22
        }
      ]
    },
    {
      "cell_type": "code",
      "metadata": {
        "id": "keNJmLvXIxiH",
        "colab_type": "code",
        "colab": {
          "base_uri": "https://localhost:8080/",
          "height": 119
        },
        "outputId": "34c20db4-f9d5-4ee5-ff01-473e55bba420"
      },
      "source": [
        "arr\n",
        "np.tile(arr, (2, 1))\n",
        "np.tile(arr, (3, 2))"
      ],
      "execution_count": 23,
      "outputs": [
        {
          "output_type": "execute_result",
          "data": {
            "text/plain": [
              "array([[-1.28057969, -1.2653703 , -1.28057969, -1.2653703 ],\n",
              "       [-1.31508006, -0.80052604, -1.31508006, -0.80052604],\n",
              "       [-1.28057969, -1.2653703 , -1.28057969, -1.2653703 ],\n",
              "       [-1.31508006, -0.80052604, -1.31508006, -0.80052604],\n",
              "       [-1.28057969, -1.2653703 , -1.28057969, -1.2653703 ],\n",
              "       [-1.31508006, -0.80052604, -1.31508006, -0.80052604]])"
            ]
          },
          "metadata": {
            "tags": []
          },
          "execution_count": 23
        }
      ]
    },
    {
      "cell_type": "markdown",
      "metadata": {
        "id": "qEz0OIwUI92K",
        "colab_type": "text"
      },
      "source": [
        "##Fancy Indexing Equivalents: take and put"
      ]
    },
    {
      "cell_type": "code",
      "metadata": {
        "id": "FWnxanYpI_tf",
        "colab_type": "code",
        "colab": {
          "base_uri": "https://localhost:8080/",
          "height": 34
        },
        "outputId": "d5670f68-12e6-481c-d2f4-262658f74fa4"
      },
      "source": [
        "arr = np.arange(10) * 100\n",
        "inds = [7, 1, 2, 6]\n",
        "arr[inds]"
      ],
      "execution_count": 24,
      "outputs": [
        {
          "output_type": "execute_result",
          "data": {
            "text/plain": [
              "array([700, 100, 200, 600])"
            ]
          },
          "metadata": {
            "tags": []
          },
          "execution_count": 24
        }
      ]
    },
    {
      "cell_type": "code",
      "metadata": {
        "id": "oLOWfBh0I_5x",
        "colab_type": "code",
        "colab": {
          "base_uri": "https://localhost:8080/",
          "height": 34
        },
        "outputId": "3efe53ee-27ba-4e16-ab51-4ce694377dcb"
      },
      "source": [
        "arr.take(inds)\n",
        "arr.put(inds, 42)\n",
        "arr\n",
        "arr.put(inds, [40, 41, 42, 43])\n",
        "arr"
      ],
      "execution_count": 25,
      "outputs": [
        {
          "output_type": "execute_result",
          "data": {
            "text/plain": [
              "array([  0,  41,  42, 300, 400, 500,  43,  40, 800, 900])"
            ]
          },
          "metadata": {
            "tags": []
          },
          "execution_count": 25
        }
      ]
    },
    {
      "cell_type": "code",
      "metadata": {
        "id": "NTy2oXwxJAEp",
        "colab_type": "code",
        "colab": {
          "base_uri": "https://localhost:8080/",
          "height": 51
        },
        "outputId": "32335acb-4149-4a56-cc06-1c3390f4b4eb"
      },
      "source": [
        "inds = [2, 0, 2, 1]\n",
        "arr = np.random.randn(2, 4)\n",
        "arr\n",
        "arr.take(inds, axis=1)"
      ],
      "execution_count": 26,
      "outputs": [
        {
          "output_type": "execute_result",
          "data": {
            "text/plain": [
              "array([[-0.15018261,  0.27035163, -0.15018261, -0.13244357],\n",
              "       [-0.38533908, -1.4717813 , -0.38533908, -0.92681993]])"
            ]
          },
          "metadata": {
            "tags": []
          },
          "execution_count": 26
        }
      ]
    },
    {
      "cell_type": "markdown",
      "metadata": {
        "id": "f185R_wnJEGb",
        "colab_type": "text"
      },
      "source": [
        "#Broadcasting"
      ]
    },
    {
      "cell_type": "markdown",
      "metadata": {
        "id": "DSKS53BAAEQ1",
        "colab_type": "text"
      },
      "source": [
        "브로드캐스팅 규칙 : 만일 이어지는 각 차원에 대해 축의 길이가 일치하거나 둘 중 하나의 길이가 1이라면 두 배열은 브로드 캐스팅 호환이다. "
      ]
    },
    {
      "cell_type": "code",
      "metadata": {
        "id": "XbfrQB5tJGOB",
        "colab_type": "code",
        "colab": {
          "base_uri": "https://localhost:8080/",
          "height": 34
        },
        "outputId": "8ef0900c-1e82-4540-ec6b-c39d27ec42f7"
      },
      "source": [
        "arr = np.arange(5)\n",
        "arr\n",
        "arr * 4"
      ],
      "execution_count": 27,
      "outputs": [
        {
          "output_type": "execute_result",
          "data": {
            "text/plain": [
              "array([ 0,  4,  8, 12, 16])"
            ]
          },
          "metadata": {
            "tags": []
          },
          "execution_count": 27
        }
      ]
    },
    {
      "cell_type": "code",
      "metadata": {
        "id": "fsRrvBwLJGQk",
        "colab_type": "code",
        "colab": {
          "base_uri": "https://localhost:8080/",
          "height": 34
        },
        "outputId": "4000edb9-f78b-4e89-9130-02df8c1212d1"
      },
      "source": [
        "arr = np.random.randn(4, 3)\n",
        "arr.mean(0)\n",
        "demeaned = arr - arr.mean(0)\n",
        "demeaned\n",
        "demeaned.mean(0)"
      ],
      "execution_count": 28,
      "outputs": [
        {
          "output_type": "execute_result",
          "data": {
            "text/plain": [
              "array([-1.38777878e-16,  0.00000000e+00,  3.46944695e-17])"
            ]
          },
          "metadata": {
            "tags": []
          },
          "execution_count": 28
        }
      ]
    },
    {
      "cell_type": "code",
      "metadata": {
        "id": "up2_E6JKJGS-",
        "colab_type": "code",
        "colab": {
          "base_uri": "https://localhost:8080/",
          "height": 252
        },
        "outputId": "6c50bb33-e1ed-46fa-fcb3-167f6952e941"
      },
      "source": [
        "d.mean(0)\n",
        "arr\n",
        "row_means = arr.mean(1)\n",
        "row_means.shape\n",
        "row_means.reshape((4, 1))\n",
        "demeaned = arr - row_means.reshape((4, 1))\n",
        "demeaned.mean(1)"
      ],
      "execution_count": 81,
      "outputs": [
        {
          "output_type": "error",
          "ename": "NameError",
          "evalue": "ignored",
          "traceback": [
            "\u001b[0;31m---------------------------------------------------------------------------\u001b[0m",
            "\u001b[0;31mNameError\u001b[0m                                 Traceback (most recent call last)",
            "\u001b[0;32m<ipython-input-81-812c025d1030>\u001b[0m in \u001b[0;36m<module>\u001b[0;34m()\u001b[0m\n\u001b[0;32m----> 1\u001b[0;31m \u001b[0md\u001b[0m\u001b[0;34m.\u001b[0m\u001b[0mmean\u001b[0m\u001b[0;34m(\u001b[0m\u001b[0;36m0\u001b[0m\u001b[0;34m)\u001b[0m\u001b[0;34m\u001b[0m\u001b[0;34m\u001b[0m\u001b[0m\n\u001b[0m\u001b[1;32m      2\u001b[0m \u001b[0marr\u001b[0m\u001b[0;34m\u001b[0m\u001b[0;34m\u001b[0m\u001b[0m\n\u001b[1;32m      3\u001b[0m \u001b[0mrow_means\u001b[0m \u001b[0;34m=\u001b[0m \u001b[0marr\u001b[0m\u001b[0;34m.\u001b[0m\u001b[0mmean\u001b[0m\u001b[0;34m(\u001b[0m\u001b[0;36m1\u001b[0m\u001b[0;34m)\u001b[0m\u001b[0;34m\u001b[0m\u001b[0;34m\u001b[0m\u001b[0m\n\u001b[1;32m      4\u001b[0m \u001b[0mrow_means\u001b[0m\u001b[0;34m.\u001b[0m\u001b[0mshape\u001b[0m\u001b[0;34m\u001b[0m\u001b[0;34m\u001b[0m\u001b[0m\n\u001b[1;32m      5\u001b[0m \u001b[0mrow_means\u001b[0m\u001b[0;34m.\u001b[0m\u001b[0mreshape\u001b[0m\u001b[0;34m(\u001b[0m\u001b[0;34m(\u001b[0m\u001b[0;36m4\u001b[0m\u001b[0;34m,\u001b[0m \u001b[0;36m1\u001b[0m\u001b[0;34m)\u001b[0m\u001b[0;34m)\u001b[0m\u001b[0;34m\u001b[0m\u001b[0;34m\u001b[0m\u001b[0m\n",
            "\u001b[0;31mNameError\u001b[0m: name 'd' is not defined"
          ]
        }
      ]
    },
    {
      "cell_type": "markdown",
      "metadata": {
        "id": "H8jl6_ZNJKeB",
        "colab_type": "text"
      },
      "source": [
        "##Broadcasting Over Other Axes"
      ]
    },
    {
      "cell_type": "code",
      "metadata": {
        "id": "PCMbBPyGJNHJ",
        "colab_type": "code",
        "colab": {
          "base_uri": "https://localhost:8080/",
          "height": 184
        },
        "outputId": "d7289556-a022-4336-dbb0-3d3af00d27f4"
      },
      "source": [
        "arr - arr.mean(1)"
      ],
      "execution_count": 30,
      "outputs": [
        {
          "output_type": "error",
          "ename": "ValueError",
          "evalue": "ignored",
          "traceback": [
            "\u001b[0;31m---------------------------------------------------------------------------\u001b[0m",
            "\u001b[0;31mValueError\u001b[0m                                Traceback (most recent call last)",
            "\u001b[0;32m<ipython-input-30-8b8ada26fac0>\u001b[0m in \u001b[0;36m<module>\u001b[0;34m()\u001b[0m\n\u001b[0;32m----> 1\u001b[0;31m \u001b[0marr\u001b[0m \u001b[0;34m-\u001b[0m \u001b[0marr\u001b[0m\u001b[0;34m.\u001b[0m\u001b[0mmean\u001b[0m\u001b[0;34m(\u001b[0m\u001b[0;36m1\u001b[0m\u001b[0;34m)\u001b[0m\u001b[0;34m\u001b[0m\u001b[0;34m\u001b[0m\u001b[0m\n\u001b[0m",
            "\u001b[0;31mValueError\u001b[0m: operands could not be broadcast together with shapes (4,3) (4,) "
          ]
        }
      ]
    },
    {
      "cell_type": "code",
      "metadata": {
        "id": "mAf9iBQqJNJo",
        "colab_type": "code",
        "colab": {
          "base_uri": "https://localhost:8080/",
          "height": 85
        },
        "outputId": "4e9a233e-da1c-4a29-e424-bb2e911cbdaf"
      },
      "source": [
        "arr - arr.mean(1).reshape((4, 1))"
      ],
      "execution_count": 31,
      "outputs": [
        {
          "output_type": "execute_result",
          "data": {
            "text/plain": [
              "array([[-1.59558872,  0.69720229,  0.89838643],\n",
              "       [-0.46187196,  0.52065792, -0.05878595],\n",
              "       [-0.80080229,  0.55906404,  0.24173825],\n",
              "       [ 0.10704458, -0.32698022,  0.21993564]])"
            ]
          },
          "metadata": {
            "tags": []
          },
          "execution_count": 31
        }
      ]
    },
    {
      "cell_type": "code",
      "metadata": {
        "id": "1pzAez3JJNSh",
        "colab_type": "code",
        "colab": {
          "base_uri": "https://localhost:8080/",
          "height": 34
        },
        "outputId": "563b5627-4598-41d0-8835-8fefb11d0bb1"
      },
      "source": [
        "arr = np.zeros((4, 4))\n",
        "arr_3d = arr[:, np.newaxis, :]\n",
        "arr_3d.shape\n",
        "arr_1d = np.random.normal(size=3)\n",
        "arr_1d[:, np.newaxis]\n",
        "arr_1d[np.newaxis, :]"
      ],
      "execution_count": 32,
      "outputs": [
        {
          "output_type": "execute_result",
          "data": {
            "text/plain": [
              "array([[ 0.97208736,  0.48432538, -0.20653465]])"
            ]
          },
          "metadata": {
            "tags": []
          },
          "execution_count": 32
        }
      ]
    },
    {
      "cell_type": "code",
      "metadata": {
        "id": "tw6WXvVmJSSK",
        "colab_type": "code",
        "colab": {
          "base_uri": "https://localhost:8080/",
          "height": 119
        },
        "outputId": "488ed449-3989-4b13-e3b6-d661ed54bb17"
      },
      "source": [
        "arr = np.random.randn(3, 4, 5)\n",
        "depth_means = arr.mean(2)\n",
        "depth_means\n",
        "depth_means.shape\n",
        "demeaned = arr - depth_means[:, :, np.newaxis]\n",
        "demeaned.mean(2)"
      ],
      "execution_count": 33,
      "outputs": [
        {
          "output_type": "execute_result",
          "data": {
            "text/plain": [
              "array([[ 0.00000000e+00, -2.22044605e-17, -8.88178420e-17,\n",
              "        -1.33226763e-16],\n",
              "       [ 7.77156117e-17,  4.44089210e-17,  0.00000000e+00,\n",
              "        -8.88178420e-17],\n",
              "       [-2.22044605e-17, -4.44089210e-17,  2.22044605e-17,\n",
              "         2.77555756e-18]])"
            ]
          },
          "metadata": {
            "tags": []
          },
          "execution_count": 33
        }
      ]
    },
    {
      "cell_type": "markdown",
      "metadata": {
        "id": "urVt4q8CJYiN",
        "colab_type": "text"
      },
      "source": [
        "##Setting Array Values by Broadcasting"
      ]
    },
    {
      "cell_type": "code",
      "metadata": {
        "id": "IusYoS2fJZ2q",
        "colab_type": "code",
        "colab": {
          "base_uri": "https://localhost:8080/",
          "height": 85
        },
        "outputId": "6cde928d-bd3b-4a1c-ff1f-748a580bfaa3"
      },
      "source": [
        "arr = np.zeros((4, 3))\n",
        "arr[:] = 5\n",
        "arr"
      ],
      "execution_count": 34,
      "outputs": [
        {
          "output_type": "execute_result",
          "data": {
            "text/plain": [
              "array([[5., 5., 5.],\n",
              "       [5., 5., 5.],\n",
              "       [5., 5., 5.],\n",
              "       [5., 5., 5.]])"
            ]
          },
          "metadata": {
            "tags": []
          },
          "execution_count": 34
        }
      ]
    },
    {
      "cell_type": "code",
      "metadata": {
        "id": "Lv7vlYAaJZ8z",
        "colab_type": "code",
        "colab": {
          "base_uri": "https://localhost:8080/",
          "height": 85
        },
        "outputId": "ffd3d0c8-d33b-46ac-ceb8-8bcdf86f13bc"
      },
      "source": [
        "col = np.array([1.28, -0.42, 0.44, 1.6])\n",
        "arr[:] = col[:, np.newaxis]\n",
        "arr\n",
        "arr[:2] = [[-1.37], [0.509]]\n",
        "arr"
      ],
      "execution_count": 35,
      "outputs": [
        {
          "output_type": "execute_result",
          "data": {
            "text/plain": [
              "array([[-1.37 , -1.37 , -1.37 ],\n",
              "       [ 0.509,  0.509,  0.509],\n",
              "       [ 0.44 ,  0.44 ,  0.44 ],\n",
              "       [ 1.6  ,  1.6  ,  1.6  ]])"
            ]
          },
          "metadata": {
            "tags": []
          },
          "execution_count": 35
        }
      ]
    },
    {
      "cell_type": "markdown",
      "metadata": {
        "id": "evladISjC4F9",
        "colab_type": "text"
      },
      "source": [
        "#Advanced ufunc Usage"
      ]
    },
    {
      "cell_type": "markdown",
      "metadata": {
        "id": "Fd6FUKODSrgN",
        "colab_type": "text"
      },
      "source": [
        "- 많은 NumPy사용자는 유니버셜 함수로 제공되는 빠른 원소별 연산만을 주로 사용하는데, 반복문을 작성하지않고 좀더 간결한 코드를 작성할 수 있는 다양한 부가적 기능"
      ]
    },
    {
      "cell_type": "markdown",
      "metadata": {
        "id": "V5YeF273JdTA",
        "colab_type": "text"
      },
      "source": [
        "##ufunc Instance Methods"
      ]
    },
    {
      "cell_type": "markdown",
      "metadata": {
        "id": "yrlYiB7LS70s",
        "colab_type": "text"
      },
      "source": [
        "| Method            | Description                                                                                   |\n",
        "|-------------------|-----------------------------------------------------------------------------------------------|\n",
        "| reduce(x)         | Aggregate values by successive applications of the operation                                  |\n",
        "| accumulate(x)     | Aggregate values, preserving all partial aggregates                                           |\n",
        "| reduceat(x, bins) | “Local” reduce or “group by”. Reduce contiguous slices of data to produce aggregated array.   |\n",
        "| outer(x, y)       | Apply operation to all pairs of elements in x and y. Result array has shape x.shape + y.shape |"
      ]
    },
    {
      "cell_type": "code",
      "metadata": {
        "id": "6tDp1zv2Iq8I",
        "colab_type": "code",
        "colab": {
          "base_uri": "https://localhost:8080/",
          "height": 34
        },
        "outputId": "84e779d7-14f1-4ab1-b0e4-1448639497ab"
      },
      "source": [
        "arr = np.arange(10)\n",
        "np.add.reduce(arr)\n",
        "arr.sum()"
      ],
      "execution_count": 84,
      "outputs": [
        {
          "output_type": "execute_result",
          "data": {
            "text/plain": [
              "45"
            ]
          },
          "metadata": {
            "tags": []
          },
          "execution_count": 84
        }
      ]
    },
    {
      "cell_type": "code",
      "metadata": {
        "id": "_NDyO-iPJe_l",
        "colab_type": "code",
        "colab": {
          "base_uri": "https://localhost:8080/",
          "height": 34
        },
        "outputId": "87e1886a-0e6b-4380-9b9e-e30eb4be971e"
      },
      "source": [
        "np.random.seed(20190622)  # for reproducibility\n",
        "arr = np.random.randn(5, 5)\n",
        "arr[::2].sort(1) # sort a few rows\n",
        "arr[:, :-1] < arr[:, 1:]\n",
        "np.logical_and.reduce(arr[:, :-1] < arr[:, 1:], axis=1)"
      ],
      "execution_count": 85,
      "outputs": [
        {
          "output_type": "execute_result",
          "data": {
            "text/plain": [
              "array([ True, False,  True, False,  True])"
            ]
          },
          "metadata": {
            "tags": []
          },
          "execution_count": 85
        }
      ]
    },
    {
      "cell_type": "code",
      "metadata": {
        "id": "gSFGunXDJfB_",
        "colab_type": "code",
        "colab": {
          "base_uri": "https://localhost:8080/",
          "height": 68
        },
        "outputId": "df678b29-9cf5-4da6-a0a0-37fa13c980da"
      },
      "source": [
        "arr = np.arange(15).reshape((3, 5))\n",
        "np.add.accumulate(arr, axis=1)"
      ],
      "execution_count": 38,
      "outputs": [
        {
          "output_type": "execute_result",
          "data": {
            "text/plain": [
              "array([[ 0,  1,  3,  6, 10],\n",
              "       [ 5, 11, 18, 26, 35],\n",
              "       [10, 21, 33, 46, 60]])"
            ]
          },
          "metadata": {
            "tags": []
          },
          "execution_count": 38
        }
      ]
    },
    {
      "cell_type": "code",
      "metadata": {
        "id": "38RPGxyYJfE3",
        "colab_type": "code",
        "colab": {
          "base_uri": "https://localhost:8080/",
          "height": 102
        },
        "outputId": "120f0c8d-5a0d-46fc-9ddb-3d5dfb2c2dc2"
      },
      "source": [
        "arr = np.arange(3).repeat([1, 2, 2])\n",
        "arr\n",
        "np.multiply.outer(arr, np.arange(5))"
      ],
      "execution_count": 39,
      "outputs": [
        {
          "output_type": "execute_result",
          "data": {
            "text/plain": [
              "array([[0, 0, 0, 0, 0],\n",
              "       [0, 1, 2, 3, 4],\n",
              "       [0, 1, 2, 3, 4],\n",
              "       [0, 2, 4, 6, 8],\n",
              "       [0, 2, 4, 6, 8]])"
            ]
          },
          "metadata": {
            "tags": []
          },
          "execution_count": 39
        }
      ]
    },
    {
      "cell_type": "code",
      "metadata": {
        "id": "z47FwEkpIelf",
        "colab_type": "code",
        "colab": {
          "base_uri": "https://localhost:8080/",
          "height": 34
        },
        "outputId": "8a4b67cd-4aa1-4d97-e732-0f9282e108a0"
      },
      "source": [
        "x, y = np.random.randn(3, 4), np.random.randn(5)\n",
        "result = np.subtract.outer(x, y)\n",
        "result.shape"
      ],
      "execution_count": 40,
      "outputs": [
        {
          "output_type": "execute_result",
          "data": {
            "text/plain": [
              "(3, 4, 5)"
            ]
          },
          "metadata": {
            "tags": []
          },
          "execution_count": 40
        }
      ]
    },
    {
      "cell_type": "code",
      "metadata": {
        "id": "ssv2cobfJj-r",
        "colab_type": "code",
        "colab": {
          "base_uri": "https://localhost:8080/",
          "height": 34
        },
        "outputId": "3a29798b-39a1-4ebf-b154-0ab4a624e7de"
      },
      "source": [
        "arr = np.arange(10)\n",
        "np.add.reduceat(arr, [0, 5, 8])"
      ],
      "execution_count": 41,
      "outputs": [
        {
          "output_type": "execute_result",
          "data": {
            "text/plain": [
              "array([10, 18, 17])"
            ]
          },
          "metadata": {
            "tags": []
          },
          "execution_count": 41
        }
      ]
    },
    {
      "cell_type": "code",
      "metadata": {
        "id": "Wkw2ud3VJkQa",
        "colab_type": "code",
        "colab": {
          "base_uri": "https://localhost:8080/",
          "height": 85
        },
        "outputId": "ea310bf2-6145-462d-c070-ff26d8d626e1"
      },
      "source": [
        "arr = np.multiply.outer(np.arange(4), np.arange(5))\n",
        "arr\n",
        "np.add.reduceat(arr, [0, 2, 4], axis=1)"
      ],
      "execution_count": 42,
      "outputs": [
        {
          "output_type": "execute_result",
          "data": {
            "text/plain": [
              "array([[ 0,  0,  0],\n",
              "       [ 1,  5,  4],\n",
              "       [ 2, 10,  8],\n",
              "       [ 3, 15, 12]])"
            ]
          },
          "metadata": {
            "tags": []
          },
          "execution_count": 42
        }
      ]
    },
    {
      "cell_type": "markdown",
      "metadata": {
        "id": "4zv3IQwKJnHj",
        "colab_type": "text"
      },
      "source": [
        "##Writing New ufuncs in Python"
      ]
    },
    {
      "cell_type": "code",
      "metadata": {
        "id": "ZnruIqTMJo1p",
        "colab_type": "code",
        "colab": {
          "base_uri": "https://localhost:8080/",
          "height": 34
        },
        "outputId": "e8a9e6f5-929b-4a87-943c-7505505de34e"
      },
      "source": [
        "def add_elements(x, y):\n",
        "    return x + y\n",
        "add_them = np.frompyfunc(add_elements, 2, 1)\n",
        "add_them(np.arange(8), np.arange(8))"
      ],
      "execution_count": 43,
      "outputs": [
        {
          "output_type": "execute_result",
          "data": {
            "text/plain": [
              "array([0, 2, 4, 6, 8, 10, 12, 14], dtype=object)"
            ]
          },
          "metadata": {
            "tags": []
          },
          "execution_count": 43
        }
      ]
    },
    {
      "cell_type": "code",
      "metadata": {
        "id": "nGNt-d3PJo4V",
        "colab_type": "code",
        "colab": {
          "base_uri": "https://localhost:8080/",
          "height": 34
        },
        "outputId": "da1ff603-76c2-4cc0-84b7-a8f41892a9cf"
      },
      "source": [
        "add_them = np.vectorize(add_elements, otypes=[np.float64])\n",
        "add_them(np.arange(8), np.arange(8))"
      ],
      "execution_count": 44,
      "outputs": [
        {
          "output_type": "execute_result",
          "data": {
            "text/plain": [
              "array([ 0.,  2.,  4.,  6.,  8., 10., 12., 14.])"
            ]
          },
          "metadata": {
            "tags": []
          },
          "execution_count": 44
        }
      ]
    },
    {
      "cell_type": "code",
      "metadata": {
        "id": "jRp_d4SdJo7v",
        "colab_type": "code",
        "colab": {
          "base_uri": "https://localhost:8080/",
          "height": 88
        },
        "outputId": "fb42943d-c65e-4d0f-845d-b88f6a357e5d"
      },
      "source": [
        "arr = np.random.randn(10000)\n",
        "%timeit add_them(arr, arr)\n",
        "%timeit np.add(arr, arr)"
      ],
      "execution_count": 45,
      "outputs": [
        {
          "output_type": "stream",
          "text": [
            "100 loops, best of 3: 2.64 ms per loop\n",
            "The slowest run took 13.20 times longer than the fastest. This could mean that an intermediate result is being cached.\n",
            "100000 loops, best of 3: 3.86 µs per loop\n"
          ],
          "name": "stdout"
        }
      ]
    },
    {
      "cell_type": "markdown",
      "metadata": {
        "id": "46fXwEUyC4QV",
        "colab_type": "text"
      },
      "source": [
        "#Structured and Record Arrays"
      ]
    },
    {
      "cell_type": "code",
      "metadata": {
        "id": "_cyYIFzxJukI",
        "colab_type": "code",
        "colab": {
          "base_uri": "https://localhost:8080/",
          "height": 51
        },
        "outputId": "14416dc7-c424-495c-ab94-e199fb2520cf"
      },
      "source": [
        "dtype = [('x', np.float64), ('y', np.int32)]\n",
        "sarr = np.array([(1.5, 6), (np.pi, -2)], dtype=dtype)\n",
        "sarr"
      ],
      "execution_count": 46,
      "outputs": [
        {
          "output_type": "execute_result",
          "data": {
            "text/plain": [
              "array([(1.5       ,  6), (3.14159265, -2)],\n",
              "      dtype=[('x', '<f8'), ('y', '<i4')])"
            ]
          },
          "metadata": {
            "tags": []
          },
          "execution_count": 46
        }
      ]
    },
    {
      "cell_type": "code",
      "metadata": {
        "id": "vewV8O_PJumx",
        "colab_type": "code",
        "colab": {
          "base_uri": "https://localhost:8080/",
          "height": 34
        },
        "outputId": "cb9a5e05-3317-498a-f8e5-dfb6a1ec5c7a"
      },
      "source": [
        "sarr[0]\n",
        "sarr[0]['y']"
      ],
      "execution_count": 47,
      "outputs": [
        {
          "output_type": "execute_result",
          "data": {
            "text/plain": [
              "6"
            ]
          },
          "metadata": {
            "tags": []
          },
          "execution_count": 47
        }
      ]
    },
    {
      "cell_type": "code",
      "metadata": {
        "id": "MnnoUM14JwZC",
        "colab_type": "code",
        "colab": {
          "base_uri": "https://localhost:8080/",
          "height": 34
        },
        "outputId": "a767beab-2a09-45f1-d445-dc216850acb0"
      },
      "source": [
        "sarr['x']"
      ],
      "execution_count": 48,
      "outputs": [
        {
          "output_type": "execute_result",
          "data": {
            "text/plain": [
              "array([1.5       , 3.14159265])"
            ]
          },
          "metadata": {
            "tags": []
          },
          "execution_count": 48
        }
      ]
    },
    {
      "cell_type": "markdown",
      "metadata": {
        "id": "lQX0nwjsJswH",
        "colab_type": "text"
      },
      "source": [
        "##Nested dtypes and Multidimensional Fields"
      ]
    },
    {
      "cell_type": "code",
      "metadata": {
        "id": "KH_8ZLaDJ1DZ",
        "colab_type": "code",
        "colab": {
          "base_uri": "https://localhost:8080/",
          "height": 71
        },
        "outputId": "20d446ce-7047-44f2-f76c-fd059b44b03c"
      },
      "source": [
        "dtype = [('x', np.int64, 3), ('y', np.int32)]\n",
        "arr = np.zeros(4, dtype=dtype)\n",
        "arr"
      ],
      "execution_count": 49,
      "outputs": [
        {
          "output_type": "execute_result",
          "data": {
            "text/plain": [
              "array([([0, 0, 0], 0), ([0, 0, 0], 0), ([0, 0, 0], 0), ([0, 0, 0], 0)],\n",
              "      dtype=[('x', '<i8', (3,)), ('y', '<i4')])"
            ]
          },
          "metadata": {
            "tags": []
          },
          "execution_count": 49
        }
      ]
    },
    {
      "cell_type": "code",
      "metadata": {
        "id": "q8_FBDL2J1KZ",
        "colab_type": "code",
        "colab": {
          "base_uri": "https://localhost:8080/",
          "height": 34
        },
        "outputId": "c1035379-4e25-48de-ca2e-8ea5867123fc"
      },
      "source": [
        "arr[0]['x']"
      ],
      "execution_count": 50,
      "outputs": [
        {
          "output_type": "execute_result",
          "data": {
            "text/plain": [
              "array([0, 0, 0])"
            ]
          },
          "metadata": {
            "tags": []
          },
          "execution_count": 50
        }
      ]
    },
    {
      "cell_type": "code",
      "metadata": {
        "id": "ecRnLMtIJ1Qn",
        "colab_type": "code",
        "colab": {
          "base_uri": "https://localhost:8080/",
          "height": 85
        },
        "outputId": "4e1bf25c-f206-4a06-fbfe-361e2a7881e6"
      },
      "source": [
        "arr['x']"
      ],
      "execution_count": 51,
      "outputs": [
        {
          "output_type": "execute_result",
          "data": {
            "text/plain": [
              "array([[0, 0, 0],\n",
              "       [0, 0, 0],\n",
              "       [0, 0, 0],\n",
              "       [0, 0, 0]])"
            ]
          },
          "metadata": {
            "tags": []
          },
          "execution_count": 51
        }
      ]
    },
    {
      "cell_type": "code",
      "metadata": {
        "id": "BXL7bfa1J3-h",
        "colab_type": "code",
        "colab": {
          "base_uri": "https://localhost:8080/",
          "height": 34
        },
        "outputId": "ca7fc8d9-1ee7-4e40-a5be-d2f84a15f322"
      },
      "source": [
        "dtype = [('x', [('a', 'f8'), ('b', 'f4')]), ('y', np.int32)]\n",
        "data = np.array([((1, 2), 5), ((3, 4), 6)], dtype=dtype)\n",
        "data['x']\n",
        "data['y']\n",
        "data['x']['a']"
      ],
      "execution_count": 52,
      "outputs": [
        {
          "output_type": "execute_result",
          "data": {
            "text/plain": [
              "array([1., 3.])"
            ]
          },
          "metadata": {
            "tags": []
          },
          "execution_count": 52
        }
      ]
    },
    {
      "cell_type": "markdown",
      "metadata": {
        "id": "M3ULdAthC4Y1",
        "colab_type": "text"
      },
      "source": [
        "#More About Sorting"
      ]
    },
    {
      "cell_type": "code",
      "metadata": {
        "id": "pHsrJXsu78Lr",
        "colab_type": "code",
        "colab": {
          "base_uri": "https://localhost:8080/",
          "height": 71
        },
        "outputId": "178891b5-60c1-46f5-8ebb-6ee113d232e2"
      },
      "source": [
        "arr = np.random.randn(6)\n",
        "arr.sort()\n",
        "arr"
      ],
      "execution_count": 53,
      "outputs": [
        {
          "output_type": "execute_result",
          "data": {
            "text/plain": [
              "array([-1.08199644,  0.37588273,  0.80139193,  1.13969136,  1.28881614,\n",
              "        1.84126094])"
            ]
          },
          "metadata": {
            "tags": []
          },
          "execution_count": 53
        }
      ]
    },
    {
      "cell_type": "code",
      "metadata": {
        "id": "bKhPHXcwJ75g",
        "colab_type": "code",
        "colab": {
          "base_uri": "https://localhost:8080/",
          "height": 88
        },
        "outputId": "503d4b03-38ce-416f-9bc1-b35157542667"
      },
      "source": [
        "arr = np.random.randn(3, 5)\n",
        "arr\n",
        "arr[:, 0].sort()  # Sort first column values in-place\n",
        "arr"
      ],
      "execution_count": 54,
      "outputs": [
        {
          "output_type": "execute_result",
          "data": {
            "text/plain": [
              "array([[-1.01114869, -1.47108206,  0.87050269, -0.08468875, -1.13286962],\n",
              "       [-0.33176812, -0.34357617,  2.17140268,  0.12337075, -0.01893118],\n",
              "       [ 0.17731791,  0.7423957 ,  0.85475634,  1.03797268, -0.32899594]])"
            ]
          },
          "metadata": {
            "tags": []
          },
          "execution_count": 54
        }
      ]
    },
    {
      "cell_type": "code",
      "metadata": {
        "id": "b_Q1meTDJ78Q",
        "colab_type": "code",
        "colab": {
          "base_uri": "https://localhost:8080/",
          "height": 54
        },
        "outputId": "3bbaa767-53c8-41cb-b32d-ac89c7de2487"
      },
      "source": [
        "arr = np.random.randn(5)\n",
        "arr\n",
        "np.sort(arr)\n",
        "arr"
      ],
      "execution_count": 55,
      "outputs": [
        {
          "output_type": "execute_result",
          "data": {
            "text/plain": [
              "array([-1.11807759, -0.24152521, -2.0051193 ,  0.73788753, -1.06137462])"
            ]
          },
          "metadata": {
            "tags": []
          },
          "execution_count": 55
        }
      ]
    },
    {
      "cell_type": "code",
      "metadata": {
        "id": "U4_1OU6mJ7-z",
        "colab_type": "code",
        "colab": {
          "base_uri": "https://localhost:8080/",
          "height": 88
        },
        "outputId": "b214f047-e950-43f0-efb3-f43b54bfb985"
      },
      "source": [
        "arr = np.random.randn(3, 5)\n",
        "arr\n",
        "arr.sort(axis=1)\n",
        "arr"
      ],
      "execution_count": 56,
      "outputs": [
        {
          "output_type": "execute_result",
          "data": {
            "text/plain": [
              "array([[-0.26822958, -0.18715572,  0.59545348,  0.91108374,  1.33885804],\n",
              "       [-0.51683937, -0.32150045, -0.19893404,  1.00543901,  1.19251887],\n",
              "       [-1.76381537, -0.22215536, -0.21707838,  0.39691349,  0.60709023]])"
            ]
          },
          "metadata": {
            "tags": []
          },
          "execution_count": 56
        }
      ]
    },
    {
      "cell_type": "code",
      "metadata": {
        "id": "XthVtfr6J_CO",
        "colab_type": "code",
        "colab": {
          "base_uri": "https://localhost:8080/",
          "height": 88
        },
        "outputId": "7ae84a36-5766-4c2e-fd81-f7017193f952"
      },
      "source": [
        "arr[:, ::-1]"
      ],
      "execution_count": 57,
      "outputs": [
        {
          "output_type": "execute_result",
          "data": {
            "text/plain": [
              "array([[ 1.33885804,  0.91108374,  0.59545348, -0.18715572, -0.26822958],\n",
              "       [ 1.19251887,  1.00543901, -0.19893404, -0.32150045, -0.51683937],\n",
              "       [ 0.60709023,  0.39691349, -0.21707838, -0.22215536, -1.76381537]])"
            ]
          },
          "metadata": {
            "tags": []
          },
          "execution_count": 57
        }
      ]
    },
    {
      "cell_type": "markdown",
      "metadata": {
        "id": "yBPe4wjyKGSv",
        "colab_type": "text"
      },
      "source": [
        "##Indirect Sorts: argsort and lexsort"
      ]
    },
    {
      "cell_type": "code",
      "metadata": {
        "id": "Avo2kZGMKIrU",
        "colab_type": "code",
        "colab": {
          "base_uri": "https://localhost:8080/",
          "height": 34
        },
        "outputId": "32387bb9-cbef-4721-ae66-913f8597614c"
      },
      "source": [
        "values = np.array([5, 0, 1, 3, 2])\n",
        "indexer = values.argsort()\n",
        "indexer\n",
        "values[indexer]"
      ],
      "execution_count": 58,
      "outputs": [
        {
          "output_type": "execute_result",
          "data": {
            "text/plain": [
              "array([0, 1, 2, 3, 5])"
            ]
          },
          "metadata": {
            "tags": []
          },
          "execution_count": 58
        }
      ]
    },
    {
      "cell_type": "code",
      "metadata": {
        "id": "3c2XigTvKIvA",
        "colab_type": "code",
        "colab": {
          "base_uri": "https://localhost:8080/",
          "height": 88
        },
        "outputId": "0533e92f-cc74-4cf4-a2e9-52cf6c6c7848"
      },
      "source": [
        "arr = np.random.randn(3, 5)\n",
        "arr[0] = values\n",
        "arr\n",
        "arr[:, arr[0].argsort()]"
      ],
      "execution_count": 59,
      "outputs": [
        {
          "output_type": "execute_result",
          "data": {
            "text/plain": [
              "array([[ 0.        ,  1.        ,  2.        ,  3.        ,  5.        ],\n",
              "       [-0.13775933,  2.17773731,  0.8356152 , -0.47280687, -0.36360302],\n",
              "       [ 0.23159352,  0.72798172,  1.99558262, -1.3918432 , -0.20885016]])"
            ]
          },
          "metadata": {
            "tags": []
          },
          "execution_count": 59
        }
      ]
    },
    {
      "cell_type": "code",
      "metadata": {
        "id": "tAasye5dKIx6",
        "colab_type": "code",
        "colab": {
          "base_uri": "https://localhost:8080/",
          "height": 34
        },
        "outputId": "294c666e-8edf-416f-cd1b-cf28be9278ff"
      },
      "source": [
        "first_name = np.array(['Bob', 'Jane', 'Steve', 'Bill', 'Barbara'])\n",
        "last_name = np.array(['Jones', 'Arnold', 'Arnold', 'Jones', 'Walters'])\n",
        "sorter = np.lexsort((first_name, last_name))\n",
        "sorter\n",
        "zip(last_name[sorter], first_name[sorter])\n"
      ],
      "execution_count": 60,
      "outputs": [
        {
          "output_type": "execute_result",
          "data": {
            "text/plain": [
              "<zip at 0x7fb5518be308>"
            ]
          },
          "metadata": {
            "tags": []
          },
          "execution_count": 60
        }
      ]
    },
    {
      "cell_type": "markdown",
      "metadata": {
        "id": "1UbxTQBsKLx6",
        "colab_type": "text"
      },
      "source": [
        "##Alternative Sort Algorithms"
      ]
    },
    {
      "cell_type": "code",
      "metadata": {
        "id": "ZOxzWkGIKOks",
        "colab_type": "code",
        "outputId": "3ed1a5a0-2881-4f3f-e321-81098bb3b136",
        "colab": {
          "base_uri": "https://localhost:8080/",
          "height": 51
        }
      },
      "source": [
        "values = np.array(['2:first', '2:second', '1:first', '1:second',\n",
        "                   '1:third'])\n",
        "key = np.array([2, 2, 1, 1, 1])\n",
        "indexer = key.argsort(kind='mergesort')\n",
        "indexer\n",
        "values.take(indexer)"
      ],
      "execution_count": 61,
      "outputs": [
        {
          "output_type": "execute_result",
          "data": {
            "text/plain": [
              "array(['1:first', '1:second', '1:third', '2:first', '2:second'],\n",
              "      dtype='<U8')"
            ]
          },
          "metadata": {
            "tags": []
          },
          "execution_count": 61
        }
      ]
    },
    {
      "cell_type": "markdown",
      "metadata": {
        "id": "emAi_QqOKP1a",
        "colab_type": "text"
      },
      "source": [
        "##Partially Sorting Arrays"
      ]
    },
    {
      "cell_type": "code",
      "metadata": {
        "id": "gca5XxnLKRyq",
        "colab_type": "code",
        "colab": {
          "base_uri": "https://localhost:8080/",
          "height": 105
        },
        "outputId": "8d68879a-8cdb-45cb-da2e-e57f497a54bb"
      },
      "source": [
        "np.random.seed(12345)\n",
        "arr = np.random.randn(20)\n",
        "arr\n",
        "np.partition(arr, 3)"
      ],
      "execution_count": 62,
      "outputs": [
        {
          "output_type": "execute_result",
          "data": {
            "text/plain": [
              "array([-2.00163731, -1.29622111, -0.5557303 , -0.51943872, -0.37184254,\n",
              "       -0.43856974, -0.20470766,  0.28174615,  0.76902257,  0.47894334,\n",
              "        1.00718936,  0.09290788,  0.27499163,  0.22891288,  1.35291684,\n",
              "        0.88642934,  1.39340583,  1.96578057,  1.66902531,  1.24643474])"
            ]
          },
          "metadata": {
            "tags": []
          },
          "execution_count": 62
        }
      ]
    },
    {
      "cell_type": "code",
      "metadata": {
        "id": "zKgHu0miKTXM",
        "colab_type": "code",
        "colab": {
          "base_uri": "https://localhost:8080/",
          "height": 105
        },
        "outputId": "87baa455-314d-48c8-cae1-1270356f3bbd"
      },
      "source": [
        "indices = np.argpartition(arr, 3)\n",
        "indices\n",
        "arr.take(indices)"
      ],
      "execution_count": 63,
      "outputs": [
        {
          "output_type": "execute_result",
          "data": {
            "text/plain": [
              "array([-2.00163731, -1.29622111, -0.5557303 , -0.51943872, -0.37184254,\n",
              "       -0.43856974, -0.20470766,  0.28174615,  0.76902257,  0.47894334,\n",
              "        1.00718936,  0.09290788,  0.27499163,  0.22891288,  1.35291684,\n",
              "        0.88642934,  1.39340583,  1.96578057,  1.66902531,  1.24643474])"
            ]
          },
          "metadata": {
            "tags": []
          },
          "execution_count": 63
        }
      ]
    },
    {
      "cell_type": "markdown",
      "metadata": {
        "id": "ReiD4IMeKWdC",
        "colab_type": "text"
      },
      "source": [
        "##numpy.searchsorted: Finding Elements in a Sorted Array"
      ]
    },
    {
      "cell_type": "code",
      "metadata": {
        "id": "Mglu2qI_KYrK",
        "colab_type": "code",
        "colab": {
          "base_uri": "https://localhost:8080/",
          "height": 34
        },
        "outputId": "4df3d4f8-1e14-48a3-c4ec-6fdaec3ae657"
      },
      "source": [
        "arr = np.array([0, 1, 7, 12, 15])\n",
        "arr.searchsorted(9)"
      ],
      "execution_count": 64,
      "outputs": [
        {
          "output_type": "execute_result",
          "data": {
            "text/plain": [
              "3"
            ]
          },
          "metadata": {
            "tags": []
          },
          "execution_count": 64
        }
      ]
    },
    {
      "cell_type": "code",
      "metadata": {
        "id": "ithYDtwPKYuB",
        "colab_type": "code",
        "colab": {
          "base_uri": "https://localhost:8080/",
          "height": 34
        },
        "outputId": "40812472-7a15-4a1f-8c69-982d42e19bfc"
      },
      "source": [
        "arr = np.array([0, 1, 7, 12, 15])\n",
        "arr.searchsorted(9)"
      ],
      "execution_count": 65,
      "outputs": [
        {
          "output_type": "execute_result",
          "data": {
            "text/plain": [
              "3"
            ]
          },
          "metadata": {
            "tags": []
          },
          "execution_count": 65
        }
      ]
    },
    {
      "cell_type": "code",
      "metadata": {
        "id": "FJDFLH6aKYwq",
        "colab_type": "code",
        "colab": {
          "base_uri": "https://localhost:8080/",
          "height": 34
        },
        "outputId": "11613de4-7b66-4fe6-d0a7-a9e7e966d018"
      },
      "source": [
        "arr = np.array([0, 0, 0, 1, 1, 1, 1])\n",
        "arr.searchsorted([0, 1])\n",
        "arr.searchsorted([0, 1], side='right')"
      ],
      "execution_count": 66,
      "outputs": [
        {
          "output_type": "execute_result",
          "data": {
            "text/plain": [
              "array([3, 7])"
            ]
          },
          "metadata": {
            "tags": []
          },
          "execution_count": 66
        }
      ]
    },
    {
      "cell_type": "code",
      "metadata": {
        "id": "ydY3H-KlKYzh",
        "colab_type": "code",
        "colab": {
          "base_uri": "https://localhost:8080/",
          "height": 139
        },
        "outputId": "ae057013-717d-4ce7-d569-5ca5c9b84b84"
      },
      "source": [
        "data = np.floor(np.random.uniform(0, 10000, size=50))\n",
        "bins = np.array([0, 100, 1000, 5000, 10000])\n",
        "data"
      ],
      "execution_count": 67,
      "outputs": [
        {
          "output_type": "execute_result",
          "data": {
            "text/plain": [
              "array([9940., 6768., 7908., 1709.,  268., 8003., 9037.,  246., 4917.,\n",
              "       5262., 5963.,  519., 8950., 7282., 8183., 5002., 8101.,  959.,\n",
              "       2189., 2587., 4681., 4593., 7095., 1780., 5314., 1677., 7688.,\n",
              "       9281., 6094., 1501., 4896., 3773., 8486., 9110., 3838., 3154.,\n",
              "       5683., 1878., 1258., 6875., 7996., 5735., 9732., 6340., 8884.,\n",
              "       4954., 3516., 7142., 5039., 2256.])"
            ]
          },
          "metadata": {
            "tags": []
          },
          "execution_count": 67
        }
      ]
    },
    {
      "cell_type": "code",
      "metadata": {
        "id": "acZMSOVzKc7F",
        "colab_type": "code",
        "colab": {
          "base_uri": "https://localhost:8080/",
          "height": 88
        },
        "outputId": "a032ac7d-1f8f-446e-fbea-d5d0468a221f"
      },
      "source": [
        "labels = bins.searchsorted(data)\n",
        "labels"
      ],
      "execution_count": 68,
      "outputs": [
        {
          "output_type": "execute_result",
          "data": {
            "text/plain": [
              "array([4, 4, 4, 3, 2, 4, 4, 2, 3, 4, 4, 2, 4, 4, 4, 4, 4, 2, 3, 3, 3, 3,\n",
              "       4, 3, 4, 3, 4, 4, 4, 3, 3, 3, 4, 4, 3, 3, 4, 3, 3, 4, 4, 4, 4, 4,\n",
              "       4, 3, 3, 4, 4, 3])"
            ]
          },
          "metadata": {
            "tags": []
          },
          "execution_count": 68
        }
      ]
    },
    {
      "cell_type": "code",
      "metadata": {
        "id": "GB6_rSi-KdBG",
        "colab_type": "code",
        "colab": {
          "base_uri": "https://localhost:8080/",
          "height": 85
        },
        "outputId": "007b4155-861a-4ad8-8baf-71402ee51b11"
      },
      "source": [
        "pd.Series(data).groupby(labels).mean()"
      ],
      "execution_count": 69,
      "outputs": [
        {
          "output_type": "execute_result",
          "data": {
            "text/plain": [
              "2     498.000000\n",
              "3    3064.277778\n",
              "4    7389.035714\n",
              "dtype: float64"
            ]
          },
          "metadata": {
            "tags": []
          },
          "execution_count": 69
        }
      ]
    },
    {
      "cell_type": "markdown",
      "metadata": {
        "id": "lZUYY4clKs1z",
        "colab_type": "text"
      },
      "source": [
        "#Advanced Array Input and Output"
      ]
    },
    {
      "cell_type": "markdown",
      "metadata": {
        "id": "fvmV_W5WBL1C",
        "colab_type": "text"
      },
      "source": [
        "* np.save와 np.load를 사용해서 배열을 이진형식으로 디스크에 저장\n",
        "다른 저장\n",
        "* 메모리맵은 RAM에 적재 할 수 없는 데이터를 다룰 때 추가적 이점"
      ]
    },
    {
      "cell_type": "markdown",
      "metadata": {
        "id": "tJSVtJtYKxKb",
        "colab_type": "text"
      },
      "source": [
        "##Memory-Mapped Files"
      ]
    },
    {
      "cell_type": "markdown",
      "metadata": {
        "id": "lC_zhWiAB55n",
        "colab_type": "text"
      },
      "source": [
        "- 디스크에 저장된 아주 큰 binary data를 메모리에 적재된 배열처럼 취급가능\n",
        "- 배열 전체를 메모리에 적재하지않고 큰파일의 작은 부분을 읽기/쓰기\n",
        "- **memmap**객체는 메모리에 적재된 배열에서 제공하는것과 동일한 메서드 제공, **ndarray**사용해야하는 많은 알고리즘에서 **ndarray**의 대체재로 사용가능"
      ]
    },
    {
      "cell_type": "code",
      "metadata": {
        "id": "EP6lmLowKfTi",
        "colab_type": "code",
        "outputId": "ca97d09e-22e3-4a70-c0db-816985e59817",
        "colab": {
          "base_uri": "https://localhost:8080/",
          "height": 136
        }
      },
      "source": [
        "mmap = np.memmap('mymmap', dtype='float64', mode='w+',\n",
        "                 shape=(10000, 10000))\n",
        "mmap"
      ],
      "execution_count": 70,
      "outputs": [
        {
          "output_type": "execute_result",
          "data": {
            "text/plain": [
              "memmap([[0., 0., 0., ..., 0., 0., 0.],\n",
              "        [0., 0., 0., ..., 0., 0., 0.],\n",
              "        [0., 0., 0., ..., 0., 0., 0.],\n",
              "        ...,\n",
              "        [0., 0., 0., ..., 0., 0., 0.],\n",
              "        [0., 0., 0., ..., 0., 0., 0.],\n",
              "        [0., 0., 0., ..., 0., 0., 0.]])"
            ]
          },
          "metadata": {
            "tags": []
          },
          "execution_count": 70
        }
      ]
    },
    {
      "cell_type": "code",
      "metadata": {
        "id": "DYANz5EnK0o7",
        "colab_type": "code",
        "colab": {}
      },
      "source": [
        "section = mmap[:5]"
      ],
      "execution_count": 0,
      "outputs": []
    },
    {
      "cell_type": "code",
      "metadata": {
        "id": "z76S6tJUK2qU",
        "colab_type": "code",
        "colab": {}
      },
      "source": [
        "section[:] = np.random.randn(5, 10000)\n",
        "mmap.flush()\n",
        "mmap\n",
        "del mmap"
      ],
      "execution_count": 0,
      "outputs": []
    },
    {
      "cell_type": "code",
      "metadata": {
        "id": "GG5KayMjK2s7",
        "colab_type": "code",
        "colab": {
          "base_uri": "https://localhost:8080/",
          "height": 238
        },
        "outputId": "6f3745d4-cf45-4b9d-e021-ecfaad39d0e7"
      },
      "source": [
        "mmap = np.memmap('mymmap', dtype='float64', shape=(10000, 10000))\n",
        "mmap"
      ],
      "execution_count": 73,
      "outputs": [
        {
          "output_type": "execute_result",
          "data": {
            "text/plain": [
              "memmap([[ 0.75836315, -0.66052433,  0.86258008, ...,  0.60456856,\n",
              "         -0.621221  ,  2.05418088],\n",
              "        [-1.21132774, -1.03752649,  0.70929665, ..., -1.41174168,\n",
              "         -0.17192913, -0.89569768],\n",
              "        [-0.14192223, -0.33745039,  0.43289058, ...,  1.29144677,\n",
              "         -0.75202235, -0.4400455 ],\n",
              "        ...,\n",
              "        [ 0.        ,  0.        ,  0.        , ...,  0.        ,\n",
              "          0.        ,  0.        ],\n",
              "        [ 0.        ,  0.        ,  0.        , ...,  0.        ,\n",
              "          0.        ,  0.        ],\n",
              "        [ 0.        ,  0.        ,  0.        , ...,  0.        ,\n",
              "          0.        ,  0.        ]])"
            ]
          },
          "metadata": {
            "tags": []
          },
          "execution_count": 73
        }
      ]
    },
    {
      "cell_type": "code",
      "metadata": {
        "id": "oovERXB2K2wR",
        "colab_type": "code",
        "colab": {}
      },
      "source": [
        "%xdel mmap\n",
        "!rm mymmap"
      ],
      "execution_count": 0,
      "outputs": []
    },
    {
      "cell_type": "markdown",
      "metadata": {
        "id": "wNPaXQJYDJ-6",
        "colab_type": "text"
      },
      "source": [
        "#Performance Tips"
      ]
    },
    {
      "cell_type": "markdown",
      "metadata": {
        "id": "fumNK8whK8K-",
        "colab_type": "text"
      },
      "source": [
        "##The Importance of Contiguous Memory"
      ]
    },
    {
      "cell_type": "markdown",
      "metadata": {
        "id": "Gq4iG3E4QUiq",
        "colab_type": "text"
      },
      "source": [
        "어떤 어플리케이션에서는 배열이 메모리상에 배치된 모양에 따라 연산속도에 많은 영향을 끼침, \n",
        "- 부분적으로 CPU의 캐시구조에 의한 성능차이에 기반하는데 연속된 메모리에 접근하는 연산(C순서로 저장된 배열에서 로우를 합산하는)의 경우 메모리 서브시스템이 적절한 메모리 블록을 매우빠른 CPU의 L1, L2에 저장하게 되므로 가장 빠름\n",
        "- Numpy의 C코드 기반내부의 어떤 코드는 연속된 메모리일경우 최적화 되어 인접하지않은 메모리를 읽는 문제 회피"
      ]
    },
    {
      "cell_type": "code",
      "metadata": {
        "id": "MJvnrPbGK_WZ",
        "colab_type": "code",
        "colab": {
          "base_uri": "https://localhost:8080/",
          "height": 34
        },
        "outputId": "3c2278c0-32f7-4705-d270-c501d9986af3"
      },
      "source": [
        "arr_c = np.ones((1000, 1000), order='C')\n",
        "arr_f = np.ones((1000, 1000), order='F')\n",
        "arr_c.flags\n",
        "arr_f.flags\n",
        "arr_f.flags.f_contiguous"
      ],
      "execution_count": 83,
      "outputs": [
        {
          "output_type": "execute_result",
          "data": {
            "text/plain": [
              "True"
            ]
          },
          "metadata": {
            "tags": []
          },
          "execution_count": 83
        }
      ]
    },
    {
      "cell_type": "markdown",
      "metadata": {
        "id": "9nrKiU30RWmn",
        "colab_type": "text"
      },
      "source": [
        "\n",
        "- 배열이 메모리상에 연속적으로 존재한다는 의미는 배열의 원소가 실제 배열상에서 나타나는 모습대로(포트란의 칼람우선, C의 로우 우선) 메모리에 저장되었다는 의미\n",
        "- 기본적으로 Numpy배열은 메모리에 C순서 혹은 단순 연속생성\n",
        "- C순서로 저장된 배열의 전치배열 같은 컬럼 우선 순서 배열은 포트란 순서 배열\n",
        "이 속성은 ndarray의 flags속성을 통해 명시적 확인"
      ]
    },
    {
      "cell_type": "code",
      "metadata": {
        "id": "oV3qEIXxK_Zi",
        "colab_type": "code",
        "colab": {
          "base_uri": "https://localhost:8080/",
          "height": 88
        },
        "outputId": "8560363c-537a-49aa-9463-fdda359d3ab8"
      },
      "source": [
        "%timeit arr_c.sum(1)\n",
        "%timeit arr_f.sum(1)"
      ],
      "execution_count": 76,
      "outputs": [
        {
          "output_type": "stream",
          "text": [
            "The slowest run took 8.96 times longer than the fastest. This could mean that an intermediate result is being cached.\n",
            "1000 loops, best of 3: 402 µs per loop\n",
            "1000 loops, best of 3: 503 µs per loop\n"
          ],
          "name": "stdout"
        }
      ]
    },
    {
      "cell_type": "markdown",
      "metadata": {
        "id": "CV-QeJ9hRbmj",
        "colab_type": "text"
      },
      "source": [
        "- 배열의 로우의 합은 메모리에 로우가 연속적으로 존재하므로 이론적으로 arr_c가 arr_f보다 빠르게 계산\n",
        "- %timeit를 사용하여 성능차 확인"
      ]
    },
    {
      "cell_type": "code",
      "metadata": {
        "id": "AaVKkXrPK_cb",
        "colab_type": "code",
        "colab": {
          "base_uri": "https://localhost:8080/",
          "height": 136
        },
        "outputId": "938a26b6-a962-4bbb-c1aa-02edc1bf3a73"
      },
      "source": [
        "arr_f.copy('C').flags"
      ],
      "execution_count": 77,
      "outputs": [
        {
          "output_type": "execute_result",
          "data": {
            "text/plain": [
              "  C_CONTIGUOUS : True\n",
              "  F_CONTIGUOUS : False\n",
              "  OWNDATA : True\n",
              "  WRITEABLE : True\n",
              "  ALIGNED : True\n",
              "  WRITEBACKIFCOPY : False\n",
              "  UPDATEIFCOPY : False"
            ]
          },
          "metadata": {
            "tags": []
          },
          "execution_count": 77
        }
      ]
    },
    {
      "cell_type": "markdown",
      "metadata": {
        "id": "OCDy5QGnR5xS",
        "colab_type": "text"
      },
      "source": [
        "이는 NumPy에서 성능을 더 짜내야 할때 더 많은 노력을 기울이게 되는 부분,\n",
        "원하는 메모리순서로 저장되지 않은 배열이 있다면 그 배열을 ‘C’,’F’ 순서로 복사해서 사용가능"
      ]
    },
    {
      "cell_type": "code",
      "metadata": {
        "id": "Yqz8YRGuLBer",
        "colab_type": "code",
        "colab": {
          "base_uri": "https://localhost:8080/",
          "height": 136
        },
        "outputId": "d88adc55-9e1b-4358-d7a0-f10f56739869"
      },
      "source": [
        "arr_c[:50].flags.contiguous\n",
        "arr_c[:, :50].flags"
      ],
      "execution_count": 78,
      "outputs": [
        {
          "output_type": "execute_result",
          "data": {
            "text/plain": [
              "  C_CONTIGUOUS : False\n",
              "  F_CONTIGUOUS : False\n",
              "  OWNDATA : False\n",
              "  WRITEABLE : True\n",
              "  ALIGNED : True\n",
              "  WRITEBACKIFCOPY : False\n",
              "  UPDATEIFCOPY : False"
            ]
          },
          "metadata": {
            "tags": []
          },
          "execution_count": 78
        }
      ]
    },
    {
      "cell_type": "markdown",
      "metadata": {
        "id": "jEXn0j6Y70W3",
        "colab_type": "text"
      },
      "source": [
        "# Reference\n",
        "[Materials and IPython notebooks for \"Python for Data Analysis\" by Wes McKinney, published by O'Reilly Media](https://www.cin.ufpe.br/~embat/Python%20for%20Data%20Analysis.pdf)\n",
        "\n",
        "https://learning.oreilly.com/library/view/python-for-data/9781449323592/ch12.html\n",
        "\n",
        "https://nbviewer.jupyter.org/github/pydata/pydata-book/tree/2nd-edition/\n",
        "\n",
        "https://github.com/re4lfl0w/ipython/blob/master/books/python_data_analysis/ch04_Numpy.ipynb\n",
        "\n",
        "https://notebooks.azure.com/wesm/projects/python-for-data-analysis\n",
        "\n",
        "https://github.com/re4lfl0w/ipython/tree/master/books/python_data_analysis\n",
        "\n"
      ]
    },
    {
      "cell_type": "markdown",
      "metadata": {
        "id": "xWhQuzOX77KN",
        "colab_type": "text"
      },
      "source": [
        ""
      ]
    }
  ]
}