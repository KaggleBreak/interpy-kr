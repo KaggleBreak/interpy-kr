{
 "cells": [
  {
   "cell_type": "markdown",
   "metadata": {},
   "source": [
    "## oneLiners\n",
    "\n",
    "- intermediate python study에서 oneLiners 발표를 위해 작성되었습니다.\n",
    "- 이 문서는 oneLiners에 대한 기본적인 내용을 안내합니다.\n",
    "- 참고자료 링크들을 이용해서 작성하였습니다.\n",
    "- python version : 3.6\n",
    "- 발표 날짜 : 2019/07/06"
   ]
  },
  {
   "cell_type": "markdown",
   "metadata": {},
   "source": [
    "### oneLiners \n",
    "- 한 줄 명령어입니다.\n",
    "- 한 줄로 코드를 작성해서 사용합니다.\n",
    "- 코드의 간결성을 확보 할 수 있습니다.\n",
    "- 그러나 간결성에 매몰돼서 가독성을 놓칠 수 있으니 유의하시기 바랍니다.\n",
    "\n",
    "**Q. What are the advantages/disadvantages of using Python one-liners?**\n",
    "\n",
    "> Never sacrifice readability for conciseness, that’s the Python way. But if you can make the code shorter and just as readable, that’s a win.\n",
    "\n",
    "```python3\n",
    "Given:\n",
    "\n",
    "stuff = [‘beans’, ‘cookies’, ‘carrots’, ‘bread’]\n",
    "\n",
    "things = []\n",
    "for  s in stuff:\n",
    "  if s[0] == ‘c’:\n",
    "  things.append(s)\n",
    "\n",
    "things = [s for s in stuff if s[0] == ‘c’] \n",
    "```\n",
    "\n",
    "### 참고 자료\n",
    "- [Intermediate python](https://ddanggle.gitbooks.io/interpy-kr/content/ch18-oneLiners.html)\n",
    "- [What are the advantages/disadvantages of using Python one-liners?](https://www.quora.com/What-are-the-advantages-disadvantages-of-using-Python-one-liners)\n",
    "- [What are some of the most elegant, greatest Python one-liners?](https://www.quora.com/What-are-some-of-the-most-elegant-greatest-Python-one-liners)\n",
    "- [Powerful Python One-Liners](https://wiki.python.org/moin/Powerful%20Python%20One-Liners)\n",
    "- [10 Elegant Python One-Liners That Fit in a Tweet](https://blog.finxter.com/10-python-one-liners/)\n",
    "\n",
    "------------------------------------"
   ]
  },
  {
   "cell_type": "markdown",
   "metadata": {},
   "source": [
    "### example"
   ]
  },
  {
   "cell_type": "markdown",
   "metadata": {},
   "source": [
    "#### 예쁘게 출력하기(Pretty Printing)"
   ]
  },
  {
   "cell_type": "code",
   "execution_count": 3,
   "metadata": {},
   "outputs": [
    {
     "name": "stdout",
     "output_type": "stream",
     "text": [
      "{'age': 'undefined', 'name': 'Yasoob', '개성': '멋짐'}\n"
     ]
    }
   ],
   "source": [
    "from pprint import pprint\n",
    "\n",
    "my_dict = { \n",
    "    'name': 'Yasoob',\n",
    "    'age': 'undefined', \n",
    "    '개성' : '멋짐' \n",
    "}\n",
    "\n",
    "pprint(my_dict)"
   ]
  },
  {
   "cell_type": "code",
   "execution_count": 4,
   "metadata": {},
   "outputs": [
    {
     "name": "stdout",
     "output_type": "stream",
     "text": [
      "{'name': 'Yasoob', 'age': 'undefined', '개성': '멋짐'}\n"
     ]
    }
   ],
   "source": [
    "# 별 차이가 없어 보이네요.\n",
    "\n",
    "print(my_dict)"
   ]
  },
  {
   "cell_type": "code",
   "execution_count": 18,
   "metadata": {},
   "outputs": [],
   "source": [
    "# 숫자를 가지는 dict를 하나 만들어 보겠습니다.\n",
    "\n",
    "import random\n",
    "\n",
    "numbers = [random.randint(0,100) for _ in range(1, 100000)]\n",
    "\n",
    "numbers_dict_one = {}\n",
    "\n",
    "for i in numbers:\n",
    "    if i not in numbers_dict_one:\n",
    "        numbers_dict_one[i] = 1\n",
    "    else:\n",
    "        numbers_dict_one[i] += 1"
   ]
  },
  {
   "cell_type": "code",
   "execution_count": 23,
   "metadata": {},
   "outputs": [],
   "source": [
    "# 일반적인 print 이용\n",
    "\n",
    "print(numbers_dict_one)"
   ]
  },
  {
   "cell_type": "code",
   "execution_count": 22,
   "metadata": {},
   "outputs": [],
   "source": [
    "# pprint를 이용해서 예쁘게 출력하기\n",
    "\n",
    "pprint(numbers_dict_one)"
   ]
  },
  {
   "cell_type": "markdown",
   "metadata": {},
   "source": [
    "-------------------"
   ]
  },
  {
   "cell_type": "markdown",
   "metadata": {},
   "source": [
    "#### 스크립트를 프로파일링하기(Profiling a script)\n",
    "\n",
    "스크립트의 병목현상을 정확하게 짚고자 할 때 유용\n",
    "- 자세한 내용은 day4 profiling 참고하여 구성하였습니다.\n",
    "- 아래의 명령어를 터미널에서 실행하면 프로파일링이 가능합니다.\n",
    "- python -m cProfile my_script.py\n",
    "\n",
    "```python3\n",
    "my_script.py\n",
    "\n",
    "def f(x):\n",
    "    for _ in range(1000):\n",
    "        x += 1\n",
    "    return x\n",
    "f(12)\n",
    "```\n"
   ]
  },
  {
   "cell_type": "markdown",
   "metadata": {},
   "source": [
    "```\n",
    "[]:~/Documents$ python3 -m cProfile my_script.py\n",
    "         4 function calls in 0.000 seconds\n",
    "\n",
    "   Ordered by: standard name\n",
    "\n",
    "   ncalls  tottime  percall  cumtime  percall filename:lineno(function)\n",
    "        1    0.000    0.000    0.000    0.000 my_script.py:1(<module>)\n",
    "        1    0.000    0.000    0.000    0.000 my_script.py:1(f)\n",
    "        1    0.000    0.000    0.000    0.000 {built-in method builtins.exec}\n",
    "        1    0.000    0.000    0.000    0.000 {method 'disable' of '_lsprof.Profiler' objects}\n",
    "```"
   ]
  },
  {
   "cell_type": "markdown",
   "metadata": {},
   "source": [
    "--------------------"
   ]
  },
  {
   "cell_type": "markdown",
   "metadata": {},
   "source": [
    "#### csv to json\n",
    "\n",
    "- 아래의 명령어를 터미널에서 실행하면 됩니다.\n",
    "- 샘플 파일로 csv_file.csv 을 준비하였습니다.\n",
    "- notice : mac의 경우 아래 명령어 입력 후 > csv_file_to_json.json 을 입력해주세요. 파일로 저장 할 수 있습니다."
   ]
  },
  {
   "cell_type": "markdown",
   "metadata": {},
   "source": [
    "```\n",
    "python -c \"import csv, json; (print(json.dumps(list(csv.reader(open('one_liners_csv_file.csv'))))))\"\n",
    "```"
   ]
  },
  {
   "cell_type": "markdown",
   "metadata": {},
   "source": [
    "---------------"
   ]
  },
  {
   "cell_type": "markdown",
   "metadata": {},
   "source": [
    "### 리스트 중첩 줄이기 (List Flattening)\n",
    "\n",
    "- itertools패키지의 itertools.chain.from_iterable사용해서 간단하고 쉽게 리스트 중첩을 줄일 수 있습니다."
   ]
  },
  {
   "cell_type": "code",
   "execution_count": 3,
   "metadata": {},
   "outputs": [],
   "source": [
    "import itertools\n",
    "\n",
    "a_list = [[1, 2], [3, 4], [5, 6], [7, 8]]\n",
    "print(list(itertools.chain.from_iterable(a_list)))\n",
    "\n",
    "# Output: [1, 2, 3, 4, 5, 6]"
   ]
  },
  {
   "cell_type": "markdown",
   "metadata": {},
   "source": [
    "-----------"
   ]
  },
  {
   "cell_type": "markdown",
   "metadata": {},
   "source": [
    "### 한-줄 생성자\n",
    "\n",
    "- 클래스를 초기화 할 때 많은 표준 할당을 피하려면 아래와 같이 할 수 있습니다."
   ]
  },
  {
   "cell_type": "code",
   "execution_count": 4,
   "metadata": {},
   "outputs": [],
   "source": [
    "class A(object):\n",
    "    def __init__(self, a, b, c, d, e, f):\n",
    "        self.__dict__.update({k: v for k, v in locals().items() if k != 'self'})"
   ]
  },
  {
   "cell_type": "markdown",
   "metadata": {},
   "source": [
    "-----------"
   ]
  },
  {
   "cell_type": "markdown",
   "metadata": {},
   "source": [
    "### 안내\n",
    "- https://blog.finxter.com/10-python-one-liners/\n",
    "- 아래 9개의 항목은 위 링크를 참고하였습니다.\n",
    "\n",
    "\n",
    "### check if a string is a palindrome\n",
    "\n",
    "Palindrome(회문)이란?\n",
    "- Palindrome(회문)은 문자열을 거꾸로 해도 원래의 문자열과 같은 문자열인 특징을 가지고 있는 문자열을 가리키는 말입니다.\n",
    "- 예시 : 토마토, abdba, 토마토맛토마토, 1234567654321"
   ]
  },
  {
   "cell_type": "code",
   "execution_count": 5,
   "metadata": {},
   "outputs": [
    {
     "name": "stdout",
     "output_type": "stream",
     "text": [
      "0\n"
     ]
    }
   ],
   "source": [
    "# THE DATA\n",
    "phrase = \"anna\"\n",
    " \n",
    "# THE ONE LINER\n",
    "is_palindrome = phrase.find(phrase[::-1])\n",
    " \n",
    "# THE RESULT\n",
    "print(is_palindrome)\n",
    "# 0 (if it wasn't a palindrome, the result would be -1)"
   ]
  },
  {
   "cell_type": "markdown",
   "metadata": {},
   "source": [
    "----------"
   ]
  },
  {
   "cell_type": "markdown",
   "metadata": {},
   "source": [
    "### swap two variables"
   ]
  },
  {
   "cell_type": "code",
   "execution_count": 6,
   "metadata": {},
   "outputs": [
    {
     "name": "stdout",
     "output_type": "stream",
     "text": [
      "bye\n",
      "hello\n"
     ]
    }
   ],
   "source": [
    "# THE DATA\n",
    "a = \"hello\"\n",
    "b = \"bye\"\n",
    " \n",
    "# THE ONE-LINER\n",
    "a, b = b, a\n",
    " \n",
    "# THE RESULT\n",
    "\n",
    "print(a)\n",
    "# bye\n",
    "\n",
    "print(b)\n",
    "# hello"
   ]
  },
  {
   "cell_type": "markdown",
   "metadata": {},
   "source": [
    "---------"
   ]
  },
  {
   "cell_type": "markdown",
   "metadata": {},
   "source": [
    "### sum over every second list value"
   ]
  },
  {
   "cell_type": "code",
   "execution_count": 7,
   "metadata": {},
   "outputs": [
    {
     "name": "stdout",
     "output_type": "stream",
     "text": [
      "125\n"
     ]
    }
   ],
   "source": [
    "# THE DATA\n",
    "stock_prices = [23, 24, 26, 29, 41, 29, 35]\n",
    " \n",
    "# THE ONE-LINER\n",
    "res = sum(stock_prices[::2])\n",
    " \n",
    "# THE RESULT\n",
    "print(res)\n",
    "# 125"
   ]
  },
  {
   "cell_type": "markdown",
   "metadata": {},
   "source": [
    "-----------"
   ]
  },
  {
   "cell_type": "markdown",
   "metadata": {},
   "source": [
    "### calculate the mathematical factorial function (n!)"
   ]
  },
  {
   "cell_type": "code",
   "execution_count": 9,
   "metadata": {},
   "outputs": [
    {
     "name": "stdout",
     "output_type": "stream",
     "text": [
      "93326215443944152681699238856266700490715968264381621468592963895217599993229915608941463976156518286253697920827223758251185210916864000000000000000000000000\n"
     ]
    }
   ],
   "source": [
    "# THE DATA\n",
    "from functools import reduce\n",
    "n = 100\n",
    " \n",
    "# THE ONE-LINER\n",
    "factorial = reduce(lambda x, y: x * y, range(1, n+1))\n",
    " \n",
    "# THE RESULT\n",
    "print(factorial)"
   ]
  },
  {
   "cell_type": "markdown",
   "metadata": {},
   "source": [
    "--------------"
   ]
  },
  {
   "cell_type": "markdown",
   "metadata": {},
   "source": [
    "### write a function that returns the superset of a set"
   ]
  },
  {
   "cell_type": "code",
   "execution_count": 10,
   "metadata": {},
   "outputs": [
    {
     "name": "stdout",
     "output_type": "stream",
     "text": [
      "[[], [1], [2], [1, 2], [3], [1, 3], [2, 3], [1, 2, 3]]\n"
     ]
    }
   ],
   "source": [
    "# THE DATA\n",
    "from functools import reduce\n",
    "dataset = {1,2,3}\n",
    " \n",
    "# THE ONE-LINER\n",
    "f = lambda l: reduce(lambda z, x: z + [y + [x] for y in z], l, [[]])\n",
    " \n",
    "# THE RESULT\n",
    "print(f(dataset))"
   ]
  },
  {
   "cell_type": "markdown",
   "metadata": {},
   "source": [
    "--------- "
   ]
  },
  {
   "cell_type": "markdown",
   "metadata": {},
   "source": [
    "### find the first n Fibonacci numbers"
   ]
  },
  {
   "cell_type": "code",
   "execution_count": 11,
   "metadata": {},
   "outputs": [
    {
     "name": "stdout",
     "output_type": "stream",
     "text": [
      "0\n",
      "1\n",
      "1\n",
      "2\n",
      "3\n",
      "5\n",
      "8\n",
      "13\n",
      "21\n",
      "34\n"
     ]
    }
   ],
   "source": [
    "# THE DATA\n",
    "n = 10\n",
    "\n",
    "# THE ONE-LINER\n",
    "fib = lambda x: x if x<=1 else fib(x-1) + fib(x-2) \n",
    "\n",
    "# THE RESULT\n",
    "for i in range(n):\n",
    "    print(fib(i))"
   ]
  },
  {
   "cell_type": "markdown",
   "metadata": {},
   "source": [
    "----------------"
   ]
  },
  {
   "cell_type": "markdown",
   "metadata": {},
   "source": [
    "### write the Quicksort algorithm"
   ]
  },
  {
   "cell_type": "code",
   "execution_count": 12,
   "metadata": {},
   "outputs": [
    {
     "name": "stdout",
     "output_type": "stream",
     "text": [
      "[2, 3, 6, 33, 45, 54]\n"
     ]
    }
   ],
   "source": [
    "# THE DATA\n",
    "unsorted = [33,2,3,45,6,54]\n",
    " \n",
    "# THE ONE-LINER\n",
    "qsort = lambda L: [] if L==[] else qsort([x for x in L[1:] if x< L[0]]) + L[0:1] + qsort([x for x in L[1:] if x>=L[0]])\n",
    " \n",
    "# THE RESULT\n",
    "print(qsort(unsorted))"
   ]
  },
  {
   "cell_type": "markdown",
   "metadata": {},
   "source": [
    "-------------"
   ]
  },
  {
   "cell_type": "markdown",
   "metadata": {},
   "source": [
    "### write the Sieve of Eratosthenes"
   ]
  },
  {
   "cell_type": "code",
   "execution_count": 14,
   "metadata": {},
   "outputs": [
    {
     "name": "stdout",
     "output_type": "stream",
     "text": [
      "{2, 3, 5, 7, 11, 13, 17, 19, 23, 29, 31, 37, 41, 43, 47, 53, 59, 61, 67, 71, 73, 79, 83, 89, 97}\n"
     ]
    }
   ],
   "source": [
    "# THE DATA\n",
    "n=100\n",
    " \n",
    "# THE ONE-LINER\n",
    "primes = reduce( (lambda r,x: r-set(range(x**2,n,x)) if (x in r) else r), range(2,int(n**0.5)), set(range(2,n)))\n",
    " \n",
    "# THE RESULT\n",
    "print(primes)"
   ]
  },
  {
   "cell_type": "markdown",
   "metadata": {},
   "source": [
    "--------------"
   ]
  },
  {
   "cell_type": "markdown",
   "metadata": {},
   "source": [
    "### Prime numbers up to 1000"
   ]
  },
  {
   "cell_type": "code",
   "execution_count": 19,
   "metadata": {},
   "outputs": [
    {
     "name": "stdout",
     "output_type": "stream",
     "text": [
      "[2, 3, 5, 7, 11, 13, 17, 19, 23, 29, 31, 37, 41, 43, 47, 53, 59, 61, 67, 71, 73, 79, 83, 89, 97, 101, 103, 107, 109, 113, 127, 131, 137, 139, 149, 151, 157, 163, 167, 173, 179, 181, 191, 193, 197, 199, 211, 223, 227, 229, 233, 239, 241, 251, 257, 263, 269, 271, 277, 281, 283, 293, 307, 311, 313, 317, 331, 337, 347, 349, 353, 359, 367, 373, 379, 383, 389, 397, 401, 409, 419, 421, 431, 433, 439, 443, 449, 457, 461, 463, 467, 479, 487, 491, 499, 503, 509, 521, 523, 541, 547, 557, 563, 569, 571, 577, 587, 593, 599, 601, 607, 613, 617, 619, 631, 641, 643, 647, 653, 659, 661, 673, 677, 683, 691, 701, 709, 719, 727, 733, 739, 743, 751, 757, 761, 769, 773, 787, 797, 809, 811, 821, 823, 827, 829, 839, 853, 857, 859, 863, 877, 881, 883, 887, 907, 911, 919, 929, 937, 941, 947, 953, 967, 971, 977, 983, 991, 997]\n"
     ]
    }
   ],
   "source": [
    "print(list(filter(None,map(lambda y:y*reduce(lambda x,y:x*y!=0, map(lambda x,y=y:y%x,range(2,int(pow(y,0.5)+1))),1),range(2,1000)))))"
   ]
  },
  {
   "cell_type": "markdown",
   "metadata": {},
   "source": [
    "-------------------------------------"
   ]
  },
  {
   "cell_type": "markdown",
   "metadata": {},
   "source": [
    "------------------------------------------"
   ]
  },
  {
   "cell_type": "markdown",
   "metadata": {},
   "source": [
    "## Unserscore(_) in python\n",
    "\n",
    "- intermediate python study에서 Undersocre 발표를 위해 작성되었습니다.\n",
    "- 이 문서는 Undersocre 대한 기본적인 내용을 안내합니다.\n",
    "- 참고자료 링크들을 이용해서 작성하였습니다.\n",
    "- python version : 3.6\n",
    "- 발표 날짜 : 2019/07/06"
   ]
  },
  {
   "cell_type": "markdown",
   "metadata": {},
   "source": [
    "### Unserscore\n",
    "- Underscore(_) is a unique character in Python.\n",
    "\n",
    "\n",
    "### 사용처\n",
    "\n",
    "1. Use in Interpreter\n",
    "2. Ignoring Values\n",
    "3. Use in Looping\n",
    "4. Seperating digits of numbers\n",
    "5. naming\n",
    "  - Single Pre Underscore\n",
    "  - Single Post Underscore\n",
    "  - Double Pre Undescores\n",
    "  - Double Pre And Post Underscores\n",
    "\n",
    "\n",
    "### 참고 자료\n",
    "- [Datacamp](https://www.datacamp.com/community/tutorials/role-underscore-python#UII)\n",
    "- [파이썬 기초 문법_언더스코어의 의미](https://yamalab.tistory.com/28)\n",
    "- [파이썬에서의 underscores의 사용](https://coffeedjimmy.tistory.com/5)\n",
    "------------------------------------"
   ]
  },
  {
   "cell_type": "markdown",
   "metadata": {},
   "source": [
    "### 1. Use in Interpreter\n",
    "\n",
    "- 인터프리터에서 언더스코어는 마지막 변수를 저장하는 역할을 합니다."
   ]
  },
  {
   "cell_type": "markdown",
   "metadata": {},
   "source": [
    "```\n",
    ">>> 5 + 4\n",
    "9\n",
    ">>> _     # stores the result of the above expression\n",
    "9\n",
    ">>> _ + 6\n",
    "15\n",
    ">>> _\n",
    "15\n",
    ">>> a = _  # assigning the value of _ to another variable\n",
    ">>> a\n",
    "15\n",
    "```"
   ]
  },
  {
   "cell_type": "markdown",
   "metadata": {},
   "source": [
    "### 2. Ignoring Values\n",
    "\n",
    "- Underscore(_) is also used to ignore the values. If you don't want to use specific values while unpacking, just assign that value to underscore(_).\n",
    "- 무시해도 되는 값들을 할당 할 때 사용합니다."
   ]
  },
  {
   "cell_type": "code",
   "execution_count": 21,
   "metadata": {},
   "outputs": [
    {
     "name": "stdout",
     "output_type": "stream",
     "text": [
      "1 3\n"
     ]
    }
   ],
   "source": [
    "## ignoring a value\n",
    "\n",
    "a, _, b = (1, 2, 3) # a = 1, b = 3\n",
    "print(a, b)"
   ]
  },
  {
   "cell_type": "code",
   "execution_count": 22,
   "metadata": {},
   "outputs": [
    {
     "name": "stdout",
     "output_type": "stream",
     "text": [
      "7 1\n"
     ]
    }
   ],
   "source": [
    "## ignoring multiple values\n",
    "## *(variable) used to assign multiple value to a variable as list while unpacking\n",
    "## it's called \"Extended Unpacking\", only available in Python 3.x\n",
    "\n",
    "a, *_, b = (7, 6, 5, 4, 3, 2, 1)\n",
    "print(a, b)"
   ]
  },
  {
   "cell_type": "code",
   "execution_count": 23,
   "metadata": {},
   "outputs": [
    {
     "name": "stdout",
     "output_type": "stream",
     "text": [
      "7 2 1\n"
     ]
    }
   ],
   "source": [
    "# 이렇게도 할 수 있습니다.\n",
    "\n",
    "a, *_, b, c = (7, 6, 5, 4, 3, 2, 1)\n",
    "print(a, b, c)"
   ]
  },
  {
   "cell_type": "markdown",
   "metadata": {},
   "source": [
    "### 3. Use In Looping\n",
    "- use underscore(_) as a variable in looping."
   ]
  },
  {
   "cell_type": "code",
   "execution_count": 24,
   "metadata": {},
   "outputs": [
    {
     "name": "stdout",
     "output_type": "stream",
     "text": [
      "0\n",
      "1\n",
      "2\n",
      "3\n",
      "4\n"
     ]
    }
   ],
   "source": [
    "## lopping ten times using _\n",
    "\n",
    "for _ in range(5):\n",
    "    print(_)"
   ]
  },
  {
   "cell_type": "code",
   "execution_count": 26,
   "metadata": {},
   "outputs": [
    {
     "name": "stdout",
     "output_type": "stream",
     "text": [
      "Python\n",
      "JS\n",
      "PHP\n",
      "Java\n"
     ]
    }
   ],
   "source": [
    "## iterating over a list using _\n",
    "## you can use _ same as a variable\n",
    "\n",
    "languages = [\"Python\", \"JS\", \"PHP\", \"Java\"]\n",
    "for _ in languages:\n",
    "    print(_)"
   ]
  },
  {
   "cell_type": "code",
   "execution_count": 27,
   "metadata": {},
   "outputs": [
    {
     "name": "stdout",
     "output_type": "stream",
     "text": [
      "5 6 7 8 9 "
     ]
    }
   ],
   "source": [
    "_ = 5\n",
    "while _ < 10:\n",
    "    print(_, end = ' ') # default value of 'end' id '\\n' in python. we're changing it to space\n",
    "    _ += 1"
   ]
  },
  {
   "cell_type": "markdown",
   "metadata": {},
   "source": [
    "### 4. Separating Digits Of Numbers\n",
    "\n",
    "- If you have a long digits number, you can separate the group of digits as you like for better understanding.\n",
    "\n",
    "- Ex:- million = 1_000_000\n",
    "- Ex:- binary = 0b_0010, octa = 0o_64, hexa = 0x_23_ab"
   ]
  },
  {
   "cell_type": "code",
   "execution_count": 28,
   "metadata": {},
   "outputs": [
    {
     "name": "stdout",
     "output_type": "stream",
     "text": [
      "1000000\n",
      "2\n",
      "52\n",
      "9131\n"
     ]
    }
   ],
   "source": [
    "## different number systems\n",
    "## you can also check whether they are correct or not by coverting them into integer using \"int\" method\n",
    "\n",
    "million = 1_000_000\n",
    "binary = 0b_0010\n",
    "octa = 0o_64\n",
    "hexa = 0x_23_ab\n",
    "\n",
    "print(million)\n",
    "print(binary)\n",
    "print(octa)\n",
    "print(hexa)"
   ]
  },
  {
   "cell_type": "markdown",
   "metadata": {},
   "source": [
    "### 5. Naming Using Underscore(_)\n",
    "\n",
    "- Single Pre Underscore:- _variable\n",
    "- Signle Post Underscore:- variable_\n",
    "- Double Pre Underscores:- __variable\n",
    "- Double Pre and Post Underscores:- __variable__"
   ]
  },
  {
   "cell_type": "markdown",
   "metadata": {},
   "source": [
    "### 5.1. single pre underscore\n",
    "\n",
    "- Single Pre Underscore is only meant to use for the internal use.\n",
    "  - 언더스코어를 싱글로 사용하게 되면 같은 모듈 안에서는 public처럼 동작하면서\n",
    "  - 명시적으로 사용하는 것이 가능하지만, 다른 모듈에서 해당 변수에 접근하려고 하면 private처럼 동작한다. \n",
    "  - 즉, 모듈로써 다른곳에서 사용할 경우에는 import가 되지 않는다.\n"
   ]
  },
  {
   "cell_type": "code",
   "execution_count": 30,
   "metadata": {},
   "outputs": [
    {
     "name": "stdout",
     "output_type": "stream",
     "text": [
      "datacamp\n",
      "7\n"
     ]
    }
   ],
   "source": [
    "# Single Pre Underscore is used for internal use. Most of us don't use it because of that reason.\n",
    "\n",
    "class Test:\n",
    "\n",
    "    def __init__(self):\n",
    "        self.name = \"datacamp\"\n",
    "        self._num = 7\n",
    "\n",
    "obj = Test()\n",
    "print(obj.name)\n",
    "print(obj._num)"
   ]
  },
  {
   "cell_type": "markdown",
   "metadata": {},
   "source": [
    "- single pre underscore doesn't stop you from accessing the single pre underscore variable.\n",
    "- But, single pre underscore effects the names that are imported from the module."
   ]
  },
  {
   "cell_type": "markdown",
   "metadata": {},
   "source": [
    "- filename:- my_functions.py\n",
    "\n",
    "```python3\n",
    "def func():\n",
    "    return \"datacamp\"\n",
    "\n",
    "def _private_func():\n",
    "    return 7\n",
    "```"
   ]
  },
  {
   "cell_type": "code",
   "execution_count": 1,
   "metadata": {},
   "outputs": [
    {
     "data": {
      "text/plain": [
       "'datacamp'"
      ]
     },
     "execution_count": 1,
     "metadata": {},
     "output_type": "execute_result"
    }
   ],
   "source": [
    "from my_functions import *\n",
    "\n",
    "func()"
   ]
  },
  {
   "cell_type": "code",
   "execution_count": 2,
   "metadata": {},
   "outputs": [
    {
     "ename": "NameError",
     "evalue": "name '_private_func' is not defined",
     "output_type": "error",
     "traceback": [
      "\u001b[0;31m---------------------------------------------------------------------------\u001b[0m",
      "\u001b[0;31mNameError\u001b[0m                                 Traceback (most recent call last)",
      "\u001b[0;32m<ipython-input-2-50de1903acc6>\u001b[0m in \u001b[0;36m<module>\u001b[0;34m\u001b[0m\n\u001b[0;32m----> 1\u001b[0;31m \u001b[0m_private_func\u001b[0m\u001b[0;34m(\u001b[0m\u001b[0;34m)\u001b[0m\u001b[0;34m\u001b[0m\u001b[0m\n\u001b[0m",
      "\u001b[0;31mNameError\u001b[0m: name '_private_func' is not defined"
     ]
    }
   ],
   "source": [
    "\"\"\"\n",
    "if you import all the methods and names from my_functions.py, \n",
    "Python doesn't import the names which starts with a single pre underscore.\n",
    "\"\"\"\n",
    "\n",
    "_private_func()"
   ]
  },
  {
   "cell_type": "code",
   "execution_count": 3,
   "metadata": {},
   "outputs": [
    {
     "data": {
      "text/plain": [
       "'datacamp'"
      ]
     },
     "execution_count": 3,
     "metadata": {},
     "output_type": "execute_result"
    }
   ],
   "source": [
    "import my_functions\n",
    "\n",
    "my_functions.func()"
   ]
  },
  {
   "cell_type": "code",
   "execution_count": 4,
   "metadata": {},
   "outputs": [
    {
     "data": {
      "text/plain": [
       "7"
      ]
     },
     "execution_count": 4,
     "metadata": {},
     "output_type": "execute_result"
    }
   ],
   "source": [
    "my_functions._private_func()"
   ]
  },
  {
   "cell_type": "markdown",
   "metadata": {},
   "source": [
    "### 5.2 single_postunderscore\n",
    "\n",
    "- Sometimes if you want to use Python Keywords as a variable, function or class names, you can use this convention for that.\n",
    "- You can avoid conflicts with the Python Keywords by adding an underscore at the end of the name which you want to use.\n",
    "- class_ 로 쓰는 예시\n",
    "  - [예시를 들면 bs4 의 beautifulsoup를 사용 할 때 class_를 사용하는 부분이 있습니다.](http://zeroplus1.zc.bz/jh/web/main.php?id=132&category=ETC)\n",
    "  ```\n",
    "  soup.find_all(\"a\", class_=\"sister\")\n",
    "  ```"
   ]
  },
  {
   "cell_type": "code",
   "execution_count": 8,
   "metadata": {},
   "outputs": [
    {
     "ename": "SyntaxError",
     "evalue": "invalid syntax (<ipython-input-8-5f959271564f>, line 1)",
     "output_type": "error",
     "traceback": [
      "\u001b[0;36m  File \u001b[0;32m\"<ipython-input-8-5f959271564f>\"\u001b[0;36m, line \u001b[0;32m1\u001b[0m\n\u001b[0;31m    def function(class):\u001b[0m\n\u001b[0m                     ^\u001b[0m\n\u001b[0;31mSyntaxError\u001b[0m\u001b[0;31m:\u001b[0m invalid syntax\n"
     ]
    }
   ],
   "source": [
    "def function(class):\n",
    "    pass"
   ]
  },
  {
   "cell_type": "code",
   "execution_count": 9,
   "metadata": {},
   "outputs": [],
   "source": [
    "def function(class_):\n",
    "    pass"
   ]
  },
  {
   "cell_type": "markdown",
   "metadata": {},
   "source": [
    "### 5.3. Double Pre Underscore\n",
    "\n",
    "- Double Pre Underscores are used for the name mangling.\n",
    "  - what is a mangling?\n",
    "  - interpreter of the Python alters the variable name in a way that it is challenging to clash when the class is inherited.\n",
    "  - 맹글링이란, 프로그래밍 언어 자체적으로 일정한 규칙에 의해 변수나 함수의 이름을 변경하는 것이다.\n",
    "  - 파이썬에서 맹글링은 _Class+[name] 의 형식으로 이루어지는데, 맹글링을 호출하는 것이 바로 언더스코어이다.\n",
    "  \n",
    "- 정리하면...\n",
    "  - '__' 가 이름 앞에 붙는 것은 컨벤션은 아닙니다. \n",
    "  - 대신 이는 인터프리터에게 특별한 의미가 있습니다. \n",
    "  - 파이썬은 이 이름들을 하위 클래스에 정의된 이름들과 부모 클래스에 정의된 이름들이 충돌할 경우 이를 해결하기 위해 사용합니다. "
   ]
  },
  {
   "cell_type": "code",
   "execution_count": 10,
   "metadata": {},
   "outputs": [
    {
     "data": {
      "text/plain": [
       "['_Sample__c',\n",
       " '__class__',\n",
       " '__delattr__',\n",
       " '__dict__',\n",
       " '__dir__',\n",
       " '__doc__',\n",
       " '__eq__',\n",
       " '__format__',\n",
       " '__ge__',\n",
       " '__getattribute__',\n",
       " '__gt__',\n",
       " '__hash__',\n",
       " '__init__',\n",
       " '__init_subclass__',\n",
       " '__le__',\n",
       " '__lt__',\n",
       " '__module__',\n",
       " '__ne__',\n",
       " '__new__',\n",
       " '__reduce__',\n",
       " '__reduce_ex__',\n",
       " '__repr__',\n",
       " '__setattr__',\n",
       " '__sizeof__',\n",
       " '__str__',\n",
       " '__subclasshook__',\n",
       " '__weakref__',\n",
       " '_b',\n",
       " 'a']"
      ]
     },
     "execution_count": 10,
     "metadata": {},
     "output_type": "execute_result"
    }
   ],
   "source": [
    "# self.a variable appears in the list without any change.\n",
    "# self._b Variable also appears in the list without any change.\n",
    "# Is there self.__c variable in the list?\n",
    "\n",
    "\n",
    "class Sample():\n",
    "\n",
    "    def __init__(self):\n",
    "        self.a = 1\n",
    "        self._b = 2\n",
    "        self.__c = 3\n",
    "obj1 = Sample()\n",
    "dir(obj1)"
   ]
  },
  {
   "cell_type": "code",
   "execution_count": null,
   "metadata": {},
   "outputs": [],
   "source": [
    "class A(object):\n",
    "    def _internal_use(self):\n",
    "        pass\n",
    "    def __method_name(self):\n",
    "        pass\n",
    "    \n",
    "dir(A())"
   ]
  },
  {
   "cell_type": "code",
   "execution_count": 14,
   "metadata": {},
   "outputs": [
    {
     "data": {
      "text/plain": [
       "['_A__method_name',\n",
       " '_B__method_name',\n",
       " '__class__',\n",
       " '__delattr__',\n",
       " '__dict__',\n",
       " '__dir__',\n",
       " '__doc__',\n",
       " '__eq__',\n",
       " '__format__',\n",
       " '__ge__',\n",
       " '__getattribute__',\n",
       " '__gt__',\n",
       " '__hash__',\n",
       " '__init__',\n",
       " '__init_subclass__',\n",
       " '__le__',\n",
       " '__lt__',\n",
       " '__module__',\n",
       " '__ne__',\n",
       " '__new__',\n",
       " '__reduce__',\n",
       " '__reduce_ex__',\n",
       " '__repr__',\n",
       " '__setattr__',\n",
       " '__sizeof__',\n",
       " '__str__',\n",
       " '__subclasshook__',\n",
       " '__weakref__',\n",
       " '_internal_use']"
      ]
     },
     "execution_count": 14,
     "metadata": {},
     "output_type": "execute_result"
    }
   ],
   "source": [
    "class B(A):\n",
    "    def __method_name(self):\n",
    "        pass\n",
    "\n",
    "dir(B())"
   ]
  },
  {
   "cell_type": "markdown",
   "metadata": {},
   "source": [
    "```\n",
    "위의 경우에서 볼 수 있듯이 이런 식으로 '__'을 사용하면 \n",
    "B 클래스는 A클래스의 '__method_name'을 쉽게 오버라이딩 할 수 없게 됩니다. \n",
    "이런 사용법은 자바의 'final' 메서드나 C++의 일반 메서드의 쓰임새와 같습니다.\n",
    "```"
   ]
  },
  {
   "cell_type": "markdown",
   "metadata": {},
   "source": [
    "### 5.4. Double Pre And Post Underscores\n",
    "\n",
    "- In Python, you will find different names which start and end with the double underscore. \n",
    "- They are called as magic methods or dunder methods.\n",
    "\n",
    "```\n",
    "__name__, __init__, __len__\n",
    "```\n",
    "위의 경우처럼 파이썬에서 특별한 문법적 기능이나, 특별한 기능을 제공하는 스페셜 변수나 메서드의 구성을 언더스코어로 표현한다. 네이밍과 더불어 언더스코어를 가장 빈번히 사용하는 용도이다."
   ]
  },
  {
   "cell_type": "code",
   "execution_count": 11,
   "metadata": {},
   "outputs": [
    {
     "data": {
      "text/plain": [
       "7"
      ]
     },
     "execution_count": 11,
     "metadata": {},
     "output_type": "execute_result"
    }
   ],
   "source": [
    "class Sample():\n",
    "\n",
    "    def __init__(self):\n",
    "        self.__num__ = 7\n",
    "\n",
    "obj = Sample()\n",
    "obj.__num__"
   ]
  },
  {
   "cell_type": "markdown",
   "metadata": {},
   "source": [
    "### 끝입니다! 또 만나요~"
   ]
  }
 ],
 "metadata": {
  "kernelspec": {
   "display_name": "Python 3",
   "language": "python",
   "name": "python3"
  },
  "language_info": {
   "codemirror_mode": {
    "name": "ipython",
    "version": 3
   },
   "file_extension": ".py",
   "mimetype": "text/x-python",
   "name": "python",
   "nbconvert_exporter": "python",
   "pygments_lexer": "ipython3",
   "version": "3.6.6"
  }
 },
 "nbformat": 4,
 "nbformat_minor": 2
}
