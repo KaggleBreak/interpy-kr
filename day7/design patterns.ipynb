{
 "cells": [
  {
   "cell_type": "markdown",
   "metadata": {},
   "source": [
    "# 디자인 패턴"
   ]
  },
  {
   "cell_type": "markdown",
   "metadata": {},
   "source": [
    "## EAFP vs LBYL\n",
    " - https://devblogs.microsoft.com/python/idiomatic-python-eafp-versus-lbyl/"
   ]
  },
  {
   "cell_type": "code",
   "execution_count": 1,
   "metadata": {},
   "outputs": [],
   "source": [
    "dict_ = {}"
   ]
  },
  {
   "cell_type": "markdown",
   "metadata": {},
   "source": [
    "### Easier to Ask for Forgiveness than Permission (허락보다 용서를 구하기가 쉽다)"
   ]
  },
  {
   "cell_type": "code",
   "execution_count": 16,
   "metadata": {},
   "outputs": [
    {
     "name": "stdout",
     "output_type": "stream",
     "text": [
      "no key\n"
     ]
    }
   ],
   "source": [
    "try:\n",
    "    value = dict_[\"key\"]\n",
    "except KeyError:\n",
    "    print('no key')\n",
    "else:\n",
    "    do_something(value)"
   ]
  },
  {
   "cell_type": "markdown",
   "metadata": {},
   "source": [
    "### Look Before You Leap (뛰기 전에 살펴보자)"
   ]
  },
  {
   "cell_type": "code",
   "execution_count": 17,
   "metadata": {},
   "outputs": [
    {
     "name": "stdout",
     "output_type": "stream",
     "text": [
      "no key\n"
     ]
    }
   ],
   "source": [
    "if \"key\" in dict_:\n",
    "    do_something(dict[\"key\"])\n",
    "else:\n",
    "    print('no key')"
   ]
  },
  {
   "cell_type": "markdown",
   "metadata": {},
   "source": [
    "## 패턴의 요소\n",
    " - https://www.fun-coding.org/PL&OOP2-2.html\n",
    " - https://sungsoo.github.io/2018/03/19/design-patterns-in-python.html\n",
    " \n",
    "### 반복해서 일어나는 문제를 기술, 해당 문제에 대한 해결책에서 핵심을 뽑아 다양한 방식으로 재사용\n",
    "Design Patterns: Elements of Reusable Object-Oriented Software (GoF)\n",
    " - 이름: 다른 개발자와 공유 가능\n",
    " - 문제: 언제 패턴을 적용할 지 기술\n",
    " - 해결책: 디자인의 구성 요소와 관계를 묘사\n",
    " - 결과: 패턴 적용에 따른 Trade-off"
   ]
  },
  {
   "cell_type": "markdown",
   "metadata": {},
   "source": [
    "## Singleton\n",
    " - 클래스의 객체는 단 1개만 생성"
   ]
  },
  {
   "cell_type": "code",
   "execution_count": 4,
   "metadata": {},
   "outputs": [],
   "source": [
    "class Singleton(type):    # Type을 상속받음\n",
    "    __instances = {}      # 클래스의 인스턴스를 저장할 속성\n",
    "    def __call__(cls, *args, **kwargs):    # 인스턴스를 만들 때 호출되는 메서드\n",
    "        if cls not in cls.__instances:     # 인스턴스 생성 여부 확인\n",
    "            cls.__instances[cls] = super().__call__(*args, **kwargs) \n",
    "        return cls.__instances[cls]        # 클래스로 인스턴스를 생성했으면 인스턴스 반환"
   ]
  },
  {
   "cell_type": "code",
   "execution_count": 5,
   "metadata": {},
   "outputs": [],
   "source": [
    "class PrintObject(metaclass=Singleton):    # 메타클래스로 Singleton을 지정\n",
    "    def __init__(self):\n",
    "        print(\"This is called by super().__call__\")"
   ]
  },
  {
   "cell_type": "code",
   "execution_count": 6,
   "metadata": {},
   "outputs": [
    {
     "name": "stdout",
     "output_type": "stream",
     "text": [
      "This is called by super().__call__\n",
      "<__main__.PrintObject object at 0x000001B792892908>\n",
      "<__main__.PrintObject object at 0x000001B792892908>\n"
     ]
    }
   ],
   "source": [
    "object1 = PrintObject()     \n",
    "object2 = PrintObject()     \n",
    "print(object1)\n",
    "print(object2)"
   ]
  },
  {
   "cell_type": "markdown",
   "metadata": {},
   "source": [
    "## Observer\n",
    " - 객체의 상태 변경 시 관련 다른 객체들에게 통보"
   ]
  },
  {
   "cell_type": "code",
   "execution_count": 7,
   "metadata": {},
   "outputs": [],
   "source": [
    "class Observer: \n",
    "    def __init__(self):\n",
    "        self.observers = list()\n",
    "        self.msg = str()\n",
    "\n",
    "    def notify(self, event_data): # 통보 메서드\n",
    "        for observer in self.observers:\n",
    "            observer.notify(event_data)\n",
    "\n",
    "    def register(self, observer):\n",
    "        self.observers.append(observer)\n",
    "\n",
    "    def unregister(self, observer):\n",
    "        self.observers.remove(observer)"
   ]
  },
  {
   "cell_type": "code",
   "execution_count": 8,
   "metadata": {},
   "outputs": [],
   "source": [
    "class SMSNotifier: # 각 클래스\n",
    "    def notify(self, event_data):\n",
    "        print(event_data, 'received..')\n",
    "        print('send sms')\n",
    "        \n",
    "class EmailNotifier:\n",
    "    def notify(self, event_data):\n",
    "        print(event_data, 'received..')\n",
    "        print('send email')\n",
    "        \n",
    "class PushNotifier:\n",
    "    def notify(self, event_data):\n",
    "        print(event_data, 'received..')\n",
    "        print('send push notification')"
   ]
  },
  {
   "cell_type": "code",
   "execution_count": 9,
   "metadata": {},
   "outputs": [
    {
     "name": "stdout",
     "output_type": "stream",
     "text": [
      "user activation event received..\n",
      "send sms\n",
      "user activation event received..\n",
      "send email\n",
      "user activation event received..\n",
      "send push notification\n"
     ]
    }
   ],
   "source": [
    "notifier = Observer()\n",
    "\n",
    "sms_notifier = SMSNotifier()\n",
    "email_notifier = EmailNotifier()\n",
    "push_notifier = PushNotifier()\n",
    "\n",
    "notifier.register(sms_notifier)\n",
    "notifier.register(email_notifier)\n",
    "notifier.register(push_notifier)\n",
    "\n",
    "notifier.notify('user activation event')"
   ]
  },
  {
   "cell_type": "markdown",
   "metadata": {},
   "source": [
    "## Builder\n",
    "아래 2가지 상황을 해결\n",
    " - 생성자에 매개 변수가 있는 경우 가독성 저하\n",
    "   - Student('Dave', 20, 180, 180, 'cs', \\['data structures', 'artificial intelligence'\\])\n",
    " - 전체 변수 중 일부 값만 설정하고 싶을 경우에 대한 처리\n",
    "   - Student('Dave', --, 180, 180, ???, ???)"
   ]
  },
  {
   "cell_type": "code",
   "execution_count": 10,
   "metadata": {},
   "outputs": [],
   "source": [
    "class Student(object):\n",
    "    def __init__(self, name, age=20, height=180, weight=60, major='cs'):\n",
    "        self.name = name\n",
    "        self.age = age\n",
    "        self.height = height\n",
    "        self.weight = weight\n",
    "        self.major = major"
   ]
  },
  {
   "cell_type": "code",
   "execution_count": 11,
   "metadata": {},
   "outputs": [
    {
     "name": "stdout",
     "output_type": "stream",
     "text": [
      "Dave\n",
      "20\n",
      "180\n",
      "60\n",
      "cs\n"
     ]
    }
   ],
   "source": [
    "student1 = Student('Dave')\n",
    "print(student1.name)\n",
    "print(student1.age)\n",
    "print(student1.height)\n",
    "print(student1.weight)\n",
    "print(student1.major)"
   ]
  },
  {
   "cell_type": "code",
   "execution_count": 12,
   "metadata": {},
   "outputs": [
    {
     "name": "stdout",
     "output_type": "stream",
     "text": [
      "David\n",
      "20\n",
      "180\n",
      "60\n",
      "ds\n"
     ]
    }
   ],
   "source": [
    "student1 = Student(major='ds', name='David')\n",
    "print(student1.name)\n",
    "print(student1.age)\n",
    "print(student1.height)\n",
    "print(student1.weight)\n",
    "print(student1.major)"
   ]
  },
  {
   "cell_type": "markdown",
   "metadata": {},
   "source": [
    "## Factory\n",
    " - 객체 생성을 위한 팩토리 클래스를 정의, 실제 객체 생성을 클래스 안에서 결정"
   ]
  },
  {
   "cell_type": "code",
   "execution_count": 13,
   "metadata": {},
   "outputs": [],
   "source": [
    "# 일반 클래스\n",
    "class AndroidSmartphone:\n",
    "    def send(self, message):\n",
    "        print (\"send a message via Android platform\")\n",
    "\n",
    "class WindowsSmartphone:\n",
    "    def send(self, message):\n",
    "        print (\"send a message via Window Mobile platform\")\n",
    "        \n",
    "class iOSSmartphone:\n",
    "    def send(self, message):\n",
    "        print (\"send a message via iOS platform\")"
   ]
  },
  {
   "cell_type": "code",
   "execution_count": 14,
   "metadata": {},
   "outputs": [],
   "source": [
    "# 팩토리 클래스\n",
    "class SmartphoneFactory(object):\n",
    "    def __init__(self):\n",
    "        pass\n",
    "    \n",
    "    def create_smartphone(self, devicetype):\n",
    "        if devicetype == 'android':\n",
    "            smartphone = AndroidSmartphone()\n",
    "        elif devicetype == 'window':\n",
    "            smartphone = WindowsSmartphone()\n",
    "        elif devicetype == 'ios':\n",
    "            smartphone = iOSSmartphone()\n",
    "        return smartphone"
   ]
  },
  {
   "cell_type": "code",
   "execution_count": 15,
   "metadata": {},
   "outputs": [
    {
     "name": "stdout",
     "output_type": "stream",
     "text": [
      "send a message via Android platform\n",
      "send a message via Window Mobile platform\n",
      "send a message via iOS platform\n"
     ]
    }
   ],
   "source": [
    "smartphone_factory = SmartphoneFactory()\n",
    "message_sender1 = smartphone_factory.create_smartphone('android')\n",
    "message_sender1.send('hi')\n",
    "\n",
    "message_sender2 = smartphone_factory.create_smartphone('window')\n",
    "message_sender2.send('hello')\n",
    "\n",
    "message_sender3 = smartphone_factory.create_smartphone('ios')\n",
    "message_sender3.send('are you there?')"
   ]
  },
  {
   "cell_type": "markdown",
   "metadata": {},
   "source": [
    "## 예시\n",
    "- https://github.com/faif/python-patterns (종합본-파이썬)\n",
    "- http://aosabook.org//en/index.html (종합본-Open Source)\n",
    "- https://realpython.com/factory-method-python/ (Factory Method 심화)"
   ]
  },
  {
   "cell_type": "code",
   "execution_count": null,
   "metadata": {},
   "outputs": [],
   "source": []
  }
 ],
 "metadata": {
  "kernelspec": {
   "display_name": "Python 3",
   "language": "python",
   "name": "python3"
  },
  "language_info": {
   "codemirror_mode": {
    "name": "ipython",
    "version": 3
   },
   "file_extension": ".py",
   "mimetype": "text/x-python",
   "name": "python",
   "nbconvert_exporter": "python",
   "pygments_lexer": "ipython3",
   "version": "3.6.8"
  }
 },
 "nbformat": 4,
 "nbformat_minor": 2
}
