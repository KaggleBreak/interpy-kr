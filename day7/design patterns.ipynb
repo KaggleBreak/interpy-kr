{
 "cells": [
  {
   "cell_type": "markdown",
   "metadata": {},
   "source": [
    "# 디자인 패턴"
   ]
  },
  {
   "cell_type": "markdown",
   "metadata": {},
   "source": [
    "## EAFP vs LBYL\n",
    " - https://devblogs.microsoft.com/python/idiomatic-python-eafp-versus-lbyl/"
   ]
  },
  {
   "cell_type": "code",
   "execution_count": 3,
   "metadata": {},
   "outputs": [],
   "source": [
    "dict_ = {}"
   ]
  },
  {
   "cell_type": "markdown",
   "metadata": {},
   "source": [
    "### Look Before You Leap (뛰기 전에 살펴보자)\n",
    "- 어떤 것을 실행하기 전에 에러가 날만한 요소들을 조건절로 검사를 하고 수행하는 스타일"
   ]
  },
  {
   "cell_type": "code",
   "execution_count": 4,
   "metadata": {},
   "outputs": [
    {
     "name": "stdout",
     "output_type": "stream",
     "text": [
      "no key\n"
     ]
    }
   ],
   "source": [
    "if \"key\" in dict_:\n",
    "    do_something(dict[\"key\"])\n",
    "else:\n",
    "    print('no key')"
   ]
  },
  {
   "cell_type": "markdown",
   "metadata": {},
   "source": [
    "### Easier to Ask for Forgiveness than Permission (허락보다 용서를 구하기가 쉽다)\n",
    "- 예외처리를 활용하여 검사를 수행하지 않고 일단 실행하고 예외처리를 진행하는 스타일\n",
    "- 파이썬은 EAFP 스타일을 권장(참고 [PEP-0463](https://www.python.org/dev/peps/pep-0463/))\n",
    "- EAFP는 Python에서 표준이며, 철학은 예외에 의해 가능\n",
    "    - 대신 오류 코드를 사용하는 예외가 없으면 오류 처리를 논리의 기본 흐름에 직접 포함시켜야 함\n",
    "    - 예외로 인해 메인 플로우가 중단되므로 예외적 인 경우가 아닌 로컬로 처리 할 수 있음\n",
    "- EAFP와 결합 된 예외는 오류 코드 예외를 쉽게 무시할 수 없기 때문에 우수함\n",
    "- 기본적으로 예외는 큰 효과가 있지만 오류 코드는 기본적으로 무음이므로 예외 EAFP- 기본 스타일은 문제를 자동으로 무시하기 어렵게 만듬"
   ]
  },
  {
   "cell_type": "code",
   "execution_count": 5,
   "metadata": {},
   "outputs": [
    {
     "name": "stdout",
     "output_type": "stream",
     "text": [
      "no key\n"
     ]
    }
   ],
   "source": [
    "try:\n",
    "    value = dict_[\"key\"]\n",
    "except KeyError:\n",
    "    print('no key')\n",
    "else:\n",
    "    do_something(value)"
   ]
  },
  {
   "cell_type": "markdown",
   "metadata": {},
   "source": [
    "## 패턴의 요소\n",
    " - https://www.fun-coding.org/PL&OOP2-2.html\n",
    " - https://sungsoo.github.io/2018/03/19/design-patterns-in-python.html\n",
    " \n",
    "### 소프트웨어에서의 디자인 패턴이란\n",
    "- 반복해서 일어나는 문제를 기술, 해당 문제에 대한 해결책에서 핵심을 뽑아 다양한 방식으로 재사용\n",
    "- 깔끔하게 하나의 클래스나 라이브러리 구현으로 묶을 수 있어서 그냥 사용되는 것들에 관하여 말하는 것이 아니라, 다양한 방식으로 적용이 가능한 테크닉에 관하여 말하는 것\n",
    "- 같은 테크닉을 다양한 문맥에서 사용할 수 있다면 우리는 경험을 더 넓은 영역에 걸쳐서 적용할 수 있기 때문\n",
    "\n",
    "### 디자인 패턴 구조\n",
    "- 패턴 이름(pattern name): 다른 소프트웨어 개발자와 어휘를 공유 가능\n",
    "- 문제(problem): 언제 패턴을 적용할 지 기술\n",
    "- 해결책(solution): 디자인, 그들 사이의 관계, 책임 그리고 협력을 구성하는 요소들을 기술\n",
    "- 결과(consequences): 패턴 적용에 따른 Trade-off. 패턴을 일정 상황에 적용한 결과를 인지해야만 그 패턴이 다른 상황에 얼마나 적절한지 더 잘 평가할 수 있음\n",
    "\n",
    "# Design Patterns: Elements of Reusable Object-Oriented Software (GoF)\n",
    "- 디자인 패턴 교재에서의 네 명의 저자(Gamma, Helm, Johnson 그리고 Vlissides)를 ‘사인방(Gang of Four)’ 책 (이른바 GoF)라고 함\n",
    "- 23가지의 디자인 패턴을 정리하고 각각의 디자인 패턴을 생성(Creational), 구조(Structural), 행위(Behavioral) 3가지로 분류\n",
    "## GoF 디자인 패턴의 분류\n",
    "\n",
    "- 잘 정리된 출처: [\\[Design Pattern\\] 디자인 패턴 종류](https://gmlwjd9405.github.io/2018/07/06/design-pattern.html)\n",
    "<img src=\"https://gmlwjd9405.github.io/images/design-pattern/types-of-designpattern.png\" width=\"800\">\n"
   ]
  },
  {
   "cell_type": "markdown",
   "metadata": {},
   "source": [
    "# Singleton\n",
    " - **의도: 클래스에 확실하게 오직 하나의 실체만 있으며 그 실체에 전역적으로 접근할 지점을 하나 제공하는 것**\n",
    " - 많은 프로그래머가 패턴을 인식하기 위해 제일 처음 배우는 패턴은 '싱글턴'. 그러나 안타깝게도, 여러모로 보아 오히려 안티-패턴에 가까움\n",
    "\n",
    "- 싱글턴은 프로세스 안에서 오직 한 번만 실체화될 수 있는 객체. 물론 어쩌다가 한 번만 실체화 한 객체가 아니고, 여러 번의 실체화 시도를 모두 거부하는 객체\n",
    "- 싱글턴 패턴은 어플리케이션이 데이터베이스에 접근하거나 네트워크 링크가 서버에 접근하거나 또는 컴퓨터의 레지스트리에 접속하려는 시도 등등을 제어하는 클래스에 자주 사용\n",
    "    - 하지만 이는 싱글턴을 좀 허술하게 사용하는 것\n",
    "    - 어플리케이션이 오직 하나의 데이터베이스를 요구할 수도 있지만, 오직 데이터베이스 접근이 하나만 있을 수 있다고 요구하는 것은 아님\n",
    "    - 언젠가는 데이터베이스가 두 개인 어플리케이션으로 진화할지도 모르는데 이를 막는 코드를 작성할 이유가 없음\n",
    "- 싱글턴의 심각한 결점은 테스트를 망가뜨린다는 것\n",
    "    - 유닛 테스트는 종종 실제 객체와 비슷하지만 구현은 없는 가짜 객체를 만들어서 작동\n",
    "    - 코드가 ‘database’ 실체를 막는 담장을 세웠다면, 임시로 가짜 코드를 세우는 것이 점점 어려워질 뿐만 아니라, 심지어 불가능할 수도 있음(물론 파이썬에서 완전히 불가능한 것은 거의 없다)\n",
    "    - 테스트 주도적 개발은 거대한 싱글톤을 아주 빨리 포기하게 만든다.\n",
    "- 그럼에도 불구하고, 필요하다면 파이썬에서 싱글턴을 쉽게 구현할 수 있음\n",
    "    - [python에서 싱글톤을 구현하는 여러가지 방법](https://github.com/ksu3101/TIL/blob/master/PythonDjango/170227.md)"
   ]
  },
  {
   "cell_type": "code",
   "execution_count": 4,
   "metadata": {},
   "outputs": [],
   "source": [
    "class Singleton(type):    # Type을 상속받음\n",
    "    __instances = {}      # 클래스의 인스턴스를 저장할 속성\n",
    "    def __call__(cls, *args, **kwargs):    # 인스턴스를 만들 때 호출되는 메서드\n",
    "        if cls not in cls.__instances:     # 인스턴스 생성 여부 확인\n",
    "            cls.__instances[cls] = super().__call__(*args, **kwargs) \n",
    "        return cls.__instances[cls]        # 클래스로 인스턴스를 생성했으면 인스턴스 반환"
   ]
  },
  {
   "cell_type": "code",
   "execution_count": 5,
   "metadata": {},
   "outputs": [],
   "source": [
    "class PrintObject(metaclass=Singleton):    # 메타클래스로 Singleton을 지정\n",
    "    def __init__(self):\n",
    "        print(\"This is called by super().__call__\")"
   ]
  },
  {
   "cell_type": "code",
   "execution_count": 6,
   "metadata": {},
   "outputs": [
    {
     "name": "stdout",
     "output_type": "stream",
     "text": [
      "This is called by super().__call__\n",
      "<__main__.PrintObject object at 0x000001B792892908>\n",
      "<__main__.PrintObject object at 0x000001B792892908>\n"
     ]
    }
   ],
   "source": [
    "object1 = PrintObject()     \n",
    "object2 = PrintObject()     \n",
    "print(object1)\n",
    "print(object2)"
   ]
  },
  {
   "cell_type": "markdown",
   "metadata": {},
   "source": [
    "## 싱글톤으로 logger 구현"
   ]
  },
  {
   "cell_type": "code",
   "execution_count": 1,
   "metadata": {},
   "outputs": [],
   "source": [
    "## CustomLogger.py\n",
    "\n",
    "import logging\n",
    "import os\n",
    "class SingletonType(type):\n",
    "    def __call__(cls, *args, **kwargs):\n",
    "        try:\n",
    "            return cls.__instance\n",
    "        except AttributeError:\n",
    "            cls.__instance = super(SingletonType, cls).__call__(*args, **kwargs)\n",
    "            return cls.__instance\n",
    "\n",
    "class CustomLogger(object):\n",
    "    __metaclass__ = SingletonType\n",
    "    _logger = None\n",
    "\n",
    "    def __init__(self):\n",
    "        self._logger = logging.getLogger(\"crumbs\")\n",
    "        self._logger.setLevel(logging.DEBUG)\n",
    "        formatter = logging.Formatter('[%(levelname)s|%(filename)s:%(lineno)s] %(asctime)s > %(message)s')\n",
    "\n",
    "        import datetime\n",
    "        now = datetime.datetime.now()\n",
    "        import time\n",
    "        timestamp = time.mktime(now.timetuple())\n",
    "\n",
    "        dirname = './log'\n",
    "        if not os.path.isdir(dirname):\n",
    "            os.mkdir(dirname)\n",
    "        fileHandler = logging.FileHandler(dirname + \"/Aries_\"+now.strftime(\"%Y-%m-%d %H:%M:%S\")+\".log\")\n",
    "        streamHandler = logging.StreamHandler()\n",
    "\n",
    "        fileHandler.setFormatter(formatter)\n",
    "        streamHandler.setFormatter(formatter)\n",
    "\n",
    "        self._logger.addHandler(fileHandler)\n",
    "        self._logger.addHandler(streamHandler) \n",
    "        \n",
    "    def get_logger(self): \n",
    "        return self._logger"
   ]
  },
  {
   "cell_type": "markdown",
   "metadata": {},
   "source": [
    "## 싱글톤 객체 생성 및 사용\n",
    "- 앞서 생성한 CustomLogger를 사용하기 위해서는 `__call__()`의 메소드를 실행\n",
    "- 여기서 눈여겨 보아야 할 사항은 `__call()__`을 여러번 호출해도 SingletonType의 class가 metaclass이기 때문에 최초 한번만 \"Generate new instance\"가 출력되고, CustomLogger의 `__init__`이 호출된다는 것\n",
    "    - 'metaclass': python에서 class는 객체. metaclass는 class의 class(즉, class를 만드는 무언가). class factory라고 할 수도 있음 - [참고: Python의 metaclasses(메타클래스) 이해하기](https://tech.ssut.me/understanding-python-metaclasses/)\n",
    "    - `type` 함수가 metaclass임\n",
    "- 그 이후의 `__call__()`에서는 객체는 생성, `__init__()`이 호출되지 않고 기존에 생성된 최초의 instance를 가져올 수 있음\n",
    "    - 이렇게 되면 어느 클래스에서도 사용이 가능한 CustomLogger가 완성"
   ]
  },
  {
   "cell_type": "code",
   "execution_count": 3,
   "metadata": {},
   "outputs": [
    {
     "name": "stderr",
     "output_type": "stream",
     "text": [
      "[INFO|<ipython-input-3-2e5b16a5eb4d>:5] 2019-07-06 11:44:12,843 > start logging...\n"
     ]
    }
   ],
   "source": [
    "from CustomLogger import CustomLogger\n",
    "# 최초 한번 실행될 경우에는 __call__의 'Generate new instance' 가 출력되고 CustomLogger의 __init__이 호출\n",
    "\n",
    "logger = CustomLogger.__call__().get_logger()\n",
    "logger.info(\"start logging...\")\n",
    "\n",
    "# 첫번째를 제외한 그 이후에는 'return instance'가 출력되고, init은 호출되지 않음\n",
    "# (SingletonType class가 객체를 두개 이상 생성하는 것을 제한) \n",
    "\n",
    "logger = CustomLogger.__call__().get_logger() \n",
    "logger = CustomLogger.__call__().get_logger()\n"
   ]
  },
  {
   "cell_type": "markdown",
   "metadata": {},
   "source": [
    "# Observer\n",
    "- **의도: 객체 사이에 일대다 의존성을 정의. 그래서 객체의 상태가 바뀌면 관련된 모든 객체에 이 사실이 고지되고 자동으로 갱신**\n",
    " - 객체의 상태 변경 시 관련 다른 객체들에게 통보\n",
    "- 분산 이벤트 처리 시스템 구현시 사용!\n",
    "- 자세한 구현 사례: [파이썬으로 옵저버 패턴을 구현해보자](https://weejw.tistory.com/108)"
   ]
  },
  {
   "cell_type": "code",
   "execution_count": 4,
   "metadata": {},
   "outputs": [],
   "source": [
    "class Observer: \n",
    "    def __init__(self):\n",
    "        self.observers = list()\n",
    "        self.msg = str()\n",
    "\n",
    "    def notify(self, event_data): # 통보 메서드\n",
    "        for observer in self.observers:\n",
    "            observer.notify(event_data)\n",
    "\n",
    "    def register(self, observer):\n",
    "        self.observers.append(observer)\n",
    "\n",
    "    def unregister(self, observer):\n",
    "        self.observers.remove(observer)"
   ]
  },
  {
   "cell_type": "code",
   "execution_count": 5,
   "metadata": {},
   "outputs": [],
   "source": [
    "class SMSNotifier: # 각 클래스\n",
    "    def notify(self, event_data):\n",
    "        print(event_data, 'received..')\n",
    "        print('send sms')\n",
    "        \n",
    "class EmailNotifier:\n",
    "    def notify(self, event_data):\n",
    "        print(event_data, 'received..')\n",
    "        print('send email')\n",
    "        \n",
    "class PushNotifier:\n",
    "    def notify(self, event_data):\n",
    "        print(event_data, 'received..')\n",
    "        print('send push notification')"
   ]
  },
  {
   "cell_type": "code",
   "execution_count": 6,
   "metadata": {},
   "outputs": [
    {
     "name": "stdout",
     "output_type": "stream",
     "text": [
      "user activation event received..\n",
      "send sms\n",
      "user activation event received..\n",
      "send email\n",
      "user activation event received..\n",
      "send push notification\n"
     ]
    }
   ],
   "source": [
    "notifier = Observer()\n",
    "\n",
    "sms_notifier = SMSNotifier()\n",
    "email_notifier = EmailNotifier()\n",
    "push_notifier = PushNotifier()\n",
    "\n",
    "notifier.register(sms_notifier)\n",
    "notifier.register(email_notifier)\n",
    "notifier.register(push_notifier)\n",
    "\n",
    "notifier.notify('user activation event')"
   ]
  },
  {
   "cell_type": "markdown",
   "metadata": {},
   "source": [
    "# Builder\n",
    "아래 2가지 상황을 해결\n",
    " - 생성자에 매개 변수가 있는 경우 가독성 저하\n",
    "   - Student('Dave', 20, 180, 180, 'cs', \\['data structures', 'artificial intelligence'\\])\n",
    " - 전체 변수 중 일부 값만 설정하고 싶을 경우에 대한 처리\n",
    "   - Student('Dave', --, 180, 180, ???, ???)"
   ]
  },
  {
   "cell_type": "code",
   "execution_count": 10,
   "metadata": {},
   "outputs": [],
   "source": [
    "class Student(object):\n",
    "    def __init__(self, name, age=20, height=180, weight=60, major='cs'):\n",
    "        self.name = name\n",
    "        self.age = age\n",
    "        self.height = height\n",
    "        self.weight = weight\n",
    "        self.major = major"
   ]
  },
  {
   "cell_type": "code",
   "execution_count": 11,
   "metadata": {},
   "outputs": [
    {
     "name": "stdout",
     "output_type": "stream",
     "text": [
      "Dave\n",
      "20\n",
      "180\n",
      "60\n",
      "cs\n"
     ]
    }
   ],
   "source": [
    "student1 = Student('Dave')\n",
    "print(student1.name)\n",
    "print(student1.age)\n",
    "print(student1.height)\n",
    "print(student1.weight)\n",
    "print(student1.major)"
   ]
  },
  {
   "cell_type": "code",
   "execution_count": 12,
   "metadata": {},
   "outputs": [
    {
     "name": "stdout",
     "output_type": "stream",
     "text": [
      "David\n",
      "20\n",
      "180\n",
      "60\n",
      "ds\n"
     ]
    }
   ],
   "source": [
    "student1 = Student(major='ds', name='David')\n",
    "print(student1.name)\n",
    "print(student1.age)\n",
    "print(student1.height)\n",
    "print(student1.weight)\n",
    "print(student1.major)"
   ]
  },
  {
   "cell_type": "markdown",
   "metadata": {},
   "source": [
    "# Factory\n",
    " - 객체 생성을 위한 팩토리 클래스를 정의, 실제 객체 생성을 클래스 안에서 결정\n",
    " - 전체 객체들 간의 관계를 구조화하여 효율적으로 프로그램을 제작할 수 있게 해 줌\n",
    " \n",
    " - 아래 그림과 같이 계층적이고 구조적인 객체를 표현할 때 유용\n",
    "     - 출처: [Python으로 구현한 Factory Method Pattern](https://thdev.net/320)\n",
    "     \n",
    " <img src=\"https://img1.daumcdn.net/thumb/R1280x0/?scode=mtistory2&fname=http%3A%2F%2Fcfile8.uf.tistory.com%2Fimage%2F1871E7385096C0C2069CA9\" width=\"800\">"
   ]
  },
  {
   "cell_type": "code",
   "execution_count": 7,
   "metadata": {},
   "outputs": [],
   "source": [
    "# 일반 클래스\n",
    "class AndroidSmartphone:\n",
    "    def send(self, message):\n",
    "        print (\"send a message via Android platform\")\n",
    "\n",
    "class WindowsSmartphone:\n",
    "    def send(self, message):\n",
    "        print (\"send a message via Window Mobile platform\")\n",
    "        \n",
    "class iOSSmartphone:\n",
    "    def send(self, message):\n",
    "        print (\"send a message via iOS platform\")"
   ]
  },
  {
   "cell_type": "code",
   "execution_count": 8,
   "metadata": {},
   "outputs": [],
   "source": [
    "# 팩토리 클래스\n",
    "class SmartphoneFactory(object):\n",
    "    def __init__(self):\n",
    "        pass\n",
    "    \n",
    "    def create_smartphone(self, devicetype):\n",
    "        if devicetype == 'android':\n",
    "            smartphone = AndroidSmartphone()\n",
    "        elif devicetype == 'window':\n",
    "            smartphone = WindowsSmartphone()\n",
    "        elif devicetype == 'ios':\n",
    "            smartphone = iOSSmartphone()\n",
    "        return smartphone"
   ]
  },
  {
   "cell_type": "code",
   "execution_count": 15,
   "metadata": {},
   "outputs": [
    {
     "name": "stdout",
     "output_type": "stream",
     "text": [
      "send a message via Android platform\n",
      "send a message via Window Mobile platform\n",
      "send a message via iOS platform\n"
     ]
    }
   ],
   "source": [
    "smartphone_factory = SmartphoneFactory()\n",
    "message_sender1 = smartphone_factory.create_smartphone('android')\n",
    "message_sender1.send('hi')\n",
    "\n",
    "message_sender2 = smartphone_factory.create_smartphone('window')\n",
    "message_sender2.send('hello')\n",
    "\n",
    "message_sender3 = smartphone_factory.create_smartphone('ios')\n",
    "message_sender3.send('are you there?')"
   ]
  },
  {
   "cell_type": "markdown",
   "metadata": {},
   "source": [
    "# 한 마디 경고\n",
    "론 제프리(Ron Jeffries)가 최근 이렇게 썼다:\n",
    "\n",
    "> **패턴 책을 든 어린 소년**\n",
    ">\n",
    "> 며칠에 걸쳐서 이런 아이디어들을 한 동안 생각한 후에, 마침내 “패턴 책을 잡은 어린 소년”이 무슨 뜻인지 깨닫았다. 팀에서 누가 사인방(Gamma, et al., Design Patterns)책을 읽고 있는지 구별할 수 있다. 며칠이 지나면, 이 사람은 엄청난 아이디어를 가지고 나타나서 시스템의 한 곳에 합성 패턴을 사용해야 한다고 열변을 토한다. 아마도 그가 지난 밤에 읽은 것일게다.\n",
    ">\n",
    "> 오래된 겪언이 하나 있다: 망치를 든 어린 소년에게는 무엇이든 못처럼 보인다. 프로그래머로서 우리도 같은 함정에 너무 자주 빠진다. 새로운 테크놀로지나 솔루션을 배우면 즉시 그것을 적용할 곳을 찾기 시작한다.\n",
    "\n",
    "패턴은 유용하다. 또한 중독성이 있다. 너무 과용하지 않도록 하자."
   ]
  },
  {
   "cell_type": "markdown",
   "metadata": {},
   "source": [
    "## 예시\n",
    "- https://github.com/faif/python-patterns (종합본-파이썬)\n",
    "- http://aosabook.org//en/index.html (종합본-Open Source)\n",
    "- https://realpython.com/factory-method-python/ (Factory Method 심화)"
   ]
  },
  {
   "cell_type": "markdown",
   "metadata": {},
   "source": [
    "# Reference\n",
    "- [Python(파이썬) 기본 - 33. EAFP - 허락보다 용서구하는 것이 쉽다.](https://suwoni-codelab.com/python%20%EA%B8%B0%EB%B3%B8/2018/03/06/Python-Basic-EAFP/)\n",
    "- [Design Patterns in Python](https://sungsoo.github.io/2018/03/19/design-patterns-in-python.html)"
   ]
  }
 ],
 "metadata": {
  "kernelspec": {
   "display_name": "Python 3",
   "language": "python",
   "name": "python3"
  },
  "language_info": {
   "codemirror_mode": {
    "name": "ipython",
    "version": 3
   },
   "file_extension": ".py",
   "mimetype": "text/x-python",
   "name": "python",
   "nbconvert_exporter": "python",
   "pygments_lexer": "ipython3",
   "version": "3.5.2"
  }
 },
 "nbformat": 4,
 "nbformat_minor": 2
}
