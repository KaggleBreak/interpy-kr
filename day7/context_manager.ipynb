{
 "cells": [
  {
   "cell_type": "markdown",
   "metadata": {},
   "source": [
    "## Day 7. 데이터뽀개기 중급 파이썬 스터디 발표자료\n",
    "\n",
    "### Reference\n",
    "\n",
    "- 아래 글들을 참고해서 작성했습니다. 감사합니다!\n",
    "- [24. Context manager](https://ddanggle.gitbooks.io/interpy-kr/content/ch24-context-manager.html)\n",
    "- [파이썬 context manager, with구문으로 안전한 리소스 관리를 하자.](https://velog.io/@sjquant/%ED%8C%8C%EC%9D%B4%EC%8D%AC-context-manager-with%EA%B5%AC%EB%AC%B8%EC%9C%BC%EB%A1%9C-%EC%95%88%EC%A0%84%ED%95%9C-%EB%A6%AC%EC%86%8C%EC%8A%A4-%EA%B4%80%EB%A6%AC%EB%A5%BC-%ED%95%98%EC%9E%90.)\n",
    "- [텐서플로우 문서 한글 번역본](https://tensorflowkorea.gitbooks.io/tensorflow-kr/content/g3doc/get_started/basic_usage.html)\n",
    "- [이펙티브 텐서플로 2.0](https://tensorflow.blog/2019/02/21/%EC%9D%B4%ED%8E%99%ED%8B%B0%EB%B8%8C-%ED%85%90%EC%84%9C%ED%94%8C%EB%A1%9C-2-0/)\n",
    "\n",
    "\n",
    "### 7-1.  with\n",
    "\n",
    "- 컨텍스트 매니저는 원하는 타이밍에 정확하게 리소스를 할당하고 제공하는 역할. 가장 많이 사용되는 컨텍스트 매니저는 with 문입니다. \n",
    "\n",
    "- with 를 사용할 때 \n",
    "```\n",
    "with open('some_file', 'w') as opened_file:\n",
    "    opened_file.write('Hola')\n",
    "```\n",
    "\n",
    "- 위 코드와 동일한 수행을 하는 코드\n",
    "```\n",
    "file = open('somefile', 'w')\n",
    "try:\n",
    "    file.write('Hola')\n",
    "finally:\n",
    "    file.close()\n",
    "```\n",
    "\n",
    "- 예시와 비교해보면 간단히 with을 사용함으로써 많은 표준 코드들을 삭제했음, with 문을 사용해서 가장 큰 장점은 감싸진 블록이 존재하든지 관심을 가지지 않아도 파일은 확실히 닫아진다는 것입니다.\n",
    "- 일반적으로 파일을 잠그거나 해제하거나, (이미 보여드렸듯) 열려있는 파일을 닫을 때 컨텍스트 매니저를 사용함"
   ]
  },
  {
   "cell_type": "markdown",
   "metadata": {},
   "source": [
    "### 7-2. Class로 Context Manager 향상시키기\n",
    "\n",
    "- 최소한 컨텍스트 매니저는 `__enter__` 과 `__exit__` 메소드 (Magic Methods)를 가지고 있음\n",
    "- 파일을 여는 컨텍스트 매니저를 만들어보면서 기본에 대해서 살펴봅시다."
   ]
  },
  {
   "cell_type": "code",
   "execution_count": 1,
   "metadata": {},
   "outputs": [],
   "source": [
    "class File(object):\n",
    "    def __init__(self, file_name, method):\n",
    "        self.file_obj = open(file_name, method)\n",
    "    def __enter__(self):\n",
    "        return self.file_obj\n",
    "    def __exit__(self, type, value, trace_back):\n",
    "        self.file_obj.close()"
   ]
  },
  {
   "cell_type": "code",
   "execution_count": 8,
   "metadata": {},
   "outputs": [],
   "source": [
    "with File('demo.txt', 'wb') as opened_file:\n",
    "    opened_file.write(b'Hola!')"
   ]
  },
  {
   "cell_type": "markdown",
   "metadata": {},
   "source": [
    "- `__exit__` 함수는 세 가지 전달 인자를 받습니다. 컨텍스트 매니저 class의 일부인 모든 `__exit__` 메소드에 필요함\n",
    "    * 1) with문은 File(class)의 `__exit__` 메소드를 저장, \n",
    "    * 2) File(class)의 `__enter__` 메소드를 호출\n",
    "    * 3) `enter` 메소드는 파일을 열고 파일을 반환\n",
    "    * 4) 열려진 파일 처리는 opened_file을 통과합니다.\n",
    "    * 5) .write()를 사용해서 파일을 쓸 수 있습니다.\n",
    "    * 6) with문은 저장된 `__exit__` 문을 호출\n",
    "    * 7) `__exit__`문은 파일을 닫습니다."
   ]
  },
  {
   "cell_type": "markdown",
   "metadata": {},
   "source": [
    "### 7-3. handling exception\n",
    "\n",
    "- 아직까지 `__exit__` 메소드의 인자인 type, value, trace_back에 대해서는 아직 이야기를 나누지 않았음\n",
    "- 4번째에서 6번째 단계 사이에서 예외가 발생한다면, 파이썬은 예외에서의 type, value, trace_back을 `__exit__`메소드에 통과시킵니다. \n",
    "- `__exit__` 메소드에서는 다음에 어떤 단계들이 요구되는 지에 따라 파일을 닫을 수 있는 방법을 결정해야합니다. 이 경우에는 거기까지는 생각하지 않겠습니다.\n",
    "- 어떤 파일 객체에서 예외를 발생한다면 어떻게 될까요? 파일 객체가 지원되지 않는 메소드에 접근하려 한다고 생각해보겠습니다. 예를 들면,"
   ]
  },
  {
   "cell_type": "code",
   "execution_count": 9,
   "metadata": {},
   "outputs": [
    {
     "ename": "AttributeError",
     "evalue": "'_io.BufferedWriter' object has no attribute 'undefined_function'",
     "output_type": "error",
     "traceback": [
      "\u001b[0;31m---------------------------------------------------------------------------\u001b[0m",
      "\u001b[0;31mAttributeError\u001b[0m                            Traceback (most recent call last)",
      "\u001b[0;32m<ipython-input-9-c073cc4c2c8b>\u001b[0m in \u001b[0;36m<module>\u001b[0;34m()\u001b[0m\n\u001b[1;32m      1\u001b[0m \u001b[0;32mwith\u001b[0m \u001b[0mFile\u001b[0m\u001b[0;34m(\u001b[0m\u001b[0;34m'demo.txt'\u001b[0m\u001b[0;34m,\u001b[0m \u001b[0;34m'wb'\u001b[0m\u001b[0;34m)\u001b[0m \u001b[0;32mas\u001b[0m \u001b[0mopened_file\u001b[0m\u001b[0;34m:\u001b[0m\u001b[0;34m\u001b[0m\u001b[0m\n\u001b[0;32m----> 2\u001b[0;31m     \u001b[0mopened_file\u001b[0m\u001b[0;34m.\u001b[0m\u001b[0mundefined_function\u001b[0m\u001b[0;34m(\u001b[0m\u001b[0;34mb'Hola!'\u001b[0m\u001b[0;34m)\u001b[0m\u001b[0;34m\u001b[0m\u001b[0m\n\u001b[0m",
      "\u001b[0;31mAttributeError\u001b[0m: '_io.BufferedWriter' object has no attribute 'undefined_function'"
     ]
    }
   ],
   "source": [
    "with File('demo.txt', 'wb') as opened_file:\n",
    "    opened_file.undefined_function(b'Hola!')"
   ]
  },
  {
   "cell_type": "markdown",
   "metadata": {},
   "source": [
    "- with 문이 에러를 만나면, 어떤식으로 처리되는지 단계들을 살펴보기\n",
    "\n",
    "    * 1) type, value, traceback의 에러가 `_exit`메소드를 통과합니다.\n",
    "    * 2) `__exit__` 메소드가 예외를 처리하도록 합니다.\n",
    "    * 3) `__exit__` 메소드가 True 를 반환한다면, 예외는 적절하게 된 것입니다.\n",
    "    * 4) `__exit__` 메소드가 True가 아닌 다른 것을 반환하면, with문에서 예외가 발생합니다.\n",
    "\n",
    "- 위 경우에는 `__exit__` 메소드는 None(리턴 문이 어떤 것도 만나지 않는다면 None을 반환)을 반환합니다. 그래서, with문은 예외를 발생시킵니다."
   ]
  },
  {
   "cell_type": "code",
   "execution_count": 11,
   "metadata": {},
   "outputs": [],
   "source": [
    "class File(object):\n",
    "    def __init__(self, file_name, method):\n",
    "        self.file_obj = open(file_name, method)\n",
    "    def __enter__(self):\n",
    "        return self.file_obj\n",
    "    def __exit__(self, type, value, trace_back):\n",
    "        print(\"예외는 처리되어야 합니다\")\n",
    "        self.file_obj.close()\n",
    "        return True"
   ]
  },
  {
   "cell_type": "code",
   "execution_count": 13,
   "metadata": {},
   "outputs": [
    {
     "name": "stdout",
     "output_type": "stream",
     "text": [
      "예외는 처리되어야 합니다\n"
     ]
    }
   ],
   "source": [
    "with File('demo.txt', 'wb') as opened_file:\n",
    "    opened_file.undefined_function()"
   ]
  },
  {
   "cell_type": "markdown",
   "metadata": {},
   "source": [
    "- `__exit__` 메소드가 True를 반환한다면, with문에서 에외는 발생하지 않을 것입니다."
   ]
  },
  {
   "cell_type": "markdown",
   "metadata": {},
   "source": [
    "### 7-4. 제너레이터를 활용해서 컨텍스트 매니저 향상시키기\n",
    "\n",
    "- 데코레이터와 제너레이터를 활용해서 컨텍스트 매니저를 향상시킬 수도 있음 (파이썬은 contextlib 모듈) \n",
    "- class 대신에, 컨텍스트 매니저를 제너레이터 함수를 이용해서 향상시킬 수도 있습니다. 의미없는 예시를 보면서, 기본부터 확인 해보겠습니다."
   ]
  },
  {
   "cell_type": "code",
   "execution_count": 14,
   "metadata": {},
   "outputs": [],
   "source": [
    "from contextlib import contextmanager\n",
    "\n",
    "@contextmanager\n",
    "def open_file(name):\n",
    "    f = open(name, 'wb')\n",
    "    yield f\n",
    "    f.close()"
   ]
  },
  {
   "cell_type": "markdown",
   "metadata": {},
   "source": [
    "- 메소드는 제너레이터, yield, 데코레이터에 관한 지식들이 필요합니다.\n",
    "-  이 예시에서는 일어날 수 있는 예외를 처리하지는 못합니다. 이전의 메소드와 동일한 방법으로 동작합니다.\n",
    "\n",
    "    * 1. 파이썬이 yield 키워드를 만난다면, 일반적인 함수 대신에 제너레이터를 만듦\n",
    "    * 2. 데코레이션이 있기 때문에 컨텍스트 매니저는 함수 이름(open_file)을 전달 인자로서 호출\n",
    "    * 3. contextmanager 함수는 GeneratorContextManager로 감싸진 제너레이터를 반환\n",
    "    * 4. GeneratorContextManager는 open_file함수를 할당. 그렇기 때문에 open_file 함수를 앞으로 호출하면, 사실은 GeneratorContextManager을 호출하는 것"
   ]
  },
  {
   "cell_type": "markdown",
   "metadata": {},
   "source": [
    "### 7-5.  Python Context Managers and the “with” Statement (Example)\n"
   ]
  },
  {
   "cell_type": "code",
   "execution_count": 17,
   "metadata": {},
   "outputs": [],
   "source": [
    "from sqlalchemy import create_engine\n",
    "from sqlalchemy.orm import sessionmaker\n",
    "\n",
    "class SQLAlchemyDBConnection(object):\n",
    "    \"\"\"SQLAlchemy database connection\"\"\"\n",
    "    def __init__(self, connection_string):\n",
    "        self.connection_string = connection_string\n",
    "        self.session = None\n",
    "\n",
    "    # with구문 진입시에 db와 connection을 하고\n",
    "    # ORM을 사용하기 위한 session을 만들어준다.\n",
    "    def __enter__(self):\n",
    "        engine = create_engine(self.connection_string)\n",
    "        Session = sessionmaker()\n",
    "        self.session = Session(bind=engine)\n",
    "        return self\n",
    "\n",
    "    # with구문을 빠져나오기 전 session의 종료를 장한다.\n",
    "    def __exit__(self, exc_type, exc_val, exc_tb):\n",
    "        self.session.close()"
   ]
  },
  {
   "cell_type": "markdown",
   "metadata": {},
   "source": [
    "```\n",
    "conn_str = 'mssql+pydobc://server_name/db_name?driver=SQL+Server'\n",
    "db = SQLAlchemyDBConnection(conn_str)\n",
    "with db:\n",
    "    customer = db.session.query(Customer).filter_by(id=123).one()\n",
    "    print(customer.name)\n",
    "```    "
   ]
  },
  {
   "cell_type": "markdown",
   "metadata": {},
   "source": [
    "### 7-6. Async Context Manager\n",
    "\n",
    "- Context Manager는 모두 동기적으로 실행됩니다. Python 3.7부터는 Context Manager를 비동기적으로 사용할 수 있음"
   ]
  },
  {
   "cell_type": "code",
   "execution_count": 18,
   "metadata": {},
   "outputs": [],
   "source": [
    "# from python 3.5\n",
    "\n",
    "class AsyncContextManager:\n",
    "    async def __aenter__(self):\n",
    "        await log('entering context')\n",
    "\n",
    "    async def __aexit__(self, exc_type, exc, tb):\n",
    "        await log('exiting context')"
   ]
  },
  {
   "cell_type": "markdown",
   "metadata": {},
   "source": [
    "```\n",
    "# from python 3.7 \n",
    "\n",
    "from contextlib import asynccontextmanager\n",
    "\n",
    "@asynccontextmanager\n",
    "async def get_connection():\n",
    "    conn = await acquire_db_connection()\n",
    "    try:\n",
    "        yield conn\n",
    "    finally:\n",
    "        await release_db_connection(conn)\n",
    "\n",
    "async def get_all_users():\n",
    "    async with get_connection() as conn:\n",
    "        return conn.query('SELECT ...')\n",
    "```"
   ]
  },
  {
   "cell_type": "markdown",
   "metadata": {},
   "source": [
    "### 7-7. tensorflow 에서 context manager\n",
    "\n",
    "```\n",
    "sess = tf.Session()\n",
    "sess.run(...)\n",
    "sess.close()\n",
    "```\n",
    "\n",
    "```\n",
    "with tf.Session() as sess:\n",
    "  sess.run(...)\n",
    "```\n",
    "\n",
    "- 딥러닝 라이브러리 tensorflow에서는 대부분 기능들에서 컨텍스트 매니저가 포함되어 있음\n",
    "- tensorflow 세션을 열고, 실행하고 리소드들이 더이상 필요하지 않을 때 해제하기 위하여 with문과 함께 컨텍스트 매니저로 실행되고 있음 (close() 메서드가 입력하지 않아도 명시적으로 실행됨)\n",
    "\n",
    "```\n",
    "c = tf.constant(...)\n",
    "sess = tf.Session()\n",
    "with sess.as_default():\n",
    "  print(c.eval())\n",
    "  \n",
    "with sess.as_default():\n",
    "  print(c.eval())\n",
    "\n",
    "sess.close()  \n",
    "```\n",
    "\n",
    "- as_default 컨텍스트 매니저는 컨텍스트를 빠져나왔을 때 세션을 닫지 않으며, 명시적으로 세션을 닫아야 함\n",
    "\n",
    "- tensorflow는 context manager를 이용해서 변수들을 그래프로 만들고, 할당하고 있는데 with 안에서 내용이 길어지다보면 너무 복잡해질 수 있음\n",
    "- tesorflow에서는 즉시 실행(eager execution) 모드도 제공하고 있는데, 2.0부터는 즉시 실행 모드 (tf.keras가 eager mode로 동작하여, 디버깅/프로토타이핑을 쉽게할 수 있음)\n",
    "\n",
    "```\n",
    "import tensorflow as tf\n",
    "tf.enable_eager_execution()\n",
    "```"
   ]
  }
 ],
 "metadata": {
  "kernelspec": {
   "display_name": "Python 3",
   "language": "python",
   "name": "python3"
  },
  "language_info": {
   "codemirror_mode": {
    "name": "ipython",
    "version": 3
   },
   "file_extension": ".py",
   "mimetype": "text/x-python",
   "name": "python",
   "nbconvert_exporter": "python",
   "pygments_lexer": "ipython3",
   "version": "3.5.2"
  }
 },
 "nbformat": 4,
 "nbformat_minor": 2
}
