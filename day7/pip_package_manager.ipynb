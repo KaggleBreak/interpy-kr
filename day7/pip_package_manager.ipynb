{
 "cells": [
  {
   "cell_type": "markdown",
   "metadata": {},
   "source": [
    "# 기본 명령어"
   ]
  },
  {
   "cell_type": "markdown",
   "metadata": {},
   "source": [
    "### 기본 설치 방법"
   ]
  },
  {
   "cell_type": "code",
   "execution_count": null,
   "metadata": {},
   "outputs": [],
   "source": [
    "# 패키지 설치 \n",
    "!pip install <package name>\n",
    "!pip install <파일명>\n",
    "\n",
    "# 특정 버전 package 설치\n",
    "!pip install <package name> == 버전넘버\n",
    "# 특정 버전 이상의 package 설치\n",
    "!pip install <package name> >= 버전넘버\n",
    "\n",
    "# package 정보 확인\n",
    "!pip show <package name>\n",
    "\n",
    "# 패키지 삭제\n",
    "!pip uninstall <package name>\n",
    "\n",
    "# 패키지 버전 업데이트\n",
    "!pip install --upgrade <package name>\n",
    "\n",
    "# 설치된 패키지 list 보기\n",
    "!pip list\n",
    "\n",
    "# pip 패키지 검색 (description내용으로 like검색)\n",
    "!pip search <package name>"
   ]
  },
  {
   "cell_type": "code",
   "execution_count": 1,
   "metadata": {},
   "outputs": [
    {
     "name": "stdout",
     "output_type": "stream",
     "text": [
      "Name: numpy\n",
      "Version: 1.16.4\n",
      "Summary: NumPy is the fundamental package for array computing with Python.\n",
      "Home-page: https://www.numpy.org\n",
      "Author: Travis E. Oliphant et al.\n",
      "Author-email: None\n",
      "License: BSD\n",
      "Location: c:\\users\\sp\\appdata\\local\\programs\\python\\python36\\lib\\site-packages\n",
      "Requires: \n",
      "Required-by: tensorflow, tensorboard, scipy, Keras, Keras-Preprocessing, Keras-Applications, h5py\n"
     ]
    }
   ],
   "source": [
    "!pip show numpy"
   ]
  },
  {
   "cell_type": "code",
   "execution_count": 2,
   "metadata": {},
   "outputs": [
    {
     "name": "stdout",
     "output_type": "stream",
     "text": [
      "numpy (1.16.4)                       - NumPy is the fundamental package for array computing with Python.\n",
      "  INSTALLED: 1.16.4 (latest)\n",
      "numpy-utils (0.1.5)                  - NumPy utilities.\n",
      "numpy-cloud (0.0.5)                  - Numpy in the cloud\n",
      "numpy-turtle (0.1)                   - Turtle graphics with NumPy\n",
      "numpy-sugar (1.5.0)                  - Missing NumPy functionalities\n",
      "root-numpy (4.8.0)                   - The interface between ROOT and NumPy\n",
      "msgpack-numpy (0.4.4.3)              - Numpy data serialization using msgpack\n",
      "numpy-quaternion (2019.7.3.22.46.7)  - Add built-in support for quaternions to numpy\n",
      "numpy-partition (1.18.9)             - SQL PARTITION BY and window functions for NumPy\n",
      "mapchete-numpy (0.1)                 - Mapchete NumPy read/write extension\n",
      "numpy-posit (1.15.2.0.0.1.dev2)      - posit (unum type III) integrated NumPy.\n",
      "numpy-aarch64 (1.16.4)               - NumPy is the fundamental package for array computing with Python.\n",
      "intel-numpy (1.15.1)                 - NumPy optimized with Intel(R) MKL library\n",
      "numpy-mkl (1.10.2)                   - NumPy: array processing for numbers, strings, records, and objects.\n",
      "ccv-numpy (0.0.2)                    - Wrapper module for ccv using numpy arrays interface\n",
      "django-numpy (1.0.1)                 - Application for Django projects that adds some utilities and integration tools with Numpy.\n",
      "BSON-NumPy (0.1)                     - Module for converting directly from BSON to NumPy ndarrays and vice versa\n",
      "dicom-numpy (0.1.6)                  - Extract image data into a 3D numpy array from a set of DICOM files.\n",
      "dl-with-numpy (0.0.3)                - Simple deep learning with numpy\n",
      "numpy-html (0.0.3)                   - A simple table renderer for numpy arrays. Provides a rich display hook for use with Jupyter Lab / Notebook.\n",
      "numpy-indexed (0.3.5)                - This package contains functionality for indexed operations on numpy ndarrays, providing efficient vectorized functionality such as grouping and set operations.\n",
      "numpy-image-widget (2019.1.6)        - An easy-to-use Jupyter widget for displaying images from Numpy data arrays\n",
      "django-numpy-json-encoder (0.1.3)    - Django JSON encoder with numpy support.\n",
      "faster-numpy (0.1.2)                 - \n",
      "numpy-stl (2.10.1)                   - Library to make reading, writing and modifying both binary and ascii STL files easy.\n",
      "hypothesis-numpy (2.0.0)             - Adds support for generating datetime to Hypothesis\n",
      "numpy-groupies (0.9.9)               - Optimised tools for group-indexing operations: aggregated sum and more.\n",
      "npplus (0.9.8)                       - Enhancements to Numpy\n",
      "o243kgmvs924mtvd034mg (0.01)         - NumPy Testing\n",
      "np (1.0.2)                           - np = numpy++: numpy with added convenience functionality\n",
      "jumpy (0.2.4)                        - Numpy and nd4j interop\n",
      "maskedarray (0.1)                    - NumPy Masked Array\n",
      "nparray (1.0.0)                      - Numpy Array Helpers\n",
      "oldnumeric (1.0.4)                   - The oldnumeric numpy package\n",
      "nptyping (0.2.0)                     - Type hints for Numpy\n",
      "match-arrays (0.0.1)                 - Matching of Numpy arrays\n",
      "vidsrc (2019.1.1)                    - Video Frameserver for Numpy\n",
      "numpyro (0.1.0)                      - Pyro PPL on Numpy\n",
      "ndarray (0.8)                        - Tools for numpy ndarray\n",
      "wrapnumpy3 (0.0.3)                   - Wrapper of Numpy in Python3.\n",
      "somber (2.0.1)                       - Self-Organizing Maps in Numpy\n",
      "zappy (0.2.0)                        - Distributed processing with NumPy and Zarr.\n",
      "sqlite3ndarray (0.3.1)               - sqlite3 helpers for numpy ndarrays\n",
      "axarray (0.1.1)                      - numpy array with labeled axes\n",
      "wendelin.core (0.13)                 - Out-of-core NumPy arrays\n",
      "sampyl-mcmc (0.3)                    - MCMC Samplers in Python & Numpy\n",
      "gsn_numpy_util (0.1.0)               - Toolbox for working with Numpy arrays.\n",
      "homog (0.1.14)                       - Utilities for Homogeneous Coordinates with Numpy\n",
      "npstreams (1.6)                      - Streaming operations on NumPy arrays\n",
      "sym2num (0.1.dev2)                   - Sympy to numpy code generator.\n",
      "blocked-matrix-utils (1.0.1)         - NumPy wrappers for blocked matrices\n",
      "dynarray (0.1.3)                     - Dynamically growable numpy arrays.\n",
      "pygeos (0.2)                         - GEOS wrapped in numpy ufuncs\n",
      "pstar (0.1.6)                        - pstar: numpy for arbitrary data\n",
      "permanent (1.1.1)                    - Calculates the permanent of a Numpy matrix\n",
      "sompy (0.1.1)                        - Numpy based SOM Library\n",
      "spartan (0.06)                       - Distributed Numpy-like arrays.\n",
      "fastjet (0.0.3)                      - The interface between FastJet and NumPy\n",
      "npdoc (1.0.1)                        - In-notebook NumPy man pages\n",
      "gumpy (0.0.1)                        - GPU-accelerated NumPy API\n",
      "gnuplotlib (0.29)                    - Gnuplot-based plotting for numpy\n",
      "multipolyfit (0.0.1)                 - Multivariate Polynomial fitting with NumPy\n",
      "nppretty (1.0.0)                     - Pretty printer for numpy arrays.\n",
      "numpythia (1.1.0)                    - The interface between PYTHIA and NumPy\n",
      "PyUblas (2017.1)                     - Seamless Numpy-UBlas interoperability\n",
      "bohrium (0.11.0.post54)              - Bohrium Python/NumPy Backend\n",
      "numm (0.3)                           - numpy-based multimedia library\n",
      "ntype (0.0.1)                        - Type Handler using NumPy\n",
      "fastfunc (0.1.7)                     - Fast numpy ufunc operations\n",
      "pyjet (1.5.0)                        - The interface between FastJet and NumPy\n",
      "snuggs (1.4.6)                       - Snuggs are s-expressions for Numpy\n",
      "array_collections (0.1.9)            - A collection of numpy ndarray subclasses.\n",
      "pyache (0.1.0)                       - A simple numpy caching library\n",
      "opt-einsum (2.3.2)                   - Optimizing numpys einsum function\n",
      "arkouda (0.0.0)                      - A numpy replacement backed by Chapel\n",
      "fewerbytes (0.0.1)                   - Compression techniques for numpy arrays\n",
      "numpy_ringbuffer (0.2.1)             - Ring buffer implementation for numpy\n",
      "zmqnumpy (0.1)                       - numpy array over zmq sockets\n",
      "pynetcdf (0.7)                       - Standalone Scientific.IO.NetCDF (2.4.11) built for NumPy\n",
      "npcb (0.0.1)                         - Copy NumPy arrays via the clipboard\n",
      "afnumpy (1.3)                        - A GPU-ready drop-in replacement for numpy\n",
      "ComStats (0.1.0)                     - Do combinatorial statistics on numpy ndarrays\n",
      "numpy_display (1.2.0)                - Formats numpy matrices in an IPython Notebook\n",
      "nnlib (0.2)                          - numpy only neural network library\n",
      "xcy-Zscore (0.0.5)                   - A small tool of Zscore based on numpy\n",
      "marshmallow-numerical (0.0.2)        - Marshmallow Schema generator for pandas and numpy\n",
      "numpyx (0.3.1)                       - Utility functions for numpy, written in cython\n",
      "sortednp (0.2.1)                     - Merge and intersect sorted numpy arrays.\n",
      "numphy (0.0.2)                       - Physics objects backed by NumPy and/or TensorFlow.\n",
      "vector-shortcuts (0.2.0)             - Vector and linear algebra toolbelt for NumPy\n",
      "spacegrids (1.9)                     - numpy array with grids and associated operations\n",
      "ndf (0.1.4)                          - NumPy based deep learning framework\n",
      "multipletau (0.3.3)                  - A multiple-tau algorithm for Python/NumPy\n",
      "seabred (0.0.1)                      - Seaborn-like plots for numpy arrays\n",
      "numexpr (2.6.9)                      - Fast numerical expression evaluator for NumPy\n",
      "autograd (1.2)                       - Efficiently computes derivatives of numpy code.\n",
      "learnnn (0.1.0)                      - A Pure Numpy Deep Learning Framework\n",
      "matplottery (1.0.6)                  - Nicer histograms with numpy and plotting with matplotlib\n",
      "geog (0.0.2)                         - Numpy-based vectorized geospatial functions\n",
      "stft (0.5.2)                         - Short Time Fourier transform for NumPy.\n"
     ]
    }
   ],
   "source": [
    "# 설치 되어 있으면 Installed라고 뜨며 version이 표시됨\n",
    "!pip search numpy"
   ]
  },
  {
   "cell_type": "markdown",
   "metadata": {},
   "source": [
    "# 패키지 생성 & 배포"
   ]
  },
  {
   "cell_type": "markdown",
   "metadata": {},
   "source": [
    "### 패키지 생성"
   ]
  },
  {
   "cell_type": "markdown",
   "metadata": {},
   "source": [
    "- 모듈이 모여서 구조를 이루면 Package라고 부름\n",
    "- 복잡하고 구조화된 모듈을 만들 때 사용하는 것이 Package"
   ]
  },
  {
   "cell_type": "code",
   "execution_count": null,
   "metadata": {},
   "outputs": [],
   "source": [
    "# 1. main.py 생성 및 package로 만들 모듈을 모아놓는 폴더를 생성하여, 모듈 파일을 안에다가 생성"
   ]
  },
  {
   "cell_type": "code",
   "execution_count": null,
   "metadata": {},
   "outputs": [],
   "source": [
    "#2. package 폴더 내에 __init__ 파일을 생성하여 패키지 내부의 모듈들을 한꺼번에 가져올 수 있게 구성\n",
    "# 패키지를 내부의 모듈들을 한꺼번에 가져오고 싶을 때, __init__.py 파일을 만들어 사용\n",
    "# 모듈 폴더 내부에 넣어서, 패키지를 읽을 떄 가장 먼저 실행되게 함\n",
    "# __init__.py에서 __all__이라는 이름의 리스트를 만드는데, 이 리스트에 지정한 모듈들이 from <패키지 이름> import *을 할떄 전부 읽어들임"
   ]
  },
  {
   "cell_type": "markdown",
   "metadata": {},
   "source": [
    "### 패키지 배포 [참고]"
   ]
  },
  {
   "cell_type": "code",
   "execution_count": null,
   "metadata": {},
   "outputs": [],
   "source": [
    "http://egloos.zum.com/mcchae/v/11249546"
   ]
  },
  {
   "cell_type": "markdown",
   "metadata": {},
   "source": [
    "# 패키지 관리"
   ]
  },
  {
   "cell_type": "markdown",
   "metadata": {},
   "source": [
    "### 기존 개발환경 복구 & 관리"
   ]
  },
  {
   "cell_type": "code",
   "execution_count": null,
   "metadata": {},
   "outputs": [],
   "source": [
    "# 1. 저장하고자 하는 환경의 package 버전 text로 list화\n",
    "!pip freeze > requirements.txt"
   ]
  },
  {
   "cell_type": "code",
   "execution_count": null,
   "metadata": {},
   "outputs": [],
   "source": [
    "# 2. 기존 개발환경을 복구할, 새로운 가상환경 생성\n",
    "# [virtualenv 외에도 다른 방법의 가상환경 생성방법도 있으나, 여기서는 virtualenv 사용]\n",
    "\n",
    "# 2-1. virtualenv 설치\n",
    "!pip install virtualenv # virtualenv가 설치되어 있으면 이 과정은 생략\n",
    "\n",
    "# 2-2. 가상환경 생성\n",
    "!virtualenv <가상환경 이름>\n",
    "\n",
    "# 2-3. 가상환경 활성화\n",
    "!source <가상환경 이름>/bin/activate\n",
    ">> 결과: (가상환경 이름) _____"
   ]
  },
  {
   "cell_type": "code",
   "execution_count": null,
   "metadata": {},
   "outputs": [],
   "source": [
    "# 3. 1에서 만든 버전의 package를 가져와서 설치\n",
    "!pip install -r requirements.txt"
   ]
  },
  {
   "cell_type": "markdown",
   "metadata": {},
   "source": [
    "### [참고] python 버전에 맞는 가상환경 관리"
   ]
  },
  {
   "cell_type": "code",
   "execution_count": null,
   "metadata": {},
   "outputs": [],
   "source": [
    "# python 2 \n",
    "python -m virtualenv venv \n",
    "virtualenv venv --python=python \n",
    "virtualenv venv --python=python2.7 \n",
    "\n",
    "# python 3 \n",
    "python3 -m virtualenv venv \n",
    "virtualenv venv --python=python3 \n",
    "virtualenv venv --python=python3.5"
   ]
  },
  {
   "cell_type": "markdown",
   "metadata": {},
   "source": [
    "### 참고자료"
   ]
  },
  {
   "cell_type": "markdown",
   "metadata": {},
   "source": [
    "1. https://dgkim5360.tistory.com/entry/python-virtualenv-on-linux-ubuntu-and-windows\n",
    "2. https://wikidocs.net/16374\n",
    "3. 혼자공부하는 파이썬 - 한빛미디어"
   ]
  }
 ],
 "metadata": {
  "kernelspec": {
   "display_name": "Python 3",
   "language": "python",
   "name": "python3"
  },
  "language_info": {
   "codemirror_mode": {
    "name": "ipython",
    "version": 3
   },
   "file_extension": ".py",
   "mimetype": "text/x-python",
   "name": "python",
   "nbconvert_exporter": "python",
   "pygments_lexer": "ipython3",
   "version": "3.6.5"
  }
 },
 "nbformat": 4,
 "nbformat_minor": 2
}
