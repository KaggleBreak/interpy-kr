{
 "cells": [
  {
   "cell_type": "markdown",
   "metadata": {},
   "source": [
    "# \\_\\_slots\\_\\_\n",
    "\n",
    "- 파이썬은 인스턴스의 모든 속성을 dict에 동적 저장\n",
    "- \\_\\_slots\\_\\_ 명령어를 통해 속성을 정적 정의 가능\n",
    "- 장점: 속성 정의/호출 속도 향상 및 메모리 사용량 감소\n",
    "- 단점: 정의 이후 속성 추가/제거 불가"
   ]
  },
  {
   "cell_type": "markdown",
   "metadata": {},
   "source": [
    "참고:\n",
    "1. https://www.christianbarra.com/posts/let-me-introduce-slots/\n",
    "2. https://blog.usejournal.com/a-quick-dive-into-pythons-slots-72cdc2d334e7\n",
    "3. https://thomas-cokelaer.info/tutorials/python/slots.html"
   ]
  },
  {
   "cell_type": "markdown",
   "metadata": {},
   "source": [
    "## 사용 예시\n",
    "\\_\\_init\\_\\_ 함수 전에 \\_\\_slots\\_\\_ = [] 형태로 정의"
   ]
  },
  {
   "cell_type": "code",
   "execution_count": 1,
   "metadata": {},
   "outputs": [],
   "source": [
    "class MyClass(object):\n",
    "    __slots__ = ['name', 'identifier']\n",
    "    def __init__(self, name, identifier):\n",
    "        self.name = name\n",
    "        self.identifier = identifier\n",
    "        self.set_up()"
   ]
  },
  {
   "cell_type": "code",
   "execution_count": 2,
   "metadata": {},
   "outputs": [
    {
     "name": "stdout",
     "output_type": "stream",
     "text": [
      "In [2] used 0.0000 MiB RAM in 0.10s, peaked 0.00 MiB above current, total RAM usage 60.49 MiB\n"
     ]
    }
   ],
   "source": [
    "import ipython_memory_usage.ipython_memory_usage as imu\n",
    "num = 1024*256\n",
    "imu.start_watching_memory()"
   ]
  },
  {
   "cell_type": "markdown",
   "metadata": {},
   "source": [
    "## 메모리 사용량 및 속도 비교"
   ]
  },
  {
   "cell_type": "markdown",
   "metadata": {},
   "source": [
    "\\_\\_slots\\_\\_: MyClass1"
   ]
  },
  {
   "cell_type": "code",
   "execution_count": 3,
   "metadata": {},
   "outputs": [
    {
     "name": "stdout",
     "output_type": "stream",
     "text": [
      "In [3] used 0.0938 MiB RAM in 0.10s, peaked 0.00 MiB above current, total RAM usage 60.58 MiB\n"
     ]
    }
   ],
   "source": [
    "class MyClass1(object):\n",
    "    __slots__ = ['name', 'identifier']\n",
    "    def __init__(self, name, identifier):\n",
    "        self.name = name\n",
    "        self.identifier = identifier\n",
    "\n",
    "class MyClass2(object):\n",
    "    def __init__(self, name, identifier):\n",
    "        self.name = name\n",
    "        self.identifier = identifier"
   ]
  },
  {
   "cell_type": "code",
   "execution_count": 4,
   "metadata": {},
   "outputs": [
    {
     "name": "stdout",
     "output_type": "stream",
     "text": [
      "162 ms ± 2.35 ms per loop (mean ± std. dev. of 7 runs, 10 loops each)\n",
      "214 ms ± 4.56 ms per loop (mean ± std. dev. of 7 runs, 1 loop each)\n",
      "In [4] used 2.5039 MiB RAM in 14.99s, peaked 41.80 MiB above current, total RAM usage 63.09 MiB\n"
     ]
    }
   ],
   "source": [
    "%timeit [MyClass1(1,1) for i in range(num)]\n",
    "%timeit [MyClass2(1,1) for i in range(num)]"
   ]
  },
  {
   "cell_type": "code",
   "execution_count": 5,
   "metadata": {},
   "outputs": [
    {
     "name": "stdout",
     "output_type": "stream",
     "text": [
      "In [5] used 15.6836 MiB RAM in 0.40s, peaked 0.00 MiB above current, total RAM usage 78.77 MiB\n"
     ]
    }
   ],
   "source": [
    "x = [MyClass1(1,1) for i in range(num)]"
   ]
  },
  {
   "cell_type": "code",
   "execution_count": 6,
   "metadata": {},
   "outputs": [
    {
     "name": "stdout",
     "output_type": "stream",
     "text": [
      "In [6] used 44.6758 MiB RAM in 0.44s, peaked 0.00 MiB above current, total RAM usage 123.45 MiB\n"
     ]
    }
   ],
   "source": [
    "y = [MyClass2(1,1) for i in range(num)]"
   ]
  },
  {
   "cell_type": "markdown",
   "metadata": {},
   "source": [
    "### 사이즈 비교"
   ]
  },
  {
   "cell_type": "code",
   "execution_count": 7,
   "metadata": {},
   "outputs": [
    {
     "name": "stdout",
     "output_type": "stream",
     "text": [
      "80 112\n",
      "In [7] used -0.0078 MiB RAM in 0.10s, peaked 0.01 MiB above current, total RAM usage 123.44 MiB\n"
     ]
    }
   ],
   "source": [
    "from sys import getsizeof\n",
    "print(getsizeof(x[0].__slots__), getsizeof(y[0].__dict__))"
   ]
  },
  {
   "cell_type": "markdown",
   "metadata": {},
   "source": [
    "## 속성을 추가하고 싶을 땐?"
   ]
  },
  {
   "cell_type": "code",
   "execution_count": 8,
   "metadata": {},
   "outputs": [
    {
     "ename": "AttributeError",
     "evalue": "'MyClass1' object has no attribute 'test_value'",
     "output_type": "error",
     "traceback": [
      "\u001b[1;31m---------------------------------------------------------------------------\u001b[0m",
      "\u001b[1;31mAttributeError\u001b[0m                            Traceback (most recent call last)",
      "\u001b[1;32m<ipython-input-8-c1464bf31e42>\u001b[0m in \u001b[0;36m<module>\u001b[1;34m\u001b[0m\n\u001b[1;32m----> 1\u001b[1;33m \u001b[0mx\u001b[0m\u001b[1;33m[\u001b[0m\u001b[1;36m0\u001b[0m\u001b[1;33m]\u001b[0m\u001b[1;33m.\u001b[0m\u001b[0mtest_value\u001b[0m \u001b[1;33m=\u001b[0m \u001b[1;34m'Some String'\u001b[0m\u001b[1;33m\u001b[0m\u001b[1;33m\u001b[0m\u001b[0m\n\u001b[0m",
      "\u001b[1;31mAttributeError\u001b[0m: 'MyClass1' object has no attribute 'test_value'"
     ]
    },
    {
     "name": "stdout",
     "output_type": "stream",
     "text": [
      "In [8] used 0.6094 MiB RAM in 0.22s, peaked 0.00 MiB above current, total RAM usage 124.05 MiB\n"
     ]
    }
   ],
   "source": [
    "x[0].test_value = 'Some String'"
   ]
  },
  {
   "cell_type": "code",
   "execution_count": 5,
   "metadata": {},
   "outputs": [],
   "source": [
    "class MyClass3(object):\n",
    "    __slots__ = ['name', 'identifier', '__dict__']\n",
    "    def __init__(self, name):\n",
    "        self.name = name\n",
    "#         self.identifier = identifier"
   ]
  },
  {
   "cell_type": "code",
   "execution_count": 6,
   "metadata": {},
   "outputs": [],
   "source": [
    "c = MyClass3(1)"
   ]
  },
  {
   "cell_type": "code",
   "execution_count": 7,
   "metadata": {},
   "outputs": [],
   "source": [
    "c.identifier=3"
   ]
  },
  {
   "cell_type": "code",
   "execution_count": 12,
   "metadata": {},
   "outputs": [
    {
     "ename": "AttributeError",
     "evalue": "'MyClass3' object has no attribute 'identify'",
     "output_type": "error",
     "traceback": [
      "\u001b[1;31m---------------------------------------------------------------------------\u001b[0m",
      "\u001b[1;31mAttributeError\u001b[0m                            Traceback (most recent call last)",
      "\u001b[1;32m<ipython-input-12-4e0736024e85>\u001b[0m in \u001b[0;36m<module>\u001b[1;34m\u001b[0m\n\u001b[1;32m----> 1\u001b[1;33m \u001b[0mc\u001b[0m\u001b[1;33m.\u001b[0m\u001b[0midentify\u001b[0m\u001b[1;33m\u001b[0m\u001b[1;33m\u001b[0m\u001b[0m\n\u001b[0m",
      "\u001b[1;31mAttributeError\u001b[0m: 'MyClass3' object has no attribute 'identify'"
     ]
    }
   ],
   "source": [
    "c.identify"
   ]
  },
  {
   "cell_type": "code",
   "execution_count": 13,
   "metadata": {},
   "outputs": [],
   "source": [
    "c.identify = 1"
   ]
  },
  {
   "cell_type": "code",
   "execution_count": null,
   "metadata": {},
   "outputs": [],
   "source": []
  },
  {
   "cell_type": "code",
   "execution_count": 10,
   "metadata": {},
   "outputs": [
    {
     "name": "stdout",
     "output_type": "stream",
     "text": [
      "167 ms ± 2.8 ms per loop (mean ± std. dev. of 7 runs, 10 loops each)\n",
      "213 ms ± 2.22 ms per loop (mean ± std. dev. of 7 runs, 1 loop each)\n",
      "In [10] used -0.8867 MiB RAM in 15.40s, peaked 42.64 MiB above current, total RAM usage 123.18 MiB\n"
     ]
    }
   ],
   "source": [
    "%timeit [MyClass3(1,1) for i in range(num)]\n",
    "%timeit [MyClass2(1,1) for i in range(num)]"
   ]
  },
  {
   "cell_type": "code",
   "execution_count": 11,
   "metadata": {},
   "outputs": [
    {
     "name": "stdout",
     "output_type": "stream",
     "text": [
      "In [11] used 18.9727 MiB RAM in 0.46s, peaked 0.00 MiB above current, total RAM usage 142.15 MiB\n"
     ]
    }
   ],
   "source": [
    "z = [MyClass3(1,1) for i in range(num)]"
   ]
  },
  {
   "cell_type": "code",
   "execution_count": 12,
   "metadata": {},
   "outputs": [
    {
     "name": "stdout",
     "output_type": "stream",
     "text": [
      "In [12] used 44.6992 MiB RAM in 0.43s, peaked 0.00 MiB above current, total RAM usage 186.85 MiB\n"
     ]
    }
   ],
   "source": [
    "a = [MyClass2(1,1) for i in range(num)]"
   ]
  },
  {
   "cell_type": "code",
   "execution_count": 13,
   "metadata": {},
   "outputs": [
    {
     "name": "stdout",
     "output_type": "stream",
     "text": [
      "1 1 {'test_value': 'Some String'} Some String\n",
      "In [13] used -1.5156 MiB RAM in 0.10s, peaked 1.52 MiB above current, total RAM usage 185.34 MiB\n"
     ]
    }
   ],
   "source": [
    "a[0].test_value = 'Some String'\n",
    "z[0].test_value = 'Some String'\n",
    "print(z[0].name, z[0].identifier, z[0].__dict__, z[0].test_value)"
   ]
  },
  {
   "cell_type": "code",
   "execution_count": 14,
   "metadata": {},
   "outputs": [
    {
     "name": "stdout",
     "output_type": "stream",
     "text": [
      "88 112 112\n",
      "In [14] used 0.0000 MiB RAM in 0.11s, peaked 0.00 MiB above current, total RAM usage 185.34 MiB\n"
     ]
    }
   ],
   "source": [
    "print(getsizeof(z[0].__slots__), getsizeof(z[0].__dict__), getsizeof(a[0].__dict__))"
   ]
  },
  {
   "cell_type": "code",
   "execution_count": null,
   "metadata": {},
   "outputs": [],
   "source": []
  }
 ],
 "metadata": {
  "kernelspec": {
   "display_name": "Python 3",
   "language": "python",
   "name": "python3"
  },
  "language_info": {
   "codemirror_mode": {
    "name": "ipython",
    "version": 3
   },
   "file_extension": ".py",
   "mimetype": "text/x-python",
   "name": "python",
   "nbconvert_exporter": "python",
   "pygments_lexer": "ipython3",
   "version": "3.6.8"
  }
 },
 "nbformat": 4,
 "nbformat_minor": 2
}
