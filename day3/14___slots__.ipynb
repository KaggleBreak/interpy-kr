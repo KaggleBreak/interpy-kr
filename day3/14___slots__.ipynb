{
 "cells": [
  {
   "cell_type": "markdown",
   "metadata": {},
   "source": [
    "# \\_\\_slots\\_\\_\n",
    "\n",
    "- 파이썬은 인스턴스의 모든 속성을 dict에 저장\n",
    "- \\_\\_slots\\_\\_ 명령어를 통해 속성을 직접 정의\n",
    "- 속성 정의/호출 속도 향상 및 메모리 사용량 감소\n",
    "- 대신, 정의 이후 속성 추가 또는 제거 불가"
   ]
  },
  {
   "cell_type": "markdown",
   "metadata": {},
   "source": [
    "참고: https://blog.usejournal.com/a-quick-dive-into-pythons-slots-72cdc2d334e"
   ]
  },
  {
   "cell_type": "code",
   "execution_count": 1,
   "metadata": {},
   "outputs": [],
   "source": [
    "class MyClass(object):\n",
    "    __slots__ = ['name', 'identifier'] # __slots__ 추가\n",
    "    def __init__(self, name, identifier):\n",
    "        self.name = name\n",
    "        self.identifier = identifier\n",
    "        self.set_up()"
   ]
  },
  {
   "cell_type": "code",
   "execution_count": 2,
   "metadata": {},
   "outputs": [],
   "source": [
    "import ipython_memory_usage.ipython_memory_usage as imu"
   ]
  },
  {
   "cell_type": "code",
   "execution_count": 3,
   "metadata": {},
   "outputs": [],
   "source": [
    "num = 1024*256"
   ]
  },
  {
   "cell_type": "code",
   "execution_count": 4,
   "metadata": {},
   "outputs": [
    {
     "name": "stdout",
     "output_type": "stream",
     "text": [
      "In [4] used 0.0273 MiB RAM in 0.12s, peaked 0.00 MiB above current, total RAM usage 60.41 MiB\n"
     ]
    }
   ],
   "source": [
    "imu.start_watching_memory()"
   ]
  },
  {
   "cell_type": "code",
   "execution_count": 5,
   "metadata": {},
   "outputs": [
    {
     "name": "stdout",
     "output_type": "stream",
     "text": [
      "In [5] used 0.1016 MiB RAM in 0.10s, peaked 0.00 MiB above current, total RAM usage 60.51 MiB\n"
     ]
    }
   ],
   "source": [
    "class MyClass1(object):\n",
    "        __slots__ = ['name', 'identifier']\n",
    "        def __init__(self, name, identifier):\n",
    "                self.name = name\n",
    "                self.identifier = identifier"
   ]
  },
  {
   "cell_type": "code",
   "execution_count": 6,
   "metadata": {},
   "outputs": [
    {
     "name": "stdout",
     "output_type": "stream",
     "text": [
      "76.7 ms ± 892 µs per loop (mean ± std. dev. of 7 runs, 10 loops each)\n",
      "In [6] used 1.1797 MiB RAM in 6.36s, peaked 14.73 MiB above current, total RAM usage 61.69 MiB\n"
     ]
    }
   ],
   "source": [
    "%timeit [MyClass1(1,1) for i in range(num)]"
   ]
  },
  {
   "cell_type": "code",
   "execution_count": 7,
   "metadata": {},
   "outputs": [
    {
     "name": "stdout",
     "output_type": "stream",
     "text": [
      "In [7] used 14.8633 MiB RAM in 0.26s, peaked 0.00 MiB above current, total RAM usage 76.55 MiB\n"
     ]
    }
   ],
   "source": [
    "x = [MyClass1(1,1) for i in range(num)]"
   ]
  },
  {
   "cell_type": "code",
   "execution_count": 8,
   "metadata": {},
   "outputs": [
    {
     "name": "stdout",
     "output_type": "stream",
     "text": [
      "In [8] used 0.0820 MiB RAM in 0.10s, peaked 0.00 MiB above current, total RAM usage 76.63 MiB\n"
     ]
    }
   ],
   "source": [
    "class MyClass2(object):\n",
    "        def __init__(self, name, identifier):\n",
    "                self.name = name\n",
    "                self.identifier = identifier"
   ]
  },
  {
   "cell_type": "code",
   "execution_count": 9,
   "metadata": {},
   "outputs": [
    {
     "name": "stdout",
     "output_type": "stream",
     "text": [
      "105 ms ± 2.96 ms per loop (mean ± std. dev. of 7 runs, 10 loops each)\n",
      "In [9] used 0.3438 MiB RAM in 8.69s, peaked 45.12 MiB above current, total RAM usage 76.98 MiB\n"
     ]
    }
   ],
   "source": [
    "%timeit [MyClass2(1,1) for i in range(num)]"
   ]
  },
  {
   "cell_type": "code",
   "execution_count": 10,
   "metadata": {},
   "outputs": [
    {
     "name": "stdout",
     "output_type": "stream",
     "text": [
      "In [10] used 45.1836 MiB RAM in 0.27s, peaked 0.00 MiB above current, total RAM usage 122.16 MiB\n"
     ]
    }
   ],
   "source": [
    "y = [MyClass2(1,1) for i in range(num)]"
   ]
  },
  {
   "cell_type": "code",
   "execution_count": null,
   "metadata": {},
   "outputs": [],
   "source": []
  },
  {
   "cell_type": "code",
   "execution_count": null,
   "metadata": {},
   "outputs": [],
   "source": []
  }
 ],
 "metadata": {
  "kernelspec": {
   "display_name": "Python 3",
   "language": "python",
   "name": "python3"
  },
  "language_info": {
   "codemirror_mode": {
    "name": "ipython",
    "version": 3
   },
   "file_extension": ".py",
   "mimetype": "text/x-python",
   "name": "python",
   "nbconvert_exporter": "python",
   "pygments_lexer": "ipython3",
   "version": "3.6.8"
  }
 },
 "nbformat": 4,
 "nbformat_minor": 2
}
