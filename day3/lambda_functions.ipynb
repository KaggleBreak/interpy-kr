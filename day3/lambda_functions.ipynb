{
 "cells": [
  {
   "cell_type": "markdown",
   "metadata": {},
   "source": [
    "## Lambdas\n",
    "\n",
    "- 람다는 1줄 함수 입니다. 다른 프로그래밍 언어에서는 익명 함수 라고도 부릅니다. \n",
    "- 람다식 또는 람다 표현식 또는 익명 함수 등으로 알려져 있음, 실제로 이름이 없이 정의되어 사용됨 (이름을 가질 필요가 없음)\n",
    "\n",
    "- Λ, λ(그리스어: λάμδα 람다[*])는 그리스 문자 중의 11번째 글자이다. 그리스 숫자로는 30을 뜻한다.\n",
    "[람다 그리스어](https://ko.wikipedia.org/wiki/%CE%9B)\n",
    "[람다 대수법](https://ko.wikipedia.org/wiki/%EB%9E%8C%EB%8B%A4_%EB%8C%80%EC%88%98)\n",
    "    - 컴퓨터 과학 및 수리논리학에서, 람다 대수 또는 람다 계산(λ-calculus, lambda-calculus)이란 변수의 네임 바인딩과 대입의 방법을 이용하여 함수 정의, 함수 적용, 귀납적 함수 추상화를 수행하고 수학 연산을 표현하는 형식 체계이다.\n",
    "    - 람다 대수는 임의의 튜링기계를 시뮬레이션 할 수 있는 보편적인 계산 모델이다. 1930년대 알론조 처치가 수학기초론을 연구하는 과정에서 람다 대수의 형식을 제안하였다.\n",
    "\n",
    "- 대부분 언어들이 람다함수를 지원하는게 추세\n",
    "- 프로그램 내에서 함수를 재사용 하지 않으려는 경우 lambda 함수를 쓸 수 있습니다. 일반함수와 형태도 비슷하고 비슷하게 작동합니다.\n",
    "\n",
    "```\n",
    "lambda argument: manipulate(argument)\n",
    "```"
   ]
  },
  {
   "cell_type": "code",
   "execution_count": 65,
   "metadata": {
    "collapsed": false
   },
   "outputs": [
    {
     "name": "stdout",
     "output_type": "stream",
     "text": [
      "8\n"
     ]
    }
   ],
   "source": [
    "add = lambda x, y : x + y\n",
    "\n",
    "print(add(3, 5))\n",
    "# Output: 8"
   ]
  },
  {
   "cell_type": "code",
   "execution_count": 60,
   "metadata": {
    "collapsed": true
   },
   "outputs": [],
   "source": [
    "def hap(x, y):\n",
    "   return x + y"
   ]
  },
  {
   "cell_type": "code",
   "execution_count": 61,
   "metadata": {
    "collapsed": false
   },
   "outputs": [
    {
     "data": {
      "text/plain": [
       "30"
      ]
     },
     "execution_count": 61,
     "metadata": {},
     "output_type": "execute_result"
    }
   ],
   "source": [
    "hap(10, 20)"
   ]
  },
  {
   "cell_type": "code",
   "execution_count": 62,
   "metadata": {
    "collapsed": false
   },
   "outputs": [
    {
     "data": {
      "text/plain": [
       "30"
      ]
     },
     "execution_count": 62,
     "metadata": {},
     "output_type": "execute_result"
    }
   ],
   "source": [
    "(lambda x,y: x + y)(10, 20)"
   ]
  },
  {
   "cell_type": "markdown",
   "metadata": {},
   "source": [
    "### 람다 표현식의 장점\n",
    "\n",
    "- 람다 표현식을 파라미터로 받는 메서드를 만든다면 모든 기능을 고려하여 복잡하게 설계할 필요가 없습니다. 메서드를 사용하는쪽에서 직접 알고리즘을 작성하여 전달할 수 있기 때문입니다. 이러한 방식에는 크게 2가지의 장점이 있다고 생각합니다.\n",
    "\n",
    "- 첫째로 모든 기능을 지원하기 위해 하나의 길고 방대한 클래스를 작성할 필요가 없습니다. 변경된 요구사항을 적용한 람다 표현식을 작성하는 것으로 충분합니다.\n",
    "- 둘째로 클라이언트가 반복자를 통해 명령형 프로그래밍 스타일로 직접 작성한 코드보다 고차 함수가 버그가 적다는 것 입니다.\n",
    "- 람다를 지원하지 않는다면 직접 반복자 코드, 알고리즘, 결과를 받는 콜렉션을 모두 다뤄야 합니다. 미숙한 프로그래머의 경우 실수할 확률이 더 높다고 할 수 있습니다.\n",
    "- 그외에도 람다식은 단위 테스트 하기 쉬우며 재사용하기 좋습니다. 이러한 장점은 곧 함수형 프로그래밍 언어들의 장점과 같습니다.\n",
    "- 람다표현식은 개발자의 생산성을 높여주는 문법이라고 할 수 있습니다.\n",
    "\n",
    "[람다 표현식의 장점](http://qwefgh90.github.io/java/Lambda-Expression/)"
   ]
  },
  {
   "cell_type": "markdown",
   "metadata": {},
   "source": [
    "### 람다 표현식의 단점\n",
    "\n",
    "- 어떤 방법으로 작성해도 모든 원소를 전부 순회하는 경우는 람다식이 조금 느릴 수 밖에 없다. \n",
    "    - ( 어떤 방법으로 만들어도 최종 출력되는 bytecode 나 어셈블리 코드는 단순 while(혹은 for) 문 보다 몇 단계를 더 거치게 된다)\n",
    "- 익명함수의 특성상 함수 외부의 캡처를 하는 시간제약 논리제약적인 요소도 고려해야한다.\n",
    "- 람다식을 너무 남발하여 사용하게 되면 오히려 코드를 이해하기 어려울 수도 있다.\n",
    "\n",
    "[출처 람다함수, 람다식 그리고 클로저..](https://weicomes.tistory.com/60)"
   ]
  },
  {
   "cell_type": "markdown",
   "metadata": {},
   "source": [
    "### 리스트 정렬하기"
   ]
  },
  {
   "cell_type": "code",
   "execution_count": 66,
   "metadata": {
    "collapsed": false
   },
   "outputs": [
    {
     "data": {
      "text/plain": [
       "list"
      ]
     },
     "execution_count": 66,
     "metadata": {},
     "output_type": "execute_result"
    }
   ],
   "source": [
    "a = [(1, 2), (4, 1), (9, 10),(13, -3)]\n",
    "type(a)"
   ]
  },
  {
   "cell_type": "code",
   "execution_count": 67,
   "metadata": {
    "collapsed": false
   },
   "outputs": [
    {
     "name": "stdout",
     "output_type": "stream",
     "text": [
      "[(13, -3), (9, 10), (4, 1), (1, 2)]\n"
     ]
    }
   ],
   "source": [
    "a.sort(key=lambda x: -x[0])\n",
    "\n",
    "print(a)"
   ]
  },
  {
   "cell_type": "markdown",
   "metadata": {},
   "source": [
    "## 병렬로 리스트 정렬하기\n",
    "\n",
    "- map() : map(함수, 리스트)\n",
    "\n",
    "- map 함수는 함수와 리스트를 인자로 받습니다. 그리고, 리스트로부터 원소를 하나씩 꺼내서 함수를 적용시킨 다음, 그 결과를 새로운 리스트에 담아준답니다"
   ]
  },
  {
   "cell_type": "code",
   "execution_count": 64,
   "metadata": {
    "collapsed": false
   },
   "outputs": [
    {
     "data": {
      "text/plain": [
       "[0, 1, 4, 9, 16]"
      ]
     },
     "execution_count": 64,
     "metadata": {},
     "output_type": "execute_result"
    }
   ],
   "source": [
    "list(map(lambda x: x ** 2, range(5)))"
   ]
  },
  {
   "cell_type": "markdown",
   "metadata": {},
   "source": [
    "- map 함수가 인자로 받은 함수는 lambda x: x ** 2구, 리스트로는 range(5) range(5) 라고 써주면 [0, 1, 2, 3, 4]라는 리스트를 돌려줍니다. \n",
    "- 그리고 x ** 2 라는 것은 x 값을 제곱하라는 연산자죠.\n",
    "- map 함수는 리스트에서 원소를 하나씩 꺼내서 함수를 적용시킨 결과를 새로운 리스트에 담아주니까, 위의 예제는 0을 제곱하고, 1을 제곱하고, 2, 3, 4를 제곱한 것을 새로운 리스트에 넣어주는 것입니다."
   ]
  },
  {
   "cell_type": "code",
   "execution_count": 42,
   "metadata": {
    "collapsed": false
   },
   "outputs": [
    {
     "name": "stdout",
     "output_type": "stream",
     "text": [
      "[(3, 5), (2, 4), (5, 2)]\n"
     ]
    }
   ],
   "source": [
    "list1 = [3,2,5]\n",
    "list2 = [5,4,2]\n",
    "\n",
    "data = list(zip(list1, list2))\n",
    "print(data)"
   ]
  },
  {
   "cell_type": "code",
   "execution_count": 51,
   "metadata": {
    "collapsed": false
   },
   "outputs": [
    {
     "data": {
      "text/plain": [
       "[(2, 4), (3, 5), (5, 2)]"
      ]
     },
     "execution_count": 51,
     "metadata": {},
     "output_type": "execute_result"
    }
   ],
   "source": [
    "data.sort()\n",
    "data"
   ]
  },
  {
   "cell_type": "code",
   "execution_count": 36,
   "metadata": {
    "collapsed": true
   },
   "outputs": [],
   "source": [
    "list1, list2 = map(lambda t: list(t), zip(*data))"
   ]
  },
  {
   "cell_type": "code",
   "execution_count": 38,
   "metadata": {
    "collapsed": false
   },
   "outputs": [
    {
     "data": {
      "text/plain": [
       "[2, 3, 5]"
      ]
     },
     "execution_count": 38,
     "metadata": {},
     "output_type": "execute_result"
    }
   ],
   "source": [
    "list1"
   ]
  },
  {
   "cell_type": "code",
   "execution_count": 55,
   "metadata": {
    "collapsed": false
   },
   "outputs": [
    {
     "data": {
      "text/plain": [
       "[5, 4, 2]"
      ]
     },
     "execution_count": 55,
     "metadata": {},
     "output_type": "execute_result"
    }
   ],
   "source": [
    "list2"
   ]
  },
  {
   "cell_type": "markdown",
   "metadata": {},
   "source": [
    "### Create a series, called pipeline, that contains three mini functions"
   ]
  },
  {
   "cell_type": "code",
   "execution_count": 56,
   "metadata": {
    "collapsed": true
   },
   "outputs": [],
   "source": [
    "pipeline = [lambda x: x **2 - 1 + 5,\n",
    "            lambda x: x **20 - 2 + 3,\n",
    "            lambda x: x **200 - 1 + 4]"
   ]
  },
  {
   "cell_type": "markdown",
   "metadata": {},
   "source": [
    "### For each item in pipeline, run the lambda function with x = 3"
   ]
  },
  {
   "cell_type": "code",
   "execution_count": 58,
   "metadata": {
    "collapsed": false
   },
   "outputs": [
    {
     "name": "stdout",
     "output_type": "stream",
     "text": [
      "13\n",
      "3486784402\n",
      "265613988875874769338781322035779626829233452653394495974574961739092490901302182994384699044004\n"
     ]
    }
   ],
   "source": [
    "for f in pipeline:\n",
    "    print(f(3))"
   ]
  },
  {
   "cell_type": "markdown",
   "metadata": {},
   "source": [
    "### [출처 : 람다 데이터 처리](https://niceman.tistory.com/165)"
   ]
  },
  {
   "cell_type": "code",
   "execution_count": 69,
   "metadata": {
    "collapsed": false
   },
   "outputs": [
    {
     "name": "stdout",
     "output_type": "stream",
     "text": [
      "Lambda Example1 :  [1, 'OK', 3, 'OK', 5, 'OK', 7, 'OK', 9, 'OK']\n",
      "Lambda Example2 :  ['First', 'Second', 9, 16, 25, 36, 49, 64, 81, 100]\n",
      "Lambda Example3 :  [3, 6, 9, 12, 15, 18, 21, 24, 27, 30]\n"
     ]
    }
   ],
   "source": [
    "testArr1 = [1, 2, 3, 4, 5, 6, 7, 8, 9, 10]\n",
    "testArr2 = [2, 4, 6, 8, 10, 12, 14, 16, 18, 20]\n",
    "\n",
    "#lambda 사용법 : 매개변수1, 매개변수2, 매개변수X...: 출력식1 if 조건문 else 출력식2\n",
    "#if 조건식 사용할 경우 반드시 else 문 사용해야 한다.\n",
    "\n",
    "#람다 예제1\n",
    "outArr1 = list(map(lambda x: 'OK' if x % 2 == 0 else x, testArr1))\n",
    "print('Lambda Example1 : ', outArr1)\n",
    "\n",
    "#람다 예제2\n",
    "#다중 조건식은 코드의 가독성이 현저하게 떨어지므로, 되도록 함수로 분리\n",
    "outArr2 = list(map(lambda x: 'First' if x == 1 else 'Second' if x == 2 else x * x, testArr1))\n",
    "print('Lambda Example2 : ', outArr2)\n",
    "\n",
    "#람다 예제3\n",
    "#다중 매개변수 map + 람다식 활용\n",
    "outArr3 = list(map(lambda x, y: x + y, testArr1, testArr2))\n",
    "print('Lambda Example3 : ', outArr3)"
   ]
  },
  {
   "cell_type": "markdown",
   "metadata": {},
   "source": [
    "## [출처 : pandas 람다함수 활용](https://rfriend.tistory.com/366)"
   ]
  },
  {
   "cell_type": "code",
   "execution_count": 70,
   "metadata": {
    "collapsed": true
   },
   "outputs": [],
   "source": [
    "import pandas as pd"
   ]
  },
  {
   "cell_type": "code",
   "execution_count": 71,
   "metadata": {
    "collapsed": true
   },
   "outputs": [],
   "source": [
    "dataset = pd.DataFrame({'id': ['a', 'a', 'a', 'b', 'b'],\n",
    "                        'val': [1, 2, 3, 4, 5]})"
   ]
  },
  {
   "cell_type": "code",
   "execution_count": 72,
   "metadata": {
    "collapsed": false
   },
   "outputs": [
    {
     "data": {
      "text/html": [
       "<div>\n",
       "<table border=\"1\" class=\"dataframe\">\n",
       "  <thead>\n",
       "    <tr style=\"text-align: right;\">\n",
       "      <th></th>\n",
       "      <th>id</th>\n",
       "      <th>val</th>\n",
       "    </tr>\n",
       "  </thead>\n",
       "  <tbody>\n",
       "    <tr>\n",
       "      <th>0</th>\n",
       "      <td>a</td>\n",
       "      <td>1</td>\n",
       "    </tr>\n",
       "    <tr>\n",
       "      <th>1</th>\n",
       "      <td>a</td>\n",
       "      <td>2</td>\n",
       "    </tr>\n",
       "    <tr>\n",
       "      <th>2</th>\n",
       "      <td>a</td>\n",
       "      <td>3</td>\n",
       "    </tr>\n",
       "    <tr>\n",
       "      <th>3</th>\n",
       "      <td>b</td>\n",
       "      <td>4</td>\n",
       "    </tr>\n",
       "    <tr>\n",
       "      <th>4</th>\n",
       "      <td>b</td>\n",
       "      <td>5</td>\n",
       "    </tr>\n",
       "  </tbody>\n",
       "</table>\n",
       "</div>"
      ],
      "text/plain": [
       "  id  val\n",
       "0  a    1\n",
       "1  a    2\n",
       "2  a    3\n",
       "3  b    4\n",
       "4  b    5"
      ]
     },
     "execution_count": 72,
     "metadata": {},
     "output_type": "execute_result"
    }
   ],
   "source": [
    "dataset"
   ]
  },
  {
   "cell_type": "code",
   "execution_count": 85,
   "metadata": {
    "collapsed": true
   },
   "outputs": [],
   "source": [
    "dataset_summary = dataset.groupby('id').apply(lambda x:\n",
    "                            pd.Series({'v1_obs_cnt': len(x),\n",
    "                                       'v2_val_sum': sum(x.val),\n",
    "                                       'v3_id_list': x.id.tolist()})).reset_index()"
   ]
  },
  {
   "cell_type": "code",
   "execution_count": 86,
   "metadata": {
    "collapsed": false
   },
   "outputs": [
    {
     "data": {
      "text/html": [
       "<div>\n",
       "<table border=\"1\" class=\"dataframe\">\n",
       "  <thead>\n",
       "    <tr style=\"text-align: right;\">\n",
       "      <th></th>\n",
       "      <th>id</th>\n",
       "      <th>v1_obs_cnt</th>\n",
       "      <th>v2_val_sum</th>\n",
       "      <th>v3_id_list</th>\n",
       "    </tr>\n",
       "  </thead>\n",
       "  <tbody>\n",
       "    <tr>\n",
       "      <th>0</th>\n",
       "      <td>a</td>\n",
       "      <td>3</td>\n",
       "      <td>6</td>\n",
       "      <td>[a, a, a]</td>\n",
       "    </tr>\n",
       "    <tr>\n",
       "      <th>1</th>\n",
       "      <td>b</td>\n",
       "      <td>2</td>\n",
       "      <td>9</td>\n",
       "      <td>[b, b]</td>\n",
       "    </tr>\n",
       "  </tbody>\n",
       "</table>\n",
       "</div>"
      ],
      "text/plain": [
       "  id  v1_obs_cnt  v2_val_sum v3_id_list\n",
       "0  a           3           6  [a, a, a]\n",
       "1  b           2           9     [b, b]"
      ]
     },
     "execution_count": 86,
     "metadata": {},
     "output_type": "execute_result"
    }
   ],
   "source": [
    "dataset_summary"
   ]
  }
 ],
 "metadata": {
  "kernelspec": {
   "display_name": "Python 3",
   "language": "python",
   "name": "python3"
  },
  "language_info": {
   "codemirror_mode": {
    "name": "ipython",
    "version": 3
   },
   "file_extension": ".py",
   "mimetype": "text/x-python",
   "name": "python",
   "nbconvert_exporter": "python",
   "pygments_lexer": "ipython3",
   "version": "3.5.1rc1"
  }
 },
 "nbformat": 4,
 "nbformat_minor": 2
}
