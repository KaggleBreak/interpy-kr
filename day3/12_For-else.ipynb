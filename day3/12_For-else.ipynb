{
 "cells": [
  {
   "cell_type": "markdown",
   "metadata": {},
   "source": [
    "## For-else"
   ]
  },
  {
   "cell_type": "markdown",
   "metadata": {},
   "source": [
    "* 보통의 프로그래밍언어에서 'else'라고하면, if와 함께 오는 경우가 대부분이지만, 파이썬에서는 for문과 함께 쓰기도합니다.\n",
    "* for-else는 for문이 중간에 break등으로 끊기지않고, 끝까지 수행되었을때 수행되는 코드를 담고있습니다.\n",
    "* 코딩을 하다보면 for문이 중간에 break되었는지, 되어있지 않는지 판별할때 테스트 변수를둬서 확인하는 방법으로 처리합니다. 이를 파이썬에서는 For-else문으로 간단하게 해결할수있습니다.\n"
   ]
  },
  {
   "cell_type": "code",
   "execution_count": 1,
   "metadata": {},
   "outputs": [
    {
     "name": "stdout",
     "output_type": "stream",
     "text": [
      "4 = 2 * 2.0\n",
      "6 = 2 * 3.0\n",
      "8 = 2 * 4.0\n",
      "9 = 3 * 3.0\n"
     ]
    }
   ],
   "source": [
    "for n in range(2, 10):\n",
    "    for x in range(2, n):\n",
    "        if n % x == 0:\n",
    "            print (n, '=', x, '*', n/x)\n",
    "            break"
   ]
  },
  {
   "cell_type": "code",
   "execution_count": 2,
   "metadata": {},
   "outputs": [
    {
     "name": "stdout",
     "output_type": "stream",
     "text": [
      "2 은 소수입니다.\n",
      "3 은 소수입니다.\n",
      "4 = 2 * 2.0\n",
      "5 은 소수입니다.\n",
      "6 = 2 * 3.0\n",
      "7 은 소수입니다.\n",
      "8 = 2 * 4.0\n",
      "9 = 3 * 3.0\n"
     ]
    }
   ],
   "source": [
    "for n in range(2, 10):\n",
    "    for x in range(2, n):\n",
    "        if n % x == 0:\n",
    "            print (n, '=', x, '*', n/x)\n",
    "            break\n",
    "    else:\n",
    "        # 루프가 끝나고 요소를 못 찾았을 때 \n",
    "        print (n, '은 소수입니다.')"
   ]
  },
  {
   "cell_type": "markdown",
   "metadata": {},
   "source": [
    "### Reference\n",
    "https://harryp.tistory.com/317"
   ]
  }
 ],
 "metadata": {
  "kernelspec": {
   "display_name": "Python 3",
   "language": "python",
   "name": "python3"
  },
  "language_info": {
   "codemirror_mode": {
    "name": "ipython",
    "version": 3
   },
   "file_extension": ".py",
   "mimetype": "text/x-python",
   "name": "python",
   "nbconvert_exporter": "python",
   "pygments_lexer": "ipython3",
   "version": "3.6.1"
  }
 },
 "nbformat": 4,
 "nbformat_minor": 2
}
