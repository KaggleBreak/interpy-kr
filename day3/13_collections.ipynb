{
 "cells": [
  {
   "cell_type": "markdown",
   "metadata": {},
   "source": [
    "# Collection 구성\n",
    "\n",
    "## collections 제공 요소\n",
    ": tuple, dict 에 대한 확장 데이터 구조를 제공\n",
    "\n",
    "|  <center>주요 요소</center> |  <center>설명</center> |  <center>추가된 버전</center> |\n",
    "|:--------|:--------|--------:|\n",
    "| <center>namedtuple()</center>  | Tuple 타입의 subclass를 만들어 주는 function | *New in version 2.6* |\n",
    "| <center>OrderedDict</center>  | dict subclass that remembers the order entries were added |*New in version 2.7* |\n",
    "| <center>Counter</center>  | dict subclass for counting hashable objects |*New in version 2.7* |\n",
    "| <center>defaultdict</center>  | dict subclass that calls a factory function to supply missing values |*New in version 2.7* |\n",
    "| <center>deque</center>  | list-like container with fast appends and pops on either end |*New in version 2.4* |"
   ]
  },
  {
   "cell_type": "markdown",
   "metadata": {},
   "source": [
    "### 1. tuple\n",
    "- tuple타입은 imuutable 타입으로 내부 원소에 대해 갱신이 불가능하여 리스트처리보다 제한적.  \n",
    "- Slicing은 String처럼 처리가능"
   ]
  },
  {
   "cell_type": "code",
   "execution_count": 4,
   "metadata": {},
   "outputs": [
    {
     "name": "stdout",
     "output_type": "stream",
     "text": [
      "(1,)\n"
     ]
    }
   ],
   "source": [
    "T = (1,) # 원소가 한개일때는 꼭 콤마를 붙여야 만들어짐\n",
    "print(T)"
   ]
  },
  {
   "cell_type": "code",
   "execution_count": 5,
   "metadata": {},
   "outputs": [
    {
     "data": {
      "text/plain": [
       "(1, 2, 3, 4, 5, 6)"
      ]
     },
     "execution_count": 5,
     "metadata": {},
     "output_type": "execute_result"
    }
   ],
   "source": [
    "(1,2,3) + (4,5,6) # 튜플 합치기"
   ]
  },
  {
   "cell_type": "code",
   "execution_count": 7,
   "metadata": {},
   "outputs": [
    {
     "data": {
      "text/plain": [
       "('Hi!', 'Hi!', 'Hi!', 'Hi!')"
      ]
     },
     "execution_count": 7,
     "metadata": {},
     "output_type": "execute_result"
    }
   ],
   "source": [
    "('Hi!',) * 4"
   ]
  },
  {
   "cell_type": "code",
   "execution_count": 8,
   "metadata": {},
   "outputs": [
    {
     "data": {
      "text/plain": [
       "'Hi!Hi!Hi!Hi!'"
      ]
     },
     "execution_count": 8,
     "metadata": {},
     "output_type": "execute_result"
    }
   ],
   "source": [
    "('Hi!') * 4"
   ]
  },
  {
   "cell_type": "code",
   "execution_count": 9,
   "metadata": {},
   "outputs": [
    {
     "data": {
      "text/plain": [
       "True"
      ]
     },
     "execution_count": 9,
     "metadata": {},
     "output_type": "execute_result"
    }
   ],
   "source": [
    "3 in (1,2,3)"
   ]
  },
  {
   "cell_type": "code",
   "execution_count": 11,
   "metadata": {},
   "outputs": [
    {
     "name": "stdout",
     "output_type": "stream",
     "text": [
      "1\n",
      "2\n",
      "4\n"
     ]
    }
   ],
   "source": [
    "for x in (1,2,4): print(x)  # 튜플의 원소들을 반복자로 활용"
   ]
  },
  {
   "cell_type": "markdown",
   "metadata": {},
   "source": [
    "### tuple의 메소드"
   ]
  },
  {
   "cell_type": "code",
   "execution_count": 21,
   "metadata": {},
   "outputs": [
    {
     "data": {
      "text/plain": [
       "2"
      ]
     },
     "execution_count": 21,
     "metadata": {},
     "output_type": "execute_result"
    }
   ],
   "source": [
    "t = (1,2,3,4,3) # 튜플내의 원소의 개수\n",
    "t.count(3)"
   ]
  },
  {
   "cell_type": "code",
   "execution_count": 22,
   "metadata": {},
   "outputs": [
    {
     "data": {
      "text/plain": [
       "1"
      ]
     },
     "execution_count": 22,
     "metadata": {},
     "output_type": "execute_result"
    }
   ],
   "source": [
    "t.index(2) # 튜플내의 원소의 위치"
   ]
  },
  {
   "cell_type": "markdown",
   "metadata": {},
   "source": [
    "---"
   ]
  },
  {
   "cell_type": "markdown",
   "metadata": {},
   "source": [
    "### 2. namedtuple\n",
    "- Tuple을 보다 명시적으로 사용하기 위해 index보다 name을 키로 이용하여 접근하기 위해 만든 별도의 function class\n",
    "- 여전히 불변\n",
    "- namedtuple 인스턴스는 인스턴스당 사전들을 가지지 않으므로, 일반 튜플보다 더 가볍고 메모리 사용량 줄일수 있음. dict보다 빠름."
   ]
  },
  {
   "cell_type": "code",
   "execution_count": 174,
   "metadata": {},
   "outputs": [
    {
     "name": "stdout",
     "output_type": "stream",
     "text": [
      "Help on function namedtuple in module collections:\n",
      "\n",
      "namedtuple(typename, field_names, *, verbose=False, rename=False, module=None)\n",
      "    Returns a new subclass of tuple with named fields.\n",
      "    \n",
      "    >>> Point = namedtuple('Point', ['x', 'y'])\n",
      "    >>> Point.__doc__                   # docstring for the new class\n",
      "    'Point(x, y)'\n",
      "    >>> p = Point(11, y=22)             # instantiate with positional args or keywords\n",
      "    >>> p[0] + p[1]                     # indexable like a plain tuple\n",
      "    33\n",
      "    >>> x, y = p                        # unpack like a regular tuple\n",
      "    >>> x, y\n",
      "    (11, 22)\n",
      "    >>> p.x + p.y                       # fields also accessible by name\n",
      "    33\n",
      "    >>> d = p._asdict()                 # convert to a dictionary\n",
      "    >>> d['x']\n",
      "    11\n",
      "    >>> Point(**d)                      # convert from a dictionary\n",
      "    Point(x=11, y=22)\n",
      "    >>> p._replace(x=100)               # _replace() is like str.replace() but targets named fields\n",
      "    Point(x=100, y=22)\n",
      "\n"
     ]
    }
   ],
   "source": [
    "from collections import namedtuple\n",
    "\n",
    "help(namedtuple)"
   ]
  },
  {
   "cell_type": "code",
   "execution_count": 178,
   "metadata": {},
   "outputs": [
    {
     "name": "stdout",
     "output_type": "stream",
     "text": [
      "subclass check :  True\n",
      "point(x, y)\n",
      "33\n",
      "33\n"
     ]
    }
   ],
   "source": [
    "Point = collections.namedtuple('point', ['x', 'y'])\n",
    "\n",
    "print(\"subclass check : \", issubclass(Point, tuple))\n",
    "print(Point.__doc__)\n",
    "\n",
    "p = Point(11, y=22)\n",
    "\n",
    "# is instantiate with positional args or keywords\n",
    "print(p.x + p.y)\n",
    "print(p[0] + p[1])  # 인덱스값으로도 사용가능"
   ]
  },
  {
   "cell_type": "code",
   "execution_count": 36,
   "metadata": {},
   "outputs": [
    {
     "ename": "ValueError",
     "evalue": "Type names and field names cannot be a keyword: 'class'",
     "traceback": [
      "\u001b[0;31m---------------------------------------------------------------------------\u001b[0m",
      "\u001b[0;31mValueError\u001b[0m                                Traceback (most recent call last)",
      "\u001b[0;32m<ipython-input-36-d2bcbc0ce93d>\u001b[0m in \u001b[0;36m<module>\u001b[0;34m\u001b[0m\n\u001b[1;32m      1\u001b[0m \u001b[0;31m# 필드명을 키워드로 정의시 에러 발생\u001b[0m\u001b[0;34m\u001b[0m\u001b[0;34m\u001b[0m\u001b[0;34m\u001b[0m\u001b[0m\n\u001b[0;32m----> 2\u001b[0;31m \u001b[0mwith_class\u001b[0m \u001b[0;34m=\u001b[0m \u001b[0mcollections\u001b[0m\u001b[0;34m.\u001b[0m\u001b[0mnamedtuple\u001b[0m\u001b[0;34m(\u001b[0m\u001b[0;34m'Person'\u001b[0m\u001b[0;34m,\u001b[0m \u001b[0;34m'name class age gender'\u001b[0m\u001b[0;34m)\u001b[0m\u001b[0;34m\u001b[0m\u001b[0;34m\u001b[0m\u001b[0m\n\u001b[0m",
      "\u001b[0;32m/usr/local/miniconda3/envs/DA/lib/python3.6/collections/__init__.py\u001b[0m in \u001b[0;36mnamedtuple\u001b[0;34m(typename, field_names, verbose, rename, module)\u001b[0m\n\u001b[1;32m    402\u001b[0m         \u001b[0;32mif\u001b[0m \u001b[0m_iskeyword\u001b[0m\u001b[0;34m(\u001b[0m\u001b[0mname\u001b[0m\u001b[0;34m)\u001b[0m\u001b[0;34m:\u001b[0m\u001b[0;34m\u001b[0m\u001b[0;34m\u001b[0m\u001b[0m\n\u001b[1;32m    403\u001b[0m             raise ValueError('Type names and field names cannot be a '\n\u001b[0;32m--> 404\u001b[0;31m                              'keyword: %r' % name)\n\u001b[0m\u001b[1;32m    405\u001b[0m     \u001b[0mseen\u001b[0m \u001b[0;34m=\u001b[0m \u001b[0mset\u001b[0m\u001b[0;34m(\u001b[0m\u001b[0;34m)\u001b[0m\u001b[0;34m\u001b[0m\u001b[0;34m\u001b[0m\u001b[0m\n\u001b[1;32m    406\u001b[0m     \u001b[0;32mfor\u001b[0m \u001b[0mname\u001b[0m \u001b[0;32min\u001b[0m \u001b[0mfield_names\u001b[0m\u001b[0;34m:\u001b[0m\u001b[0;34m\u001b[0m\u001b[0;34m\u001b[0m\u001b[0m\n",
      "\u001b[0;31mValueError\u001b[0m: Type names and field names cannot be a keyword: 'class'"
     ],
     "output_type": "error"
    }
   ],
   "source": [
    "# 필드명을 키워드로 정의시 에러 발생\n",
    "with_class = collections.namedtuple('Person', 'name class age gender')"
   ]
  },
  {
   "cell_type": "code",
   "execution_count": 38,
   "metadata": {},
   "outputs": [
    {
     "name": "stdout",
     "output_type": "stream",
     "text": [
      "('name', '_1', 'age', 'gender')\n",
      "a\n",
      "('name', 'age', 'gender', '_3')\n"
     ]
    }
   ],
   "source": [
    "# rename = True로 정의하면 필드명이 중복이거나 명명이 불가한 경우 이름을 바꿈)\n",
    "with_class = collections.namedtuple('Person', 'name class age gender', rename=True)\n",
    "print(with_class._fields)\n",
    "a = with_class(\"dah1\", \"a\", 10, \"f\")\n",
    "print(a._1)\n",
    "\n",
    "two_ages = collections.namedtuple('Person', 'name age gender age', rename=True)\n",
    "print(two_ages._fields)"
   ]
  },
  {
   "cell_type": "markdown",
   "metadata": {},
   "source": [
    "#### namedtuple 메소드"
   ]
  },
  {
   "cell_type": "code",
   "execution_count": 179,
   "metadata": {},
   "outputs": [
    {
     "name": "stdout",
     "output_type": "stream",
     "text": [
      "Type of Person: <class 'type'>\n",
      "\n",
      "Representation: Person(name='Bob', age=30, gender='male')\n",
      "('name', 'age', 'gender')\n",
      "OrderedDict([('name', 'Bob'), ('age', 30), ('gender', 'male')])\n",
      "\n",
      "Field by name: Jane\n",
      "Person(name='Jane', age=29, gender='female')\n"
     ]
    }
   ],
   "source": [
    "Person = collections.namedtuple('Person', 'name age gender')\n",
    "print('Type of Person:', type(Person))\n",
    "\n",
    "bob = Person(name='Bob', age=30, gender='male')\n",
    "print('\\nRepresentation:', bob)\n",
    "\n",
    "print(bob._fields)\n",
    "# orderd dict 타입으로 변환\n",
    "print(bob._asdict())\n",
    "# 다른 인스턴스를 생성\n",
    "jane = bob._make(['Jane', 29, 'female'])\n",
    "print('\\nField by name:', jane.name)\n",
    "print(jane)"
   ]
  },
  {
   "cell_type": "code",
   "execution_count": 41,
   "metadata": {},
   "outputs": [
    {
     "name": "stdout",
     "output_type": "stream",
     "text": [
      "Type of Person: <class 'type'>\n",
      "\n",
      "Representation: Person(name='Bob', age=30, gender='male')\n",
      "Person(name='Bob', age=50, gender='male')\n",
      "1\n",
      "1\n"
     ]
    }
   ],
   "source": [
    "Person = collections.namedtuple('Person', 'name age gender')\n",
    "print('Type of Person:', type(Person))\n",
    "\n",
    "bob = Person(name='Bob', age=30, gender='male')\n",
    "print('\\nRepresentation:', bob)\n",
    "\n",
    "# 변경된 튜플은 새로운 객체로 만듬\n",
    "bob = bob._replace(age=50)\n",
    "print(bob)\n",
    "print(bob.index(50))\n",
    "print(bob.count(50))"
   ]
  },
  {
   "cell_type": "markdown",
   "metadata": {},
   "source": [
    "---"
   ]
  },
  {
   "cell_type": "markdown",
   "metadata": {},
   "source": [
    "### 3. dict\n",
    "#### dict의 메소드"
   ]
  },
  {
   "cell_type": "code",
   "execution_count": 191,
   "metadata": {},
   "outputs": [
    {
     "data": {
      "text/plain": [
       "{'k': 1, 'l': 2}"
      ]
     },
     "execution_count": 191,
     "metadata": {},
     "output_type": "execute_result"
    }
   ],
   "source": [
    "d = {\"k\":1, \"l\":2}\n",
    "d1 = d.copy()  # deep카피\n",
    "d1"
   ]
  },
  {
   "cell_type": "code",
   "execution_count": 192,
   "metadata": {},
   "outputs": [
    {
     "data": {
      "text/plain": [
       "{'k': None, 'l': None}"
      ]
     },
     "execution_count": 192,
     "metadata": {},
     "output_type": "execute_result"
    }
   ],
   "source": [
    "d2 = d.fromkeys(d)  # dict 객체의 키를 새로운 dict객체를 생성하는 키로 처리\n",
    "d2"
   ]
  },
  {
   "cell_type": "code",
   "execution_count": 193,
   "metadata": {},
   "outputs": [
    {
     "name": "stdout",
     "output_type": "stream",
     "text": [
      "1\n",
      "1\n"
     ]
    }
   ],
   "source": [
    "# 키를 가지고 dict의 값을 가져옴\n",
    "print(d.get('k'))\n",
    "print(d['k'])"
   ]
  },
  {
   "cell_type": "code",
   "execution_count": 194,
   "metadata": {},
   "outputs": [
    {
     "name": "stdout",
     "output_type": "stream",
     "text": [
      "dict_items([('k', 1), ('l', 2)])\n",
      "k 1\n",
      "l 2\n"
     ]
    }
   ],
   "source": [
    "print(d.items())  # dict객체의 키와 값을 순서쌍으로 나타냄\n",
    "for key, value in d.items():\n",
    "    print(key, value)"
   ]
  },
  {
   "cell_type": "code",
   "execution_count": 195,
   "metadata": {},
   "outputs": [
    {
     "data": {
      "text/plain": [
       "dict_keys(['k', 'l'])"
      ]
     },
     "execution_count": 195,
     "metadata": {},
     "output_type": "execute_result"
    }
   ],
   "source": [
    "d.keys()  # dict내의 키를 리스트로 전달"
   ]
  },
  {
   "cell_type": "code",
   "execution_count": 196,
   "metadata": {},
   "outputs": [
    {
     "name": "stdout",
     "output_type": "stream",
     "text": [
      "{'k': 1, 'l': 2, 's': 3}\n",
      "{'k': 1, 'l': 2, 's': 3, 't': 5}\n"
     ]
    }
   ],
   "source": [
    "d.setdefault('s', 3)  # dict 내의 키와 값을 추가\n",
    "print(d)\n",
    "d['t'] = 5\n",
    "print(d)"
   ]
  },
  {
   "cell_type": "code",
   "execution_count": 197,
   "metadata": {},
   "outputs": [
    {
     "data": {
      "text/plain": [
       "{'k': 1, 'l': 2, 's': 3, 't': 5, 1: 1}"
      ]
     },
     "execution_count": 197,
     "metadata": {},
     "output_type": "execute_result"
    }
   ],
   "source": [
    "d.update({1:1})  # dict에 dict를 추가\n",
    "d"
   ]
  },
  {
   "cell_type": "code",
   "execution_count": 198,
   "metadata": {},
   "outputs": [
    {
     "data": {
      "text/plain": [
       "dict_values([1, 2, 3, 5, 1])"
      ]
     },
     "execution_count": 198,
     "metadata": {},
     "output_type": "execute_result"
    }
   ],
   "source": [
    "d.values()  #dict내의 값을 전달"
   ]
  },
  {
   "cell_type": "code",
   "execution_count": 199,
   "metadata": {},
   "outputs": [
    {
     "name": "stdout",
     "output_type": "stream",
     "text": [
      "{'k': 1, 'l': 2, 's': 3, 't': 5, 1: 1}\n",
      "3\n"
     ]
    },
    {
     "data": {
      "text/plain": [
       "{'k': 1, 'l': 2, 't': 5, 1: 1}"
      ]
     },
     "execution_count": 199,
     "metadata": {},
     "output_type": "execute_result"
    }
   ],
   "source": [
    "print(d)\n",
    "print(d.pop('s'))  # dict내의 원소를 삭제\n",
    "d"
   ]
  },
  {
   "cell_type": "code",
   "execution_count": 200,
   "metadata": {},
   "outputs": [
    {
     "data": {
      "text/plain": [
       "{}"
      ]
     },
     "execution_count": 200,
     "metadata": {},
     "output_type": "execute_result"
    }
   ],
   "source": [
    "d = {\"k\":1, \"l\":2}\n",
    "d.clear()   # dict 객체 내 요소들 클리어\n",
    "d"
   ]
  },
  {
   "cell_type": "markdown",
   "metadata": {},
   "source": [
    "---"
   ]
  },
  {
   "cell_type": "markdown",
   "metadata": {},
   "source": [
    "### 4. OrderedDict\n",
    "\n",
    "- OrderedDict는 dict의 subclass로써 새로운 인스턴스를 만드는 클래스.  \n",
    "- 기존 키의 값을 덮어 쓰더라도 해당 키의 위치는 변하지 않음.  \n",
    "- 항목을 삭제했다가 다시 삽입하면 키가 사전 끝으로 이동."
   ]
  },
  {
   "cell_type": "code",
   "execution_count": 202,
   "metadata": {},
   "outputs": [
    {
     "name": "stdout",
     "output_type": "stream",
     "text": [
      "Help on class OrderedDict in module collections:\n",
      "\n",
      "class OrderedDict(builtins.dict)\n",
      " |  Dictionary that remembers insertion order\n",
      " |  \n",
      " |  Method resolution order:\n",
      " |      OrderedDict\n",
      " |      builtins.dict\n",
      " |      builtins.object\n",
      " |  \n",
      " |  Methods defined here:\n",
      " |  \n",
      " |  __delitem__(self, key, /)\n",
      " |      Delete self[key].\n",
      " |  \n",
      " |  __eq__(self, value, /)\n",
      " |      Return self==value.\n",
      " |  \n",
      " |  __ge__(self, value, /)\n",
      " |      Return self>=value.\n",
      " |  \n",
      " |  __gt__(self, value, /)\n",
      " |      Return self>value.\n",
      " |  \n",
      " |  __init__(self, /, *args, **kwargs)\n",
      " |      Initialize self.  See help(type(self)) for accurate signature.\n",
      " |  \n",
      " |  __iter__(self, /)\n",
      " |      Implement iter(self).\n",
      " |  \n",
      " |  __le__(self, value, /)\n",
      " |      Return self<=value.\n",
      " |  \n",
      " |  __lt__(self, value, /)\n",
      " |      Return self<value.\n",
      " |  \n",
      " |  __ne__(self, value, /)\n",
      " |      Return self!=value.\n",
      " |  \n",
      " |  __new__(*args, **kwargs) from builtins.type\n",
      " |      Create and return a new object.  See help(type) for accurate signature.\n",
      " |  \n",
      " |  __reduce__(...)\n",
      " |      Return state information for pickling\n",
      " |  \n",
      " |  __repr__(self, /)\n",
      " |      Return repr(self).\n",
      " |  \n",
      " |  __reversed__(...)\n",
      " |      od.__reversed__() <==> reversed(od)\n",
      " |  \n",
      " |  __setitem__(self, key, value, /)\n",
      " |      Set self[key] to value.\n",
      " |  \n",
      " |  __sizeof__(...)\n",
      " |      D.__sizeof__() -> size of D in memory, in bytes\n",
      " |  \n",
      " |  clear(...)\n",
      " |      od.clear() -> None.  Remove all items from od.\n",
      " |  \n",
      " |  copy(...)\n",
      " |      od.copy() -> a shallow copy of od\n",
      " |  \n",
      " |  fromkeys(...) from builtins.type\n",
      " |      OD.fromkeys(S[, v]) -> New ordered dictionary with keys from S.\n",
      " |      If not specified, the value defaults to None.\n",
      " |  \n",
      " |  items(...)\n",
      " |      D.items() -> a set-like object providing a view on D's items\n",
      " |  \n",
      " |  keys(...)\n",
      " |      D.keys() -> a set-like object providing a view on D's keys\n",
      " |  \n",
      " |  move_to_end(...)\n",
      " |      Move an existing element to the end (or beginning if last==False).\n",
      " |      \n",
      " |      Raises KeyError if the element does not exist.\n",
      " |      When last=True, acts like a fast version of self[key]=self.pop(key).\n",
      " |  \n",
      " |  pop(...)\n",
      " |      od.pop(k[,d]) -> v, remove specified key and return the corresponding\n",
      " |      value.  If key is not found, d is returned if given, otherwise KeyError\n",
      " |      is raised.\n",
      " |  \n",
      " |  popitem(self, /, last=True)\n",
      " |      Remove and return a (key, value) pair from the dictionary.\n",
      " |      \n",
      " |      Pairs are returned in LIFO order if last is true or FIFO order if false.\n",
      " |  \n",
      " |  setdefault(...)\n",
      " |      od.setdefault(k[,d]) -> od.get(k,d), also set od[k]=d if k not in od\n",
      " |  \n",
      " |  update(...)\n",
      " |      D.update([E, ]**F) -> None.  Update D from dict/iterable E and F.\n",
      " |      If E is present and has a .keys() method, then does:  for k in E: D[k] = E[k]\n",
      " |      If E is present and lacks a .keys() method, then does:  for k, v in E: D[k] = v\n",
      " |      In either case, this is followed by: for k in F:  D[k] = F[k]\n",
      " |  \n",
      " |  values(...)\n",
      " |      D.values() -> an object providing a view on D's values\n",
      " |  \n",
      " |  ----------------------------------------------------------------------\n",
      " |  Data descriptors defined here:\n",
      " |  \n",
      " |  __dict__\n",
      " |  \n",
      " |  ----------------------------------------------------------------------\n",
      " |  Data and other attributes defined here:\n",
      " |  \n",
      " |  __hash__ = None\n",
      " |  \n",
      " |  ----------------------------------------------------------------------\n",
      " |  Methods inherited from builtins.dict:\n",
      " |  \n",
      " |  __contains__(self, key, /)\n",
      " |      True if D has a key k, else False.\n",
      " |  \n",
      " |  __getattribute__(self, name, /)\n",
      " |      Return getattr(self, name).\n",
      " |  \n",
      " |  __getitem__(...)\n",
      " |      x.__getitem__(y) <==> x[y]\n",
      " |  \n",
      " |  __len__(self, /)\n",
      " |      Return len(self).\n",
      " |  \n",
      " |  get(...)\n",
      " |      D.get(k[,d]) -> D[k] if k in D, else d.  d defaults to None.\n",
      "\n"
     ]
    }
   ],
   "source": [
    "help(collections.OrderedDict)"
   ]
  },
  {
   "cell_type": "markdown",
   "metadata": {},
   "source": [
    "collections.OrderedDict는 순서를 유지하기 위해 linked list로 내부에 구성되어 각 순서를 유지함"
   ]
  },
  {
   "cell_type": "code",
   "execution_count": 203,
   "metadata": {},
   "outputs": [
    {
     "name": "stdout",
     "output_type": "stream",
     "text": [
      "banana\n",
      "pear\n",
      "orange\n",
      "apple\n",
      "[('apple', 2), ('banana', 3), ('orange', 1), ('pear', 4)]\n",
      "OrderedDict([('apple', 2), ('banana', 3), ('orange', 1), ('pear', 4)])\n"
     ]
    }
   ],
   "source": [
    "d = {'banana':3, 'pear':4, 'orange':1, 'apple':2}\n",
    "\n",
    "# dictionary sorted by key\n",
    "for t in d.items():\n",
    "    print(t[0])\n",
    "print(sorted(d.items(), key=lambda x: x[0]))\n",
    "\n",
    "do = collections.OrderedDict(sorted(d.items(), key=lambda t: t[0]))\n",
    "print(do)"
   ]
  },
  {
   "cell_type": "markdown",
   "metadata": {},
   "source": [
    "#### OrderedDict - pop 메소드"
   ]
  },
  {
   "cell_type": "code",
   "execution_count": 83,
   "metadata": {},
   "outputs": [
    {
     "name": "stdout",
     "output_type": "stream",
     "text": [
      "{'a': 1, 'b': 2}\n",
      "OrderedDict([('b', 2), ('a', 1)])\n",
      "2\n",
      "OrderedDict([('a', 1)])\n",
      "2\n",
      "{'a': 1}\n"
     ]
    }
   ],
   "source": [
    "from collections import *\n",
    "d = {}\n",
    "d['a'] = 1\n",
    "d['b'] = 2\n",
    "print(d)\n",
    "od = OrderedDict({'b':2, 'a':1})\n",
    "print(od)\n",
    "print(od.pop('b'))\n",
    "print(od)\n",
    "print(d.pop('b'))\n",
    "print(d)"
   ]
  },
  {
   "cell_type": "markdown",
   "metadata": {},
   "source": [
    "#### OrderedDict - move_to_end 메소드\n",
    "collections.OrderedDict는 순서를 유지하고 있어서 dict타입처럼 처리하기 위해서는 move_to_end 메소드를 이용해서 처리"
   ]
  },
  {
   "cell_type": "code",
   "execution_count": 84,
   "metadata": {},
   "outputs": [
    {
     "name": "stdout",
     "output_type": "stream",
     "text": [
      "OrderedDict([('a', '1'), ('b', '2'), ('c', '3')])\n",
      "OrderedDict([('c', '3'), ('a', '1'), ('b', '2')])\n"
     ]
    }
   ],
   "source": [
    "d1 = OrderedDict([('a', '1'), ('b', '2')])\n",
    "d1.update({'c':'3'})\n",
    "print(d1)\n",
    "d1.move_to_end('c', last=False)\n",
    "print(d1)"
   ]
  },
  {
   "cell_type": "markdown",
   "metadata": {},
   "source": [
    "OrderedDict 클래스에서 순서가 다르면 다른것으로 인식함"
   ]
  },
  {
   "cell_type": "code",
   "execution_count": 88,
   "metadata": {},
   "outputs": [
    {
     "name": "stdout",
     "output_type": "stream",
     "text": [
      "OrderedDict([('name', 'name'), ('age', 30)])\n",
      "name\n",
      "OrderedDict([('age', 30), ('name', 'name')])\n",
      "False\n",
      "None\n",
      "OrderedDict([('name', 'name'), ('age', 30)])\n",
      "True\n"
     ]
    }
   ],
   "source": [
    "a = OrderedDict(name='name', age=30)\n",
    "print(a)\n",
    "print(a['name'])\n",
    "b = OrderedDict(age=30, name='name')\n",
    "print(b)\n",
    "print(a == b)\n",
    "print(b.move_to_end('name', last=False))\n",
    "print(b)\n",
    "print(a == b)"
   ]
  },
  {
   "cell_type": "markdown",
   "metadata": {},
   "source": [
    "---"
   ]
  },
  {
   "cell_type": "markdown",
   "metadata": {},
   "source": [
    "### 5. COUNTER"
   ]
  },
  {
   "cell_type": "markdown",
   "metadata": {},
   "source": [
    "- Counter는 dict의 subclass로써 새로운 인스턴스를 만드는 클래스  \n",
    "- 특정 아이템의 개수를 세는 함수"
   ]
  },
  {
   "cell_type": "markdown",
   "metadata": {},
   "source": [
    "#### COUNTER 생성 예시\n",
    "- Counter 클래스로 생성하는 이유는 실제 키값들에 연속된 상황 확인이 필요한 경우 사용"
   ]
  },
  {
   "cell_type": "code",
   "execution_count": 91,
   "metadata": {},
   "outputs": [
    {
     "data": {
      "text/plain": [
       "Counter({'a': 2, 't': 2, 'c': 1, 'k': 1, 'e': 1, 'd': 1})"
      ]
     },
     "execution_count": 91,
     "metadata": {},
     "output_type": "execute_result"
    }
   ],
   "source": [
    "import collections\n",
    "collections.Counter(\"attacked\")"
   ]
  },
  {
   "cell_type": "code",
   "execution_count": 98,
   "metadata": {},
   "outputs": [
    {
     "data": {
      "text/plain": [
       "Counter({1: 3, 2: 4})"
      ]
     },
     "execution_count": 98,
     "metadata": {},
     "output_type": "execute_result"
    }
   ],
   "source": [
    "collections.Counter({1:3,2:4})"
   ]
  },
  {
   "cell_type": "code",
   "execution_count": 97,
   "metadata": {},
   "outputs": [
    {
     "data": {
      "text/plain": [
       "Counter({(1, 3): 1, (2, 4): 1})"
      ]
     },
     "execution_count": 97,
     "metadata": {},
     "output_type": "execute_result"
    }
   ],
   "source": [
    "collections.Counter({1:3,2:4}.items())"
   ]
  },
  {
   "cell_type": "code",
   "execution_count": 95,
   "metadata": {},
   "outputs": [
    {
     "data": {
      "text/plain": [
       "Counter({1: 1, 4: 1, 3: 1})"
      ]
     },
     "execution_count": 95,
     "metadata": {},
     "output_type": "execute_result"
    }
   ],
   "source": [
    "collections.Counter([1,4,3])"
   ]
  },
  {
   "cell_type": "markdown",
   "metadata": {},
   "source": [
    "#### Counter 추가 메서드"
   ]
  },
  {
   "cell_type": "code",
   "execution_count": 101,
   "metadata": {},
   "outputs": [
    {
     "name": "stdout",
     "output_type": "stream",
     "text": [
      "Counter({1: 1, 2: 1, 3: 1, 4: 1})\n",
      "Counter({2: 4, 1: 2})\n"
     ]
    }
   ],
   "source": [
    "a1 = collections.Counter([1,2,3,4])\n",
    "a2 = collections.Counter({1:2, 2:4})\n",
    "print(a1)\n",
    "print(a2)"
   ]
  },
  {
   "cell_type": "code",
   "execution_count": 106,
   "metadata": {},
   "outputs": [
    {
     "name": "stdout",
     "output_type": "stream",
     "text": [
      "<itertools.chain object at 0x1129a3860>\n",
      "[1, 2, 3, 4]\n"
     ]
    }
   ],
   "source": [
    "# Counter 인스턴스의 요소를 counter 개수만큼 보여줌\n",
    "print(a1.elements())\n",
    "print(list(a1.elements()))"
   ]
  },
  {
   "cell_type": "code",
   "execution_count": 107,
   "metadata": {},
   "outputs": [
    {
     "name": "stdout",
     "output_type": "stream",
     "text": [
      "[1, 1, 2, 2, 2, 2]\n",
      "[(2, 4), (1, 2)]\n"
     ]
    }
   ],
   "source": [
    "# Counter 인스턴스의 값을 튜플로 key/value를 묶어서 리스트로 보여줌\n",
    "print(list(a2.elements()))\n",
    "print(a2.most_common())"
   ]
  },
  {
   "cell_type": "code",
   "execution_count": 108,
   "metadata": {},
   "outputs": [
    {
     "name": "stdout",
     "output_type": "stream",
     "text": [
      "Counter({2: 3, 1: 1, 3: -1, 4: -1})\n",
      "Counter({2: 4, 1: 2})\n"
     ]
    }
   ],
   "source": [
    "# Counter 인스턴스들간에 값을 뺌\n",
    "a2.subtract(a1)\n",
    "print(a2)\n",
    "print(a2+a1)"
   ]
  },
  {
   "cell_type": "markdown",
   "metadata": {},
   "source": [
    "#### Counter에서 연산\n",
    "키값이 같은 경우에 +/-/&/| 연산이 가능하며 zero 값은 표시하지 않음"
   ]
  },
  {
   "cell_type": "code",
   "execution_count": 111,
   "metadata": {},
   "outputs": [
    {
     "name": "stdout",
     "output_type": "stream",
     "text": [
      "s1 :  Counter({'a': 2, 'b': 2, 'e': 2, 'c': 1, 'd': 1})\n",
      "s2 :  Counter({'d': 1, 'e': 1, 'f': 1, 'a': 1, 'b': 1, 'c': 1})\n",
      "s1 + s2 :  Counter({'a': 3, 'b': 3, 'e': 3, 'c': 2, 'd': 2, 'f': 1})\n",
      "s1 - s2 :  Counter({'a': 1, 'b': 1, 'e': 1})\n",
      "s2 - s1 :  Counter({'f': 1})\n",
      "--------------------------------------------------\n",
      "s1 & s2 :  Counter({'a': 1, 'b': 1, 'c': 1, 'e': 1, 'd': 1})\n",
      "s1 | s2 :  Counter({'a': 2, 'b': 2, 'e': 2, 'c': 1, 'd': 1, 'f': 1})\n"
     ]
    }
   ],
   "source": [
    "s1 = Counter(\"abceabde\")\n",
    "s2 = Counter(\"defabc\")\n",
    "print(\"s1 : \", s1)\n",
    "print(\"s2 : \", s2)\n",
    "\n",
    "# Counter 더하기\n",
    "s_add = s1 + s2\n",
    "print(\"s1 + s2 : \", s_add)\n",
    "\n",
    "# Counter 빼기\n",
    "s_sub = s1 - s2\n",
    "print(\"s1 - s2 : \", s_sub)\n",
    "\n",
    "s_sub2 = s2 - s1\n",
    "print(\"s2 - s1 : \", s_sub2)\n",
    "print('-' * 50)\n",
    "\n",
    "#교집합\n",
    "s_intersection = s1 & s2\n",
    "print(\"s1 & s2 : \", s_intersection)\n",
    "# 합집합\n",
    "s_union = s1 | s2\n",
    "print(\"s1 | s2 : \", s_union)"
   ]
  },
  {
   "cell_type": "markdown",
   "metadata": {},
   "source": [
    "#### Counter 인스턴스는 dict 타입처럼 키를 통해 접근 가능"
   ]
  },
  {
   "cell_type": "code",
   "execution_count": 205,
   "metadata": {},
   "outputs": [
    {
     "name": "stdout",
     "output_type": "stream",
     "text": [
      "Counter({'a': 2, 'b': 2, 'e': 2, 'c': 1, 'd': 1})\n",
      "--------------------------------------------------\n",
      "a  :  2\n",
      "b  :  2\n",
      "c  :  1\n",
      "e  :  2\n",
      "d  :  1\n",
      "f  :  0\n",
      " s element  ['a', 'a', 'b', 'b', 'c', 'e', 'e', 'd']\n"
     ]
    }
   ],
   "source": [
    "from collections import Counter\n",
    "s = Counter(\"abceabde\")\n",
    "print(s)\n",
    "print('-'*50)\n",
    "\n",
    "# 접근\n",
    "for item in \"abcedf\":\n",
    "    print(item, \" : \", s[item])\n",
    "print(\" s element \", [x for x in s.elements()])\n"
   ]
  },
  {
   "cell_type": "code",
   "execution_count": 204,
   "metadata": {},
   "outputs": [
    {
     "data": {
      "text/plain": [
       "['a', 'a', 'b', 'b', 'c', 'e', 'e', 'd']"
      ]
     },
     "execution_count": 204,
     "metadata": {},
     "output_type": "execute_result"
    }
   ],
   "source": [
    "list(s.elements())"
   ]
  },
  {
   "cell_type": "code",
   "execution_count": 211,
   "metadata": {},
   "outputs": [
    {
     "name": "stdout",
     "output_type": "stream",
     "text": [
      "Counter({b'asdf\\n': 6, b'asdfas\\n': 1, b'asdga\\n': 1, b'sg\\n': 1, b'asd\\n': 1, b'gas\\n': 1, b'g\\n': 1, b'asg\\n': 1, b'as\\n': 1, b'dfasfads\\n': 1})\n"
     ]
    }
   ],
   "source": [
    "# 파일 안에서 가장 많이 반복되는 줄을 세는데 이용가능.\n",
    "with open('/Users/hanw/Desktop/test.txt', 'rb') as f:\n",
    "    line_count = Counter(f)\n",
    "print (line_count)"
   ]
  },
  {
   "cell_type": "markdown",
   "metadata": {},
   "source": [
    "---"
   ]
  },
  {
   "cell_type": "markdown",
   "metadata": {},
   "source": [
    "### 6. defaultdict\n",
    "- dict의 subclass로써 새로운 인스턴스를 만드는 클래스\n",
    "- dict와는 달리 key값의 존재 유무를 확인할 필요가 없음"
   ]
  },
  {
   "cell_type": "code",
   "execution_count": 115,
   "metadata": {},
   "outputs": [
    {
     "data": {
      "text/plain": [
       "True"
      ]
     },
     "execution_count": 115,
     "metadata": {},
     "output_type": "execute_result"
    }
   ],
   "source": [
    "issubclass(collections.defaultdict, dict)"
   ]
  },
  {
   "cell_type": "markdown",
   "metadata": {},
   "source": [
    "- defaultdict는 키값이 미존재시 초기값을 자동세팅하여 처리"
   ]
  },
  {
   "cell_type": "code",
   "execution_count": 212,
   "metadata": {},
   "outputs": [
    {
     "name": "stdout",
     "output_type": "stream",
     "text": [
      "Help on member descriptor collections.defaultdict.default_factory:\n",
      "\n",
      "default_factory\n",
      "    Factory for default value called by __missing__().\n",
      "\n",
      "[]\n",
      "--------------------------------------------------\n"
     ]
    },
    {
     "ename": "KeyError",
     "evalue": "'key'",
     "traceback": [
      "\u001b[0;31m---------------------------------------------------------------------------\u001b[0m",
      "\u001b[0;31mKeyError\u001b[0m                                  Traceback (most recent call last)",
      "\u001b[0;32m<ipython-input-212-0ef6d3c0e9a1>\u001b[0m in \u001b[0;36m<module>\u001b[0;34m\u001b[0m\n\u001b[1;32m      4\u001b[0m \u001b[0mprint\u001b[0m\u001b[0;34m(\u001b[0m\u001b[0;34m'-'\u001b[0m \u001b[0;34m*\u001b[0m \u001b[0;36m50\u001b[0m\u001b[0;34m)\u001b[0m\u001b[0;34m\u001b[0m\u001b[0;34m\u001b[0m\u001b[0m\n\u001b[1;32m      5\u001b[0m \u001b[0md\u001b[0m \u001b[0;34m=\u001b[0m \u001b[0mdict\u001b[0m\u001b[0;34m(\u001b[0m\u001b[0;34m)\u001b[0m\u001b[0;34m\u001b[0m\u001b[0;34m\u001b[0m\u001b[0m\n\u001b[0;32m----> 6\u001b[0;31m \u001b[0mprint\u001b[0m\u001b[0;34m(\u001b[0m\u001b[0md\u001b[0m\u001b[0;34m[\u001b[0m\u001b[0;34m'key'\u001b[0m\u001b[0;34m]\u001b[0m\u001b[0;34m)\u001b[0m\u001b[0;34m\u001b[0m\u001b[0;34m\u001b[0m\u001b[0m\n\u001b[0m",
      "\u001b[0;31mKeyError\u001b[0m: 'key'"
     ],
     "output_type": "error"
    }
   ],
   "source": [
    "help(defaultdict.default_factory)\n",
    "a = defaultdict(list)\n",
    "print(a['key'])\n",
    "print('-' * 50)\n",
    "d = dict()\n",
    "print(d['key'])"
   ]
  },
  {
   "cell_type": "markdown",
   "metadata": {},
   "source": [
    "#### defaultdict : list값 처리\n",
    "- defaultdict는 값 객체를 list로 처리하여 순차적인 여러 값(key: multi-value 구조)을 처리"
   ]
  },
  {
   "cell_type": "code",
   "execution_count": 213,
   "metadata": {},
   "outputs": [
    {
     "name": "stdout",
     "output_type": "stream",
     "text": [
      "defaultdict(<class 'list'>, {})\n",
      "defaultdict(<class 'list'>, {'1': [1, 2, 3]})\n"
     ]
    }
   ],
   "source": [
    "from collections import defaultdict\n",
    "\n",
    "a = defaultdict(list)\n",
    "print(a)\n",
    "a['1'].extend([1,2,3])\n",
    "print(a)"
   ]
  },
  {
   "cell_type": "code",
   "execution_count": 214,
   "metadata": {},
   "outputs": [
    {
     "name": "stdout",
     "output_type": "stream",
     "text": [
      "defaultdict(<class 'list'>, {'태희': ['노랑', '빨강'], '지훈': ['파랑', '검정'], '별이': ['초록'], '샛별': ['실버']})\n"
     ]
    }
   ],
   "source": [
    "colours = (\n",
    "  ('태희', '노랑'),\n",
    "  ('지훈', '파랑'),\n",
    "  ('별이', '초록'),\n",
    "  ('지훈', '검정'),\n",
    "  ('태희', '빨강'),\n",
    "  ('샛별', '실버'),\n",
    ")\n",
    "\n",
    "favourite_colours = defaultdict(list)\n",
    "\n",
    "for name, colour in colours:\n",
    "  favourite_colours[name].append(colour)\n",
    "\n",
    "print(favourite_colours)"
   ]
  },
  {
   "cell_type": "markdown",
   "metadata": {},
   "source": [
    "#### defaultdict : set 값 처리\n",
    "- defaultdict는 값 객체를 list로 처리하여 유일한 원소를 가지는 여러값(key:multi-value 구조)을 처리"
   ]
  },
  {
   "cell_type": "code",
   "execution_count": 120,
   "metadata": {},
   "outputs": [
    {
     "name": "stdout",
     "output_type": "stream",
     "text": [
      "defaultdict(<class 'set'>, {})\n",
      "defaultdict(<class 'set'>, {'s': {1, 2, 3}})\n"
     ]
    }
   ],
   "source": [
    "a = defaultdict(set)\n",
    "print(a)\n",
    "a['s'].update([1,2,3,1])\n",
    "print(a)"
   ]
  },
  {
   "cell_type": "markdown",
   "metadata": {},
   "source": [
    "#### defaultdict : 함수로 값 처리\n",
    "- 첫번째 인자에 다양한 데이터 타입이 들어가고 뒤에 인자부터는 dict타입에 맞는 키워드 인자로 처리"
   ]
  },
  {
   "cell_type": "code",
   "execution_count": 122,
   "metadata": {},
   "outputs": [
    {
     "name": "stdout",
     "output_type": "stream",
     "text": [
      "d :  defaultdict(<function default_factory at 0x1129d0bf8>, {'foo': 'bar'})\n",
      "foo => bar\n",
      "bar => default value\n",
      "d1 :  defaultdict(<class 'list'>, {'foo': [1, 2, 3]})\n"
     ]
    }
   ],
   "source": [
    "from collections import defaultdict\n",
    "\n",
    "def default_factory():\n",
    "    return 'default value'\n",
    "\n",
    "d = defaultdict(default_factory, foo='bar')\n",
    "print('d : ', d)\n",
    "print('foo =>', d['foo'])\n",
    "print('bar =>', d['bar'])\n",
    "\n",
    "d1 = defaultdict(list, foo=[1,2,3])\n",
    "print('d1 : ', d1)"
   ]
  },
  {
   "cell_type": "code",
   "execution_count": 229,
   "metadata": {},
   "outputs": [
    {
     "name": "stdout",
     "output_type": "stream",
     "text": [
      "defaultdict(<function <lambda> at 0x111bdd840>, {'colours': defaultdict(<function <lambda> at 0x111bdd840>, {'favourite': '노랑'})})\n",
      "--------------------------------------------------\n",
      "{\"colours\": {\"favourite\": \"\\ub178\\ub791\"}}\n"
     ]
    }
   ],
   "source": [
    "# 아래 단락은 키에러 뜸\n",
    "# some_dict = {}\n",
    "# some_dict['colours']['favourite'] = \"노랑\"\n",
    "\n",
    "# defaultdict로 작업하면 해결가능\n",
    "tree = lambda: defaultdict(tree)\n",
    "some_dict = tree()\n",
    "some_dict['colours']['favourite'] = \"노랑\"\n",
    "print(some_dict)\n",
    "print('-' * 50)\n",
    "\n",
    "import json\n",
    "print(json.dumps(some_dict))"
   ]
  },
  {
   "cell_type": "markdown",
   "metadata": {},
   "source": [
    "---"
   ]
  },
  {
   "cell_type": "markdown",
   "metadata": {},
   "source": [
    "### 7. deque\n",
    "- 새로운 인스턴스를 만드는 클래스\n",
    "- 양방향에서 처리할 수 있는 double ended queue 자료 구조"
   ]
  },
  {
   "cell_type": "code",
   "execution_count": 126,
   "metadata": {},
   "outputs": [
    {
     "name": "stdout",
     "output_type": "stream",
     "text": [
      "append\n",
      "appendleft\n",
      "clear\n",
      "copy\n",
      "count\n",
      "extend\n",
      "extendleft\n",
      "index\n",
      "insert\n",
      "maxlen\n",
      "pop\n",
      "popleft\n",
      "remove\n",
      "reverse\n",
      "rotate\n"
     ]
    }
   ],
   "source": [
    "# deque의 메서드\n",
    "for method in dir(deque):\n",
    "    if method.startswith('__'):\n",
    "        pass\n",
    "    else:\n",
    "        print(method)"
   ]
  },
  {
   "cell_type": "code",
   "execution_count": 139,
   "metadata": {},
   "outputs": [
    {
     "name": "stdout",
     "output_type": "stream",
     "text": [
      "deque([1, 2, 3], maxlen=5)\n",
      "deque([2, 3, 4, 5, 6], maxlen=5)\n",
      "--------------------------------------------------\n",
      "deque([1, 2, 3])\n",
      "deque([1, 2, 3, 1, 2, 3])\n"
     ]
    }
   ],
   "source": [
    "# deque 생성\n",
    "from collections import deque\n",
    "d = deque([1,2,3], 5)\n",
    "print(d)\n",
    "d.extend([4,5,6])\n",
    "print(d)\n",
    "print('-' * 50)\n",
    "dd = deque([1,2,3])\n",
    "print(dd)\n",
    "\n",
    "dd.extend(dd)\n",
    "print(dd)"
   ]
  },
  {
   "cell_type": "markdown",
   "metadata": {},
   "source": [
    "#### deque 메서드"
   ]
  },
  {
   "cell_type": "code",
   "execution_count": 140,
   "metadata": {},
   "outputs": [
    {
     "name": "stdout",
     "output_type": "stream",
     "text": [
      "deque([3, 4, 5, 6, 1], maxlen=5)\n"
     ]
    },
    {
     "data": {
      "text/plain": [
       "deque([1])"
      ]
     },
     "execution_count": 140,
     "metadata": {},
     "output_type": "execute_result"
    }
   ],
   "source": [
    "d.append(1)   # 우측에 원소 추가\n",
    "print(d)"
   ]
  },
  {
   "cell_type": "code",
   "execution_count": 141,
   "metadata": {},
   "outputs": [
    {
     "name": "stdout",
     "output_type": "stream",
     "text": [
      "deque([3, 3, 4, 5, 6], maxlen=5)\n"
     ]
    },
    {
     "data": {
      "text/plain": [
       "deque([3, 1])"
      ]
     },
     "execution_count": 141,
     "metadata": {},
     "output_type": "execute_result"
    }
   ],
   "source": [
    "d.appendleft(3)  # 좌측에 원소 추가\n",
    "print(d)"
   ]
  },
  {
   "cell_type": "code",
   "execution_count": 142,
   "metadata": {},
   "outputs": [
    {
     "data": {
      "text/plain": [
       "2"
      ]
     },
     "execution_count": 142,
     "metadata": {},
     "output_type": "execute_result"
    }
   ],
   "source": [
    "d.count(3) # 원소의 개수"
   ]
  },
  {
   "cell_type": "code",
   "execution_count": 145,
   "metadata": {},
   "outputs": [
    {
     "name": "stdout",
     "output_type": "stream",
     "text": [
      "deque([4, 2, 2, 3, 4], maxlen=5)\n"
     ]
    }
   ],
   "source": [
    "d.extend([2,3,4])  # 리스트 등을 기존 인스턴스에 추가\n",
    "print(d)"
   ]
  },
  {
   "cell_type": "code",
   "execution_count": 146,
   "metadata": {},
   "outputs": [
    {
     "name": "stdout",
     "output_type": "stream",
     "text": [
      "deque([12, 10, 4, 2, 2], maxlen=5)\n"
     ]
    }
   ],
   "source": [
    "d.extendleft([10, 12])  # 기존 인스턴스 좌측부터 추가\n",
    "print(d)"
   ]
  },
  {
   "cell_type": "code",
   "execution_count": 147,
   "metadata": {},
   "outputs": [
    {
     "name": "stdout",
     "output_type": "stream",
     "text": [
      "deque([], maxlen=5)\n"
     ]
    },
    {
     "data": {
      "text/plain": [
       "deque([])"
      ]
     },
     "execution_count": 147,
     "metadata": {},
     "output_type": "execute_result"
    }
   ],
   "source": [
    "d.clear()  # 요소들을 전부 초기화\n",
    "print(d)\n",
    "deque([])"
   ]
  },
  {
   "cell_type": "code",
   "execution_count": 152,
   "metadata": {},
   "outputs": [
    {
     "name": "stdout",
     "output_type": "stream",
     "text": [
      "2\n",
      "deque([3, 10, 12, 4, 3])\n"
     ]
    }
   ],
   "source": [
    "d = deque([3, 10, 12, 4, 3, 2])\n",
    "print(d.pop())  #우측 요소 삭제\n",
    "print(d)"
   ]
  },
  {
   "cell_type": "code",
   "execution_count": 153,
   "metadata": {},
   "outputs": [
    {
     "name": "stdout",
     "output_type": "stream",
     "text": [
      "3\n",
      "deque([10, 12, 4, 3])\n"
     ]
    }
   ],
   "source": [
    "d = deque([3, 10, 12, 4, 3])\n",
    "print(d.popleft())  # 좌측 요소 삭제\n",
    "print(d)"
   ]
  },
  {
   "cell_type": "code",
   "execution_count": 154,
   "metadata": {},
   "outputs": [
    {
     "name": "stdout",
     "output_type": "stream",
     "text": [
      "deque([3, 10, 12, 4, 3, 2])\n"
     ]
    }
   ],
   "source": [
    "d = deque([1, 3, 10, 12, 4, 3, 2])\n",
    "d.remove(1)  # 값으로 요소 삭제\n",
    "print(d)"
   ]
  },
  {
   "cell_type": "code",
   "execution_count": 155,
   "metadata": {},
   "outputs": [
    {
     "name": "stdout",
     "output_type": "stream",
     "text": [
      "deque([1, 3, 10, 12, 4, 3, 2])\n"
     ]
    }
   ],
   "source": [
    "d = deque([2, 3, 4, 12, 10, 3, 1])\n",
    "d.reverse()  # 내부 요소들을 역정렬\n",
    "print(d)"
   ]
  },
  {
   "cell_type": "code",
   "execution_count": 158,
   "metadata": {},
   "outputs": [
    {
     "name": "stdout",
     "output_type": "stream",
     "text": [
      "deque([2, 3, 4, 12, 10, 3, 1])\n"
     ]
    }
   ],
   "source": [
    "d = deque([4, 12, 10, 3, 1, 2, 3])\n",
    "d.rotate(2)  # 요소들을 n값만큼 순회\n",
    "print(d)"
   ]
  },
  {
   "cell_type": "markdown",
   "metadata": {},
   "source": [
    "#### deque(양방향 queue) 다루기\n",
    ": 앞과 뒤로 모든 queue 처리가 가능"
   ]
  },
  {
   "cell_type": "code",
   "execution_count": 160,
   "metadata": {},
   "outputs": [
    {
     "name": "stdout",
     "output_type": "stream",
     "text": [
      "Deque: deque(['a', 'b', 'c', 'd', 'e', 'f', 'g'])\n",
      "Length: 7\n",
      "Left end: a\n",
      "Right end: g\n",
      "remove(c): deque(['a', 'b', 'd', 'e', 'f', 'g'])\n"
     ]
    }
   ],
   "source": [
    "d = deque('abcdefg')\n",
    "print('Deque:', d)\n",
    "print('Length:', len(d))\n",
    "print('Left end:', d[0])\n",
    "print('Right end:', d[-1])\n",
    "\n",
    "d.remove('c')\n",
    "print('remove(c):', d)"
   ]
  },
  {
   "cell_type": "markdown",
   "metadata": {},
   "source": [
    "---"
   ]
  },
  {
   "cell_type": "markdown",
   "metadata": {},
   "source": [
    "### 8. enum.Enum\n",
    "- enum은 상수를 정의할수 있게 해주는 라이브러리"
   ]
  },
  {
   "cell_type": "code",
   "execution_count": 293,
   "metadata": {},
   "outputs": [
    {
     "name": "stdout",
     "output_type": "stream",
     "text": [
      "<enum 'Species'>\n",
      "[<Species.cat: 1>, <Species.dog: 2>, <Species.horse: 4>, <Species.aardvark: 5>, <Species.butterfly: 3>, <Species.owl: 6>, <Species.platypus: 7>, <Species.dragon: 8>, <Species.unicorn: 9>]\n",
      "Species.cat :  Species.cat\n",
      "Species.kitten :  Species.cat\n",
      "Species.puppy :  Species.dog\n",
      "Species.kitten.name :  cat\n",
      "Species.kitten.value :  1\n",
      "repr(Species.cat) :  <Species.cat: 1>\n",
      "type(Species.kitten) :  <enum 'Species'>\n",
      "Species(9) :  Species.unicorn\n"
     ]
    }
   ],
   "source": [
    "from collections import namedtuple\n",
    "from enum import Enum\n",
    "\n",
    "class Species(Enum):\n",
    "    cat = 1\n",
    "    dog = 2\n",
    "    horse = 4\n",
    "    aardvark = 5\n",
    "    butterfly = 3\n",
    "    owl = 6\n",
    "    platypus = 7\n",
    "    dragon = 8\n",
    "    unicorn = 9\n",
    "    \n",
    "    kitten = 1\n",
    "    puppy = 2\n",
    "    \n",
    "\n",
    "print(Species)\n",
    "print(list(Species))\n",
    "print('Species.cat : ', Species.cat)\n",
    "print('Species.kitten : ', Species.kitten)\n",
    "print('Species.puppy : ', Species.puppy)\n",
    "print('Species.kitten.name : ', Species.kitten.name)\n",
    "print('Species.kitten.value : ', Species.kitten.value)\n",
    "print('repr(Species.cat) : ', repr(Species.cat))\n",
    "print('type(Species.kitten) : ', type(Species.kitten))\n",
    "print('Species(9) : ', Species(9))\n",
    "Animal = namedtuple('Animal', 'name age type')\n",
    "perry = Animal(name=\"Perry\", age=31, type=Species.cat)\n",
    "dragon = Animal(name=\"Drogon\", age=4, type=Species.dragon)\n",
    "tom = Animal(name=\"Tom\", age=75, type=Species.cat)\n",
    "charlie = Animal(name=\"Charlie\", age=2, type=Species.kitten)"
   ]
  },
  {
   "cell_type": "code",
   "execution_count": 294,
   "metadata": {},
   "outputs": [
    {
     "name": "stdout",
     "output_type": "stream",
     "text": [
      "True\n",
      "Species.cat\n",
      "Species.cat\n"
     ]
    }
   ],
   "source": [
    "# And now, some tests.\n",
    "print(charlie.type == tom.type)\n",
    "print(charlie.type)\n",
    "print(tom.type)"
   ]
  },
  {
   "cell_type": "code",
   "execution_count": 295,
   "metadata": {},
   "outputs": [
    {
     "data": {
      "text/plain": [
       "True"
      ]
     },
     "execution_count": 295,
     "metadata": {},
     "output_type": "execute_result"
    }
   ],
   "source": [
    "Species.cat == Species.kitten  # 값이 같으면 같은것으로 취급"
   ]
  },
  {
   "cell_type": "code",
   "execution_count": 296,
   "metadata": {},
   "outputs": [
    {
     "name": "stdout",
     "output_type": "stream",
     "text": [
      "Species.butterfly\n",
      "Species.cat\n",
      "Species.cat\n"
     ]
    }
   ],
   "source": [
    "# 값을 부르는 방법\n",
    "print(Species(3))\n",
    "print(Species['cat'])\n",
    "print(Species.cat)"
   ]
  },
  {
   "cell_type": "code",
   "execution_count": 298,
   "metadata": {},
   "outputs": [
    {
     "name": "stdout",
     "output_type": "stream",
     "text": [
      "Species.cat\n",
      "DIFF.\n"
     ]
    }
   ],
   "source": [
    "c = Species.cat\n",
    "print(c)\n",
    "# enum을 정수와 비교하는 것은 항상 False.\n",
    "if c == c.value:                                # DIFF.\n",
    "    print('SAME.')\n",
    "else:\n",
    "    print('DIFF.')"
   ]
  },
  {
   "cell_type": "code",
   "execution_count": 259,
   "metadata": {},
   "outputs": [
    {
     "name": "stdout",
     "output_type": "stream",
     "text": [
      "Species.cat\n",
      "Species.dog\n",
      "Species.horse\n",
      "Species.aardvark\n",
      "Species.butterfly\n",
      "Species.owl\n",
      "Species.platypus\n",
      "Species.dragon\n",
      "Species.unicorn\n"
     ]
    }
   ],
   "source": [
    "# enum을 반복문에 적용할수 있음\n",
    "for name in Species:\n",
    "    print(name)"
   ]
  },
  {
   "cell_type": "code",
   "execution_count": 267,
   "metadata": {},
   "outputs": [
    {
     "name": "stdout",
     "output_type": "stream",
     "text": [
      "[<Species.cat: 1>, <Species.dog: 2>, <Species.horse: 3>, <Species.aardvark: 4>, <Species.butterfly: 5>, <Species.owl: 6>, <Species.platypus: 7>, <Species.dragon: 8>, <Species.unicorn: 9>]\n",
      "cat\n",
      "1\n"
     ]
    }
   ],
   "source": [
    "lst = list(Species)\n",
    "print(lst)\n",
    "print(lst[0].name)\n",
    "print(lst[0].value)"
   ]
  },
  {
   "cell_type": "markdown",
   "metadata": {},
   "source": [
    "- enum 클래스가 유일한 값들로만 구성되어야 한다면 unique 장식자(decoration) 사용.\n",
    "- @enum.unique를 지정하면 아래 코드는 에러가 발생한다. 장식자는 클래스 바로 앞에 사용해야 한다.\n"
   ]
  },
  {
   "cell_type": "code",
   "execution_count": 275,
   "metadata": {},
   "outputs": [
    {
     "ename": "ValueError",
     "evalue": "duplicate values found in <enum 'Foods'>: CIDER -> COKE, JUICE -> COKE, BURGER -> PIZZA",
     "traceback": [
      "\u001b[0;31m---------------------------------------------------------------------------\u001b[0m",
      "\u001b[0;31mValueError\u001b[0m                                Traceback (most recent call last)",
      "\u001b[0;32m<ipython-input-275-1e3e4b77d2d2>\u001b[0m in \u001b[0;36m<module>\u001b[0;34m\u001b[0m\n\u001b[1;32m      2\u001b[0m \u001b[0;34m\u001b[0m\u001b[0m\n\u001b[1;32m      3\u001b[0m \u001b[0;34m@\u001b[0m\u001b[0menum\u001b[0m\u001b[0;34m.\u001b[0m\u001b[0munique\u001b[0m\u001b[0;34m\u001b[0m\u001b[0;34m\u001b[0m\u001b[0m\n\u001b[0;32m----> 4\u001b[0;31m \u001b[0;32mclass\u001b[0m \u001b[0mFoods\u001b[0m\u001b[0;34m(\u001b[0m\u001b[0menum\u001b[0m\u001b[0;34m.\u001b[0m\u001b[0mEnum\u001b[0m\u001b[0;34m)\u001b[0m\u001b[0;34m:\u001b[0m\u001b[0;34m\u001b[0m\u001b[0;34m\u001b[0m\u001b[0m\n\u001b[0m\u001b[1;32m      5\u001b[0m     \u001b[0mSNACK\u001b[0m \u001b[0;34m=\u001b[0m \u001b[0;36m0\u001b[0m\u001b[0;34m\u001b[0m\u001b[0;34m\u001b[0m\u001b[0m\n\u001b[1;32m      6\u001b[0m     \u001b[0mCOKE\u001b[0m \u001b[0;34m=\u001b[0m \u001b[0;36m1\u001b[0m\u001b[0;34m\u001b[0m\u001b[0;34m\u001b[0m\u001b[0m\n",
      "\u001b[0;32m/usr/local/miniconda3/envs/DA/lib/python3.6/enum.py\u001b[0m in \u001b[0;36munique\u001b[0;34m(enumeration)\u001b[0m\n\u001b[1;32m    834\u001b[0m                 [\"%s -> %s\" % (alias, name) for (alias, name) in duplicates])\n\u001b[1;32m    835\u001b[0m         raise ValueError('duplicate values found in %r: %s' %\n\u001b[0;32m--> 836\u001b[0;31m                 (enumeration, alias_details))\n\u001b[0m\u001b[1;32m    837\u001b[0m     \u001b[0;32mreturn\u001b[0m \u001b[0menumeration\u001b[0m\u001b[0;34m\u001b[0m\u001b[0;34m\u001b[0m\u001b[0m\n\u001b[1;32m    838\u001b[0m \u001b[0;34m\u001b[0m\u001b[0m\n",
      "\u001b[0;31mValueError\u001b[0m: duplicate values found in <enum 'Foods'>: CIDER -> COKE, JUICE -> COKE, BURGER -> PIZZA"
     ],
     "output_type": "error"
    }
   ],
   "source": [
    "import enum\n",
    "\n",
    "@enum.unique\n",
    "class Foods(enum.Enum):\n",
    "    SNACK = 0\n",
    "    COKE = 1\n",
    "    CIDER = 1\n",
    "    JUICE = 1\n",
    "    PIZZA = 2\n",
    "    BURGER = 2"
   ]
  },
  {
   "cell_type": "code",
   "execution_count": null,
   "metadata": {},
   "outputs": [],
   "source": [
    "# 정수로만 구성된 상수 클래스 정의. 실수를 지정하면 정수로 자동 변환된다.\n",
    "class City(enum.IntEnum):\n",
    "    SEOUL = 1\n",
    "    PUSAN = 2\n",
    "    INCHON = 3.3"
   ]
  },
  {
   "cell_type": "code",
   "execution_count": 276,
   "metadata": {},
   "outputs": [
    {
     "name": "stdout",
     "output_type": "stream",
     "text": [
      "City.SEOUL City.PUSAN City.INCHON\n",
      "INCHON 3\n",
      "--------------------------------------------------\n"
     ]
    }
   ],
   "source": [
    "print(City.SEOUL, City.PUSAN, City.INCHON)      # City.SEOUL City.PUSAN City.INCHON\n",
    "print(City.INCHON.name, City.INCHON.value)      # INCHON 3\n",
    "print('-'*50)"
   ]
  },
  {
   "cell_type": "code",
   "execution_count": 280,
   "metadata": {},
   "outputs": [
    {
     "name": "stdout",
     "output_type": "stream",
     "text": [
      "City.SEOUL City.PUSAN City.INCHON\n",
      "INCHON 3\n",
      "--------------------------------------------------\n",
      "<enum 'Species'>\n",
      "{<Species.cat: 1>: 'kitten is cute', <Species.dog: 2>: 'dog is cute'}\n",
      "[<NewSpecies.cat: 1>, <NewSpecies.dog: 2>, <NewSpecies.horse: 3>, <NewSpecies.aardvark: 4>, <NewSpecies.butterfly: 5>, <NewSpecies.owl: 6>, <NewSpecies.platypus: 7>, <NewSpecies.dragon: 8>, <NewSpecies.unicorn: 9>]\n"
     ]
    }
   ],
   "source": [
    "print(City.SEOUL, City.PUSAN, City.INCHON)      # City.SEOUL City.PUSAN City.INCHON\n",
    "print(City.INCHON.name, City.INCHON.value)      # INCHON 3\n",
    "print('-'*50)\n",
    "\n",
    "# dict 클래스(딕셔너리)의 key로 사용 가능\n",
    "cats = {}\n",
    "print(Species)\n",
    "cats[Species.cat] = 'cat is cute'\n",
    "cats[Species.dog] = 'dog is cute'\n",
    "cats[Species.kitten] = 'kitten is cute'\n",
    "print(cats)"
   ]
  },
  {
   "cell_type": "code",
   "execution_count": 281,
   "metadata": {},
   "outputs": [
    {
     "name": "stdout",
     "output_type": "stream",
     "text": [
      "[<NewSpecies.cat: 1>, <NewSpecies.dog: 2>, <NewSpecies.horse: 3>, <NewSpecies.aardvark: 4>, <NewSpecies.butterfly: 5>, <NewSpecies.owl: 6>, <NewSpecies.platypus: 7>, <NewSpecies.dragon: 8>, <NewSpecies.unicorn: 9>]\n"
     ]
    }
   ],
   "source": [
    "# 3.6 버전에서는 auto 함수 가능. 1부터 시작하고 1씩 증가.\n",
    "class NewSpecies(enum.Enum):\n",
    "    cat = enum.auto()\n",
    "    dog = enum.auto()\n",
    "    horse = enum.auto()\n",
    "    aardvark = enum.auto()\n",
    "    butterfly = enum.auto()\n",
    "    owl = enum.auto()\n",
    "    platypus = enum.auto()\n",
    "    dragon = enum.auto()\n",
    "    unicorn = enum.auto()\n",
    "    \n",
    "    kitten = 1\n",
    "    puppy = 2\n",
    "    \n",
    "print(list(NewSpecies))\n"
   ]
  },
  {
   "cell_type": "code",
   "execution_count": 302,
   "metadata": {},
   "outputs": [
    {
     "name": "stdout",
     "output_type": "stream",
     "text": [
      "[<NewSpecies2.cat: 0>, <NewSpecies2.dog: 1>, <NewSpecies2.horse: 2>, <NewSpecies2.aardvark: 3>, <NewSpecies2.butterfly: 4>, <NewSpecies2.owl: 5>, <NewSpecies2.platypus: 6>, <NewSpecies2.dragon: 7>, <NewSpecies2.unicorn: 8>]\n"
     ]
    }
   ],
   "source": [
    "# 암묵적인 값 할당도 지원\n",
    "class NewSpecies2(enum.Enum):\n",
    "    cat, dog, horse, aardvark, butterfly, owl, platypus, dragon, unicorn = range(9)\n",
    "    \n",
    "print(list(NewSpecies2))"
   ]
  },
  {
   "cell_type": "markdown",
   "metadata": {},
   "source": [
    "- C와 비슷하게 아래처럼 쓸 수도 있음"
   ]
  },
  {
   "cell_type": "code",
   "execution_count": 284,
   "metadata": {},
   "outputs": [
    {
     "data": {
      "text/plain": [
       "[<Animal.ant: 1>, <Animal.bee: 2>, <Animal.cat: 3>, <Animal.dog: 4>]"
      ]
     },
     "execution_count": 284,
     "metadata": {},
     "output_type": "execute_result"
    }
   ],
   "source": [
    "from enum import Enum\n",
    "Animal = Enum('Animal', 'ant bee cat dog')\n",
    "list(Animal)"
   ]
  },
  {
   "cell_type": "markdown",
   "metadata": {},
   "source": [
    "- 쓰는이유  \n",
    ": Fruit의 apple 과 Company의 apple을 구분할수 있음"
   ]
  },
  {
   "cell_type": "markdown",
   "metadata": {},
   "source": [
    "---"
   ]
  },
  {
   "cell_type": "markdown",
   "metadata": {},
   "source": [
    "### 8. itemgetter\n",
    "- itemgetter : 동일한 키 처리\n",
    "\n",
    "- ‘fname’ key를 key값으로 읽는 itg를 생성해 서 실제 dict 타입을 파라미터로 주면 값을 결과로 제공"
   ]
  },
  {
   "cell_type": "code",
   "execution_count": 161,
   "metadata": {},
   "outputs": [
    {
     "name": "stdout",
     "output_type": "stream",
     "text": [
      "['__call__', '__class__', '__delattr__', '__dir__', '__doc__', '__eq__', '__format__', '__ge__', '__getattribute__', '__gt__', '__hash__', '__init__', '__init_subclass__', '__le__', '__lt__', '__ne__', '__new__', '__reduce__', '__reduce_ex__', '__repr__', '__setattr__', '__sizeof__', '__str__', '__subclasshook__']\n",
      "<class 'operator.itemgetter'>\n",
      "Brian\n"
     ]
    }
   ],
   "source": [
    "rows = [\n",
    "    {'fname' : 'Brian', 'lname':'Jones', 'uid':1003},\n",
    "    {'fname' : 'David', 'lname':'Beazley', 'uid':1002},\n",
    "    {'fname' : 'John', 'lname':'Cleese', 'uid':1001},\n",
    "    {'fname' : 'Big', 'lname':'Jones', 'uid':1004},\n",
    "]\n",
    "\n",
    "from operator import itemgetter\n",
    "itg = itemgetter('fname')\n",
    "print(dir(itg))\n",
    "print(type(itg))\n",
    "print(itg(rows[0]))"
   ]
  },
  {
   "cell_type": "markdown",
   "metadata": {},
   "source": [
    "- itemgetter이용해서 sorting : 결과 값을 기준으로 dict 타입 원소를 가지는 list를 sorted 처리하기"
   ]
  },
  {
   "cell_type": "code",
   "execution_count": 163,
   "metadata": {},
   "outputs": [
    {
     "name": "stdout",
     "output_type": "stream",
     "text": [
      "[{'fname': 'Big', 'lname': 'Jones', 'uid': 1004}, {'fname': 'Brian', 'lname': 'Jones', 'uid': 1003}, {'fname': 'David', 'lname': 'Beazley', 'uid': 1002}, {'fname': 'John', 'lname': 'Cleese', 'uid': 1001}]\n"
     ]
    }
   ],
   "source": [
    "rows = [\n",
    "    {'fname' : 'Brian', 'lname':'Jones', 'uid':1003},\n",
    "    {'fname' : 'David', 'lname':'Beazley', 'uid':1002},\n",
    "    {'fname' : 'John', 'lname':'Cleese', 'uid':1001},\n",
    "    {'fname' : 'Big', 'lname':'Jones', 'uid':1004},\n",
    "]\n",
    "\n",
    "from operator import itemgetter\n",
    "itg = itemgetter('fname')\n",
    "rows_by_fname = sorted(rows, key=itg)\n",
    "\n",
    "print(rows_by_fname)"
   ]
  },
  {
   "cell_type": "markdown",
   "metadata": {},
   "source": [
    "---"
   ]
  },
  {
   "cell_type": "markdown",
   "metadata": {},
   "source": [
    "### 9. attrgetter\n",
    "- attrgetter에 class 속성을 부여하고 인스턴스를 파라미터로 받으면 그 결과값인 속성이 값을 가져옴"
   ]
  },
  {
   "cell_type": "code",
   "execution_count": 165,
   "metadata": {},
   "outputs": [
    {
     "name": "stdout",
     "output_type": "stream",
     "text": [
      "1\n"
     ]
    }
   ],
   "source": [
    "from operator import attrgetter\n",
    "\n",
    "class User(object):\n",
    "    def __init__(self, user_id):\n",
    "        self.user_id = user_id\n",
    "        \n",
    "    def __repr__(self):\n",
    "        return 'User({})'.format(self.user_id)\n",
    "    \n",
    "x = attrgetter('user_id')\n",
    "users = [User(1), User(3), User(7)]\n",
    "\n",
    "print(x(users[0]))"
   ]
  },
  {
   "cell_type": "markdown",
   "metadata": {},
   "source": [
    "- attrgetter 이용 sorting"
   ]
  },
  {
   "cell_type": "code",
   "execution_count": 167,
   "metadata": {},
   "outputs": [
    {
     "name": "stdout",
     "output_type": "stream",
     "text": [
      "[User(1), User(3), User(7)]\n"
     ]
    }
   ],
   "source": [
    "users = [User(3), User(1), User(7)]\n",
    "\n",
    "x = sorted(users, key=attrgetter('user_id'))\n",
    "print(x)"
   ]
  }
 ],
 "metadata": {
  "kernelspec": {
   "display_name": "Python 3",
   "language": "python",
   "name": "python3"
  },
  "language_info": {
   "codemirror_mode": {
    "name": "ipython",
    "version": 3
   },
   "file_extension": ".py",
   "mimetype": "text/x-python",
   "name": "python",
   "nbconvert_exporter": "python",
   "pygments_lexer": "ipython3",
   "version": "3.6.7"
  }
 },
 "nbformat": 4,
 "nbformat_minor": 2
}
