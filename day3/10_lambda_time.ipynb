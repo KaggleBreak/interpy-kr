{
 "cells": [
  {
   "cell_type": "code",
   "execution_count": 18,
   "metadata": {
    "collapsed": true
   },
   "outputs": [],
   "source": [
    "import time"
   ]
  },
  {
   "cell_type": "code",
   "execution_count": 7,
   "metadata": {
    "collapsed": false
   },
   "outputs": [],
   "source": [
    "# Method.\n",
    "def square1(n):\n",
    "    return n ** 2\n",
    "\n",
    "# Lambda method.\n",
    "square2 = lambda n: n ** 2"
   ]
  },
  {
   "cell_type": "code",
   "execution_count": null,
   "metadata": {
    "collapsed": false
   },
   "outputs": [],
   "source": [
    "# Use def method.\n",
    "start_time = time.time() \n",
    "\n",
    "i = 0\n",
    "while i < 100000000:\n",
    "    square1(i)\n",
    "    i += 1\n",
    "\n",
    "print(\"--- %s seconds ---\" %(time.time() - start_time))"
   ]
  },
  {
   "cell_type": "code",
   "execution_count": null,
   "metadata": {
    "collapsed": false
   },
   "outputs": [],
   "source": [
    "# Use lambda method.\n",
    "start_time = time.time() \n",
    "i = 0\n",
    "while i < 100000000:\n",
    "    square2(i)\n",
    "    i += 1\n",
    "\n",
    "print(\"--- %s seconds ---\" %(time.time() - start_time))"
   ]
  }
 ],
 "metadata": {
  "kernelspec": {
   "display_name": "Python 3",
   "language": "python",
   "name": "python3"
  },
  "language_info": {
   "codemirror_mode": {
    "name": "ipython",
    "version": 3
   },
   "file_extension": ".py",
   "mimetype": "text/x-python",
   "name": "python",
   "nbconvert_exporter": "python",
   "pygments_lexer": "ipython3",
   "version": "3.5.1rc1"
  }
 },
 "nbformat": 4,
 "nbformat_minor": 2
}
