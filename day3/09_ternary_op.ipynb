{
 "cells": [
  {
   "cell_type": "markdown",
   "metadata": {},
   "source": [
    "# 3항 연산자 (Ternary Operator)\n",
    "<p style=\"font-size: 10px\">3항 연산자는 한 종류밖에 없기 때문에 <u>조건 연산자(Conditional Operator)</u>라고 불리기도 합니다.</p>\n",
    "\n",
    "```java\n",
    "# JAVA식 3항 연산자\n",
    "type variable = (condition) ? value when True : value when False;\n",
    "# (Is the condition True) ? Yes : No;\n",
    "```\n",
    "\n",
    "조건을 한 줄로 예쁘게 적을 수 있습니다.  \n",
    "<u>조건</u>, <u>True일 때 return 값</u>, <u>False일 때 return 값</u>으로 3개의 항이 있으므로 3항입니다.\n",
    "\n",
    "`C`와 `자바`에서 지원합니다. (`?: 연산자`라고도 불립니다.)  \n",
    "다른 언어보다 적은 코드로 같은 작업을 할 수 있는 것이 장점인 `파이썬`이므로 당연히 지원합니다.\n",
    "\n",
    "저희가 3항 연산자를 사용해야 하는 이유는 순전히 `가독성(readability)` 때문입니다.\n",
    "<p style=\"font-size: 10px\"><u>카더라</u>로 예전에는 일반 IF-ELSE 조건보다 가벼워서 쓰기 좋다는 말이나 Cyclomatic Complexity가 줄어서 좋다는 말이 있었는데<b><u>(진위여부는 모릅니다)</u></b>, 현재는 가독성 외에는 큰 의미가 없다고 합니다.</p>"
   ]
  },
  {
   "cell_type": "markdown",
   "metadata": {},
   "source": [
    "---"
   ]
  },
  {
   "cell_type": "markdown",
   "metadata": {},
   "source": [
    "#### 한 번 보는 단항 연산자와 2항 연산자\n",
    "단항 연산자는 항이 1개, 2항 연산자는 항이 2개인게 당연하겠죠?"
   ]
  },
  {
   "cell_type": "code",
   "execution_count": 1,
   "metadata": {},
   "outputs": [],
   "source": [
    "# 단항 연산자\n",
    "a = 1\n",
    "b = 2\n",
    "b += 2\n",
    "# 2항 연산자\n",
    "c = 3 + 4"
   ]
  },
  {
   "cell_type": "markdown",
   "metadata": {},
   "source": [
    "---"
   ]
  },
  {
   "cell_type": "markdown",
   "metadata": {},
   "source": [
    "## Python의 3항 연산자\n",
    "`Python`은 3항 연산자의 형태가 `C` 혹은 `JAVA`와 매우 다릅니다.  \n",
    "심지어 `Python`에서는 3가지 방식으로 3항 연산자를 만들 수 있습니다."
   ]
  },
  {
   "cell_type": "markdown",
   "metadata": {},
   "source": [
    "### 1. and-or 3항 연산자\n",
    "```python\n",
    "result = condition and value when True or value when False\n",
    "```"
   ]
  },
  {
   "cell_type": "code",
   "execution_count": 2,
   "metadata": {},
   "outputs": [
    {
     "name": "stdout",
     "output_type": "stream",
     "text": [
      "3\n"
     ]
    }
   ],
   "source": [
    "x = 1\n",
    "y = 2\n",
    "\n",
    "res = x == y and x-y or x+y\n",
    "\n",
    "print(res)    # 기대한대로 a+b인 3이 출력됩니다."
   ]
  },
  {
   "cell_type": "markdown",
   "metadata": {},
   "source": [
    "보시다시피 `C`와 `자바`의 3항 연산자에서 `?`를 `and`로, `:`를 `or`로 바꿔주면 됩니다.\n",
    "\n",
    "`?` &rarr; `and`  \n",
    "`:` &rarr; `or`\n",
    "\n",
    "위가 실행되는 이유는 `파이썬`에서 `a and b or c`가 가능하기 때문입니다. 좌측의 연산이 먼저 실행되기 때문에 `(a and b) or c`와 같습니다.\n",
    "\n",
    "인터프리터는 `a and b`를 우선 확인합니다.\n",
    "1. a가 True라면, b를 확인합니다.  \n",
    "    1. b도 True라면, (a and b)가 True이므로 c를 확인할 것도 없이 b를 return합니다.\n",
    "    2. b가 False라면, (a and b)가 False이므로 c를 return합니다.\n",
    "2. a가 False라면, a and b가 False이기 때문에 바로 c를 return합니다."
   ]
  },
  {
   "cell_type": "code",
   "execution_count": 3,
   "metadata": {},
   "outputs": [
    {
     "name": "stdout",
     "output_type": "stream",
     "text": [
      "2\n"
     ]
    }
   ],
   "source": [
    "x = 1\n",
    "y = 1\n",
    "\n",
    "res = x == y and x-y or x+y\n",
    "\n",
    "print(res)    # 기대한대로 x-y인 0이 출력되...지 않는다?"
   ]
  },
  {
   "cell_type": "markdown",
   "metadata": {},
   "source": [
    "`x`와 `y`가 모두 10이기 때문에 `x == y`는 분명 `True`입니다.  \n",
    "하지만 `x-y`가 아닌 `x+y`가 출력되었습니다.\n",
    "\n",
    "이 문제는 `a and b or c`에서 `b`가 0일 때 발생합니다.  \n",
    "컴퓨터는 숫자 0을 `False`로 인식하기 때문에 `b == 0`일 때, `b`는 항상 `False`로 인식합니다.  \n",
    "`a and 0`는 언제나 `False`가 됩니다.\n",
    "\n",
    "`파이썬`은 해당 이슈를 여전히 두고 있고, 대신 나중에 새로운 형식의 3항 연산자를 만들었습니다."
   ]
  },
  {
   "cell_type": "markdown",
   "metadata": {},
   "source": [
    "### 2. if-else 3항 연산자\n",
    "```python\n",
    "result = value when True if condition else value when False\n",
    "```"
   ]
  },
  {
   "cell_type": "code",
   "execution_count": 4,
   "metadata": {},
   "outputs": [
    {
     "name": "stdout",
     "output_type": "stream",
     "text": [
      "3\n"
     ]
    }
   ],
   "source": [
    "x = 1\n",
    "y = 2\n",
    "\n",
    "res = x-y if x == y else x+y\n",
    "\n",
    "print(res)    # and-or처럼 x+y가 제대로 출력되었다."
   ]
  },
  {
   "cell_type": "markdown",
   "metadata": {},
   "source": [
    "그렇다면 and-or 3항 연산자에서 막힌 부분은 해결되었는지 확인하겠습니다."
   ]
  },
  {
   "cell_type": "code",
   "execution_count": 5,
   "metadata": {},
   "outputs": [
    {
     "name": "stdout",
     "output_type": "stream",
     "text": [
      "0\n"
     ]
    }
   ],
   "source": [
    "x = 1\n",
    "y = 1\n",
    "\n",
    "res = x-y if x == y else x+y\n",
    "\n",
    "print(res)    # 기대되로 x-y를 출력했다!"
   ]
  },
  {
   "cell_type": "markdown",
   "metadata": {},
   "source": [
    "기대대로 `x-y`인 0을 출력했습니다.\n",
    "\n",
    "둘의 차이는 구조에 있습니다.  \n",
    "if와 else를 사용한 이번 연산자를 보시면:\n",
    "```python\n",
    "변수 = True일 때 값 if 조건 else False일 때 값\n",
    "```\n",
    "위와 같이 구성되어 있습니다. 위를 풀어보면 아래와 같습니다:\n",
    "```python\n",
    "변수 = 0\n",
    "if 조건:\n",
    "    변수 = True일 때 값\n",
    "else:\n",
    "    변수 = False일 때 값\n",
    "```\n",
    "\n",
    "예를 들어, 앞 셀은:"
   ]
  },
  {
   "cell_type": "code",
   "execution_count": 6,
   "metadata": {},
   "outputs": [
    {
     "name": "stdout",
     "output_type": "stream",
     "text": [
      "0\n"
     ]
    }
   ],
   "source": [
    "x = 1\n",
    "y = 1\n",
    "res = 0\n",
    "\n",
    "if x == y:\n",
    "    res = x - y\n",
    "else:\n",
    "    res = x + y\n",
    "\n",
    "print(res)"
   ]
  },
  {
   "cell_type": "markdown",
   "metadata": {},
   "source": [
    "위와 같은 형태가 됩니다. 별 것 없으면서 5줄이나 잡아먹는 코드입니다.  \n",
    "하지만 if-else 3항 연산자를 쓰면 1줄로 줄어듭니다.  \n",
    "간단한 코드라면 매우 읽기 좋은 형태입니다."
   ]
  },
  {
   "cell_type": "markdown",
   "metadata": {},
   "source": [
    "### 3. 튜플 3항 연산자\n",
    "```python\n",
    "result = (value when False, value when True)[something True or False]\n",
    "```"
   ]
  },
  {
   "cell_type": "code",
   "execution_count": 7,
   "metadata": {},
   "outputs": [
    {
     "name": "stdout",
     "output_type": "stream",
     "text": [
      "I am  fat\n"
     ]
    }
   ],
   "source": [
    "fat = True\n",
    "fitness = (\"skinny\", \"fat\")[fat]\n",
    "print(\"I am \", fitness)"
   ]
  },
  {
   "cell_type": "markdown",
   "metadata": {},
   "source": [
    "튜플을 사용한 방법입니다.  \n",
    "`True`가 1이고 `False`가 0인 것을 이용했습니다.  \n",
    "튜플의 앞 요소가 `False`일 때 값이고, 뒷 요소가 `True`일 때 값이 됩니다.  \n",
    "하지만 튜플은 그 자체로 하나의 값이기 때문에 양 요소 모두를 컴퓨터가 인식할 수 있어야 합니다.  \n",
    "`return`한 값에 에러가 있어도 조건에 부합하지 않으면 확인조차 하지 않는 if 구문과는 다릅니다."
   ]
  },
  {
   "cell_type": "code",
   "execution_count": 8,
   "metadata": {},
   "outputs": [
    {
     "ename": "ZeroDivisionError",
     "evalue": "division by zero",
     "output_type": "error",
     "traceback": [
      "\u001b[1;31m---------------------------------------------------------------------------\u001b[0m",
      "\u001b[1;31mZeroDivisionError\u001b[0m                         Traceback (most recent call last)",
      "\u001b[1;32m<ipython-input-8-2266f990ba04>\u001b[0m in \u001b[0;36m<module>\u001b[1;34m\u001b[0m\n\u001b[1;32m----> 1\u001b[1;33m \u001b[1;33m(\u001b[0m\u001b[1;36m1\u001b[0m\u001b[1;33m/\u001b[0m\u001b[1;36m0\u001b[0m\u001b[1;33m,\u001b[0m \u001b[1;36m2\u001b[0m\u001b[1;33m)\u001b[0m\u001b[1;33m\u001b[0m\u001b[1;33m\u001b[0m\u001b[0m\n\u001b[0m",
      "\u001b[1;31mZeroDivisionError\u001b[0m: division by zero"
     ]
    }
   ],
   "source": [
    "(1/0, 2)"
   ]
  },
  {
   "cell_type": "markdown",
   "metadata": {},
   "source": [
    "위에 보시다시피 `ZeroDivisionError`가 `raise`되었습니다.\n",
    "\n",
    "이 상황에서 `(1/0, 2)[True]`나 `(1/0, 2)[False]`는 실행할 수 없습니다."
   ]
  },
  {
   "cell_type": "code",
   "execution_count": 9,
   "metadata": {},
   "outputs": [
    {
     "ename": "ZeroDivisionError",
     "evalue": "division by zero",
     "output_type": "error",
     "traceback": [
      "\u001b[1;31m---------------------------------------------------------------------------\u001b[0m",
      "\u001b[1;31mZeroDivisionError\u001b[0m                         Traceback (most recent call last)",
      "\u001b[1;32m<ipython-input-9-243cae645fb3>\u001b[0m in \u001b[0;36m<module>\u001b[1;34m\u001b[0m\n\u001b[1;32m----> 1\u001b[1;33m \u001b[1;33m(\u001b[0m\u001b[1;36m1\u001b[0m\u001b[1;33m/\u001b[0m\u001b[1;36m0\u001b[0m\u001b[1;33m,\u001b[0m \u001b[1;36m2\u001b[0m\u001b[1;33m)\u001b[0m\u001b[1;33m[\u001b[0m\u001b[1;32mTrue\u001b[0m\u001b[1;33m]\u001b[0m\u001b[1;33m\u001b[0m\u001b[1;33m\u001b[0m\u001b[0m\n\u001b[0m",
      "\u001b[1;31mZeroDivisionError\u001b[0m: division by zero"
     ]
    }
   ],
   "source": [
    "(1/0, 2)[True]"
   ]
  },
  {
   "cell_type": "code",
   "execution_count": 10,
   "metadata": {},
   "outputs": [
    {
     "ename": "ZeroDivisionError",
     "evalue": "division by zero",
     "output_type": "error",
     "traceback": [
      "\u001b[1;31m---------------------------------------------------------------------------\u001b[0m",
      "\u001b[1;31mZeroDivisionError\u001b[0m                         Traceback (most recent call last)",
      "\u001b[1;32m<ipython-input-10-d3a4efbb5de1>\u001b[0m in \u001b[0;36m<module>\u001b[1;34m\u001b[0m\n\u001b[1;32m----> 1\u001b[1;33m \u001b[1;33m(\u001b[0m\u001b[1;36m1\u001b[0m\u001b[1;33m/\u001b[0m\u001b[1;36m0\u001b[0m\u001b[1;33m,\u001b[0m \u001b[1;36m2\u001b[0m\u001b[1;33m)\u001b[0m\u001b[1;33m[\u001b[0m\u001b[1;32mFalse\u001b[0m\u001b[1;33m]\u001b[0m\u001b[1;33m\u001b[0m\u001b[1;33m\u001b[0m\u001b[0m\n\u001b[0m",
      "\u001b[1;31mZeroDivisionError\u001b[0m: division by zero"
     ]
    }
   ],
   "source": [
    "(1/0, 2)[False]"
   ]
  },
  {
   "cell_type": "markdown",
   "metadata": {},
   "source": [
    "## 맺음말\n",
    "3방법으로 구현한 3항 연산자 중 가장 사용하기 적합한 것은 if-else인 것으로 보입니다.  \n",
    "구조상 일어날 법한 문제가 없습니다.  \n",
    "\n",
    "그렇지만 if-else에 약점이 없는 것은 아닙니다.\n",
    "1. 모든 3항 연산자가 그렇듯이 각 항이 길고 복잡해지면 오히려 가독성이 떨어질 수 있다.\n",
    "    + 가독성을 위해 쓰는 3항 연산자가 가독성이 떨어지면 안될 일입니다.\n",
    "2. if 구문과 달리 break를 쓸 수 없다.\n",
    "    + while True와 같은 것을 쓰면 끝없이 루프합니다. for를 써도 중간에 끊고 싶어도 끊을 수가 없습니다.\n",
    "3. if 구문과 달리 elif를 쓸 수 없다."
   ]
  },
  {
   "cell_type": "markdown",
   "metadata": {},
   "source": [
    "### 번외\n",
    "마지막으로 if-else 3항 연산자를 썼을 때, 때로는 코드가 너무 길어질 수 있습니다.  \n",
    "그 경우 가독성을 보장하기 위해 `break line`을 넣어보겠습니다."
   ]
  },
  {
   "cell_type": "code",
   "execution_count": 11,
   "metadata": {},
   "outputs": [
    {
     "name": "stdout",
     "output_type": "stream",
     "text": [
      "I'd love that!\n"
     ]
    }
   ],
   "source": [
    "a = \"I'd love that!\"\n",
    "b = \"Nope!\"\n",
    "x = True\n",
    "\n",
    "# 문제없다!\n",
    "res = a if x is True else b\n",
    "print(res)"
   ]
  },
  {
   "cell_type": "code",
   "execution_count": 12,
   "metadata": {},
   "outputs": [
    {
     "ename": "SyntaxError",
     "evalue": "invalid syntax (<ipython-input-12-f557f151226a>, line 2)",
     "output_type": "error",
     "traceback": [
      "\u001b[1;36m  File \u001b[1;32m\"<ipython-input-12-f557f151226a>\"\u001b[1;36m, line \u001b[1;32m2\u001b[0m\n\u001b[1;33m    res = a if x is True\u001b[0m\n\u001b[1;37m                        ^\u001b[0m\n\u001b[1;31mSyntaxError\u001b[0m\u001b[1;31m:\u001b[0m invalid syntax\n"
     ]
    }
   ],
   "source": [
    "# SyntaxError\n",
    "res = a if x is True\n",
    "else b"
   ]
  },
  {
   "cell_type": "code",
   "execution_count": 13,
   "metadata": {},
   "outputs": [
    {
     "name": "stdout",
     "output_type": "stream",
     "text": [
      "I'd love that!\n"
     ]
    }
   ],
   "source": [
    "res = (\n",
    "    a if x is True\n",
    "    else b)\n",
    "print(res)"
   ]
  },
  {
   "cell_type": "code",
   "execution_count": 14,
   "metadata": {},
   "outputs": [
    {
     "name": "stdout",
     "output_type": "stream",
     "text": [
      "I'd love that!\n"
     ]
    }
   ],
   "source": [
    "res = (a if\n",
    "      x is True else b)\n",
    "print(res)"
   ]
  },
  {
   "cell_type": "code",
   "execution_count": 15,
   "metadata": {},
   "outputs": [
    {
     "name": "stdout",
     "output_type": "stream",
     "text": [
      "I'd love that!\n"
     ]
    }
   ],
   "source": [
    "res = (a if x is True else\n",
    "      b)\n",
    "print(res)"
   ]
  },
  {
   "cell_type": "markdown",
   "metadata": {},
   "source": [
    "이렇게 괄호 `()` 안에 가두는 것을 `implicit line joining`이라고 합니다.  \n",
    "열린 괄호가 닫힐 때까지 안을 모두 하나로 인식하기 때문에 줄을 바꿔도 문제없이 인식합니다.  \n",
    "하지만 indentation은 조심해주세요.  \n",
    "\n",
    "보기 안 좋거든요."
   ]
  },
  {
   "cell_type": "code",
   "execution_count": null,
   "metadata": {},
   "outputs": [],
   "source": []
  }
 ],
 "metadata": {
  "kernelspec": {
   "display_name": "Python 3",
   "language": "python",
   "name": "python3"
  },
  "language_info": {
   "codemirror_mode": {
    "name": "ipython",
    "version": 3
   },
   "file_extension": ".py",
   "mimetype": "text/x-python",
   "name": "python",
   "nbconvert_exporter": "python",
   "pygments_lexer": "ipython3",
   "version": "3.7.3"
  }
 },
 "nbformat": 4,
 "nbformat_minor": 2
}
