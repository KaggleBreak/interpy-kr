{
  "nbformat": 4,
  "nbformat_minor": 0,
  "metadata": {
    "colab": {
      "name": "Comprehension.ipynb",
      "version": "0.3.2",
      "provenance": []
    },
    "language_info": {
      "codemirror_mode": {
        "name": "ipython",
        "version": 3
      },
      "file_extension": ".py",
      "mimetype": "text/x-python",
      "name": "python",
      "nbconvert_exporter": "python",
      "pygments_lexer": "ipython3",
      "version": "3.6.1"
    },
    "kernelspec": {
      "display_name": "Python 3",
      "language": "python",
      "name": "python3"
    }
  },
  "cells": [
    {
      "cell_type": "markdown",
      "metadata": {
        "id": "tqb49E1Ls6Tw",
        "colab_type": "text"
      },
      "source": [
        "## Python Comprehension\n",
        "### 한 sequence가 다른 sequence(iterable object)로부터 변형되어 구축될 수 있게한 기능\n",
        "### iterable한 오브젝트를 생성하기 위한 방법중 하나로 파이썬에서 사용할 수 있는 유용한 기능중 하나\n",
        "* Python2 : List Comprehension 만 지원\n",
        "* Python3 : Dictionary Comprehension과 Set Comprehension추가 지원\n",
        "* Generator Comprehension이라 일컫는 Generator Expression"
      ]
    },
    {
      "cell_type": "markdown",
      "metadata": {
        "id": "35kywAS_s6Tz",
        "colab_type": "text"
      },
      "source": [
        "### List Comprehension\n",
        "*한번 익숙해지면, List Comprehension이 없는 다른 프로그래밍 언어는 쓰기 싫어진다고 함"
      ]
    },
    {
      "cell_type": "markdown",
      "metadata": {
        "id": "7XjzLSEcs6T1",
        "colab_type": "text"
      },
      "source": [
        "<img src=\"http://www.thagomizer.com/img/list_comprehension.png\">"
      ]
    },
    {
      "cell_type": "code",
      "metadata": {
        "id": "XbVwU1a8s6T3",
        "colab_type": "code",
        "outputId": "efb3423f-e418-4c08-b60b-502cdaba5c83",
        "colab": {}
      },
      "source": [
        "# 20까지의 짝수를 출력하기 위해 다음과 같은 List Comprehension 사용\n",
        "evens = [x * 2 for x in range(11)]\n",
        "print(evens)"
      ],
      "execution_count": 0,
      "outputs": [
        {
          "output_type": "stream",
          "text": [
            "[0, 2, 4, 6, 8, 10, 12, 14, 16, 18, 20]\n"
          ],
          "name": "stdout"
        }
      ]
    },
    {
      "cell_type": "markdown",
      "metadata": {
        "id": "mL17sS4yHJ5q",
        "colab_type": "text"
      },
      "source": [
        "#### 길이가 1~10 인 정사각형 중에 길이가 짝수인 정사각형의 넓이 구하기"
      ]
    },
    {
      "cell_type": "code",
      "metadata": {
        "id": "taSKBkbcs6T_",
        "colab_type": "code",
        "outputId": "0160f570-00e8-49e1-9588-446dd4ce5c2d",
        "colab": {
          "base_uri": "https://localhost:8080/",
          "height": 35
        }
      },
      "source": [
        "# 그냥 for문 이용\n",
        "areas = []\n",
        "for i in range(1,11):\n",
        "    if i % 2 == 0:\n",
        "        areas.extend([i*i])\n",
        "\n",
        "print('areas :', areas)  # [4, 16, 36, 64, 100]"
      ],
      "execution_count": 0,
      "outputs": [
        {
          "output_type": "stream",
          "text": [
            "areas : [4, 16, 36, 64, 100]\n"
          ],
          "name": "stdout"
        }
      ]
    },
    {
      "cell_type": "code",
      "metadata": {
        "id": "qDYhjIuVs6UC",
        "colab_type": "code",
        "outputId": "4f378f7b-8212-49ba-bd00-c5f3de479594",
        "colab": {
          "base_uri": "https://localhost:8080/",
          "height": 35
        }
      },
      "source": [
        "# list comprehension 방법\n",
        "areas2 = [i * i for i in range(1,11) if i % 2 ==0]\n",
        "print('areas2 :', areas2)  # [4, 16, 36, 64, 100]"
      ],
      "execution_count": 0,
      "outputs": [
        {
          "output_type": "stream",
          "text": [
            "areas2 : [4, 16, 36, 64, 100]\n"
          ],
          "name": "stdout"
        }
      ]
    },
    {
      "cell_type": "markdown",
      "metadata": {
        "id": "A2Kv6SMZs6UE",
        "colab_type": "text"
      },
      "source": [
        "### Dictionary Comprehension\n",
        "* Dictionary Comprehension은 입력 Sequence로부터 지정된 표현식에 따라 새로운 Dictionary 컬렉션을 빌드하는 것으로, 아래와 같은 문법을 갖는다. Set Comprehension과 거의 비슷하지만, 출력표현식이 Key:Value Pair로 표현된다는 점이 다르며, 결과로 dict 가 리턴된다."
      ]
    },
    {
      "cell_type": "code",
      "metadata": {
        "id": "zdxor2ncs6UF",
        "colab_type": "code",
        "colab": {}
      },
      "source": [
        "# 두 리스트를 하나의 dict로 합치는 DC. 하나는 key, 또 다른 하나는 value로 사용한다\n",
        "subjects = ['math', 'history', 'english', 'computer engineering']\n",
        "scores = [90, 80, 95, 100]\n",
        "score_dict = {key: value for key, value in zip(subjects, scores)}\n",
        "# {'math': 90, 'history': 80, 'english': 95, 'computer engineering': 100}\n",
        "\n",
        "# 튜플 리스트를 dict 형태로 변환하는 DC\n",
        "score_tuples = [('math', 90), ('history', 80), ('english', 95), ('computer engineering', 100)]\n",
        "score_dict = {t[0]: t[1] for t in score_tuples}\n",
        "# {'math': 90, 'history': 80, 'english': 95, 'computer engineering': 100}"
      ],
      "execution_count": 0,
      "outputs": []
    },
    {
      "cell_type": "code",
      "metadata": {
        "id": "srcpRh6LuION",
        "colab_type": "code",
        "outputId": "43258bc2-fcf1-4343-f6b0-07444393aae5",
        "colab": {
          "base_uri": "https://localhost:8080/",
          "height": 89
        }
      },
      "source": [
        "# 번호를 key로 갖고 이름을 value로 가지는 dictionary 만들기\n",
        "students = ['몽키', '선샤인', '시와', '톰']\n",
        "for number, name in enumerate(students):\n",
        "    print('{}번의 이름은 {}입니다'.format(number+1, name))"
      ],
      "execution_count": 0,
      "outputs": [
        {
          "output_type": "stream",
          "text": [
            "1번의 이름은 몽키입니다\n",
            "2번의 이름은 선샤인입니다\n",
            "3번의 이름은 시와입니다\n",
            "4번의 이름은 톰입니다\n"
          ],
          "name": "stdout"
        }
      ]
    },
    {
      "cell_type": "code",
      "metadata": {
        "id": "A3HnP7-PIqLz",
        "colab_type": "code",
        "outputId": "6b28b86d-2c85-4239-aa8e-60a5c175a16e",
        "colab": {
          "base_uri": "https://localhost:8080/",
          "height": 107
        }
      },
      "source": [
        "nums = [1, 2, 3, 4, 5]\n",
        "dict_comprehension = {\n",
        "    str(n) : \"The corresponding key is \" + str(n) for n in nums}\n",
        "for val in dict_comprehension.values():\n",
        "    print(val)"
      ],
      "execution_count": 0,
      "outputs": [
        {
          "output_type": "stream",
          "text": [
            "The corresponding key is 1\n",
            "The corresponding key is 2\n",
            "The corresponding key is 3\n",
            "The corresponding key is 4\n",
            "The corresponding key is 5\n"
          ],
          "name": "stdout"
        }
      ]
    },
    {
      "cell_type": "code",
      "metadata": {
        "id": "mvLz1X5auNZp",
        "colab_type": "code",
        "outputId": "57229a9d-7746-41d3-faf4-7417d4e75b9f",
        "colab": {
          "base_uri": "https://localhost:8080/",
          "height": 35
        }
      },
      "source": [
        "# Dictionary Comprehension\n",
        "students_dic = {\n",
        "    '{}번'.format(number+1) : name for number, name in enumerate(students)\n",
        "}\n",
        "\n",
        "print(students_dic)"
      ],
      "execution_count": 0,
      "outputs": [
        {
          "output_type": "stream",
          "text": [
            "{'1번': '몽키', '2번': '선샤인', '3번': '시와', '4번': '톰'}\n"
          ],
          "name": "stdout"
        }
      ]
    },
    {
      "cell_type": "code",
      "metadata": {
        "id": "pDCsJP7WuVnn",
        "colab_type": "code",
        "outputId": "eb3568db-bc31-44d4-d6f0-c27be2166f12",
        "colab": {
          "base_uri": "https://localhost:8080/",
          "height": 35
        }
      },
      "source": [
        "students = ['몽키', '선샤인', '시와', '톰']\n",
        "scores = [85, 92, 78, 100]\n",
        "\n",
        "score_dic = {\n",
        "    students : score for students, score in zip(students, scores)\n",
        "}\n",
        "\n",
        "print(score_dic)"
      ],
      "execution_count": 0,
      "outputs": [
        {
          "output_type": "stream",
          "text": [
            "{'몽키': 85, '선샤인': 92, '시와': 78, '톰': 100}\n"
          ],
          "name": "stdout"
        }
      ]
    },
    {
      "cell_type": "markdown",
      "metadata": {
        "id": "Cux_8VhYs6UH",
        "colab_type": "text"
      },
      "source": [
        "### Set Comprehension\n",
        "* Set Comprehension은 입력 Sequence로부터 지정된 표현식에 따라 새로운 Set 컬렉션을 빌드하는 것으로, 아래와 같은 문법을 갖는다. List Comprehension과 거의 비슷하지만, 결과가 Set {...}으로 리턴된다는 점이 다르다."
      ]
    },
    {
      "cell_type": "code",
      "metadata": {
        "id": "YN9Qs4yOs6UI",
        "colab_type": "code",
        "outputId": "887d9e46-3013-469d-fdd1-89f168809698",
        "colab": {}
      },
      "source": [
        "# 다음의 LC는 중복된 값들을 포함한다\n",
        "no_primes = [j for i in range(2, 9) for j in range(i * 2, 50, i)]\n",
        "print(no_primes)\n",
        "\n",
        "# SC를 사용하면 중복값이 없는 집합을 얻을 수 있다\n",
        "no_primes2 = {j for i in range(2, 9) for j in range(i * 2, 50, i)}\n",
        "print(no_primes2)"
      ],
      "execution_count": 0,
      "outputs": [
        {
          "output_type": "stream",
          "text": [
            "[4, 6, 8, 10, 12, 14, 16, 18, 20, 22, 24, 26, 28, 30, 32, 34, 36, 38, 40, 42, 44, 46, 48, 6, 9, 12, 15, 18, 21, 24, 27, 30, 33, 36, 39, 42, 45, 48, 8, 12, 16, 20, 24, 28, 32, 36, 40, 44, 48, 10, 15, 20, 25, 30, 35, 40, 45, 12, 18, 24, 30, 36, 42, 48, 14, 21, 28, 35, 42, 49, 16, 24, 32, 40, 48]\n",
            "{4, 6, 8, 9, 10, 12, 14, 15, 16, 18, 20, 21, 22, 24, 25, 26, 27, 28, 30, 32, 33, 34, 35, 36, 38, 39, 40, 42, 44, 45, 46, 48, 49}\n"
          ],
          "name": "stdout"
        }
      ]
    },
    {
      "cell_type": "code",
      "metadata": {
        "id": "w_KQjYBlvZTU",
        "colab_type": "code",
        "outputId": "f5713791-8756-4da6-ce31-5891eb858f8c",
        "colab": {
          "base_uri": "https://localhost:8080/",
          "height": 35
        }
      },
      "source": [
        "names = [ 'Bob', 'JOHN', 'alice', 'bob', 'ALICE', 'J', 'Bob' ]\n",
        "{ name[0].upper() + name[1:].lower() for name in names if len(name) > 1 }\n"
      ],
      "execution_count": 0,
      "outputs": [
        {
          "output_type": "execute_result",
          "data": {
            "text/plain": [
              "{'Alice', 'Bob', 'John'}"
            ]
          },
          "metadata": {
            "tags": []
          },
          "execution_count": 8
        }
      ]
    },
    {
      "cell_type": "markdown",
      "metadata": {
        "id": "EBheJCeMvZ7T",
        "colab_type": "text"
      },
      "source": [
        "### Generator Comprehension(Generator Equation)"
      ]
    },
    {
      "cell_type": "code",
      "metadata": {
        "id": "ok9z59FSs6UL",
        "colab_type": "code",
        "outputId": "14cd6282-6924-4144-9bf6-2d913109d3fe",
        "colab": {}
      },
      "source": [
        "gen = (x**2 for x in range(10))\n",
        "print(gen)\n",
        "print(next(gen))\n",
        "print(next(gen))\n",
        "print(next(gen))\n",
        "print(next(gen))\n",
        "print(next(gen))\n",
        "print(next(gen))\n",
        "print(next(gen))\n",
        "print(next(gen))\n",
        "print(next(gen))\n",
        "print(next(gen))"
      ],
      "execution_count": 0,
      "outputs": [
        {
          "output_type": "stream",
          "text": [
            "<generator object <genexpr> at 0x104aa1bf8>\n",
            "0\n",
            "1\n",
            "4\n",
            "9\n",
            "16\n",
            "25\n",
            "36\n",
            "49\n",
            "64\n",
            "81\n"
          ],
          "name": "stdout"
        }
      ]
    },
    {
      "cell_type": "code",
      "metadata": {
        "id": "Y6MfslwBs6UQ",
        "colab_type": "code",
        "outputId": "d4e096a8-c8b8-45d5-8f13-b508447c867f",
        "colab": {}
      },
      "source": [
        "gen = (x**2 for x in range(10))\n",
        "sum_of_squares = sum(gen)\n",
        "print(sum_of_squares)"
      ],
      "execution_count": 0,
      "outputs": [
        {
          "output_type": "stream",
          "text": [
            "285\n"
          ],
          "name": "stdout"
        }
      ]
    },
    {
      "cell_type": "markdown",
      "metadata": {
        "id": "aLWCgAfOu7QA",
        "colab_type": "text"
      },
      "source": [
        "* list, dict, set 과같은 자료형에서 다양하게 이용가능 소괄호를 이용하여 generator객체를 만들어 이용\n",
        "<img src=\"https://t1.daumcdn.net/cfile/tistory/9967F2455B2145EB23\">"
      ]
    },
    {
      "cell_type": "markdown",
      "metadata": {
        "id": "1giP2bIfs6UU",
        "colab_type": "text"
      },
      "source": [
        "### Reference\n",
        "* http://www.thagomizer.com/blog/2018/03/21/a-rubyist-learns-list-comprehensions.html\n",
        "* https://mingrammer.com/introduce-comprehension-of-python/\n",
        "* https://wayhome25.github.io/python/2017/02/26/py-17-comprehension/\n",
        "* https://python-3-patterns-idioms-test.readthedocs.io/en/latest/Comprehensions.html\n",
        "* https://www.dataquest.io/blog/python-dictionary-tutorial/\n"
      ]
    },
    {
      "cell_type": "code",
      "metadata": {
        "id": "YfIKOyZWs6UV",
        "colab_type": "code",
        "colab": {}
      },
      "source": [
        ""
      ],
      "execution_count": 0,
      "outputs": []
    }
  ]
}