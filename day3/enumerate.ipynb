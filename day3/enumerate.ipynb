{
 "cells": [
  {
   "cell_type": "markdown",
   "metadata": {},
   "source": [
    "# enumerate\n",
    "- 파이썬의 내장함수\n",
    "- 순서가 있는 자료형(리스트, 튜플, 문자열)을 입력으로 받아 인덱스 값을 포함하는 enumerate 객체를 리턴.\n",
    "- 보통 enumerate 함수는 for문과 함께 자주 사용.\n",
    "- for문처럼 반복되는 구간에서 객체가 현재 어느 위치에 있는지 알려주는 인덱스 값이 필요할때 enumerate 함수를 사용하면 매우 유용."
   ]
  },
  {
   "cell_type": "code",
   "execution_count": 20,
   "metadata": {},
   "outputs": [
    {
     "name": "stdout",
     "output_type": "stream",
     "text": [
      "list is iterable :  True\n",
      "dict is iterable :  True\n",
      "set is iterable :  True\n",
      "string is iterable :  True\n",
      "bytes is iterable :  True\n",
      "tuple is iterable :  True\n",
      "range is iterable :  True\n",
      "--------------------------------------------------\n",
      "int is iterable :  False\n",
      "float is iterable :  False\n",
      "None is iterable :  False\n"
     ]
    }
   ],
   "source": [
    "import collections\n",
    "\n",
    "# iterable 한 타입\n",
    "var_list = [1, 3, 5, 7]\n",
    "print(\"list is iterable : \", isinstance(var_list, collections.Iterable))\n",
    "\n",
    "var_dict = {\"a\": 1, \"b\":1}\n",
    "print(\"dict is iterable : \", isinstance(var_dict, collections.Iterable))\n",
    "\n",
    "var_set = {1, 3}\n",
    "print(\"set is iterable : \", isinstance(var_set, collections.Iterable))\n",
    "\n",
    "var_str = \"abc\"\n",
    "print(\"string is iterable : \", isinstance(var_str, collections.Iterable))\n",
    "\n",
    "var_bytes = b'abcdef'\n",
    "print(\"bytes is iterable : \", isinstance(var_bytes, collections.Iterable))\n",
    "\n",
    "var_tuple = (1, 3, 5, 7)\n",
    "print(\"tuple is iterable : \", isinstance(var_tuple, collections.Iterable))\n",
    "\n",
    "var_range = range(0,5)\n",
    "print(\"range is iterable : \", isinstance(var_range, collections.Iterable))\n",
    "print(\"-\" * 50)\n",
    "var_int = 932\n",
    "print(\"int is iterable : \", isinstance(var_int, collections.Iterable))\n",
    "\n",
    "var_float = 10.2\n",
    "print(\"float is iterable : \", isinstance(var_float, collections.Iterable))\n",
    "\n",
    "var_none = None\n",
    "print(\"None is iterable : \", isinstance(var_none, collections.Iterable))\n"
   ]
  },
  {
   "cell_type": "code",
   "execution_count": null,
   "metadata": {},
   "outputs": [],
   "source": [
    "my_list = ['body', 'foo', 'bar']"
   ]
  },
  {
   "cell_type": "code",
   "execution_count": 12,
   "metadata": {},
   "outputs": [
    {
     "name": "stdout",
     "output_type": "stream",
     "text": [
      "0 사과\n",
      "1 바나나\n",
      "2 포도\n",
      "3 배\n"
     ]
    }
   ],
   "source": [
    "# range 이용\n",
    "for i in range(len(my_list)):\n",
    "    item = my_list[i]\n",
    "    print(i, item)"
   ]
  },
  {
   "cell_type": "code",
   "execution_count": 22,
   "metadata": {},
   "outputs": [
    {
     "data": {
      "text/plain": [
       "True"
      ]
     },
     "execution_count": 22,
     "metadata": {},
     "output_type": "execute_result"
    }
   ],
   "source": [
    "isinstance(enumerate(my_list), collections.Iterable)"
   ]
  },
  {
   "cell_type": "code",
   "execution_count": 7,
   "metadata": {},
   "outputs": [
    {
     "name": "stdout",
     "output_type": "stream",
     "text": [
      "0 사과\n",
      "1 바나나\n",
      "2 포도\n",
      "3 배\n"
     ]
    }
   ],
   "source": [
    "for i, name in enumerate(my_list):\n",
    "    print(i, name)"
   ]
  },
  {
   "cell_type": "markdown",
   "metadata": {},
   "source": [
    "- optional argument를 이용가능함"
   ]
  },
  {
   "cell_type": "code",
   "execution_count": 8,
   "metadata": {},
   "outputs": [
    {
     "name": "stdout",
     "output_type": "stream",
     "text": [
      "1 사과\n",
      "2 바나나\n",
      "3 포도\n",
      "4 배\n"
     ]
    }
   ],
   "source": [
    "for c, value in enumerate(my_list, 1):\n",
    "  print (c, value)"
   ]
  },
  {
   "cell_type": "code",
   "execution_count": 25,
   "metadata": {},
   "outputs": [],
   "source": [
    "def my_enumerate(sequence, start=0):\n",
    "    n = start\n",
    "    for elem in sequence:\n",
    "        yield n, elem\n",
    "        n += 1"
   ]
  },
  {
   "cell_type": "code",
   "execution_count": 24,
   "metadata": {},
   "outputs": [
    {
     "name": "stdout",
     "output_type": "stream",
     "text": [
      "1 사과\n",
      "2 바나나\n",
      "3 포도\n",
      "4 배\n"
     ]
    }
   ],
   "source": [
    "for c, value in my_enumerate(my_list, 1):\n",
    "  print (c, value)"
   ]
  },
  {
   "cell_type": "markdown",
   "metadata": {},
   "source": [
    "- optional argument를 이용하여 인덱스를 포함하는 튜플 만들기"
   ]
  },
  {
   "cell_type": "code",
   "execution_count": 9,
   "metadata": {},
   "outputs": [
    {
     "name": "stdout",
     "output_type": "stream",
     "text": [
      "[(1, '사과'), (2, '바나나'), (3, '포도'), (4, '배')]\n"
     ]
    }
   ],
   "source": [
    "my_list = ['사과', '바나나', '포도', '배']\n",
    "counter_list = list(enumerate(my_list, 1))\n",
    "print(counter_list)"
   ]
  }
 ],
 "metadata": {
  "kernelspec": {
   "display_name": "Python 3",
   "language": "python",
   "name": "python3"
  },
  "language_info": {
   "codemirror_mode": {
    "name": "ipython",
    "version": 3
   },
   "file_extension": ".py",
   "mimetype": "text/x-python",
   "name": "python",
   "nbconvert_exporter": "python",
   "pygments_lexer": "ipython3",
   "version": "3.6.7"
  }
 },
 "nbformat": 4,
 "nbformat_minor": 2
}
