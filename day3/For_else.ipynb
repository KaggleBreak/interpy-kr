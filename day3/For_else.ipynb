{
  "nbformat": 4,
  "nbformat_minor": 0,
  "metadata": {
    "colab": {
      "name": "For-else.ipynb",
      "version": "0.3.2",
      "provenance": []
    },
    "language_info": {
      "codemirror_mode": {
        "name": "ipython",
        "version": 3
      },
      "file_extension": ".py",
      "mimetype": "text/x-python",
      "name": "python",
      "nbconvert_exporter": "python",
      "pygments_lexer": "ipython3",
      "version": "3.6.1"
    },
    "kernelspec": {
      "display_name": "Python 3",
      "language": "python",
      "name": "python3"
    }
  },
  "cells": [
    {
      "cell_type": "markdown",
      "metadata": {
        "id": "KIlLZgbvHJIp",
        "colab_type": "text"
      },
      "source": [
        "## For-else"
      ]
    },
    {
      "cell_type": "markdown",
      "metadata": {
        "id": "lVpARUnCHJIq",
        "colab_type": "text"
      },
      "source": [
        "* 보통의 프로그래밍언어에서 'else'라고하면, if와 함께 오는 경우가 대부분이지만, 파이썬에서는 for문과 함께 쓰기도합니다.\n",
        "* for-else는 for문이 중간에 break등으로 끊기지않고, 끝까지 수행되었을때 수행되는 코드를 담고있습니다.\n"
      ]
    },
    {
      "cell_type": "code",
      "metadata": {
        "id": "7c5w8HuLHJI0",
        "colab_type": "code",
        "outputId": "78231ed5-da20-423c-f157-0604bf13a768",
        "colab": {
          "base_uri": "https://localhost:8080/",
          "height": 71
        }
      },
      "source": [
        "fruits = ['apple', 'banana', 'mango']\n",
        "for fruit in fruits:\n",
        "    print(fruit.capitalize())"
      ],
      "execution_count": 0,
      "outputs": [
        {
          "output_type": "stream",
          "text": [
            "Apple\n",
            "Banana\n",
            "Mango\n"
          ],
          "name": "stdout"
        }
      ]
    },
    {
      "cell_type": "code",
      "metadata": {
        "id": "pM-PU3MTHJIr",
        "colab_type": "code",
        "outputId": "6484e39c-77db-4948-9282-a6860482dfa3",
        "colab": {}
      },
      "source": [
        "for n in range(2, 10):\n",
        "    for x in range(2, n):\n",
        "        if n % x == 0:\n",
        "            print (n, '=', x, '*', n/x)\n",
        "            break"
      ],
      "execution_count": 0,
      "outputs": [
        {
          "output_type": "stream",
          "text": [
            "4 = 2 * 2.0\n",
            "6 = 2 * 3.0\n",
            "8 = 2 * 4.0\n",
            "9 = 3 * 3.0\n"
          ],
          "name": "stdout"
        }
      ]
    },
    {
      "cell_type": "code",
      "metadata": {
        "id": "e6cHy8vAHJIw",
        "colab_type": "code",
        "outputId": "7a4612df-75bd-421f-8352-d30214b39b90",
        "colab": {}
      },
      "source": [
        "for n in range(2, 10):\n",
        "    for x in range(2, n):\n",
        "        if n % x == 0:\n",
        "            print (n, '=', x, '*', n/x)\n",
        "            break\n",
        "    else:\n",
        "        # 루프가 끝나고 요소를 못 찾았을 때 \n",
        "        print (n, '은 소수입니다.')"
      ],
      "execution_count": 0,
      "outputs": [
        {
          "output_type": "stream",
          "text": [
            "2 은 소수입니다.\n",
            "3 은 소수입니다.\n",
            "4 = 2 * 2.0\n",
            "5 은 소수입니다.\n",
            "6 = 2 * 3.0\n",
            "7 은 소수입니다.\n",
            "8 = 2 * 4.0\n",
            "9 = 3 * 3.0\n"
          ],
          "name": "stdout"
        }
      ]
    },
    {
      "cell_type": "markdown",
      "metadata": {
        "id": "KNwi1V7LHf-S",
        "colab_type": "text"
      },
      "source": [
        "* break 문을 만나지않으면 for문 종료이후 else문이 실행\n"
      ]
    },
    {
      "cell_type": "markdown",
      "metadata": {
        "id": "5ToIo0OBpuwm",
        "colab_type": "text"
      },
      "source": [
        "* for 반복문이 종료된 시점에서 이 종료가 모든 반복을 다 수행한 후의 정상적인 종료인지, 아니면 break 명령에 의한 강제 종료인지에 따라서 수행해야 될 일을 판별할 필요가 있는 경우에 for~else 구문을 사용"
      ]
    },
    {
      "cell_type": "markdown",
      "metadata": {
        "id": "BdiuIIC3HJI5",
        "colab_type": "text"
      },
      "source": [
        "### Reference\n",
        "https://harryp.tistory.com/317"
      ]
    },
    {
      "cell_type": "code",
      "metadata": {
        "id": "0-F-ioMHHJI9",
        "colab_type": "code",
        "colab": {}
      },
      "source": [
        ""
      ],
      "execution_count": 0,
      "outputs": []
    },
    {
      "cell_type": "code",
      "metadata": {
        "id": "O0uyv4saHJI_",
        "colab_type": "code",
        "colab": {}
      },
      "source": [
        ""
      ],
      "execution_count": 0,
      "outputs": []
    },
    {
      "cell_type": "code",
      "metadata": {
        "id": "p-tj_TDRHJJC",
        "colab_type": "code",
        "colab": {}
      },
      "source": [
        ""
      ],
      "execution_count": 0,
      "outputs": []
    }
  ]
}