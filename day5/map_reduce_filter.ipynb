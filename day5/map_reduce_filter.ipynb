{
 "cells": [
  {
   "cell_type": "markdown",
   "metadata": {},
   "source": [
    "## Day 5. 데이터뽀개기 중급 파이썬 스터디 발표자료\n",
    "\n",
    "### Reference\n",
    "\n",
    "- 아래 글들을 참고해서 작성했습니다. 감사합니다!\n",
    "- [lambda operator와 map, reduce, filter](https://jupiny.com/2016/09/22/lambda-operator-map-reduce-filter/)\n",
    "- [함수형 프로그래밍과 filter map reduce에 대해서](https://jiwoochoi.tistory.com/60)\n",
    "\n",
    "### 5-3. Map, Reduce, Filter\n",
    "\n",
    "- 프로그래밍에서 함수적 접근을 쉽게 해주는 세가지 함수 (Higher Order Functions), 3개를 안써도 된다. (일종의 제너레이터로 Lazy evalution 영역)\n",
    "\n",
    "- lambda의 구조을 살펴보면, lambda [입력값] : [반환값]으로 되어 있음, Map, Reduce, Filter는 lambda랑 관련성이 높음\n",
    "\n",
    "> Note: If map & filter do not appear beautiful to you then you can read about list/dict/tuple comprehensions.\n",
    "\n",
    "![](https://steemitimages.com/640x0/https://steemitimages.com/DQmRtGZSueAbqB4vnbfaZetpF82SJETAdhU3Nm8VozzCpZk/image.png)\n",
    "\n",
    "![](https://image.slidesharecdn.com/20170317functionalprogramminginjulia-170317140255/95/20170317-functional-programming-in-julia-54-638.jpg?cb=1502031472)\n",
    "\n",
    "![](https://www.modernescpp.com/images/blog/Functional/HigherOrderFunctions/MapFilterReduce.jpg)\n",
    "\n",
    "- filter, map, reduce를 응용하게되면, 다음과 같은 이점을 가질 수 있습니다.\n",
    "\n",
    "1) 의미가 잘 나타나는 코드를 갖출 수 있습니다! ex) filter => 필터한다!\n",
    "2) 이터레이션을 위해 for loop을 돌릴필요가 없음\n",
    "3) 코드 라인수가 짧아짐\n",
    "\n",
    "\n",
    "\n",
    "### 5-3-1. map([함수], [배열])\n",
    "\n",
    "- map 함수는 배열에서 원소를 하나씩 꺼내어 함수를 적용시킨 결과를 다시 상위 iterator에 담아 반환함\n",
    "- 함수가 한줄로 표현될 만큼 구성이 단순한 경우 lambda는 유용하고 map과 같이 사용할 수 있음\n",
    "- iterator는 next() 함수를 갖는 파이썬 객체로 꼭 메모리에 올릴 데이터만 올려서 메모리를 효율적으로 이용할 수 있는 파이썬의 대표적인 객체\n",
    "- 상위의 객체(추상적인 레벨)인 iterator로 return 하는 이유는 리스트가 아닌 다른 자료구조로 변환시킬 수도 있게 하는 것 (ex, set 자료구조)"
   ]
  },
  {
   "cell_type": "code",
   "execution_count": 2,
   "metadata": {
    "collapsed": false
   },
   "outputs": [
    {
     "data": {
      "text/plain": [
       "[1, 4, 9]"
      ]
     },
     "execution_count": 2,
     "metadata": {},
     "output_type": "execute_result"
    }
   ],
   "source": [
    "def square(x):  \n",
    "    return x**2\n",
    "\n",
    "list(map(square,[1, 2, 3]))"
   ]
  },
  {
   "cell_type": "code",
   "execution_count": 3,
   "metadata": {
    "collapsed": false
   },
   "outputs": [
    {
     "data": {
      "text/plain": [
       "[1, 4, 9]"
      ]
     },
     "execution_count": 3,
     "metadata": {},
     "output_type": "execute_result"
    }
   ],
   "source": [
    "list(map(lambda x: x**2, [1, 2, 3]))"
   ]
  },
  {
   "cell_type": "code",
   "execution_count": 16,
   "metadata": {
    "collapsed": false
   },
   "outputs": [],
   "source": [
    "map_it = map(lambda x: x**2, [1, 2, 3])"
   ]
  },
  {
   "cell_type": "code",
   "execution_count": 17,
   "metadata": {
    "collapsed": false
   },
   "outputs": [
    {
     "data": {
      "text/plain": [
       "1"
      ]
     },
     "execution_count": 17,
     "metadata": {},
     "output_type": "execute_result"
    }
   ],
   "source": [
    "next(map_it)"
   ]
  },
  {
   "cell_type": "code",
   "execution_count": 18,
   "metadata": {
    "collapsed": false
   },
   "outputs": [
    {
     "data": {
      "text/plain": [
       "4"
      ]
     },
     "execution_count": 18,
     "metadata": {},
     "output_type": "execute_result"
    }
   ],
   "source": [
    "next(map_it)"
   ]
  },
  {
   "cell_type": "code",
   "execution_count": 19,
   "metadata": {
    "collapsed": false
   },
   "outputs": [
    {
     "data": {
      "text/plain": [
       "9"
      ]
     },
     "execution_count": 19,
     "metadata": {},
     "output_type": "execute_result"
    }
   ],
   "source": [
    "next(map_it)"
   ]
  },
  {
   "cell_type": "code",
   "execution_count": 21,
   "metadata": {
    "collapsed": false
   },
   "outputs": [
    {
     "data": {
      "text/plain": [
       "{1, 4, 9}"
      ]
     },
     "execution_count": 21,
     "metadata": {},
     "output_type": "execute_result"
    }
   ],
   "source": [
    "set(map(lambda x: x**2, [1, 2, 3]))"
   ]
  },
  {
   "cell_type": "code",
   "execution_count": 23,
   "metadata": {
    "collapsed": false
   },
   "outputs": [
    {
     "data": {
      "text/plain": [
       "(1, 4, 9)"
      ]
     },
     "execution_count": 23,
     "metadata": {},
     "output_type": "execute_result"
    }
   ],
   "source": [
    "tuple(map(lambda x: x**2, [1, 2, 3]))"
   ]
  },
  {
   "cell_type": "code",
   "execution_count": 24,
   "metadata": {
    "collapsed": false
   },
   "outputs": [
    {
     "name": "stdout",
     "output_type": "stream",
     "text": [
      "[0, 0]\n",
      "[1, 2]\n",
      "[4, 4]\n",
      "[9, 6]\n",
      "[16, 8]\n"
     ]
    }
   ],
   "source": [
    "def multiply(x):\n",
    "    return (x*x)\n",
    "\n",
    "def add(x):\n",
    "    return (x+x)\n",
    "\n",
    "funcs = [multiply, add]\n",
    "\n",
    "for i in range(5):\n",
    "    value = list(map(lambda x: x(i), funcs))\n",
    "    print(value)"
   ]
  },
  {
   "cell_type": "markdown",
   "metadata": {},
   "source": [
    "### 5-3-2. Reduce( [함수], [배열], [초기값])\n",
    "\n",
    "- Reduce는 배열에서 두 원소의 함수 출력값이 뒤에 나오는 원소와 함께 또다시 함수의 argument로 들어가며 과정이 순차적으로 반복되는 방식\n",
    "- 함수는 두 개의 parameter를 받는 함수, 초기값은 생략될수 있음 \n",
    "- 초기값이 있으면 초기값과 배열의 첫 원소가 맨 처음 함수로 전달되고. 초기값이 없다면 배열의 첫 번째와 두 번째 원소가 맨 처음 함수로 전달된다. "
   ]
  },
  {
   "cell_type": "code",
   "execution_count": 4,
   "metadata": {
    "collapsed": false
   },
   "outputs": [
    {
     "name": "stdout",
     "output_type": "stream",
     "text": [
      "(10, 20)\n",
      "(30, 30)\n",
      "(60, 40)\n",
      "(100, 50)\n"
     ]
    },
    {
     "data": {
      "text/plain": [
       "150"
      ]
     },
     "execution_count": 4,
     "metadata": {},
     "output_type": "execute_result"
    }
   ],
   "source": [
    "import functools  \n",
    "\n",
    "def sum(x,y):  \n",
    "    print((x,y))\n",
    "    return x + y\n",
    "\n",
    "functools.reduce(sum, [10, 20, 30, 40, 50]) # 150  "
   ]
  },
  {
   "cell_type": "code",
   "execution_count": 5,
   "metadata": {
    "collapsed": false
   },
   "outputs": [
    {
     "data": {
      "text/plain": [
       "150"
      ]
     },
     "execution_count": 5,
     "metadata": {},
     "output_type": "execute_result"
    }
   ],
   "source": [
    "functools.reduce(lambda x,y: x+y, [10, 20, 30, 40, 50])  "
   ]
  },
  {
   "cell_type": "code",
   "execution_count": 6,
   "metadata": {
    "collapsed": false
   },
   "outputs": [
    {
     "data": {
      "text/plain": [
       "9"
      ]
     },
     "execution_count": 6,
     "metadata": {},
     "output_type": "execute_result"
    }
   ],
   "source": [
    "functools.reduce(lambda x,y: x if x>y else y, [1, 9, 3, 5, 6, 4])  "
   ]
  },
  {
   "cell_type": "markdown",
   "metadata": {},
   "source": [
    "### 5-3-3. filter ( [함수], [배열])\n",
    "\n",
    "- filter는 배열에 있는 각각의 원소들을 함수에 parameter로 넘겨주어 함수의 출력값이 True인 경우에만 그 원소를 새로운 배열에 담아 반환한다."
   ]
  },
  {
   "cell_type": "code",
   "execution_count": 10,
   "metadata": {
    "collapsed": false
   },
   "outputs": [
    {
     "data": {
      "text/plain": [
       "[4, 5]"
      ]
     },
     "execution_count": 10,
     "metadata": {},
     "output_type": "execute_result"
    }
   ],
   "source": [
    "list(filter(lambda x: x>3, [1, 2, 3, 4, 5])) # [4, 5]  "
   ]
  },
  {
   "cell_type": "code",
   "execution_count": 11,
   "metadata": {
    "collapsed": false
   },
   "outputs": [
    {
     "data": {
      "text/plain": [
       "[1, 4, 16, 25]"
      ]
     },
     "execution_count": 11,
     "metadata": {},
     "output_type": "execute_result"
    }
   ],
   "source": [
    "#map, filter 사용 \n",
    "complicated_list = [1, 2, \"jupiny\", {}, [], 4, 5]\n",
    "\n",
    "list(map(lambda x: x**2, list(filter(lambda x: isinstance(x,int),complicated_list)))) # [1, 4, 16, 25]  "
   ]
  },
  {
   "cell_type": "markdown",
   "metadata": {},
   "source": [
    "### 1-100의 합을 구하라"
   ]
  },
  {
   "cell_type": "code",
   "execution_count": 25,
   "metadata": {
    "collapsed": false
   },
   "outputs": [
    {
     "name": "stdout",
     "output_type": "stream",
     "text": [
      "5050\n"
     ]
    }
   ],
   "source": [
    "# C 언어 스타일의 해법\n",
    "sum_value = 0\n",
    "for i in range(1, 101) :\n",
    "    sum_value += i \n",
    "print(sum_value)\n"
   ]
  },
  {
   "cell_type": "code",
   "execution_count": 28,
   "metadata": {
    "collapsed": false
   },
   "outputs": [
    {
     "name": "stdout",
     "output_type": "stream",
     "text": [
      "5050\n"
     ]
    }
   ],
   "source": [
    "# python 스러운 해법\n",
    "sum_value = functools.reduce((lambda x,y : x+y), [x for x in range(1,101)])\n",
    "print(sum_value)"
   ]
  },
  {
   "cell_type": "code",
   "execution_count": 31,
   "metadata": {
    "collapsed": false
   },
   "outputs": [
    {
     "name": "stdout",
     "output_type": "stream",
     "text": [
      "5050\n"
     ]
    }
   ],
   "source": [
    "# 하지만 Data scientist가 가장 먼저 생각해는 해법 \n",
    "import numpy as np\n",
    "print(np.sum([x for x in range(1,101)]))"
   ]
  },
  {
   "cell_type": "markdown",
   "metadata": {},
   "source": [
    "### (옵션) MapReduce\n",
    "\n",
    "![](https://www.edureka.co/blog/wp-content/uploads/2016/11/MapReduce-Way-MapReduce-Tutorial-Edureka.png)\n",
    "\n",
    "- 하둡 맵리듀스 (Hadoop MapReduce): 분산 파일 시스템에 저장된 대용량 데이터의 병렬 처리를 위한 소프트웨어 프레임워크\n",
    "- 하둡 맵리듀스는 HDFS 상에서 동작하는 데이터 분석 프레임워크이다. 맵리듀스는 일반 프로그래밍 방법과는 다른 데이터 중심 프로그래밍 모형을 제공\n",
    "- 함수의 입력과 출력이 모두 키 (key)와 값 (value)의 쌍으로 구성되어 있다. 각 함수는 <키, 값> 쌍의 집합을 또다른 <키, 값> 쌍의 집합으로 변환한다. 맵 함수는 HDFS에서 불러온 데이터를 가공하여 새로운 <키, 값> 집합을 출력한다. 맵리듀스 시스템에서는 같은 키를 갖는 값들을 묶어 <키, (값1, 값2,· · ·)> 식의 새로운 <키, 값> 쌍의 집합을 만든다. 리듀스 함수는 여기에 집계 연산을 수행하여 또다른 <키, 값> 쌍의 집합을 생성하고 이를 HDFS에 저장한다."
   ]
  }
 ],
 "metadata": {
  "kernelspec": {
   "display_name": "Python 3",
   "language": "python",
   "name": "python3"
  },
  "language_info": {
   "codemirror_mode": {
    "name": "ipython",
    "version": 3
   },
   "file_extension": ".py",
   "mimetype": "text/x-python",
   "name": "python",
   "nbconvert_exporter": "python",
   "pygments_lexer": "ipython3",
   "version": "3.5.1rc1"
  }
 },
 "nbformat": 4,
 "nbformat_minor": 2
}
