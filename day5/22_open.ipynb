{
 "cells": [
  {
   "cell_type": "markdown",
   "metadata": {},
   "source": [
    "Day 5. 중급 파이썬 스터디 발표자료\n",
    "---------------------------"
   ]
  },
  {
   "cell_type": "markdown",
   "metadata": {},
   "source": [
    "- intermediate python study에서 open 함수 발표(약 20분)를 위해 작성되었습니다.\n",
    "- 이 문서는 python open에 대한 기본적인 내용을 안내합니다.\n",
    "- python version : 3.6\n",
    "- 발표 날짜 : 2019/06/08\n",
    "\n",
    "## 참고 자료\n",
    "\n",
    "- [python 공식 문서 - open](https://docs.python.org/ko/3/library/functions.html#open)\n",
    "- [중급 파이썬](https://ddanggle.gitbooks.io/interpy-kr/content/ch20-open-function.html)\n",
    "- [파이썬 - 기본을 갈고 닦자](https://wikidocs.net/16077)\n",
    "- [파이썬의 파일입출력 정리](https://soooprmx.com/archives/9143)\n",
    "- [데이터사이언스스쿨 - 파이썬의 파일 입출력](https://datascienceschool.net/view-notebook/bf8582817a714aec944070cf4b3d94ec/)\n",
    "- [데이터사이언스스쿨 - 파이썬으 문자열 인코딩](https://datascienceschool.net/view-notebook/250c1869eab54157827adf54c5e9f064/)\n",
    "- [파이썬 파일 읽기, 쓰기](https://thrillfighter.tistory.com/310)\n",
    "- [파이썬 한글 인코딩(UTF-8, Unicode, Euc-Kr) 탐구)](https://redscreen.tistory.com/163)\n",
    "- [파이썬 파일 사용법 정리](https://withcoding.com/86)\n",
    "- [예제로 배우는 python 프로그래밍](http://pythonstudy.xyz/python/article/206-%ED%8C%8C%EC%9D%BC-%EB%8D%B0%EC%9D%B4%ED%83%80-%EC%B2%98%EB%A6%AC)\n",
    "- [파일 읽고 쓰기(1) - open 함수](https://pydole.tistory.com/19)"
   ]
  },
  {
   "cell_type": "markdown",
   "metadata": {},
   "source": [
    "---------------------------------"
   ]
  },
  {
   "cell_type": "markdown",
   "metadata": {},
   "source": [
    "## 1. open\n",
    "\n",
    "python에서 파일을 열 때 사용하는 함수 입니다.\n",
    "\n",
    "> open(파일경로와이름, 모드, 인코딩) -> 파일 디스크립터\n",
    "\n",
    "- 기본 내장 함수\n",
    "- file을 열고 [<span style=\"color:red\">파일 객체</span>](https://docs.python.org/ko/3/glossary.html#term-file-object)를 돌려 줍니다.\n",
    "  - open 함수의 반환값은 파일 객체,핸들(file descriptor(파일 디스크립터))이며 운영체제에서 파이썬으로 전달됩니다.\n",
    "    - 파일 디스크립터는 파일의 내용을 엑세스 하기 위한 일종의 핸들 입니다. \n",
    "  - 파일 작업이 끝나면 파일 핸들을 반환해야 하는데 반환을 해야 한번에 열 수 있는 파일 핸들의 한도에 도달하지 않습니다.\n",
    "  - close()가 호출 되어야 파일이 닫힙니다. 중간에 에러가 발생하면 닫히지 않습니다.\n",
    "  - 파일을 닫지 않으면 버퍼링되어 있는 데이터는 기록되지 않고 소실될 수 있습니다.\n",
    "  - 예외에 상관 없이 open을 사용하기 위해 with를 함께 사용합니다.\n",
    "\n",
    "\n",
    "- 파일을 열 수 없으면, [OSError](https://docs.python.org/ko/3/library/exceptions.html#OSError)가 발생합니다.\n",
    "  - OSErrors는 시스템 함수가 시스템 관련 에러를 돌려줄 때 발생\n",
    "  - 파일을 찾을 수 없거나, 디스크가 가득 찼을 경우와 같이 입출력 실패를 포함\n",
    "\n",
    "```python\n",
    "# 기본적인 사용법\n",
    "f = open('photo.jpg', 'r+')\n",
    "jpgdata = f.read()\n",
    "f.close()\n",
    "\n",
    "# with를 함께 사용하는 방법\n",
    "with open('photo.jpg', 'r+') as f:\n",
    "    jpgdata = f.read()\n",
    "```\n",
    "#### with\n",
    "- 파일을 사용하기 위해 열었다가 다시 닫는 일이 번거로울 수 있는데, 파일 디스크립터는 “컨텍스트 매니저”의 일종으로 정의되어 있다. \n",
    "- 컨텍스트 매니저는 파이썬의 with 구문에 사용될 수 있는 객체를 말한다.\n",
    "- [with 구문과 컨텍스트 매니저](https://soooprmx.com/archives/4079)\n",
    "\n",
    "### 파이썬 내 텍스트 파일 처리 절차\n",
    "\n",
    "파이썬에서 일반적으로 데이터 파일을 읽고 쓰는 방법은 다음의 절차를 거친다고 보면 된다.\n",
    "- 파이썬3에서는 파일을 열 때, 포맷이 텍스트 모드라면 3, 4의 과정을 내부적으로 자동으로 처리하고 있습니다.\n",
    "\n",
    "\n",
    "1. 인코딩된 데이터와 문자열을 상호 변환하기 위해서는 어떤 인코딩을 사용할 것인지를 결정해야 한다. (보통 이것은 UTF8을 쓴다고 생각하면 된다.)\n",
    "2. 모든 데이터 파일은 결국 이진데이터 파일이며, 이진 데이터는 파이썬 내에서 bytes 및 bytearray로 취급된다.\n",
    "3. 문자열을 이진데이터 파일에 기록하기 위해서는 문자열을 bytes 타입으로 변환한 후에(이것이 인코딩이다.) 그대로 파일에 쓰면 된다. 하지만 이 과정은 파이썬 내부에서 이루어진다. \n",
    "4. 이진포맷으로 기록된 텍스트는 bytes로 읽어들여지며, 다시 인코딩을 사용해서 이를 문자열로 변환된다. 이것이 텍스트 파일을 읽는 절차이다.\n",
    "\n",
    "\n",
    "________________________________"
   ]
  },
  {
   "cell_type": "markdown",
   "metadata": {},
   "source": [
    "## 2. open 함수 구성\n",
    "\n",
    "open함수는 아래와 같은 구성을 가집니다. 각 parameter가 어떤 역할을 하는지 항목 별로 알아보도록 하겠습니다.(closefd, opener는 문서를 참고해주세요.)\n",
    "\n",
    "```python\n",
    "\n",
    "open(\n",
    "    file, \n",
    "    mode='r', \n",
    "    buffering=-1, \n",
    "    encoding=None, \n",
    "    errors=None, \n",
    "    newline=None, \n",
    "    closefd=True, \n",
    "    opener=None\n",
    ")\n",
    "```\n",
    "\n",
    "주요 항목인 **file**, **mode**, **encoding** 살펴 볼 예정입니다.\n",
    "\n",
    "------------------------------------------\n",
    "\n",
    "### 2-1. file\n",
    "\n",
    "file은 열어야 할 파일의 경로입니다.\n",
    "- 공식 문서에서는 [path-like object(경로류 객체)](https://docs.python.org/ko/3/glossary.html#term-path-like-object)로 표현하고 있습니다.\n",
    "- 기본적으로는 문자열로 된 파일의 이름을 주면 됩니다.\n",
    "\n",
    "```python\n",
    "open('file_name.txt')\n",
    "```\n",
    "\n",
    "\n",
    "### 2-2. mode\n",
    "\n",
    "파일이 열리는 모드를 지정하는 선택적 문자열 입니다.\n",
    "- 기본 모드는 'r' 입니다. (텍스트를 읽는 용, 'rt'의 동의어)\n",
    "  - 간혹 r 또는 rt를 사용하는 경우가 있는데 텍스트 모드가 기본이기 때문에 차이가 없습니다. [참고](https://codeday.me/ko/qa/20190313/60996.html)\n",
    "- mode를 작성할 때 r(읽기), w(쓰기), a(추가하기) 중 한 개, t(텍스트)와 b(바이너리) 둘중 하나와 반드시 결합해야하며, 나머지는 optional하게 사용가능합니다.\n",
    "- 바이너리 모드 (mode 인자에 'b' 를 포함합니다)로 열린 파일은 내용을 디코딩 없이 bytes 객체로 돌려줍니다.\n",
    "\n",
    "\n",
    "| 문자   |      의미      |\n",
    "|----------|-------------|\n",
    "| 'r' |읽기용으로 엽니다 (기본값)|\n",
    "| 'w' |쓰기용으로 엽니다, 기존 파일의 내용을 지우고 파일이 없을 경우 새로 만듭니다.|\n",
    "| 'x' |새 파일 쓰기 모드로 연다. 주어진 이름의 파일이 존재하면 에러가 발생합니다.|\n",
    "| 'a' |쓰기용으로 엽니다, 파일이 존재하는 경우는 파일의 끝에 덧붙입니다|\n",
    "| 'b' |바이너리 모드, 2진 모드 입니다.|\n",
    "|'t'|텍스트 모드 (기본값)|\n",
    "|'+'|갱신(읽기 및 쓰기 모두 가능한)용으로 파일을 엽니다.|"
   ]
  },
  {
   "cell_type": "markdown",
   "metadata": {},
   "source": [
    "다음과 같이 조합 해서 사용 할 수도 있습니다.\n",
    "- r+ : 읽기 또는 쓰기 모드, 파일이 없으면 error가 납니다.\n",
    "- w+ : 읽기 또는 쓰기 모드, 파일이 없으면 새로 만듭니다.\n",
    "- a+ : 읽기 또는 파일 추가 모드, 파일이 없으면 만듭니다.\n",
    "- rb : 이진 파일을 읽기 모드로 연다. 읽어들인 데이터는 디코딩되지 않은 바이트배열이 된다.\n",
    "- wb : 이진 파일을 쓰기 모드로 연다. 쓰는 데이터는 raw 데이터 그대로 쓰인다."
   ]
  },
  {
   "cell_type": "markdown",
   "metadata": {},
   "source": [
    "open() 함수를 통해 얻은 핸들로 사용할 수 있는 명령어\n",
    "- read() : 파일을 끝까지 읽기, 숫자를 넣으면 숫자 * 1바이트씩 읽게 됩니다.\n",
    "- readline() : 1줄 읽기\n",
    "- readlines() : 모든 줄을 읽어서 리스트로 반환\n",
    "- write() : 문자열 쓰기, 쓰기 모드로 열어야 합니다.\n",
    "- writelines() : 리스트에 있는 모든 문자열 쓰기"
   ]
  },
  {
   "cell_type": "markdown",
   "metadata": {},
   "source": [
    "#### open - w "
   ]
  },
  {
   "cell_type": "code",
   "execution_count": 1,
   "metadata": {},
   "outputs": [],
   "source": [
    "# open - w\n",
    "# w로 작성하게 되면 기존 파일에 내용이 있더라도 지워집니다.!\n",
    "\n",
    "with open('test.txt', mode='w', encoding='utf-8') as f:\n",
    "    f.write('파이썬으로 파일을 작성하고 있습니다.')\n",
    "    f.write('newline 문자로 개행해봅니다.\\n')\n",
    "    f.write('개행이 잘되었나요?')\n",
    "    \n",
    "# 파이썬으로 파일을 작성하고 있습니다.newline 문자로 개행해봅니다.\n",
    "# 개행이 잘되었나요?"
   ]
  },
  {
   "cell_type": "markdown",
   "metadata": {},
   "source": [
    "#### open - r\n",
    "\n",
    "- read()안에 숫자를 넣으면 지정된 숫자만큼 끊어 읽을 수 있습니다. \n",
    "- 읽은 후 내부 포인터는 마지막으로 읽은 끝으로 이동합니다.\n",
    "- 10문자씩 끊어 읽어보겠습니다. 다 읽으면 빈 문자가 반환 됩니다."
   ]
  },
  {
   "cell_type": "code",
   "execution_count": 7,
   "metadata": {},
   "outputs": [],
   "source": [
    "# open - r\n",
    "\n",
    "with open('test.txt', mode='r', encoding='utf-8') as r:\n",
    "    print(f'처음 10개를 읽었습니다 : {r.read(10)}')\n",
    "    print(f'다음 10개를 읽었습니다 : {r.read(10)}')\n",
    "    print(f'다음 50개를 읽었습니다 : {r.read(50)}')\n",
    "    print(f'마지막 50개를 읽었습니다 : {r.read(50)}')"
   ]
  },
  {
   "cell_type": "code",
   "execution_count": 36,
   "metadata": {},
   "outputs": [],
   "source": [
    "# 다시 포인터를 맨 앞으로 가져가려면 seek(포인터위치) 메소드를 사용합니다.\n",
    "\n",
    "with open('test.txt', mode='r', encoding='utf-8') as r:\n",
    "    print(f'처음 10개를 읽었습니다 : {r.read(10)}')\n",
    "    print(f'다음 10개를 읽었습니다 : {r.read(10)}')\n",
    "    \n",
    "    r.seek(0) # 포인터 위치를 조정, 파일의 n번째 바이트로 이동\n",
    "    print(f'현재 위치는 : {r.tell()} 입니다.') # tell을 이용하면 현재의 파일 포인터 위치를 알려줍니다.\n",
    "    \n",
    "    print(f'포인터 조정 후 다음 50개를 읽었습니다 : {r.read(50)}') # 처음부터 다시 출력\n",
    "    print(f'마지막 50개를 읽었습니다 : {r.read(50)}')"
   ]
  },
  {
   "cell_type": "code",
   "execution_count": 42,
   "metadata": {},
   "outputs": [],
   "source": [
    "# 텍스트 파일을 처리 해야 한다면...?\n",
    "\n",
    "with open('test.txt', mode='r', encoding='utf-8') as r:\n",
    "    lines = r.read().split()\n",
    "    for line in lines:\n",
    "        print(line)"
   ]
  },
  {
   "cell_type": "markdown",
   "metadata": {},
   "source": [
    "#### 잠시...\n",
    "\n",
    "위 방법을 사용 하면 텍스트 파일의 크기가 매우 큰 경우 모든 콘텐츠를 메모리로 다 읽어들이는 부분이 문제가 될 수 있습니다. \n",
    "> 그래서 **readline()** 또는 **readlines()**를 사용합니다."
   ]
  },
  {
   "cell_type": "code",
   "execution_count": 5,
   "metadata": {},
   "outputs": [],
   "source": [
    "# readline()을 사용하여 line별로 읽기\n",
    "\n",
    "with open('test.txt', mode='r', encoding='utf-8') as r:\n",
    "    print(r.readline())\n",
    "    print(r.readline())"
   ]
  },
  {
   "cell_type": "code",
   "execution_count": 4,
   "metadata": {},
   "outputs": [],
   "source": [
    "# readlines()로 파일의 라인별 구성을 리스트 형태로 리턴\n",
    "\n",
    "with open('test.txt', mode='r', encoding='utf-8') as r:\n",
    "    print(r.readlines())"
   ]
  },
  {
   "cell_type": "markdown",
   "metadata": {},
   "source": [
    "### 이렇게도 사용 할 수 있습니다.\n",
    "\n",
    "기본적으로 텍스트 읽기 모드로 열린 파일은 매번 각 라인을 읽어서 리턴하는 방법이 설정되어 있습니다.\n",
    "- 반복문이나 제네레이터와 같이 유사합니다.\n",
    "- 이 말은 아래와 같이 for문을 바로 써서 파일을 읽을 수도 있습니다."
   ]
  },
  {
   "cell_type": "code",
   "execution_count": 47,
   "metadata": {},
   "outputs": [],
   "source": [
    "with open('test.txt', mode='r', encoding='utf-8') as r:\n",
    "     for line in r:\n",
    "            print(line)"
   ]
  },
  {
   "cell_type": "markdown",
   "metadata": {},
   "source": [
    "#### open - a"
   ]
  },
  {
   "cell_type": "code",
   "execution_count": 61,
   "metadata": {},
   "outputs": [],
   "source": [
    "with open('test.txt', mode='a', encoding='utf-8') as a:\n",
    "    a.writelines(['writelines로 추가합니다.', \n",
    "                  '내부 원소는 개행이 안되는군요.', \n",
    "                  '개행을 하려면 개행문자를 입력해야합니다.\\n', \n",
    "                  '마지막에는 안붙여도 개행문자가..']\n",
    "                )\n",
    "    \n",
    "# 파이썬으로 파일을 작성하고 있습니다.newline 문자로 개행해봅니다.\n",
    "# 개행이 잘되었나요?writelines로 추가합니다.내부 원소는 개행이 안되는군요.개행을 하려면 개행문자를 입력해야합니다.\n",
    "# 마지막에는 안붙여도 개행문자가.."
   ]
  },
  {
   "cell_type": "markdown",
   "metadata": {},
   "source": [
    "#### open - x"
   ]
  },
  {
   "cell_type": "code",
   "execution_count": 39,
   "metadata": {},
   "outputs": [],
   "source": [
    "# 기존에 파일이 존재 할 때 open-x를 사용한다면?\n",
    "\n",
    "with open('text_txt', mode='x') as a:\n",
    "    f.write('hello world')\n",
    "    \n",
    "# 에러가 나게 됩니다."
   ]
  },
  {
   "cell_type": "markdown",
   "metadata": {},
   "source": [
    "#### 텍스트 파일 복사하기"
   ]
  },
  {
   "cell_type": "code",
   "execution_count": 48,
   "metadata": {},
   "outputs": [
    {
     "name": "stdout",
     "output_type": "stream",
     "text": [
      "파이썬으로 파일을 작성하고 있습니다.newline 문자로 개행해봅니다.\n",
      "\n",
      "개행이 잘되었나요?\n"
     ]
    }
   ],
   "source": [
    "def copy_and_print(filename):\n",
    "    with open(filename, encoding=\"utf-8\") as f1:\n",
    "        targetfile = 'copied_' + filename\n",
    "        with open(targetfile, 'w', encoding='utf-8') as f2:\n",
    "            for line in f1:\n",
    "                print(line)\n",
    "                f2.write(line + '\\n')\n",
    "\n",
    "copy_and_print('test.txt')          "
   ]
  },
  {
   "cell_type": "markdown",
   "metadata": {},
   "source": [
    "______________________________"
   ]
  },
  {
   "cell_type": "markdown",
   "metadata": {},
   "source": [
    "#### open - r+, w+, a+"
   ]
  },
  {
   "cell_type": "code",
   "execution_count": 17,
   "metadata": {},
   "outputs": [],
   "source": [
    "# 우선 작업을 위해 샘플 파일 하나를 만들겠습니다.\n",
    "\n",
    "with open('test_2.txt', 'w') as f:\n",
    "    f.write('hello world')"
   ]
  },
  {
   "cell_type": "code",
   "execution_count": 18,
   "metadata": {},
   "outputs": [],
   "source": [
    "# w+를 사용하면 기존 파일에 있는 데이터를 완전히 지우고 새로 씁니다.\n",
    "\n",
    "with open('test_2.txt', 'w+') as f:\n",
    "    f.write('python is fun.')\n",
    "\n",
    "# python is fun."
   ]
  },
  {
   "cell_type": "code",
   "execution_count": 19,
   "metadata": {},
   "outputs": [],
   "source": [
    "# r+에서 쓰기를 사용하면 기존 파일은 두고 그 위에 덮어 쓰기를 합니다.\n",
    "\n",
    "with open('test_2.txt', 'r+') as f:\n",
    "    f.write('aaaaaa_')\n",
    "\n",
    "# aaaaaa_is fun."
   ]
  },
  {
   "cell_type": "code",
   "execution_count": 20,
   "metadata": {},
   "outputs": [],
   "source": [
    "# a+를 사용하면 기존에 있는 문자열 뒤에 추가 됩니다.\n",
    "\n",
    "with open('test_2.txt', 'a+') as f:\n",
    "    f.write('_bbbbbb')\n",
    "\n",
    "# aaaaaa_is fun._bbbbbb"
   ]
  },
  {
   "cell_type": "markdown",
   "metadata": {},
   "source": [
    "### open - rb, wb\n",
    "\n",
    "- 바이너리 파일로 부터 데이터를 읽고 쓸 때는 기본적으로 bytes 클래스를 사용하게 됩니다.\n",
    "  - 예제에서는 리스트를 파일에 쓰기 전에 byte 타입으로 변경하였습니다.\n",
    "- 그 외에 pickle 모듈을 사용하면 파이썬에서 사용되는 객체를 바이너리 파일로 저장할 수 있습니다."
   ]
  },
  {
   "cell_type": "code",
   "execution_count": 21,
   "metadata": {},
   "outputs": [],
   "source": [
    "# 바이너리 쓰기\n",
    "\n",
    "data = [1, 2, 3, 4, 5]\n",
    "with open(\"test.bin\", \"wb\") as f:\n",
    "    f.write(bytes(data))"
   ]
  },
  {
   "cell_type": "code",
   "execution_count": 32,
   "metadata": {},
   "outputs": [],
   "source": [
    "# 바이너리 읽기\n",
    "\n",
    "with open(\"test.bin\", \"rb\") as f:\n",
    "    content = f.read()   # 모두 읽음\n",
    "    print(type(content)) # bytes class\n",
    "    for b in content:\n",
    "        print(b)"
   ]
  },
  {
   "cell_type": "code",
   "execution_count": 30,
   "metadata": {},
   "outputs": [],
   "source": [
    "# pickle과 함께 사용할 수도 있습니다.\n",
    "\n",
    "import pickle\n",
    "\n",
    "with open('test.dat', 'wb') as f:\n",
    "    pickle.dump('hello world', f)"
   ]
  },
  {
   "cell_type": "code",
   "execution_count": 33,
   "metadata": {},
   "outputs": [],
   "source": [
    "# dump된 파일을 다시 읽습니다.\n",
    "\n",
    "with open('test.dat', 'rb') as f:\n",
    "    d = pickle.load(f)\n",
    "    print(type(d))\n",
    "    print(d)"
   ]
  },
  {
   "cell_type": "code",
   "execution_count": 26,
   "metadata": {},
   "outputs": [],
   "source": [
    "# 이미지도 읽을 수 있는지 확인해보기 위해 샘플로 이미지를 준비하였습니다.\n",
    "\n",
    "from PIL import Image\n",
    "import requests\n",
    "\n",
    "url = 'https://t1.daumcdn.net/cfile/tistory/2207573D58CFDE2704'\n",
    "im = Image.open(requests.get(url, stream=True).raw)\n",
    "im.save('image.jpeg')\n",
    "im"
   ]
  },
  {
   "cell_type": "code",
   "execution_count": 28,
   "metadata": {},
   "outputs": [],
   "source": [
    "# 이미지를 rb로 읽기, 결국 이미지도 0과 1로 이루어진 것이므로 읽을 수 있습니다.\n",
    "\n",
    "with open('image.jpeg', 'rb') as f:\n",
    "    print(f.read(100))"
   ]
  },
  {
   "cell_type": "markdown",
   "metadata": {},
   "source": [
    "_____________________"
   ]
  },
  {
   "cell_type": "markdown",
   "metadata": {},
   "source": [
    "### encoding\n",
    "\n",
    "encoding\n",
    "- 파일을 디코딩하거나 인코딩하는 데 사용되는 인코딩의 이름입니다. \n",
    "- 텍스트 모드에서만 사용해야 합니다.\n",
    "- 대부분 utf-8 이지만 모든 시스템이 utf-8이라는 보장이 없으므로 명시적으로 하는 것이 좋다.\n",
    "- [파이썬에서 지원되는 인코딩 목록](https://docs.python.org/3.6/library/codecs.html)\n",
    "\n",
    "\n",
    "문자와 인코딩\n",
    "- 파이썬 뿐 아니라 모든 컴퓨터에서 문자는 2진 숫자의 열 즉, 바이트 열(byte sequence)로 바뀌어 저장된다. 이를 인코딩(encoding)이라고 하며 어떤 글자를 어떤 숫자로 바꿀지에 대한 규칙을 인코딩 방식이라고 한다.\n",
    "- 가장 기본이 되는 인코딩 방식은 아스키(ASCII) 방식이다.\n",
    "\n",
    "유니코드\n",
    "- 인코딩 방식이 글자마다 혹은 회사마다 다르기 때문에 발생하는 문제를 해결하고자 <span style=\"color:red\">유니코드</span>라는 것이 만들어졌다. \n",
    "- 유니코드에서는 다음과 같은 표준을 정했다.\n",
    "  - 유니코드 코드 포인트 (unicode code point)\n",
    ">유니코드 코드 포인트(code point) 최대 4바이트의 숫자로 전 세계 모든 글자를 대응시킨 것이다. \n",
    "  - 유니코드 인코딩 (UTF-8, UTF-16, UTF-32, ...)\n",
    "> 유니코드 인코딩은 실제로 유니코드 문자를 바이트 열로 바꾸어 파일 등에 저장할 때 사용되는 방식으로 영문 알파벳에 대해 ASCII 인코딩 방식과 호환하며 크기, 정렬 등의 문제를 고려하여 설계되었다.\n",
    "- 파이썬 내부에서 문자를 메모리에 저장할 때 기본적으로는 유니코드 코드 포인트를 사용한다.\n",
    "- **UTF-8은 현재 가장 많이 사용되는 유니코드 인코딩 방식의 하나이다.**\n",
    "______________________"
   ]
  },
  {
   "cell_type": "code",
   "execution_count": 46,
   "metadata": {},
   "outputs": [
    {
     "name": "stdout",
     "output_type": "stream",
     "text": [
      "<class 'str'>\n",
      "가나다\n",
      "--------------\n",
      "<class 'bytes'>\n",
      "b'\\xb0\\xa1\\xb3\\xaa\\xb4\\xd9'\n",
      "--------------\n",
      "<class 'bytes'>\n",
      "b'\\xea\\xb0\\x80\\xeb\\x82\\x98\\xeb\\x8b\\xa4'\n"
     ]
    }
   ],
   "source": [
    "# 유니코드를 바이트 열로 변환할 때는 인코드(encode) 메서드 사용\n",
    "\n",
    "\n",
    "u = '가나다'\n",
    "print(type(u))\n",
    "print(u)\n",
    "\n",
    "print('--------------')\n",
    "\n",
    "b1 = u.encode(\"cp949\")\n",
    "print(type(b1))\n",
    "print(b1)\n",
    "\n",
    "print('--------------')\n",
    "\n",
    "b2 = u.encode(\"utf-8\")\n",
    "print(type(b2))\n",
    "print(b2)"
   ]
  },
  {
   "cell_type": "code",
   "execution_count": 68,
   "metadata": {},
   "outputs": [
    {
     "name": "stdout",
     "output_type": "stream",
     "text": [
      "가나다\n",
      "가나다\n"
     ]
    }
   ],
   "source": [
    "# 바이트 열을 유니코드로 변환할 때는 디코드 decode 메서드 사용\n",
    "\n",
    "print(b1.decode(\"cp949\"))\n",
    "\n",
    "print(b2.decode(\"utf-8\"))"
   ]
  },
  {
   "cell_type": "code",
   "execution_count": 69,
   "metadata": {},
   "outputs": [
    {
     "ename": "UnicodeDecodeError",
     "evalue": "'utf-8' codec can't decode byte 0xb0 in position 0: invalid start byte",
     "output_type": "error",
     "traceback": [
      "\u001b[0;31m---------------------------------------------------------------------------\u001b[0m",
      "\u001b[0;31mUnicodeDecodeError\u001b[0m                        Traceback (most recent call last)",
      "\u001b[0;32m<ipython-input-69-1ad31da6945c>\u001b[0m in \u001b[0;36m<module>\u001b[0;34m\u001b[0m\n\u001b[0;32m----> 1\u001b[0;31m \u001b[0mprint\u001b[0m\u001b[0;34m(\u001b[0m\u001b[0mb1\u001b[0m\u001b[0;34m.\u001b[0m\u001b[0mdecode\u001b[0m\u001b[0;34m(\u001b[0m\u001b[0;34m\"utf-8\"\u001b[0m\u001b[0;34m)\u001b[0m\u001b[0;34m)\u001b[0m\u001b[0;34m\u001b[0m\u001b[0m\n\u001b[0m",
      "\u001b[0;31mUnicodeDecodeError\u001b[0m: 'utf-8' codec can't decode byte 0xb0 in position 0: invalid start byte"
     ]
    }
   ],
   "source": [
    "# 반대로 사용 한다면...?\n",
    "\n",
    "print(b1.decode(\"utf-8\"))"
   ]
  },
  {
   "cell_type": "code",
   "execution_count": 70,
   "metadata": {},
   "outputs": [
    {
     "ename": "UnicodeDecodeError",
     "evalue": "'cp949' codec can't decode byte 0x80 in position 2: illegal multibyte sequence",
     "output_type": "error",
     "traceback": [
      "\u001b[0;31m---------------------------------------------------------------------------\u001b[0m",
      "\u001b[0;31mUnicodeDecodeError\u001b[0m                        Traceback (most recent call last)",
      "\u001b[0;32m<ipython-input-70-d45f13d197d6>\u001b[0m in \u001b[0;36m<module>\u001b[0;34m\u001b[0m\n\u001b[0;32m----> 1\u001b[0;31m \u001b[0mprint\u001b[0m\u001b[0;34m(\u001b[0m\u001b[0mb2\u001b[0m\u001b[0;34m.\u001b[0m\u001b[0mdecode\u001b[0m\u001b[0;34m(\u001b[0m\u001b[0;34m\"cp949\"\u001b[0m\u001b[0;34m)\u001b[0m\u001b[0;34m)\u001b[0m\u001b[0;34m\u001b[0m\u001b[0m\n\u001b[0m",
      "\u001b[0;31mUnicodeDecodeError\u001b[0m: 'cp949' codec can't decode byte 0x80 in position 2: illegal multibyte sequence"
     ]
    }
   ],
   "source": [
    "print(b2.decode(\"cp949\"))"
   ]
  },
  {
   "cell_type": "markdown",
   "metadata": {},
   "source": [
    "-----------------------------"
   ]
  },
  {
   "cell_type": "markdown",
   "metadata": {},
   "source": [
    "### buffering\n",
    "\n",
    "buffering\n",
    "- [What is buffering in python?](https://www.quora.com/What-is-buffering-in-python)\n",
    "  - Buffering is a temporary storage area\n",
    "  - The purpose of most buffers is to act as a holding area, enabling the CPU/system to manipulate data before transferring it to a device/user.\n",
    "- 버퍼링끄기는 0(바이너리모드에서만 동작함)\n",
    "- 라인모드는 1 (텍스트 모드에서만 가능), 고정 크기로 보내려면 임의의 바이트수를 1보다 큰 양의 수로 입력\n",
    "  - 개행문자 '\\n'을 만날 때 까지 라인 버퍼링을 수행\n",
    "- 임의값도 지정 가능하며 1보다 큰 값을 입력하면 됩니다.\n",
    "\n",
    "기본 정책은 아래와 같습니다.\n",
    "- 이진 파일은 고정 크기 청크로 버퍼링됩니다. 버퍼의 크기는 기본 장치의 \"블록 크기\"를 결정하고 다시 떨어지는 경험적 방법을 사용하여 선택됩니다 io.DEFAULT_BUFFER_SIZE. 많은 시스템에서 버퍼는 일반적으로 4096 또는 8192 바이트 길이입니다.\n",
    "- \"대화식\"텍스트 파일 ( isatty() 반환 되는 파일 True)은 회선 버퍼링을 사용합니다. 다른 텍스트 파일은 바이너리 파일에 대해 위에서 설명한 정책을 사용합니다.\n",
    "\n",
    "-----------------------"
   ]
  },
  {
   "cell_type": "markdown",
   "metadata": {},
   "source": [
    "\n",
    "### errors\n",
    "\n",
    "errors 는 인코딩 및 디코딩 에러를 처리하는 방법을 지정하는 선택적 문자열입니다. \n",
    "- 바이너리 모드에서는 사용할 수 없습니다. 다양한 표준 에러 처리기가 제공됩니다\n",
    "  - 'strict' 는 인코딩 에러가 있는 경우 ValueError 예외를 발생시킵니다. 기본값 None 은 같은 효과를 냅니다.\n",
    "  - 'ignore' 는 에러를 무시합니다. 인코딩 에러를 무시하면 데이터가 손실될 수 있음에 주의하세요.\n",
    "  - 'replace' 는 잘못된 데이터가 있는 자리에 대체 마커('?' 와 같은)를 삽입합니다.\n",
    "  - 그 밖에 다른 사안은 [Error Handlers](https://docs.python.org/ko/3/library/codecs.html#error-handlers)를 참고해주세요.\n",
    "  \n",
    "---------------------------------"
   ]
  },
  {
   "cell_type": "markdown",
   "metadata": {},
   "source": [
    "### newline\n",
    "\n",
    "universal newlines (유니버설 줄 넘김)의 작동 방식을 제어\n",
    "- 파일을 읽고 쓸 때 줄바꿈 처리\n",
    "  - None, \", '\\n', '\\r', '\\r\\n' 중 하나 입력\n",
    "  - [\\n과 \\r\\n의 차이점](https://stackoverflow.com/questions/3821784/whats-the-difference-between-n-and-r-n)\n",
    "  - \\n은 Unix, \\r\\n은 Windows\n",
    "\n",
    "파일을 읽을 때\n",
    "- None으로 설정되어 있으면, '\\n', '\\r', '\\r\\n'을 개행문자로 간주하고, \\n으로 변경\n",
    "- \"로 설정되어 있으면, 개행 문자 변환을 수행하지 않음\n",
    "- '\\n', '\\r', '\\r\\n' 중 하나를 입력하면 입력한 문자만 개행 문자로 간주\n",
    "\n",
    "\n",
    "파일을 쓸 때\n",
    "- None으로 설정되어 있으면, 어떠한 개행문자도 시스템 기본 개행문자로 변환\n",
    "- \"이나 '\\n'이 설정되어 있으면, 어떠한 변환도 수행하지 않는다.\n",
    "- '\\r', '\\r\\n' 설정 되어 있으면, 지정한 개행문자로 변환\n",
    "\n",
    "기타 사항\n",
    "- 텍스트 모드만 적용\n",
    "- 스트림에서 입력을 읽을 때, newline 이 None 이면, 유니버설 줄 넘김 모드가 활성화\n",
    "- 윈도우즈의 경우 csv 모듈에서 데이타를 쓸 때 각 라인 뒤에 빈 라인이 추가되는 문제가 있는데, 이를 없애기 위해 (파이썬 3 에서) 파일을 open 할 때 newline='' 와 같은 옵션을 지정"
   ]
  },
  {
   "cell_type": "markdown",
   "metadata": {},
   "source": [
    "#### example 1"
   ]
  },
  {
   "cell_type": "code",
   "execution_count": 1,
   "metadata": {},
   "outputs": [],
   "source": [
    "# 파일을 쓸 때 newline=None으로 설정 되어 있으면 어떠한 개행문자도 시스템 개행문자로 변환\n",
    "\n",
    "with open('test_file.txt', mode='w', encoding='utf-8') as f:\n",
    "    f.write('sample_1\\r')\n",
    "    f.write('sample_2\\n')\n",
    "    f.write('sample_3')\n",
    "#     f.write('sample_4\\r\\n') # Windows\n",
    "\n",
    "\n",
    "# sample_1\n",
    "# sample_2\n",
    "# sample_3"
   ]
  },
  {
   "cell_type": "code",
   "execution_count": 2,
   "metadata": {},
   "outputs": [
    {
     "name": "stdout",
     "output_type": "stream",
     "text": [
      "['sample_1\\n', 'sample_2\\n', 'sample_3']\n"
     ]
    }
   ],
   "source": [
    "# newline=None으로 파일을 읽으면\n",
    "\n",
    "with open('test_file.txt', mode='r') as f: \n",
    "    print(f.readlines())\n",
    "\n",
    "# ['sample_1\\n', 'sample_2\\n']"
   ]
  },
  {
   "cell_type": "code",
   "execution_count": 3,
   "metadata": {},
   "outputs": [
    {
     "name": "stdout",
     "output_type": "stream",
     "text": [
      "['sample_1\\r', 'sample_2\\n', 'sample_3']\n"
     ]
    }
   ],
   "source": [
    "# newline=''으로 설정하면 모든 개행문자를 '\\n' 변환하지 않음\n",
    "\n",
    "with open('test_file.txt', mode='r', newline='') as f:\n",
    "    print(f.readlines())\n",
    "\n",
    "# ['sample_1\\r', 'sample_2\\n', 'sample_3']"
   ]
  },
  {
   "cell_type": "code",
   "execution_count": 4,
   "metadata": {},
   "outputs": [
    {
     "name": "stdout",
     "output_type": "stream",
     "text": [
      "['sample_1\\r', 'sample_2\\nsample_3']\n"
     ]
    }
   ],
   "source": [
    "# newline='\\r'을 지정하면 '\\r'만 개행문자로 인식합니다.\n",
    "\n",
    "with open('test_file.txt', mode='r', newline='\\r') as f:\n",
    "    print(f.readlines())\n",
    "\n",
    "# ['sample_1\\r', 'sample_2\\nsample_3']"
   ]
  },
  {
   "cell_type": "code",
   "execution_count": 5,
   "metadata": {},
   "outputs": [
    {
     "name": "stdout",
     "output_type": "stream",
     "text": [
      "['sample_1\\rsample_2\\n', 'sample_3']\n"
     ]
    }
   ],
   "source": [
    "# newline='\\n'을 지정하면 '\\n'만 개행문자로 인식합니다.\n",
    "with open('test_file.txt', mode='r', newline='\\n') as f:\n",
    "    print(f.readlines())\n",
    "\n",
    "# ['sample_1\\rsample_2\\n', 'sample_3']"
   ]
  },
  {
   "cell_type": "markdown",
   "metadata": {},
   "source": [
    "#### example 2"
   ]
  },
  {
   "cell_type": "code",
   "execution_count": 6,
   "metadata": {},
   "outputs": [],
   "source": [
    "# 파일을 쓸 때 newline=''으로 설정\n",
    "\n",
    "with open('test_file_2.txt', mode='w', encoding='utf-8', newline='') as f:\n",
    "    f.write('sample_1\\r')\n",
    "    f.write('sample_2\\r')\n",
    "    f.write('sample_3\\n')\n",
    "    f.write('sampel_4')\n",
    "\n",
    "\n",
    "# sample_1\n",
    "# sample_2\n",
    "# sample_3\n",
    "# sample_4"
   ]
  },
  {
   "cell_type": "code",
   "execution_count": 7,
   "metadata": {},
   "outputs": [
    {
     "name": "stdout",
     "output_type": "stream",
     "text": [
      "['sample_1\\n', 'sample_2\\n', 'sample_3\\n', 'sampel_4']\n"
     ]
    }
   ],
   "source": [
    "# newline=None으로 파일을 읽으면\n",
    "\n",
    "with open('test_file_2.txt', mode='r') as f:\n",
    "    print(f.readlines())\n",
    "\n",
    "# ['sample_1\\n', 'sample_2\\n', 'sample_3\\n', 'sampel_4']"
   ]
  },
  {
   "cell_type": "code",
   "execution_count": 8,
   "metadata": {},
   "outputs": [
    {
     "name": "stdout",
     "output_type": "stream",
     "text": [
      "['sample_1\\r', 'sample_2\\r', 'sample_3\\n', 'sampel_4']\n"
     ]
    }
   ],
   "source": [
    "# newline=''으로 설정하면 모든 개행문자를 '\\n' 변환하지 않음\n",
    "\n",
    "with open('test_file_2.txt', mode='r', newline='') as f:\n",
    "    print(f.readlines())\n",
    "\n",
    "# ['sample_1\\r', 'sample_2\\r', 'sample_3\\n', 'sampel_4']"
   ]
  },
  {
   "cell_type": "code",
   "execution_count": 9,
   "metadata": {},
   "outputs": [
    {
     "name": "stdout",
     "output_type": "stream",
     "text": [
      "['sample_1\\r', 'sample_2\\r', 'sample_3\\nsampel_4']\n"
     ]
    }
   ],
   "source": [
    "# newline='\\r'을 지정하면 '\\r'만 개행문자로 인식합니다.\n",
    "\n",
    "with open('test_file_2.txt', mode='r', newline='\\r') as f:\n",
    "    print(f.readlines())\n",
    "\n",
    "# ['sample_1\\r', 'sample_2\\r', 'sample_3\\nsampel_4']"
   ]
  },
  {
   "cell_type": "code",
   "execution_count": 10,
   "metadata": {},
   "outputs": [
    {
     "name": "stdout",
     "output_type": "stream",
     "text": [
      "['sample_1\\rsample_2\\rsample_3\\n', 'sampel_4']\n"
     ]
    }
   ],
   "source": [
    "# newline='\\n'을 지정하면 '\\n'만 개행문자로 인식합니다.\n",
    "\n",
    "with open('test_file_2.txt', mode='r', newline='\\n') as f:\n",
    "    print(f.readlines())\n",
    "\n",
    "# ['sample_1\\rsample_2\\rsample_3\\n', 'sampel_4']"
   ]
  },
  {
   "cell_type": "markdown",
   "metadata": {},
   "source": [
    "#### example 3"
   ]
  },
  {
   "cell_type": "code",
   "execution_count": 11,
   "metadata": {},
   "outputs": [],
   "source": [
    "# 파일을 쓸 때 newline='\\r'으로 설정\n",
    "\n",
    "with open('test_file_3.txt', mode='w', encoding='utf-8', newline='\\r') as f:\n",
    "    f.write('sample_1\\r')\n",
    "    f.write('sample_2\\r')\n",
    "    f.write('sample_3\\n')\n",
    "    f.write('sampel_4')\n",
    "\n",
    "\n",
    "# sample_1\n",
    "# sample_2\n",
    "# sample_3\n",
    "# sample_4\n",
    "# 텍스트 파일을 보면 test_file_2 파일과 차이가 없어 보입니다."
   ]
  },
  {
   "cell_type": "code",
   "execution_count": 12,
   "metadata": {},
   "outputs": [
    {
     "name": "stdout",
     "output_type": "stream",
     "text": [
      "['sample_1\\n', 'sample_2\\n', 'sample_3\\n', 'sampel_4']\n"
     ]
    }
   ],
   "source": [
    "# newline=None, 모든 개행 문자가 \\n이 되었습니다.\n",
    "\n",
    "with open('test_file_3.txt', mode='r') as f:\n",
    "    print(f.readlines())\n",
    "\n",
    "# ['sample_1\\n', 'sample_2\\n', 'sample_3\\n', 'sampel_4']"
   ]
  },
  {
   "cell_type": "code",
   "execution_count": 13,
   "metadata": {},
   "outputs": [
    {
     "name": "stdout",
     "output_type": "stream",
     "text": [
      "['sample_1\\r', 'sample_2\\r', 'sample_3\\r', 'sampel_4']\n"
     ]
    }
   ],
   "source": [
    "# newline=''으로 설정하면 모든 개행문자를 '\\n' 변환하지 않음\n",
    "\n",
    "with open('test_file_3.txt', mode='r', newline='') as f:\n",
    "    print(f.readlines())\n",
    "\n",
    "# ['sample_1\\r', 'sample_2\\r', 'sample_3\\r', 'sampel_4']\n",
    "# 파일을 쓸 때 지정한 개행문자 \\r이 설정된 것을 볼 수 있습니다."
   ]
  },
  {
   "cell_type": "code",
   "execution_count": 14,
   "metadata": {},
   "outputs": [
    {
     "name": "stdout",
     "output_type": "stream",
     "text": [
      "['sample_1\\r', 'sample_2\\r', 'sample_3\\r', 'sampel_4']\n"
     ]
    }
   ],
   "source": [
    "# newline='\\r'로 지정하고 readlines()를 사용하면 예상한대로 출력 됩니다.\n",
    "\n",
    "with open('test_file_3.txt', mode='r', newline='\\r') as f:\n",
    "    print(f.readlines())\n",
    "\n",
    "# ['sample_1\\r', 'sample_2\\r', 'sample_3\\r', 'sampel_4']"
   ]
  },
  {
   "cell_type": "code",
   "execution_count": 15,
   "metadata": {},
   "outputs": [
    {
     "name": "stdout",
     "output_type": "stream",
     "text": [
      "['sample_1\\rsample_2\\rsample_3\\rsampel_4']\n"
     ]
    }
   ],
   "source": [
    "# newline='\\n'로 지정하고 readlines()를 사용하면 \\r은 개행 문자가 아니기 때문에 모든 문자열이 붙여서 출력 됩니다.\n",
    "\n",
    "with open('test_file_3.txt', mode='r', newline='\\n') as f:\n",
    "    print(f.readlines())\n",
    "\n",
    "# ['sample_1\\rsample_2\\rsample_3\\rsampel_4']"
   ]
  },
  {
   "cell_type": "code",
   "execution_count": 105,
   "metadata": {},
   "outputs": [],
   "source": [
    "# csv file wrtie exmaple\n",
    "\n",
    "import csv    \n",
    "f = open('output.csv', 'w', encoding='utf-8', newline='')\n",
    "wr = csv.writer(f)\n",
    "wr.writerow([1, \"김정수\", False])\n",
    "wr.writerow([2, \"박상미\", True])\n",
    "f.close()"
   ]
  }
 ],
 "metadata": {
  "kernelspec": {
   "display_name": "Python 3",
   "language": "python",
   "name": "python3"
  },
  "language_info": {
   "codemirror_mode": {
    "name": "ipython",
    "version": 3
   },
   "file_extension": ".py",
   "mimetype": "text/x-python",
   "name": "python",
   "nbconvert_exporter": "python",
   "pygments_lexer": "ipython3",
   "version": "3.6.6"
  }
 },
 "nbformat": 4,
 "nbformat_minor": 2
}
